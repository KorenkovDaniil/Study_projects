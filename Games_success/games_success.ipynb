{
 "cells": [
  {
   "cell_type": "markdown",
   "metadata": {},
   "source": [
    "# Оценка факторов, влияющих на успешность видеоигры"
   ]
  },
  {
   "cell_type": "markdown",
   "metadata": {},
   "source": [
    "Получены данные о продажах игр, оценках пользователей и критиков, жанрах и платформах.  \n",
    "Цель исследования - определить факторы, влияющие на успешность игры. Эти выводы помогут понять, на что стоит обратить внимание при планировании рекламной кампании на следующий год.  \n",
    "\n",
    "Описание данных:\n",
    "* Name — название игры\n",
    "* Platform — платформа\n",
    "* Year_of_Release — год выпуска\n",
    "* Genre — жанр игры\n",
    "* NA_sales — продажи в Северной Америке (миллионы проданных копий)\n",
    "* EU_sales — продажи в Европе (миллионы проданных копий)\n",
    "* JP_sales — продажи в Японии (миллионы проданных копий)\n",
    "* Other_sales — продажи в других странах (миллионы проданных копий)\n",
    "* Critic_Score — оценка критиков (максимум 100)\n",
    "* User_Score — оценка пользователей (максимум 10)\n",
    "* Rating — рейтинг от организации ESRB (англ. Entertainment Software Rating Board). Эта ассоциация определяет рейтинг компьютерных игр и присваивает им подходящую возрастную категорию.\n",
    "\n",
    "Данные за 2016 год могут быть неполными.  \n",
    "\n",
    "Полученные данные подвергнутся обработке и исследовательскому анализу, будут проверены некоторые гипотезы."
   ]
  },
  {
   "cell_type": "markdown",
   "metadata": {},
   "source": [
    "## Общая информация о данных"
   ]
  },
  {
   "cell_type": "markdown",
   "metadata": {},
   "source": [
    "Получим данные и познакомимся с базовой информацией о них."
   ]
  },
  {
   "cell_type": "code",
   "execution_count": 1,
   "metadata": {
    "scrolled": true
   },
   "outputs": [
    {
     "data": {
      "text/html": [
       "<div>\n",
       "<style scoped>\n",
       "    .dataframe tbody tr th:only-of-type {\n",
       "        vertical-align: middle;\n",
       "    }\n",
       "\n",
       "    .dataframe tbody tr th {\n",
       "        vertical-align: top;\n",
       "    }\n",
       "\n",
       "    .dataframe thead th {\n",
       "        text-align: right;\n",
       "    }\n",
       "</style>\n",
       "<table border=\"1\" class=\"dataframe\">\n",
       "  <thead>\n",
       "    <tr style=\"text-align: right;\">\n",
       "      <th></th>\n",
       "      <th>Name</th>\n",
       "      <th>Platform</th>\n",
       "      <th>Year_of_Release</th>\n",
       "      <th>Genre</th>\n",
       "      <th>NA_sales</th>\n",
       "      <th>EU_sales</th>\n",
       "      <th>JP_sales</th>\n",
       "      <th>Other_sales</th>\n",
       "      <th>Critic_Score</th>\n",
       "      <th>User_Score</th>\n",
       "      <th>Rating</th>\n",
       "    </tr>\n",
       "  </thead>\n",
       "  <tbody>\n",
       "    <tr>\n",
       "      <th>0</th>\n",
       "      <td>Wii Sports</td>\n",
       "      <td>Wii</td>\n",
       "      <td>2006.0</td>\n",
       "      <td>Sports</td>\n",
       "      <td>41.36</td>\n",
       "      <td>28.96</td>\n",
       "      <td>3.77</td>\n",
       "      <td>8.45</td>\n",
       "      <td>76.0</td>\n",
       "      <td>8</td>\n",
       "      <td>E</td>\n",
       "    </tr>\n",
       "    <tr>\n",
       "      <th>1</th>\n",
       "      <td>Super Mario Bros.</td>\n",
       "      <td>NES</td>\n",
       "      <td>1985.0</td>\n",
       "      <td>Platform</td>\n",
       "      <td>29.08</td>\n",
       "      <td>3.58</td>\n",
       "      <td>6.81</td>\n",
       "      <td>0.77</td>\n",
       "      <td>NaN</td>\n",
       "      <td>NaN</td>\n",
       "      <td>NaN</td>\n",
       "    </tr>\n",
       "    <tr>\n",
       "      <th>2</th>\n",
       "      <td>Mario Kart Wii</td>\n",
       "      <td>Wii</td>\n",
       "      <td>2008.0</td>\n",
       "      <td>Racing</td>\n",
       "      <td>15.68</td>\n",
       "      <td>12.76</td>\n",
       "      <td>3.79</td>\n",
       "      <td>3.29</td>\n",
       "      <td>82.0</td>\n",
       "      <td>8.3</td>\n",
       "      <td>E</td>\n",
       "    </tr>\n",
       "    <tr>\n",
       "      <th>3</th>\n",
       "      <td>Wii Sports Resort</td>\n",
       "      <td>Wii</td>\n",
       "      <td>2009.0</td>\n",
       "      <td>Sports</td>\n",
       "      <td>15.61</td>\n",
       "      <td>10.93</td>\n",
       "      <td>3.28</td>\n",
       "      <td>2.95</td>\n",
       "      <td>80.0</td>\n",
       "      <td>8</td>\n",
       "      <td>E</td>\n",
       "    </tr>\n",
       "    <tr>\n",
       "      <th>4</th>\n",
       "      <td>Pokemon Red/Pokemon Blue</td>\n",
       "      <td>GB</td>\n",
       "      <td>1996.0</td>\n",
       "      <td>Role-Playing</td>\n",
       "      <td>11.27</td>\n",
       "      <td>8.89</td>\n",
       "      <td>10.22</td>\n",
       "      <td>1.00</td>\n",
       "      <td>NaN</td>\n",
       "      <td>NaN</td>\n",
       "      <td>NaN</td>\n",
       "    </tr>\n",
       "    <tr>\n",
       "      <th>...</th>\n",
       "      <td>...</td>\n",
       "      <td>...</td>\n",
       "      <td>...</td>\n",
       "      <td>...</td>\n",
       "      <td>...</td>\n",
       "      <td>...</td>\n",
       "      <td>...</td>\n",
       "      <td>...</td>\n",
       "      <td>...</td>\n",
       "      <td>...</td>\n",
       "      <td>...</td>\n",
       "    </tr>\n",
       "    <tr>\n",
       "      <th>16710</th>\n",
       "      <td>Samurai Warriors: Sanada Maru</td>\n",
       "      <td>PS3</td>\n",
       "      <td>2016.0</td>\n",
       "      <td>Action</td>\n",
       "      <td>0.00</td>\n",
       "      <td>0.00</td>\n",
       "      <td>0.01</td>\n",
       "      <td>0.00</td>\n",
       "      <td>NaN</td>\n",
       "      <td>NaN</td>\n",
       "      <td>NaN</td>\n",
       "    </tr>\n",
       "    <tr>\n",
       "      <th>16711</th>\n",
       "      <td>LMA Manager 2007</td>\n",
       "      <td>X360</td>\n",
       "      <td>2006.0</td>\n",
       "      <td>Sports</td>\n",
       "      <td>0.00</td>\n",
       "      <td>0.01</td>\n",
       "      <td>0.00</td>\n",
       "      <td>0.00</td>\n",
       "      <td>NaN</td>\n",
       "      <td>NaN</td>\n",
       "      <td>NaN</td>\n",
       "    </tr>\n",
       "    <tr>\n",
       "      <th>16712</th>\n",
       "      <td>Haitaka no Psychedelica</td>\n",
       "      <td>PSV</td>\n",
       "      <td>2016.0</td>\n",
       "      <td>Adventure</td>\n",
       "      <td>0.00</td>\n",
       "      <td>0.00</td>\n",
       "      <td>0.01</td>\n",
       "      <td>0.00</td>\n",
       "      <td>NaN</td>\n",
       "      <td>NaN</td>\n",
       "      <td>NaN</td>\n",
       "    </tr>\n",
       "    <tr>\n",
       "      <th>16713</th>\n",
       "      <td>Spirits &amp; Spells</td>\n",
       "      <td>GBA</td>\n",
       "      <td>2003.0</td>\n",
       "      <td>Platform</td>\n",
       "      <td>0.01</td>\n",
       "      <td>0.00</td>\n",
       "      <td>0.00</td>\n",
       "      <td>0.00</td>\n",
       "      <td>NaN</td>\n",
       "      <td>NaN</td>\n",
       "      <td>NaN</td>\n",
       "    </tr>\n",
       "    <tr>\n",
       "      <th>16714</th>\n",
       "      <td>Winning Post 8 2016</td>\n",
       "      <td>PSV</td>\n",
       "      <td>2016.0</td>\n",
       "      <td>Simulation</td>\n",
       "      <td>0.00</td>\n",
       "      <td>0.00</td>\n",
       "      <td>0.01</td>\n",
       "      <td>0.00</td>\n",
       "      <td>NaN</td>\n",
       "      <td>NaN</td>\n",
       "      <td>NaN</td>\n",
       "    </tr>\n",
       "  </tbody>\n",
       "</table>\n",
       "<p>16715 rows × 11 columns</p>\n",
       "</div>"
      ],
      "text/plain": [
       "                                Name Platform  Year_of_Release         Genre  \\\n",
       "0                         Wii Sports      Wii           2006.0        Sports   \n",
       "1                  Super Mario Bros.      NES           1985.0      Platform   \n",
       "2                     Mario Kart Wii      Wii           2008.0        Racing   \n",
       "3                  Wii Sports Resort      Wii           2009.0        Sports   \n",
       "4           Pokemon Red/Pokemon Blue       GB           1996.0  Role-Playing   \n",
       "...                              ...      ...              ...           ...   \n",
       "16710  Samurai Warriors: Sanada Maru      PS3           2016.0        Action   \n",
       "16711               LMA Manager 2007     X360           2006.0        Sports   \n",
       "16712        Haitaka no Psychedelica      PSV           2016.0     Adventure   \n",
       "16713               Spirits & Spells      GBA           2003.0      Platform   \n",
       "16714            Winning Post 8 2016      PSV           2016.0    Simulation   \n",
       "\n",
       "       NA_sales  EU_sales  JP_sales  Other_sales  Critic_Score User_Score  \\\n",
       "0         41.36     28.96      3.77         8.45          76.0          8   \n",
       "1         29.08      3.58      6.81         0.77           NaN        NaN   \n",
       "2         15.68     12.76      3.79         3.29          82.0        8.3   \n",
       "3         15.61     10.93      3.28         2.95          80.0          8   \n",
       "4         11.27      8.89     10.22         1.00           NaN        NaN   \n",
       "...         ...       ...       ...          ...           ...        ...   \n",
       "16710      0.00      0.00      0.01         0.00           NaN        NaN   \n",
       "16711      0.00      0.01      0.00         0.00           NaN        NaN   \n",
       "16712      0.00      0.00      0.01         0.00           NaN        NaN   \n",
       "16713      0.01      0.00      0.00         0.00           NaN        NaN   \n",
       "16714      0.00      0.00      0.01         0.00           NaN        NaN   \n",
       "\n",
       "      Rating  \n",
       "0          E  \n",
       "1        NaN  \n",
       "2          E  \n",
       "3          E  \n",
       "4        NaN  \n",
       "...      ...  \n",
       "16710    NaN  \n",
       "16711    NaN  \n",
       "16712    NaN  \n",
       "16713    NaN  \n",
       "16714    NaN  \n",
       "\n",
       "[16715 rows x 11 columns]"
      ]
     },
     "execution_count": 1,
     "metadata": {},
     "output_type": "execute_result"
    }
   ],
   "source": [
    "import pandas as pd\n",
    "import seaborn as sns\n",
    "import matplotlib.pyplot as plt\n",
    "import scipy.stats as st\n",
    "\n",
    "data = pd.read_csv('/datasets/games.csv')\n",
    "data"
   ]
  },
  {
   "cell_type": "code",
   "execution_count": 2,
   "metadata": {},
   "outputs": [
    {
     "name": "stdout",
     "output_type": "stream",
     "text": [
      "<class 'pandas.core.frame.DataFrame'>\n",
      "RangeIndex: 16715 entries, 0 to 16714\n",
      "Data columns (total 11 columns):\n",
      " #   Column           Non-Null Count  Dtype  \n",
      "---  ------           --------------  -----  \n",
      " 0   Name             16713 non-null  object \n",
      " 1   Platform         16715 non-null  object \n",
      " 2   Year_of_Release  16446 non-null  float64\n",
      " 3   Genre            16713 non-null  object \n",
      " 4   NA_sales         16715 non-null  float64\n",
      " 5   EU_sales         16715 non-null  float64\n",
      " 6   JP_sales         16715 non-null  float64\n",
      " 7   Other_sales      16715 non-null  float64\n",
      " 8   Critic_Score     8137 non-null   float64\n",
      " 9   User_Score       10014 non-null  object \n",
      " 10  Rating           9949 non-null   object \n",
      "dtypes: float64(6), object(5)\n",
      "memory usage: 1.4+ MB\n"
     ]
    }
   ],
   "source": [
    "data.info()"
   ]
  },
  {
   "cell_type": "markdown",
   "metadata": {},
   "source": [
    "В таблице 16715 строк, присутствуют пропуски."
   ]
  },
  {
   "cell_type": "markdown",
   "metadata": {},
   "source": [
    "## Подготовка данных"
   ]
  },
  {
   "cell_type": "markdown",
   "metadata": {},
   "source": [
    "### Приведем названия столбцов к нижнему регистру"
   ]
  },
  {
   "cell_type": "code",
   "execution_count": 3,
   "metadata": {},
   "outputs": [],
   "source": [
    "data.columns = data.columns.str.lower()"
   ]
  },
  {
   "cell_type": "markdown",
   "metadata": {},
   "source": [
    "### Изменим тип данных в некоторых столбцах"
   ]
  },
  {
   "cell_type": "markdown",
   "metadata": {},
   "source": [
    "В стобцах year_of_release и user_score данные имеют неподходящий тип.  \n",
    "Год выхода стоит заменить на тип Int, т.к. год это всегда целочисленная величина.  \n",
    "Рейтинг пользователя приведем к типу Float, т.к. он измеряется в десятичных дробях."
   ]
  },
  {
   "cell_type": "markdown",
   "metadata": {},
   "source": [
    "В столбце с годом выхода 269 пропущенных значений. Вручную искать информацию по выходу каждой игры слишком долго, поэтому заменим пропуски числом 1."
   ]
  },
  {
   "cell_type": "code",
   "execution_count": 4,
   "metadata": {},
   "outputs": [],
   "source": [
    "data['year_of_release'] = data['year_of_release'].fillna(1)\n",
    "data['year_of_release'] = data['year_of_release'].astype('int')"
   ]
  },
  {
   "cell_type": "markdown",
   "metadata": {},
   "source": [
    "В столбце с пользовательским рейтингом присутствуют пропуски и строчные значения 'tbd' (to be defined, т.е. с неопределенным рейтингом).  \n",
    "Логично будет эти места заменить на 0.  "
   ]
  },
  {
   "cell_type": "code",
   "execution_count": 5,
   "metadata": {},
   "outputs": [],
   "source": [
    "data['user_score'] = data['user_score'].replace('tbd', 0)\n",
    "data['user_score'] = data['user_score'].fillna(0)\n",
    "data['user_score'] = data['user_score'].astype('float')"
   ]
  },
  {
   "cell_type": "markdown",
   "metadata": {},
   "source": [
    "В столбце critic_score рейтинг измеряется целыми числами по стобальной шкале. Заполним пропуски и изменим тип данных на Int.  \n",
    "В данном случае пропуск скорее всего означает, что внимание критиков обошло эту игру, и рейтинг просто не был присвоен."
   ]
  },
  {
   "cell_type": "code",
   "execution_count": 6,
   "metadata": {},
   "outputs": [],
   "source": [
    "data['critic_score'] = data['critic_score'].fillna(0)\n",
    "data['critic_score'] = data['critic_score'].astype('int')"
   ]
  },
  {
   "cell_type": "code",
   "execution_count": 7,
   "metadata": {},
   "outputs": [
    {
     "name": "stdout",
     "output_type": "stream",
     "text": [
      "<class 'pandas.core.frame.DataFrame'>\n",
      "RangeIndex: 16715 entries, 0 to 16714\n",
      "Data columns (total 11 columns):\n",
      " #   Column           Non-Null Count  Dtype  \n",
      "---  ------           --------------  -----  \n",
      " 0   name             16713 non-null  object \n",
      " 1   platform         16715 non-null  object \n",
      " 2   year_of_release  16715 non-null  int64  \n",
      " 3   genre            16713 non-null  object \n",
      " 4   na_sales         16715 non-null  float64\n",
      " 5   eu_sales         16715 non-null  float64\n",
      " 6   jp_sales         16715 non-null  float64\n",
      " 7   other_sales      16715 non-null  float64\n",
      " 8   critic_score     16715 non-null  int64  \n",
      " 9   user_score       16715 non-null  float64\n",
      " 10  rating           9949 non-null   object \n",
      "dtypes: float64(5), int64(2), object(4)\n",
      "memory usage: 1.4+ MB\n"
     ]
    }
   ],
   "source": [
    "data.info()"
   ]
  },
  {
   "cell_type": "markdown",
   "metadata": {},
   "source": [
    "Теперь все строки имеют подходящий тип данных."
   ]
  },
  {
   "cell_type": "markdown",
   "metadata": {},
   "source": [
    "### Обработаем пропуски"
   ]
  },
  {
   "cell_type": "markdown",
   "metadata": {},
   "source": [
    "В столбце name всего два пропуска. Удалим строки целиком, это никак не повлияет на статистику.  \n",
    "Т.к. в стобце genre тоже два пропуска, возможно они находятся в строке с пропущенными значениями в name, и тоже удалятся."
   ]
  },
  {
   "cell_type": "code",
   "execution_count": 8,
   "metadata": {},
   "outputs": [
    {
     "name": "stdout",
     "output_type": "stream",
     "text": [
      "<class 'pandas.core.frame.DataFrame'>\n",
      "Int64Index: 16713 entries, 0 to 16714\n",
      "Data columns (total 11 columns):\n",
      " #   Column           Non-Null Count  Dtype  \n",
      "---  ------           --------------  -----  \n",
      " 0   name             16713 non-null  object \n",
      " 1   platform         16713 non-null  object \n",
      " 2   year_of_release  16713 non-null  int64  \n",
      " 3   genre            16713 non-null  object \n",
      " 4   na_sales         16713 non-null  float64\n",
      " 5   eu_sales         16713 non-null  float64\n",
      " 6   jp_sales         16713 non-null  float64\n",
      " 7   other_sales      16713 non-null  float64\n",
      " 8   critic_score     16713 non-null  int64  \n",
      " 9   user_score       16713 non-null  float64\n",
      " 10  rating           9949 non-null   object \n",
      "dtypes: float64(5), int64(2), object(4)\n",
      "memory usage: 1.5+ MB\n"
     ]
    }
   ],
   "source": [
    "data = data.dropna(subset=['name'])\n",
    "data.info()"
   ]
  },
  {
   "cell_type": "markdown",
   "metadata": {},
   "source": [
    "Остался только один столбец с большим количеством пропусков - rating"
   ]
  },
  {
   "cell_type": "markdown",
   "metadata": {},
   "source": [
    "В столбце с рейтингом от ESRB пропуска заменим на RP (Rating Pending, рейтинг ожидается)."
   ]
  },
  {
   "cell_type": "code",
   "execution_count": 9,
   "metadata": {},
   "outputs": [
    {
     "name": "stderr",
     "output_type": "stream",
     "text": [
      "/tmp/ipykernel_48/2744566760.py:1: SettingWithCopyWarning: \n",
      "A value is trying to be set on a copy of a slice from a DataFrame.\n",
      "Try using .loc[row_indexer,col_indexer] = value instead\n",
      "\n",
      "See the caveats in the documentation: https://pandas.pydata.org/pandas-docs/stable/user_guide/indexing.html#returning-a-view-versus-a-copy\n",
      "  data['rating'] = data['rating'].fillna('RP')\n"
     ]
    }
   ],
   "source": [
    "data['rating'] = data['rating'].fillna('RP')"
   ]
  },
  {
   "cell_type": "markdown",
   "metadata": {},
   "source": [
    "Теперь в таблице нет пропущенных значений."
   ]
  },
  {
   "cell_type": "markdown",
   "metadata": {},
   "source": [
    "### Посчитаем суммарные продажи во всех регионах"
   ]
  },
  {
   "cell_type": "code",
   "execution_count": 10,
   "metadata": {
    "scrolled": true
   },
   "outputs": [
    {
     "name": "stderr",
     "output_type": "stream",
     "text": [
      "/tmp/ipykernel_48/3996981514.py:1: SettingWithCopyWarning: \n",
      "A value is trying to be set on a copy of a slice from a DataFrame.\n",
      "Try using .loc[row_indexer,col_indexer] = value instead\n",
      "\n",
      "See the caveats in the documentation: https://pandas.pydata.org/pandas-docs/stable/user_guide/indexing.html#returning-a-view-versus-a-copy\n",
      "  data['total_sales'] = data['na_sales'] + data['eu_sales'] + data['jp_sales'] + data['other_sales']\n"
     ]
    },
    {
     "data": {
      "text/html": [
       "<div>\n",
       "<style scoped>\n",
       "    .dataframe tbody tr th:only-of-type {\n",
       "        vertical-align: middle;\n",
       "    }\n",
       "\n",
       "    .dataframe tbody tr th {\n",
       "        vertical-align: top;\n",
       "    }\n",
       "\n",
       "    .dataframe thead th {\n",
       "        text-align: right;\n",
       "    }\n",
       "</style>\n",
       "<table border=\"1\" class=\"dataframe\">\n",
       "  <thead>\n",
       "    <tr style=\"text-align: right;\">\n",
       "      <th></th>\n",
       "      <th>name</th>\n",
       "      <th>platform</th>\n",
       "      <th>year_of_release</th>\n",
       "      <th>genre</th>\n",
       "      <th>na_sales</th>\n",
       "      <th>eu_sales</th>\n",
       "      <th>jp_sales</th>\n",
       "      <th>other_sales</th>\n",
       "      <th>critic_score</th>\n",
       "      <th>user_score</th>\n",
       "      <th>rating</th>\n",
       "      <th>total_sales</th>\n",
       "    </tr>\n",
       "  </thead>\n",
       "  <tbody>\n",
       "    <tr>\n",
       "      <th>0</th>\n",
       "      <td>Wii Sports</td>\n",
       "      <td>Wii</td>\n",
       "      <td>2006</td>\n",
       "      <td>Sports</td>\n",
       "      <td>41.36</td>\n",
       "      <td>28.96</td>\n",
       "      <td>3.77</td>\n",
       "      <td>8.45</td>\n",
       "      <td>76</td>\n",
       "      <td>8.0</td>\n",
       "      <td>E</td>\n",
       "      <td>82.54</td>\n",
       "    </tr>\n",
       "    <tr>\n",
       "      <th>1</th>\n",
       "      <td>Super Mario Bros.</td>\n",
       "      <td>NES</td>\n",
       "      <td>1985</td>\n",
       "      <td>Platform</td>\n",
       "      <td>29.08</td>\n",
       "      <td>3.58</td>\n",
       "      <td>6.81</td>\n",
       "      <td>0.77</td>\n",
       "      <td>0</td>\n",
       "      <td>0.0</td>\n",
       "      <td>RP</td>\n",
       "      <td>40.24</td>\n",
       "    </tr>\n",
       "    <tr>\n",
       "      <th>2</th>\n",
       "      <td>Mario Kart Wii</td>\n",
       "      <td>Wii</td>\n",
       "      <td>2008</td>\n",
       "      <td>Racing</td>\n",
       "      <td>15.68</td>\n",
       "      <td>12.76</td>\n",
       "      <td>3.79</td>\n",
       "      <td>3.29</td>\n",
       "      <td>82</td>\n",
       "      <td>8.3</td>\n",
       "      <td>E</td>\n",
       "      <td>35.52</td>\n",
       "    </tr>\n",
       "    <tr>\n",
       "      <th>3</th>\n",
       "      <td>Wii Sports Resort</td>\n",
       "      <td>Wii</td>\n",
       "      <td>2009</td>\n",
       "      <td>Sports</td>\n",
       "      <td>15.61</td>\n",
       "      <td>10.93</td>\n",
       "      <td>3.28</td>\n",
       "      <td>2.95</td>\n",
       "      <td>80</td>\n",
       "      <td>8.0</td>\n",
       "      <td>E</td>\n",
       "      <td>32.77</td>\n",
       "    </tr>\n",
       "    <tr>\n",
       "      <th>4</th>\n",
       "      <td>Pokemon Red/Pokemon Blue</td>\n",
       "      <td>GB</td>\n",
       "      <td>1996</td>\n",
       "      <td>Role-Playing</td>\n",
       "      <td>11.27</td>\n",
       "      <td>8.89</td>\n",
       "      <td>10.22</td>\n",
       "      <td>1.00</td>\n",
       "      <td>0</td>\n",
       "      <td>0.0</td>\n",
       "      <td>RP</td>\n",
       "      <td>31.38</td>\n",
       "    </tr>\n",
       "    <tr>\n",
       "      <th>...</th>\n",
       "      <td>...</td>\n",
       "      <td>...</td>\n",
       "      <td>...</td>\n",
       "      <td>...</td>\n",
       "      <td>...</td>\n",
       "      <td>...</td>\n",
       "      <td>...</td>\n",
       "      <td>...</td>\n",
       "      <td>...</td>\n",
       "      <td>...</td>\n",
       "      <td>...</td>\n",
       "      <td>...</td>\n",
       "    </tr>\n",
       "    <tr>\n",
       "      <th>16710</th>\n",
       "      <td>Samurai Warriors: Sanada Maru</td>\n",
       "      <td>PS3</td>\n",
       "      <td>2016</td>\n",
       "      <td>Action</td>\n",
       "      <td>0.00</td>\n",
       "      <td>0.00</td>\n",
       "      <td>0.01</td>\n",
       "      <td>0.00</td>\n",
       "      <td>0</td>\n",
       "      <td>0.0</td>\n",
       "      <td>RP</td>\n",
       "      <td>0.01</td>\n",
       "    </tr>\n",
       "    <tr>\n",
       "      <th>16711</th>\n",
       "      <td>LMA Manager 2007</td>\n",
       "      <td>X360</td>\n",
       "      <td>2006</td>\n",
       "      <td>Sports</td>\n",
       "      <td>0.00</td>\n",
       "      <td>0.01</td>\n",
       "      <td>0.00</td>\n",
       "      <td>0.00</td>\n",
       "      <td>0</td>\n",
       "      <td>0.0</td>\n",
       "      <td>RP</td>\n",
       "      <td>0.01</td>\n",
       "    </tr>\n",
       "    <tr>\n",
       "      <th>16712</th>\n",
       "      <td>Haitaka no Psychedelica</td>\n",
       "      <td>PSV</td>\n",
       "      <td>2016</td>\n",
       "      <td>Adventure</td>\n",
       "      <td>0.00</td>\n",
       "      <td>0.00</td>\n",
       "      <td>0.01</td>\n",
       "      <td>0.00</td>\n",
       "      <td>0</td>\n",
       "      <td>0.0</td>\n",
       "      <td>RP</td>\n",
       "      <td>0.01</td>\n",
       "    </tr>\n",
       "    <tr>\n",
       "      <th>16713</th>\n",
       "      <td>Spirits &amp; Spells</td>\n",
       "      <td>GBA</td>\n",
       "      <td>2003</td>\n",
       "      <td>Platform</td>\n",
       "      <td>0.01</td>\n",
       "      <td>0.00</td>\n",
       "      <td>0.00</td>\n",
       "      <td>0.00</td>\n",
       "      <td>0</td>\n",
       "      <td>0.0</td>\n",
       "      <td>RP</td>\n",
       "      <td>0.01</td>\n",
       "    </tr>\n",
       "    <tr>\n",
       "      <th>16714</th>\n",
       "      <td>Winning Post 8 2016</td>\n",
       "      <td>PSV</td>\n",
       "      <td>2016</td>\n",
       "      <td>Simulation</td>\n",
       "      <td>0.00</td>\n",
       "      <td>0.00</td>\n",
       "      <td>0.01</td>\n",
       "      <td>0.00</td>\n",
       "      <td>0</td>\n",
       "      <td>0.0</td>\n",
       "      <td>RP</td>\n",
       "      <td>0.01</td>\n",
       "    </tr>\n",
       "  </tbody>\n",
       "</table>\n",
       "<p>16713 rows × 12 columns</p>\n",
       "</div>"
      ],
      "text/plain": [
       "                                name platform  year_of_release         genre  \\\n",
       "0                         Wii Sports      Wii             2006        Sports   \n",
       "1                  Super Mario Bros.      NES             1985      Platform   \n",
       "2                     Mario Kart Wii      Wii             2008        Racing   \n",
       "3                  Wii Sports Resort      Wii             2009        Sports   \n",
       "4           Pokemon Red/Pokemon Blue       GB             1996  Role-Playing   \n",
       "...                              ...      ...              ...           ...   \n",
       "16710  Samurai Warriors: Sanada Maru      PS3             2016        Action   \n",
       "16711               LMA Manager 2007     X360             2006        Sports   \n",
       "16712        Haitaka no Psychedelica      PSV             2016     Adventure   \n",
       "16713               Spirits & Spells      GBA             2003      Platform   \n",
       "16714            Winning Post 8 2016      PSV             2016    Simulation   \n",
       "\n",
       "       na_sales  eu_sales  jp_sales  other_sales  critic_score  user_score  \\\n",
       "0         41.36     28.96      3.77         8.45            76         8.0   \n",
       "1         29.08      3.58      6.81         0.77             0         0.0   \n",
       "2         15.68     12.76      3.79         3.29            82         8.3   \n",
       "3         15.61     10.93      3.28         2.95            80         8.0   \n",
       "4         11.27      8.89     10.22         1.00             0         0.0   \n",
       "...         ...       ...       ...          ...           ...         ...   \n",
       "16710      0.00      0.00      0.01         0.00             0         0.0   \n",
       "16711      0.00      0.01      0.00         0.00             0         0.0   \n",
       "16712      0.00      0.00      0.01         0.00             0         0.0   \n",
       "16713      0.01      0.00      0.00         0.00             0         0.0   \n",
       "16714      0.00      0.00      0.01         0.00             0         0.0   \n",
       "\n",
       "      rating  total_sales  \n",
       "0          E        82.54  \n",
       "1         RP        40.24  \n",
       "2          E        35.52  \n",
       "3          E        32.77  \n",
       "4         RP        31.38  \n",
       "...      ...          ...  \n",
       "16710     RP         0.01  \n",
       "16711     RP         0.01  \n",
       "16712     RP         0.01  \n",
       "16713     RP         0.01  \n",
       "16714     RP         0.01  \n",
       "\n",
       "[16713 rows x 12 columns]"
      ]
     },
     "execution_count": 10,
     "metadata": {},
     "output_type": "execute_result"
    }
   ],
   "source": [
    "data['total_sales'] = data['na_sales'] + data['eu_sales'] + data['jp_sales'] + data['other_sales']\n",
    "data"
   ]
  },
  {
   "cell_type": "markdown",
   "metadata": {},
   "source": [
    "## Исследовательский анализ данных"
   ]
  },
  {
   "cell_type": "markdown",
   "metadata": {},
   "source": [
    "### Общее количество выпускаемых игр по годам\n",
    "Оценим, сколько игр выпускалось за все года.  \n",
    "Данные до 1990-го года можно отбросить, т.к. количество игр, вышедших в эти годы, пренебрежимо мало."
   ]
  },
  {
   "cell_type": "code",
   "execution_count": 11,
   "metadata": {},
   "outputs": [
    {
     "data": {
      "image/png": "[encoded data removed]",
      "text/plain": [
       "<Figure size 720x360 with 1 Axes>"
      ]
     },
     "metadata": {
      "needs_background": "light"
     },
     "output_type": "display_data"
    }
   ],
   "source": [
    "(\n",
    "    data.query('year_of_release > 1990')\n",
    "    .pivot_table(index='year_of_release', values='user_score', aggfunc='count')\n",
    "    .plot(kind='bar', grid=True, figsize=(10,5), legend=None)\n",
    ")\n",
    "plt.xlabel('Год выхода')\n",
    "plt.ylabel('Количество игр')\n",
    "plt.title('Количество игр в каждом году')\n",
    "plt.show()\n"
   ]
  },
  {
   "cell_type": "markdown",
   "metadata": {},
   "source": [
    "Середина-конец нулевых - время, когда выходило больше всего игр."
   ]
  },
  {
   "cell_type": "markdown",
   "metadata": {},
   "source": [
    "###   Распределение продаж по платформам\n",
    "Рассмотрим распределение продаж по платформам."
   ]
  },
  {
   "cell_type": "code",
   "execution_count": 12,
   "metadata": {},
   "outputs": [
    {
     "data": {
      "image/png": "[encoded data removed]",
      "text/plain": [
       "<Figure size 720x360 with 1 Axes>"
      ]
     },
     "metadata": {
      "needs_background": "light"
     },
     "output_type": "display_data"
    }
   ],
   "source": [
    "(\n",
    "    data.query('year_of_release > 1990')\n",
    "    .pivot_table(index='platform', values='total_sales', aggfunc='count')\n",
    "    .sort_values(by=['total_sales'])\n",
    "    .plot(kind='bar', grid=True, figsize=(10,5), legend=None)\n",
    ")\n",
    "plt.xlabel('Платформа')\n",
    "plt.ylabel('Количество продаж')\n",
    "plt.title('Количество продаж на всех платформах с 1990 года')\n",
    "plt.show()"
   ]
  },
  {
   "cell_type": "markdown",
   "metadata": {},
   "source": [
    "Наиболее популярными платформами являются DS и PS2.  \n",
    "Но для того, чтобы сделать выводы о \"жизненном цикле\" платформы, нужно рассмотреть больше платформ, поэтому расширим нашу выборку до первых семи платформ из топ-листа."
   ]
  },
  {
   "cell_type": "code",
   "execution_count": 13,
   "metadata": {
    "scrolled": true
   },
   "outputs": [
    {
     "data": {
      "image/png": "[encoded data removed]",
      "text/plain": [
       "<Figure size 576x216 with 1 Axes>"
      ]
     },
     "metadata": {
      "needs_background": "light"
     },
     "output_type": "display_data"
    },
    {
     "data": {
      "image/png": "[encoded data removed]",
      "text/plain": [
       "<Figure size 576x216 with 1 Axes>"
      ]
     },
     "metadata": {
      "needs_background": "light"
     },
     "output_type": "display_data"
    },
    {
     "data": {
      "image/png": "[encoded data removed]",
      "text/plain": [
       "<Figure size 576x216 with 1 Axes>"
      ]
     },
     "metadata": {
      "needs_background": "light"
     },
     "output_type": "display_data"
    },
    {
     "data": {
      "image/png": "[encoded data removed]",
      "text/plain": [
       "<Figure size 576x216 with 1 Axes>"
      ]
     },
     "metadata": {
      "needs_background": "light"
     },
     "output_type": "display_data"
    },
    {
     "data": {
      "image/png": "[encoded data removed]",
      "text/plain": [
       "<Figure size 576x216 with 1 Axes>"
      ]
     },
     "metadata": {
      "needs_background": "light"
     },
     "output_type": "display_data"
    },
    {
     "data": {
      "image/png": "[encoded data removed]",
      "text/plain": [
       "<Figure size 576x216 with 1 Axes>"
      ]
     },
     "metadata": {
      "needs_background": "light"
     },
     "output_type": "display_data"
    },
    {
     "data": {
      "image/png": "[encoded data removed]",
      "text/plain": [
       "<Figure size 576x216 with 1 Axes>"
      ]
     },
     "metadata": {
      "needs_background": "light"
     },
     "output_type": "display_data"
    }
   ],
   "source": [
    "platforms = ['PS', 'PSP', 'X360', 'Wii', 'PS3', 'DS', 'PS2']\n",
    "for platform in platforms:\n",
    "    (\n",
    "        data.query('platform == @platform & year_of_release > 1990')\n",
    "        .pivot_table(index='year_of_release', values='total_sales', aggfunc='count')\n",
    "        .sort_values(by=['year_of_release'])\n",
    "        .plot(kind='bar', grid=True, figsize=(8, 3), legend=None)\n",
    "    )\n",
    "    plt.xlabel(platform)\n",
    "    plt.ylabel('Продажи')\n",
    "    plt.title('Количество продаж на ' + platform)\n",
    "    plt.show()"
   ]
  },
  {
   "cell_type": "markdown",
   "metadata": {},
   "source": [
    "Время жизни платформы колеблется от 6 до 8 лет. Для дальнейшего анализа примем длительность жизненного цикла платформы равной 7 годам."
   ]
  },
  {
   "cell_type": "markdown",
   "metadata": {},
   "source": [
    "Создадим новую таблицу, в которую войдут данные за 2010-2016 года."
   ]
  },
  {
   "cell_type": "code",
   "execution_count": 14,
   "metadata": {},
   "outputs": [
    {
     "name": "stdout",
     "output_type": "stream",
     "text": [
      "Количество строк в новой таблице - 5277\n"
     ]
    }
   ],
   "source": [
    "actual = data.query('year_of_release >= 2010')\n",
    "print('Количество строк в новой таблице -', actual.shape[0])"
   ]
  },
  {
   "cell_type": "markdown",
   "metadata": {},
   "source": [
    "### Потенциально прибыльные платформы\n",
    "Оценим динамику продаж на всех платформах с 2010 года.  \n"
   ]
  },
  {
   "cell_type": "code",
   "execution_count": 15,
   "metadata": {},
   "outputs": [
    {
     "data": {
      "image/png": "[encoded data removed]",
      "text/plain": [
       "<Figure size 432x144 with 1 Axes>"
      ]
     },
     "metadata": {
      "needs_background": "light"
     },
     "output_type": "display_data"
    },
    {
     "data": {
      "image/png": "[encoded data removed]",
      "text/plain": [
       "<Figure size 432x144 with 1 Axes>"
      ]
     },
     "metadata": {
      "needs_background": "light"
     },
     "output_type": "display_data"
    },
    {
     "data": {
      "image/png": "[encoded data removed]",
      "text/plain": [
       "<Figure size 432x144 with 1 Axes>"
      ]
     },
     "metadata": {
      "needs_background": "light"
     },
     "output_type": "display_data"
    },
    {
     "data": {
      "image/png": "[encoded data removed]",
      "text/plain": [
       "<Figure size 432x144 with 1 Axes>"
      ]
     },
     "metadata": {
      "needs_background": "light"
     },
     "output_type": "display_data"
    },
    {
     "data": {
      "image/png": "[encoded data removed]",
      "text/plain": [
       "<Figure size 432x144 with 1 Axes>"
      ]
     },
     "metadata": {
      "needs_background": "light"
     },
     "output_type": "display_data"
    },
    {
     "data": {
      "image/png": "[encoded data removed]",
      "text/plain": [
       "<Figure size 432x144 with 1 Axes>"
      ]
     },
     "metadata": {
      "needs_background": "light"
     },
     "output_type": "display_data"
    },
    {
     "data": {
      "image/png": "[encoded data removed]",
      "text/plain": [
       "<Figure size 432x144 with 1 Axes>"
      ]
     },
     "metadata": {
      "needs_background": "light"
     },
     "output_type": "display_data"
    },
    {
     "data": {
      "image/png": "[encoded data removed]",
      "text/plain": [
       "<Figure size 432x144 with 1 Axes>"
      ]
     },
     "metadata": {
      "needs_background": "light"
     },
     "output_type": "display_data"
    },
    {
     "data": {
      "image/png": "[encoded data removed]",
      "text/plain": [
       "<Figure size 432x144 with 1 Axes>"
      ]
     },
     "metadata": {
      "needs_background": "light"
     },
     "output_type": "display_data"
    },
    {
     "data": {
      "image/png": "[encoded data removed]",
      "text/plain": [
       "<Figure size 432x144 with 1 Axes>"
      ]
     },
     "metadata": {
      "needs_background": "light"
     },
     "output_type": "display_data"
    },
    {
     "data": {
      "image/png": "[encoded data removed]",
      "text/plain": [
       "<Figure size 432x144 with 1 Axes>"
      ]
     },
     "metadata": {
      "needs_background": "light"
     },
     "output_type": "display_data"
    },
    {
     "data": {
      "image/png": "[encoded data removed]",
      "text/plain": [
       "<Figure size 432x144 with 1 Axes>"
      ]
     },
     "metadata": {
      "needs_background": "light"
     },
     "output_type": "display_data"
    }
   ],
   "source": [
    "platforms = actual['platform'].unique()\n",
    "for platform in platforms:\n",
    "    (\n",
    "        actual.query('platform == @platform')\n",
    "        .pivot_table(index='year_of_release', values='total_sales', aggfunc='count')\n",
    "        .sort_values(by=['year_of_release'])\n",
    "        .plot(kind='bar', grid=True, figsize=(6, 2), legend=None)\n",
    "    )\n",
    "    plt.xlabel(platform)\n",
    "    plt.ylabel('Количество продаж')\n",
    "    plt.title('Количество продаж на ' + platform)\n",
    "    plt.show()"
   ]
  },
  {
   "cell_type": "markdown",
   "metadata": {},
   "source": [
    "Потенциально прибыльные платформы:  \n",
    "* PS4  \n",
    "* XOne\n",
    "* PSV\n",
    "* PC  \n",
    "\n",
    "Платформы являются потенциально прибыльными, потому что они демонстрируют положительную динамику продаж и их жизненный цикл еще далек от завершения."
   ]
  },
  {
   "cell_type": "markdown",
   "metadata": {},
   "source": [
    "### Диаграммы размаха для потенциально прибыльных платформ\n",
    "Создадим новую таблицу, в которую войдут данные по четырем платформам, набирающим популярность."
   ]
  },
  {
   "cell_type": "code",
   "execution_count": 16,
   "metadata": {},
   "outputs": [],
   "source": [
    "popular_platforms = ['PS4', 'PSV', 'PC', 'XOne']\n",
    "popular_data = actual[actual['platform'].isin(popular_platforms)]"
   ]
  },
  {
   "cell_type": "code",
   "execution_count": 17,
   "metadata": {},
   "outputs": [
    {
     "data": {
      "image/png": "[encoded data removed]",
      "text/plain": [
       "<Figure size 576x720 with 1 Axes>"
      ]
     },
     "metadata": {
      "needs_background": "light"
     },
     "output_type": "display_data"
    }
   ],
   "source": [
    "popular_data.boxplot(by='platform', column=['total_sales'], figsize=(8,10))\n",
    "plt.title('Диаграммы размаха')\n",
    "plt.ylim(0,4)\n",
    "plt.xlabel('Платформы')\n",
    "plt.ylabel('Продажи, млн')\n",
    "plt.show()"
   ]
  },
  {
   "cell_type": "markdown",
   "metadata": {},
   "source": [
    "* На диаграмме присутствует много выбросов. Они соответствуют самым успешным играм, завоевавшим наибольшую популярность.  \n",
    "* 75% игр на PS4 и XOne проданы тиражом до 750 тыс. копий, в то время как на PC и PSV 75% игр проданы в количестве менее 250 тыс. копий.  \n",
    "* Игры на PS4 и XOne продаются гораздо лучше, чем на PC и PSV\n",
    "* Ни одна игра на PSV не преодолела отметку в 2 млн проданных копий"
   ]
  },
  {
   "cell_type": "markdown",
   "metadata": {},
   "source": [
    "### Влияние оценок на продажи"
   ]
  },
  {
   "cell_type": "markdown",
   "metadata": {},
   "source": [
    "Оценим, как влияют оценки пользователей и критиков на продажи на платформе PS4."
   ]
  },
  {
   "cell_type": "code",
   "execution_count": 29,
   "metadata": {},
   "outputs": [
    {
     "name": "stdout",
     "output_type": "stream",
     "text": [
      "Коэффициент корреляции 0.1457272024913119\n"
     ]
    },
    {
     "data": {
      "image/png": "[encoded data removed]",
      "text/plain": [
       "<Figure size 432x288 with 1 Axes>"
      ]
     },
     "metadata": {
      "needs_background": "light"
     },
     "output_type": "display_data"
    }
   ],
   "source": [
    "(\n",
    "    popular_data.query('platform == \"PS4\"')\n",
    "    .pivot_table(index='user_score', values='total_sales')\n",
    "    .plot(style='o', grid=True, alpha=0.7)\n",
    ")\n",
    "print(f\"Коэффициент корреляции {popular_data['user_score'].corr(popular_data['total_sales'])}\")\n",
    "plt.xlabel('Оценки пользователей')\n",
    "plt.ylabel('Продажи, млн')\n",
    "plt.title('Зависимость продаж от оценок пользователей на PS4')\n",
    "plt.show()"
   ]
  },
  {
   "cell_type": "markdown",
   "metadata": {},
   "source": [
    "Оценки пользователей слабо влияют на продажи игр. Такой вывод можно сделать из графика - продажи распределены по оценкам равномерно (за исключением оценок ниже 3/10)."
   ]
  },
  {
   "cell_type": "code",
   "execution_count": 30,
   "metadata": {},
   "outputs": [
    {
     "name": "stdout",
     "output_type": "stream",
     "text": [
      "Коэффициент корреляции 0.24341032476481866\n"
     ]
    },
    {
     "data": {
      "image/png": "[encoded data removed]",
      "text/plain": [
       "<Figure size 432x288 with 1 Axes>"
      ]
     },
     "metadata": {
      "needs_background": "light"
     },
     "output_type": "display_data"
    }
   ],
   "source": [
    "(\n",
    "    popular_data.query('platform == \"PS4\" & total_sales < 4')\n",
    "    .pivot_table(index='critic_score', values='total_sales')\n",
    "    .plot(style='o', grid=True, alpha=0.7)\n",
    ")\n",
    "print(f\"Коэффициент корреляции {popular_data['critic_score'].corr(popular_data['total_sales'])}\")\n",
    "plt.xlabel('Оценки критиков')\n",
    "plt.ylabel('Продажи, млн')\n",
    "plt.title('Зависимость продаж от оценок критиков на PS4')\n",
    "plt.show()"
   ]
  },
  {
   "cell_type": "markdown",
   "metadata": {},
   "source": [
    "Оценки критиков сильно влияют на продажи игр, хотя коэффициент корреляции говорит об обратном. Это вызвано тем, что зависимость начинает проявляться при оценке выше 60 баллов. Рассмотрим этот участок подробнее."
   ]
  },
  {
   "cell_type": "code",
   "execution_count": 31,
   "metadata": {},
   "outputs": [
    {
     "name": "stdout",
     "output_type": "stream",
     "text": [
      "Коэффициент корреляции 0.33900270476385064\n"
     ]
    },
    {
     "data": {
      "image/png": "[encoded data removed]",
      "text/plain": [
       "<Figure size 432x288 with 1 Axes>"
      ]
     },
     "metadata": {
      "needs_background": "light"
     },
     "output_type": "display_data"
    }
   ],
   "source": [
    "(\n",
    "    popular_data.query('platform == \"PS4\" & total_sales < 6 & critic_score > 60')\n",
    "    .pivot_table(index='critic_score', values='total_sales')\n",
    "    .plot(style='o', grid=True, alpha=0.7)\n",
    ")\n",
    "(\n",
    "    print(\"Коэффициент корреляции \" +\n",
    "       str(popular_data[popular_data['critic_score'] > 60]['critic_score'].corr(popular_data['total_sales'])))\n",
    ")\n",
    "plt.xlabel('Оценки критиков')\n",
    "plt.ylabel('Продажи, млн')\n",
    "plt.title('Зависимость продаж от оценок критиков на PS4')\n",
    "plt.show()"
   ]
  },
  {
   "cell_type": "markdown",
   "metadata": {},
   "source": [
    "Коэффициент корреляции вырос, исходя из его величины, связь можно назвать слабой положительной."
   ]
  },
  {
   "cell_type": "markdown",
   "metadata": {},
   "source": [
    "Посмотрим на зависимость продаж от оценок пользователей на других платформах."
   ]
  },
  {
   "cell_type": "code",
   "execution_count": 21,
   "metadata": {},
   "outputs": [
    {
     "data": {
      "image/png": "[encoded data removed]",
      "text/plain": [
       "<Figure size 432x216 with 1 Axes>"
      ]
     },
     "metadata": {
      "needs_background": "light"
     },
     "output_type": "display_data"
    },
    {
     "data": {
      "image/png": "[encoded data removed]",
      "text/plain": [
       "<Figure size 432x216 with 1 Axes>"
      ]
     },
     "metadata": {
      "needs_background": "light"
     },
     "output_type": "display_data"
    },
    {
     "data": {
      "image/png": "[encoded data removed]",
      "text/plain": [
       "<Figure size 432x216 with 1 Axes>"
      ]
     },
     "metadata": {
      "needs_background": "light"
     },
     "output_type": "display_data"
    }
   ],
   "source": [
    "platforms = ['PSV', 'PC', 'XOne']\n",
    "\n",
    "for platform in platforms:\n",
    "    (\n",
    "        popular_data.query('platform == @platform')\n",
    "        .pivot_table(index='user_score', values='total_sales')\n",
    "        .plot(style='o', grid=True, figsize=(6,3), alpha=0.7)\n",
    "    )\n",
    "    plt.title(platform)\n",
    "    plt.xlabel('Оценка пользователей')\n",
    "    plt.ylabel('Продажи')"
   ]
  },
  {
   "cell_type": "markdown",
   "metadata": {},
   "source": [
    "Из графика видно, что на других платформах оценка пользователей тоже не влияет на продажи"
   ]
  },
  {
   "cell_type": "markdown",
   "metadata": {},
   "source": [
    "Посмотрим на зависимость продаж от оценок критиков на других платформах."
   ]
  },
  {
   "cell_type": "code",
   "execution_count": 22,
   "metadata": {},
   "outputs": [
    {
     "data": {
      "image/png": "[encoded data removed]",
      "text/plain": [
       "<Figure size 432x216 with 1 Axes>"
      ]
     },
     "metadata": {
      "needs_background": "light"
     },
     "output_type": "display_data"
    },
    {
     "data": {
      "image/png": "[encoded data removed]",
      "text/plain": [
       "<Figure size 432x216 with 1 Axes>"
      ]
     },
     "metadata": {
      "needs_background": "light"
     },
     "output_type": "display_data"
    },
    {
     "data": {
      "image/png": "[encoded data removed]",
      "text/plain": [
       "<Figure size 432x216 with 1 Axes>"
      ]
     },
     "metadata": {
      "needs_background": "light"
     },
     "output_type": "display_data"
    }
   ],
   "source": [
    "platforms = ['PSV', 'PC', 'XOne']\n",
    "\n",
    "for platform in platforms:\n",
    "    (\n",
    "        popular_data.query('platform == @platform')\n",
    "        .pivot_table(index='critic_score', values='total_sales')\n",
    "        .plot(style='o', grid=True, figsize=(6,3), alpha=0.7)\n",
    "    )\n",
    "    plt.title(platform)\n",
    "    plt.xlabel('Оценка критиков')\n",
    "    plt.ylabel('Продажи')"
   ]
  },
  {
   "cell_type": "markdown",
   "metadata": {},
   "source": [
    "Оценка критиков влияет на продажи игр. Оценка выше 70 баллов положительно сказывается на продажах."
   ]
  },
  {
   "cell_type": "markdown",
   "metadata": {},
   "source": [
    "**Вывод**  \n",
    "* Оценка пользователей не влияет на продажи на всех платформах\n",
    "* Оценка критиков выше 60 баллов положительно сказывается на продажах на всех платформах"
   ]
  },
  {
   "cell_type": "markdown",
   "metadata": {},
   "source": [
    "### Влияние жанра игры на продажи"
   ]
  },
  {
   "cell_type": "markdown",
   "metadata": {},
   "source": [
    "Оценим зависимость продаж от жанра.  \n",
    "Вычислим, сколько игр разных жанров было продано за актуальный период (2010-2016 года)"
   ]
  },
  {
   "cell_type": "code",
   "execution_count": 23,
   "metadata": {},
   "outputs": [
    {
     "data": {
      "image/png": "[encoded data removed]",
      "text/plain": [
       "<Figure size 432x288 with 1 Axes>"
      ]
     },
     "metadata": {
      "needs_background": "light"
     },
     "output_type": "display_data"
    }
   ],
   "source": [
    "(\n",
    "    actual.groupby('genre')['total_sales'].sum().sort_values()\n",
    "    .plot(kind='bar', grid=True)\n",
    ")\n",
    "plt.xlabel('Жанр')\n",
    "plt.ylabel('Продажи, млн')\n",
    "plt.title('Популярность жанров')\n",
    "plt.show()"
   ]
  },
  {
   "cell_type": "markdown",
   "metadata": {},
   "source": [
    "Самыми прибыльнымы жанрами является Action и Schooter, причем Action лидирует с большим отрывом.  \n",
    "Наименее популярные жанры - Puzzle, Stategy, Adventure"
   ]
  },
  {
   "cell_type": "markdown",
   "metadata": {},
   "source": [
    "На суммарные показатели могут влиять выбросы - например, очень успешные игры, которые продадутся тиражом, на порядок большем, чем другие игры в жанре. В итоге, суммарные показатели в жанре будут высокими, однако продажи других игр того же жанра будут гораздо меньше. Нельзя на основе нескольких очень успешных игр делать выводы о популярности жанра.  \n",
    "\n",
    "Вычислим средние значения продаж в каждом жанре."
   ]
  },
  {
   "cell_type": "code",
   "execution_count": 36,
   "metadata": {},
   "outputs": [
    {
     "data": {
      "image/png": "[encoded data removed]",
      "text/plain": [
       "<Figure size 432x288 with 1 Axes>"
      ]
     },
     "metadata": {
      "needs_background": "light"
     },
     "output_type": "display_data"
    }
   ],
   "source": [
    "(\n",
    "    actual.groupby('genre')['total_sales'].mean().sort_values()\n",
    "    .plot(kind='bar', grid=True)\n",
    ")\n",
    "plt.xlabel('Жанр')\n",
    "plt.ylabel('Продажи, млн')\n",
    "plt.title('Средние показатели продаж')\n",
    "plt.show()"
   ]
  },
  {
   "cell_type": "markdown",
   "metadata": {},
   "source": [
    "После подсчета средних продаж выводы о популярности жанров поменялись.  \n",
    "* Самые популярные жанры - Shooter и Platform  \n",
    "* Наименее популярны, по-прежнему, Puzzle, Stategy и Adventure"
   ]
  },
  {
   "cell_type": "markdown",
   "metadata": {},
   "source": [
    "## Портреты пользователей из разных регионов"
   ]
  },
  {
   "cell_type": "markdown",
   "metadata": {},
   "source": [
    "*Справка*  \n",
    "Классификация от ESRB:  \n",
    "1) A (Adult only) - Только для взрослых, 18+  \n",
    "2) M (Mature) - Для взрослых, 17+  \n",
    "3) T (Teen) - Для подростков от 13 лет  \n",
    "4) E10 (Everyone 10 and older) - Для подростков старше 10 лет  \n",
    "5) E (Everyone) - Для всех возрастов  \n",
    "6) EC (Early childhood) - Для детей от 3 лет  "
   ]
  },
  {
   "cell_type": "markdown",
   "metadata": {},
   "source": [
    "### Пользователи из Европы (EU)"
   ]
  },
  {
   "cell_type": "markdown",
   "metadata": {},
   "source": [
    "Найдем самые популярные жанры и платформы для пользователей из Европы."
   ]
  },
  {
   "cell_type": "code",
   "execution_count": 24,
   "metadata": {},
   "outputs": [
    {
     "data": {
      "image/png": "[encoded data removed]",
      "text/plain": [
       "<Figure size 432x288 with 1 Axes>"
      ]
     },
     "metadata": {
      "needs_background": "light"
     },
     "output_type": "display_data"
    },
    {
     "data": {
      "image/png": "[encoded data removed]",
      "text/plain": [
       "<Figure size 432x288 with 1 Axes>"
      ]
     },
     "metadata": {
      "needs_background": "light"
     },
     "output_type": "display_data"
    },
    {
     "data": {
      "image/png": "[encoded data removed]",
      "text/plain": [
       "<Figure size 432x288 with 1 Axes>"
      ]
     },
     "metadata": {
      "needs_background": "light"
     },
     "output_type": "display_data"
    }
   ],
   "source": [
    "(\n",
    "    actual.groupby('platform')['eu_sales'].sum().sort_values()\n",
    "    .plot(kind='bar', grid=True)\n",
    ")\n",
    "plt.xlabel('Платформа')\n",
    "plt.ylabel('Продажи, млн')\n",
    "plt.title('Популярность платформ в Европе')\n",
    "plt.show()\n",
    "\n",
    "(\n",
    "    actual.groupby('genre')['eu_sales'].sum().sort_values()\n",
    "    .plot(kind='bar', grid=True)\n",
    ")\n",
    "plt.xlabel('Жанр')\n",
    "plt.ylabel('Продажи, млн')\n",
    "plt.title('Популярность жанров в Европе')\n",
    "plt.show()\n",
    "\n",
    "(\n",
    "    actual.groupby('rating')['eu_sales'].sum().sort_values()\n",
    "    .plot(kind='bar', grid=True)\n",
    ")\n",
    "plt.xlabel('Рейтинг ESBR')\n",
    "plt.ylabel('Продажи, млн')\n",
    "plt.title('Зависимость продаж от рейтинг ESBR')\n",
    "plt.show()"
   ]
  },
  {
   "cell_type": "markdown",
   "metadata": {},
   "source": [
    "**Пользователь из Европы** \n",
    "\n",
    "Топ-5 популярных платформ:  \n",
    "* PS3\n",
    "* X360\n",
    "* PS4\n",
    "* PC\n",
    "* Wii  \n",
    "\n",
    "Платформы PS3 и X360 имеют много продаж, но их жизненный цикл подходит к концу, и в последующие года продажи на них будут падать, в то время как на PS4 продажи будут расти, пик популярности этой платформы наступит в 2017-2018 годах.  \n",
    "Платформа Wii попала в рейтинг из-за больших продаж в 2010-2011 годах, но уже в 2015 и 2016 продажи упали почти до нуля.\n",
    "\n",
    "Топ-5 популярных жанров:  \n",
    "* Action\n",
    "* Shooter\n",
    "* Sports\n",
    "* Role-playing\n",
    "* Misc  \n",
    "\n",
    "Лидируют классические жанры, понятные всем\n",
    "\n",
    "Влияние рейтинга ESRB:  \n",
    "* Игры для взрослых пользуются наибольшей популярностью"
   ]
  },
  {
   "cell_type": "markdown",
   "metadata": {},
   "source": [
    "### Пользователи из Северной Америки (NA)"
   ]
  },
  {
   "cell_type": "markdown",
   "metadata": {},
   "source": [
    "Найдем самые популярные жанры и платформы для пользователей из Северной Америки."
   ]
  },
  {
   "cell_type": "code",
   "execution_count": 25,
   "metadata": {},
   "outputs": [
    {
     "data": {
      "image/png": "[encoded data removed]",
      "text/plain": [
       "<Figure size 432x288 with 1 Axes>"
      ]
     },
     "metadata": {
      "needs_background": "light"
     },
     "output_type": "display_data"
    },
    {
     "data": {
      "image/png": "[encoded data removed]",
      "text/plain": [
       "<Figure size 432x288 with 1 Axes>"
      ]
     },
     "metadata": {
      "needs_background": "light"
     },
     "output_type": "display_data"
    },
    {
     "data": {
      "image/png": "[encoded data removed]",
      "text/plain": [
       "<Figure size 432x288 with 1 Axes>"
      ]
     },
     "metadata": {
      "needs_background": "light"
     },
     "output_type": "display_data"
    }
   ],
   "source": [
    "(\n",
    "    actual.groupby('platform')['na_sales'].sum().sort_values()\n",
    "    .plot(kind='bar', grid=True)\n",
    ")\n",
    "plt.xlabel('Платформа')\n",
    "plt.ylabel('Продажи, млн')\n",
    "plt.title('Популярность платформ в Северной Америке')\n",
    "plt.show()\n",
    "\n",
    "(\n",
    "    actual.groupby('genre')['na_sales'].sum().sort_values()\n",
    "    .plot(kind='bar', grid=True)\n",
    ")\n",
    "plt.xlabel('Жанр')\n",
    "plt.ylabel('Продажи, млн')\n",
    "plt.title('Популярность жанров в Северной Америке')\n",
    "plt.show()\n",
    "\n",
    "(\n",
    "    actual.groupby('rating')['na_sales'].sum().sort_values()\n",
    "    .plot(kind='bar', grid=True)\n",
    ")\n",
    "plt.xlabel('Рейтинг ESBR')\n",
    "plt.ylabel('Продажи, млн')\n",
    "plt.title('Зависимость продаж от рейтинг ESBR')\n",
    "plt.show()"
   ]
  },
  {
   "cell_type": "markdown",
   "metadata": {},
   "source": [
    "**Пользователь из Северной Америки** \n",
    "\n",
    "Топ-5 популярных платформ:  \n",
    "* X360\n",
    "* PS3\n",
    "* Wii\n",
    "* PS4\n",
    "* XOne  \n",
    "\n",
    "Платформы PS3 и X360 все еще остаются самыми популярными, продаж на них больше, чем в Европейском регионе.  \n",
    "Продажи на PS4 находятся на том же уровне, что и в Европе.  \n",
    "Платформа Wii попала в рейтинг из-за больших продаж в 2010-2011 годах, но уже в 2015 и 2016 продажи упали почти до нуля.\n",
    "\n",
    "Топ-5 популярных жанров:  \n",
    "* Action\n",
    "* Shooter\n",
    "* Sports\n",
    "* Misc\n",
    "* Role-playing  \n",
    "\n",
    "Лидируют классические жанры, понятные всем\n",
    "\n",
    "Влияние рейтинга ESRB:  \n",
    "* Игры для взрослых пользуются наибольшей популярностью"
   ]
  },
  {
   "cell_type": "markdown",
   "metadata": {},
   "source": [
    "### Пользователи из Японии (JP)"
   ]
  },
  {
   "cell_type": "markdown",
   "metadata": {},
   "source": [
    "Найдем самые популярные жанры и платформы для пользователей из Японии."
   ]
  },
  {
   "cell_type": "code",
   "execution_count": 26,
   "metadata": {},
   "outputs": [
    {
     "data": {
      "image/png": "[encoded data removed]",
      "text/plain": [
       "<Figure size 432x288 with 1 Axes>"
      ]
     },
     "metadata": {
      "needs_background": "light"
     },
     "output_type": "display_data"
    },
    {
     "data": {
      "image/png": "[encoded data removed]",
      "text/plain": [
       "<Figure size 432x288 with 1 Axes>"
      ]
     },
     "metadata": {
      "needs_background": "light"
     },
     "output_type": "display_data"
    },
    {
     "data": {
      "image/png": "[encoded data removed]",
      "text/plain": [
       "<Figure size 432x288 with 1 Axes>"
      ]
     },
     "metadata": {
      "needs_background": "light"
     },
     "output_type": "display_data"
    }
   ],
   "source": [
    "(\n",
    "    actual.groupby('platform')['jp_sales'].sum().sort_values()\n",
    "    .plot(kind='bar', grid=True)\n",
    ")\n",
    "plt.xlabel('Платформа')\n",
    "plt.ylabel('Продажи, млн')\n",
    "plt.title('Популярность платформ в Японии')\n",
    "plt.show()\n",
    "\n",
    "(\n",
    "    actual.groupby('genre')['jp_sales'].sum().sort_values()\n",
    "    .plot(kind='bar', grid=True)\n",
    ")\n",
    "plt.xlabel('Жанр')\n",
    "plt.ylabel('Продажи, млн')\n",
    "plt.title('Популярность жанров в Японии')\n",
    "plt.show()\n",
    "\n",
    "(\n",
    "    actual.groupby('rating')['jp_sales'].sum().sort_values()\n",
    "    .plot(kind='bar', grid=True)\n",
    ")\n",
    "plt.xlabel('Рейтинг ESBR')\n",
    "plt.ylabel('Продажи, млн')\n",
    "plt.title('Зависимость продаж от рейтинг ESBR')\n",
    "plt.show()"
   ]
  },
  {
   "cell_type": "markdown",
   "metadata": {},
   "source": [
    "**Пользователь из Японии** \n",
    "\n",
    "Топ-5 популярных платформ:  \n",
    "* 3DS\n",
    "* PS3\n",
    "* PSP\n",
    "* DS\n",
    "* PSV  \n",
    "\n",
    "Лидер среди платформ - 3DS. Эта платформа с 2011 года показывала стабильно высокие продажи. \n",
    "Продажи по всем платформам ниже, чем в Северной Америке и Европе.\n",
    "\n",
    "Топ-5 популярных жанров:  \n",
    "* Role-playing\n",
    "* Action\n",
    "* Misc\n",
    "* Platform\n",
    "* Adventure  \n",
    "\n",
    "В отличие от Европы и Сев. Америки, в Японии наибольшей популярностью пользуются Ролевые и Экшн игры.  \n",
    "Разрыв между ними и другими жанрами значительно сильнее, чем в европе и Сев. Америке.\n",
    "\n",
    "Влияние рейтинга ESRB:  \n",
    "* Самые продаваемые игры не имеют данного рейтинга вообще"
   ]
  },
  {
   "cell_type": "markdown",
   "metadata": {},
   "source": [
    "## Проверка гипотез"
   ]
  },
  {
   "cell_type": "markdown",
   "metadata": {},
   "source": [
    "Будут сравниваться две генеральные совокупности.  \n",
    "В этом случае используется метод `scipy.stats.ttest_ind(array1, array2, equal_var, alternative)`\n",
    "\n",
    "Параметр `equal_var` по умолчанию равен `True`, но в случаях, когда выборки могут быть разного размера, рекомендуется присваивать ему значение `False`.  \n",
    "\n",
    "В случаях одностороннего сравнения (больше/меньше) используется параметр `alternative`. В нашем случае цель узнать, равны ли средние генеральных совокупностей между собой, поэтому данный параметр опускается."
   ]
  },
  {
   "cell_type": "markdown",
   "metadata": {},
   "source": [
    "### Средние пользовательские рейтинги платформ Xbox One и PC одинаковые"
   ]
  },
  {
   "cell_type": "markdown",
   "metadata": {},
   "source": [
    "Нулевая гипотеза - средние пользовательские рейтинги платформ Xbox One и PC равны  \n",
    "Альтернативная гипотеза - средние пользовательские рейтинги платформ Xbox One и PC различаются"
   ]
  },
  {
   "cell_type": "code",
   "execution_count": 27,
   "metadata": {},
   "outputs": [
    {
     "name": "stdout",
     "output_type": "stream",
     "text": [
      "p-value: 0.24037591701956748\n",
      "Нет оснований отвергнуть нулевую гипотезу\n"
     ]
    }
   ],
   "source": [
    "# нулевая гипотеза - пользовательские рейтинги равны\n",
    "# альтернативная гипотеза - рейтинги не равны\n",
    "xbox_rating = actual.query('platform == \"XOne\"')['user_score']\n",
    "pc_rating = actual.query('platform == \"PC\"')['user_score']\n",
    "\n",
    "alpha = 0.1\n",
    "\n",
    "results = st.ttest_ind(xbox_rating, pc_rating, equal_var=False)\n",
    "\n",
    "print(f'p-value: {results.pvalue}')\n",
    "\n",
    "if results.pvalue < alpha:\n",
    "    print('Отвергаем нулевую гипотезу')\n",
    "else:\n",
    "    print('Нет оснований отвергнуть нулевую гипотезу')"
   ]
  },
  {
   "cell_type": "markdown",
   "metadata": {},
   "source": [
    "Средние пользовательские рейтинги на обеих платформах равны"
   ]
  },
  {
   "cell_type": "markdown",
   "metadata": {},
   "source": [
    "### Средние пользовательские рейтинги жанров Action и Sports разные."
   ]
  },
  {
   "cell_type": "markdown",
   "metadata": {},
   "source": [
    "Нулевая гипотеза - средние пользовательские рейтинги жанров Action и Sports равны  \n",
    "Альтернативная гипотеза - средние пользовательские рейтинги жанров Action и Sports различаются"
   ]
  },
  {
   "cell_type": "code",
   "execution_count": 41,
   "metadata": {},
   "outputs": [
    {
     "name": "stdout",
     "output_type": "stream",
     "text": [
      "p-value: 0.06264682791042894\n",
      "Отвергаем нулевую гипотезу\n"
     ]
    }
   ],
   "source": [
    "# нулевая гипотеза - пользовательские рейтинги равны\n",
    "# альтернативная гипотеза - рейтинги не равны\n",
    "action_rating = actual.query('genre == \"Action\"')['user_score']\n",
    "sports_rating = actual.query('genre == \"Sports\"')['user_score']\n",
    "\n",
    "alpha = 0.1\n",
    "\n",
    "results = st.ttest_ind(action_rating, sports_rating, equal_var=False)\n",
    "\n",
    "print(f'p-value: {results.pvalue}')\n",
    "\n",
    "if results.pvalue < alpha:\n",
    "    print('Отвергаем нулевую гипотезу')\n",
    "else:\n",
    "    print('Нет оснований отвергнуть нулевую гипотезу')"
   ]
  },
  {
   "cell_type": "markdown",
   "metadata": {},
   "source": [
    "Средние пользовательские рейтинги обоих жанров различаются"
   ]
  },
  {
   "cell_type": "markdown",
   "metadata": {},
   "source": [
    "## Вывод"
   ]
  },
  {
   "cell_type": "markdown",
   "metadata": {},
   "source": [
    "Проведенный анализ данных выявил следующие закономерности:  \n",
    "* Количество выпускаемых игр за последние пять лет снизилось почти в два раза по сравнению с предыдущей пятилеткой\n",
    "* Жизненный цикл платформы колеблется от 6 до 8 лет  \n",
    "* Потенциально прибыльными платформами являются PS4, PSV, XOne и PC  \n",
    "* Продажи не зависят от оценок пользователей  \n",
    "* Покупатели обращают внимания на оценку критиков, оценка ниже 60 может ухудшить продажи\n",
    "* Самые популярные жанры в Европе и Северной Америке - Шутер и Экшн; в Японии - Ролевые игры\n",
    "* В Северной Америке и Европе любят игры для взрослой аудитории, в Японии не обращают внимания на рейтинги  \n",
    "* Самые популярные платформы в Японии отличаются от популярных платформ в Сев. Америке и Европе  \n",
    "\n",
    "Результаты проверки гипотез говорят о следующем:  \n",
    "1) Средние пользовательские рейтинги игр на платформах XOne и PC одинаковые  \n",
    "2) Средние пользовательские рейтинги жанров Экшн и Спорт различаются\n",
    "\n",
    "На основе проведенного анализа можно сделать вывод о том, как должна выглядеть успешная игра для того или иного региона:  \n",
    "1) Европа: платформа PS4 или PC, жанр Экшн/Шутер, контент для взрослых  \n",
    "2) Северная Америка: платформа XOne или PS4, жанр Экшн/Шутер, контент для взрослых  \n",
    "3) Япония: платформа PSV, жанр Ролевые, нейтральный контент\n",
    "\n",
    "Так же важно отметить, что игры с оценкой критиков выше 60 баллов продаются гораздо лучше. Чем выше оценка критиков, тем больше продаж.\n"
   ]
  }
 ],
 "metadata": {
  "ExecuteTimeLog": [
   {
    "duration": 439,
    "start_time": "2023-06-01T09:55:55.317Z"
   },
   {
    "duration": 180,
    "start_time": "2023-06-01T09:56:18.147Z"
   },
   {
    "duration": 26,
    "start_time": "2023-06-01T09:56:21.956Z"
   },
   {
    "duration": 67,
    "start_time": "2023-06-01T09:58:36.295Z"
   },
   {
    "duration": 6,
    "start_time": "2023-06-01T09:58:43.192Z"
   },
   {
    "duration": 23,
    "start_time": "2023-06-01T09:58:48.980Z"
   },
   {
    "duration": 4,
    "start_time": "2023-06-01T09:59:01.230Z"
   },
   {
    "duration": 21,
    "start_time": "2023-06-01T09:59:04.001Z"
   },
   {
    "duration": 51,
    "start_time": "2023-06-01T09:59:12.185Z"
   },
   {
    "duration": 15,
    "start_time": "2023-06-01T09:59:26.481Z"
   },
   {
    "duration": 68,
    "start_time": "2023-06-01T10:00:05.442Z"
   },
   {
    "duration": 12,
    "start_time": "2023-06-01T10:01:15.860Z"
   },
   {
    "duration": 20,
    "start_time": "2023-06-01T10:01:22.608Z"
   },
   {
    "duration": 14,
    "start_time": "2023-06-01T10:01:34.855Z"
   },
   {
    "duration": 12,
    "start_time": "2023-06-01T10:02:26.250Z"
   },
   {
    "duration": 7,
    "start_time": "2023-06-01T10:07:52.550Z"
   },
   {
    "duration": 7,
    "start_time": "2023-06-01T10:08:17.455Z"
   },
   {
    "duration": 8,
    "start_time": "2023-06-01T10:08:28.883Z"
   },
   {
    "duration": 8,
    "start_time": "2023-06-01T10:08:34.791Z"
   },
   {
    "duration": 15,
    "start_time": "2023-06-01T10:08:47.860Z"
   },
   {
    "duration": 17,
    "start_time": "2023-06-01T10:08:54.090Z"
   },
   {
    "duration": 6,
    "start_time": "2023-06-01T10:09:57.178Z"
   },
   {
    "duration": 6,
    "start_time": "2023-06-01T10:10:14.481Z"
   },
   {
    "duration": 6,
    "start_time": "2023-06-01T10:10:29.730Z"
   },
   {
    "duration": 15,
    "start_time": "2023-06-01T10:10:41.909Z"
   },
   {
    "duration": 5,
    "start_time": "2023-06-01T10:11:17.647Z"
   },
   {
    "duration": 13,
    "start_time": "2023-06-01T10:11:18.780Z"
   },
   {
    "duration": 5,
    "start_time": "2023-06-01T10:16:23.649Z"
   },
   {
    "duration": 30,
    "start_time": "2023-06-01T10:16:56.592Z"
   },
   {
    "duration": 12,
    "start_time": "2023-06-01T10:17:09.917Z"
   },
   {
    "duration": 26,
    "start_time": "2023-06-01T10:17:17.948Z"
   },
   {
    "duration": 74,
    "start_time": "2023-06-01T10:17:31.163Z"
   },
   {
    "duration": 26,
    "start_time": "2023-06-01T10:19:02.546Z"
   },
   {
    "duration": 24,
    "start_time": "2023-06-01T10:31:17.087Z"
   },
   {
    "duration": 3,
    "start_time": "2023-06-01T10:33:13.914Z"
   },
   {
    "duration": 70,
    "start_time": "2023-06-01T17:35:19.282Z"
   },
   {
    "duration": 443,
    "start_time": "2023-06-01T17:35:24.806Z"
   },
   {
    "duration": 216,
    "start_time": "2023-06-01T17:35:25.252Z"
   },
   {
    "duration": 21,
    "start_time": "2023-06-01T17:35:25.470Z"
   },
   {
    "duration": 4,
    "start_time": "2023-06-01T17:35:25.494Z"
   },
   {
    "duration": 7,
    "start_time": "2023-06-01T17:35:25.500Z"
   },
   {
    "duration": 28,
    "start_time": "2023-06-01T17:35:25.509Z"
   },
   {
    "duration": 52,
    "start_time": "2023-06-01T17:35:25.540Z"
   },
   {
    "duration": 8,
    "start_time": "2023-06-01T17:35:46.660Z"
   },
   {
    "duration": 10,
    "start_time": "2023-06-01T17:35:58.682Z"
   },
   {
    "duration": 6,
    "start_time": "2023-06-01T17:36:02.779Z"
   },
   {
    "duration": 4,
    "start_time": "2023-06-01T17:36:29.472Z"
   },
   {
    "duration": 5,
    "start_time": "2023-06-01T17:36:30.072Z"
   },
   {
    "duration": 410,
    "start_time": "2023-06-01T17:36:37.080Z"
   },
   {
    "duration": 93,
    "start_time": "2023-06-01T17:36:37.492Z"
   },
   {
    "duration": 19,
    "start_time": "2023-06-01T17:36:37.586Z"
   },
   {
    "duration": 3,
    "start_time": "2023-06-01T17:36:37.607Z"
   },
   {
    "duration": 6,
    "start_time": "2023-06-01T17:36:37.612Z"
   },
   {
    "duration": 45,
    "start_time": "2023-06-01T17:36:37.620Z"
   },
   {
    "duration": 5,
    "start_time": "2023-06-01T17:36:37.667Z"
   },
   {
    "duration": 11,
    "start_time": "2023-06-01T17:36:37.674Z"
   },
   {
    "duration": 6,
    "start_time": "2023-06-01T17:37:07.278Z"
   },
   {
    "duration": 8,
    "start_time": "2023-06-01T17:37:20.275Z"
   },
   {
    "duration": 21,
    "start_time": "2023-06-01T17:37:48.751Z"
   },
   {
    "duration": 15,
    "start_time": "2023-06-01T17:37:54.995Z"
   },
   {
    "duration": 5,
    "start_time": "2023-06-01T17:37:57.411Z"
   },
   {
    "duration": 12,
    "start_time": "2023-06-01T17:37:57.817Z"
   },
   {
    "duration": 38,
    "start_time": "2023-06-01T17:45:18.191Z"
   },
   {
    "duration": 24,
    "start_time": "2023-06-01T17:47:03.900Z"
   },
   {
    "duration": 29,
    "start_time": "2023-06-01T17:47:19.557Z"
   },
   {
    "duration": 26,
    "start_time": "2023-06-01T17:47:28.861Z"
   },
   {
    "duration": 420,
    "start_time": "2023-06-01T17:47:38.854Z"
   },
   {
    "duration": 105,
    "start_time": "2023-06-01T17:47:39.277Z"
   },
   {
    "duration": 21,
    "start_time": "2023-06-01T17:47:39.384Z"
   },
   {
    "duration": 4,
    "start_time": "2023-06-01T17:47:39.407Z"
   },
   {
    "duration": 6,
    "start_time": "2023-06-01T17:47:39.414Z"
   },
   {
    "duration": 30,
    "start_time": "2023-06-01T17:47:39.422Z"
   },
   {
    "duration": 34,
    "start_time": "2023-06-01T17:47:39.456Z"
   },
   {
    "duration": 26,
    "start_time": "2023-06-01T17:47:39.492Z"
   },
   {
    "duration": 5,
    "start_time": "2023-06-01T17:52:32.501Z"
   },
   {
    "duration": 479,
    "start_time": "2023-06-01T17:52:53.381Z"
   },
   {
    "duration": 118,
    "start_time": "2023-06-01T17:52:53.863Z"
   },
   {
    "duration": 19,
    "start_time": "2023-06-01T17:52:53.983Z"
   },
   {
    "duration": 4,
    "start_time": "2023-06-01T17:52:54.004Z"
   },
   {
    "duration": 6,
    "start_time": "2023-06-01T17:52:54.011Z"
   },
   {
    "duration": 16,
    "start_time": "2023-06-01T17:52:54.019Z"
   },
   {
    "duration": 46,
    "start_time": "2023-06-01T17:52:54.038Z"
   },
   {
    "duration": 29,
    "start_time": "2023-06-01T17:52:54.091Z"
   },
   {
    "duration": 5,
    "start_time": "2023-06-01T17:52:54.123Z"
   },
   {
    "duration": 11,
    "start_time": "2023-06-01T17:53:27.971Z"
   },
   {
    "duration": 5,
    "start_time": "2023-06-01T17:56:37.709Z"
   },
   {
    "duration": 436,
    "start_time": "2023-06-01T17:56:53.318Z"
   },
   {
    "duration": 95,
    "start_time": "2023-06-01T17:56:53.756Z"
   },
   {
    "duration": 32,
    "start_time": "2023-06-01T17:56:53.853Z"
   },
   {
    "duration": 8,
    "start_time": "2023-06-01T17:56:53.900Z"
   },
   {
    "duration": 19,
    "start_time": "2023-06-01T17:56:53.910Z"
   },
   {
    "duration": 18,
    "start_time": "2023-06-01T17:56:53.931Z"
   },
   {
    "duration": 121,
    "start_time": "2023-06-01T17:56:53.951Z"
   },
   {
    "duration": 0,
    "start_time": "2023-06-01T17:56:54.076Z"
   },
   {
    "duration": 0,
    "start_time": "2023-06-01T17:56:54.077Z"
   },
   {
    "duration": 0,
    "start_time": "2023-06-01T17:56:54.084Z"
   },
   {
    "duration": 6,
    "start_time": "2023-06-01T17:57:41.207Z"
   },
   {
    "duration": 405,
    "start_time": "2023-06-01T17:58:06.059Z"
   },
   {
    "duration": 89,
    "start_time": "2023-06-01T17:58:06.467Z"
   },
   {
    "duration": 15,
    "start_time": "2023-06-01T17:58:06.558Z"
   },
   {
    "duration": 27,
    "start_time": "2023-06-01T17:58:06.575Z"
   },
   {
    "duration": 28,
    "start_time": "2023-06-01T17:58:06.603Z"
   },
   {
    "duration": 12,
    "start_time": "2023-06-01T17:58:06.633Z"
   },
   {
    "duration": 5,
    "start_time": "2023-06-01T17:58:06.647Z"
   },
   {
    "duration": 19,
    "start_time": "2023-06-01T17:58:06.654Z"
   },
   {
    "duration": 24,
    "start_time": "2023-06-01T17:58:06.675Z"
   },
   {
    "duration": 1773,
    "start_time": "2023-06-01T18:10:44.474Z"
   },
   {
    "duration": 6,
    "start_time": "2023-06-01T18:11:00.187Z"
   },
   {
    "duration": 36,
    "start_time": "2023-06-01T18:11:13.418Z"
   },
   {
    "duration": 1211,
    "start_time": "2023-06-01T18:11:51.960Z"
   },
   {
    "duration": 35,
    "start_time": "2023-06-01T18:11:58.832Z"
   },
   {
    "duration": 522,
    "start_time": "2023-06-01T18:12:07.733Z"
   },
   {
    "duration": 111,
    "start_time": "2023-06-01T18:12:08.258Z"
   },
   {
    "duration": 24,
    "start_time": "2023-06-01T18:12:08.371Z"
   },
   {
    "duration": 4,
    "start_time": "2023-06-01T18:12:08.399Z"
   },
   {
    "duration": 13,
    "start_time": "2023-06-01T18:12:08.406Z"
   },
   {
    "duration": 35,
    "start_time": "2023-06-01T18:12:08.422Z"
   },
   {
    "duration": 7,
    "start_time": "2023-06-01T18:12:08.460Z"
   },
   {
    "duration": 26,
    "start_time": "2023-06-01T18:12:08.471Z"
   },
   {
    "duration": 30,
    "start_time": "2023-06-01T18:12:08.500Z"
   },
   {
    "duration": 65,
    "start_time": "2023-06-01T18:12:08.533Z"
   },
   {
    "duration": 6,
    "start_time": "2023-06-01T18:14:55.849Z"
   },
   {
    "duration": 36,
    "start_time": "2023-06-01T18:15:01.315Z"
   },
   {
    "duration": 29,
    "start_time": "2023-06-01T18:15:18.896Z"
   },
   {
    "duration": 37,
    "start_time": "2023-06-01T18:16:34.354Z"
   },
   {
    "duration": 61,
    "start_time": "2023-06-01T18:19:13.457Z"
   },
   {
    "duration": 25,
    "start_time": "2023-06-01T18:19:21.480Z"
   },
   {
    "duration": 22,
    "start_time": "2023-06-01T18:20:08.961Z"
   },
   {
    "duration": 18,
    "start_time": "2023-06-01T18:20:24.478Z"
   },
   {
    "duration": 830,
    "start_time": "2023-06-01T18:22:04.053Z"
   },
   {
    "duration": 549,
    "start_time": "2023-06-01T18:24:31.854Z"
   },
   {
    "duration": 1508,
    "start_time": "2023-06-01T18:24:36.651Z"
   },
   {
    "duration": 103,
    "start_time": "2023-06-01T18:24:38.162Z"
   },
   {
    "duration": 22,
    "start_time": "2023-06-01T18:24:38.268Z"
   },
   {
    "duration": 5,
    "start_time": "2023-06-01T18:24:38.293Z"
   },
   {
    "duration": 25,
    "start_time": "2023-06-01T18:24:38.302Z"
   },
   {
    "duration": 12,
    "start_time": "2023-06-01T18:24:38.330Z"
   },
   {
    "duration": 6,
    "start_time": "2023-06-01T18:24:38.358Z"
   },
   {
    "duration": 40,
    "start_time": "2023-06-01T18:24:38.366Z"
   },
   {
    "duration": 29,
    "start_time": "2023-06-01T18:24:38.409Z"
   },
   {
    "duration": 53,
    "start_time": "2023-06-01T18:24:38.441Z"
   },
   {
    "duration": 741,
    "start_time": "2023-06-01T18:24:38.496Z"
   },
   {
    "duration": 358,
    "start_time": "2023-06-01T18:25:08.211Z"
   },
   {
    "duration": 336,
    "start_time": "2023-06-01T18:25:13.324Z"
   },
   {
    "duration": 523,
    "start_time": "2023-06-01T18:25:26.892Z"
   },
   {
    "duration": 470,
    "start_time": "2023-06-01T18:25:55.721Z"
   },
   {
    "duration": 456,
    "start_time": "2023-06-01T18:26:09.252Z"
   },
   {
    "duration": 429,
    "start_time": "2023-06-01T18:26:35.515Z"
   },
   {
    "duration": 424,
    "start_time": "2023-06-01T18:26:53.222Z"
   },
   {
    "duration": 402,
    "start_time": "2023-06-01T18:27:42.285Z"
   },
   {
    "duration": 77,
    "start_time": "2023-06-01T18:28:00.255Z"
   },
   {
    "duration": 81,
    "start_time": "2023-06-01T18:28:11.505Z"
   },
   {
    "duration": 463,
    "start_time": "2023-06-01T18:28:15.773Z"
   },
   {
    "duration": 441,
    "start_time": "2023-06-01T18:28:21.689Z"
   },
   {
    "duration": 527,
    "start_time": "2023-06-01T18:28:57.285Z"
   },
   {
    "duration": 487,
    "start_time": "2023-06-01T18:38:10.791Z"
   },
   {
    "duration": 30,
    "start_time": "2023-06-01T18:38:42.394Z"
   },
   {
    "duration": 34,
    "start_time": "2023-06-01T18:38:53.818Z"
   },
   {
    "duration": 29,
    "start_time": "2023-06-01T18:39:04.779Z"
   },
   {
    "duration": 374,
    "start_time": "2023-06-01T18:39:11.706Z"
   },
   {
    "duration": 442,
    "start_time": "2023-06-01T18:40:08.903Z"
   },
   {
    "duration": 340,
    "start_time": "2023-06-01T20:23:21.054Z"
   },
   {
    "duration": 1264,
    "start_time": "2023-06-01T20:34:15.864Z"
   },
   {
    "duration": 1359,
    "start_time": "2023-06-01T20:35:18.874Z"
   },
   {
    "duration": 1353,
    "start_time": "2023-06-01T20:35:22.446Z"
   },
   {
    "duration": 1320,
    "start_time": "2023-06-01T20:36:02.064Z"
   },
   {
    "duration": 1163,
    "start_time": "2023-06-01T20:36:57.443Z"
   },
   {
    "duration": 939,
    "start_time": "2023-06-01T20:37:50.856Z"
   },
   {
    "duration": 779,
    "start_time": "2023-06-01T20:40:16.460Z"
   },
   {
    "duration": 1329,
    "start_time": "2023-06-01T20:40:20.569Z"
   },
   {
    "duration": 1532,
    "start_time": "2023-06-01T20:42:22.504Z"
   },
   {
    "duration": 1542,
    "start_time": "2023-06-01T20:42:32.198Z"
   },
   {
    "duration": 1423,
    "start_time": "2023-06-01T20:42:40.045Z"
   },
   {
    "duration": 1328,
    "start_time": "2023-06-01T20:43:22.445Z"
   },
   {
    "duration": 106,
    "start_time": "2023-06-02T17:40:22.651Z"
   },
   {
    "duration": 1887,
    "start_time": "2023-06-02T17:40:27.740Z"
   },
   {
    "duration": 157,
    "start_time": "2023-06-02T17:40:29.630Z"
   },
   {
    "duration": 30,
    "start_time": "2023-06-02T17:40:29.790Z"
   },
   {
    "duration": 5,
    "start_time": "2023-06-02T17:40:29.823Z"
   },
   {
    "duration": 11,
    "start_time": "2023-06-02T17:40:29.832Z"
   },
   {
    "duration": 35,
    "start_time": "2023-06-02T17:40:29.846Z"
   },
   {
    "duration": 9,
    "start_time": "2023-06-02T17:40:29.884Z"
   },
   {
    "duration": 31,
    "start_time": "2023-06-02T17:40:29.896Z"
   },
   {
    "duration": 52,
    "start_time": "2023-06-02T17:40:29.930Z"
   },
   {
    "duration": 34,
    "start_time": "2023-06-02T17:40:29.985Z"
   },
   {
    "duration": 614,
    "start_time": "2023-06-02T17:40:30.022Z"
   },
   {
    "duration": 498,
    "start_time": "2023-06-02T17:40:30.639Z"
   },
   {
    "duration": 1875,
    "start_time": "2023-06-02T17:40:31.139Z"
   },
   {
    "duration": 8,
    "start_time": "2023-06-02T17:40:33.017Z"
   },
   {
    "duration": 27,
    "start_time": "2023-06-02T17:40:44.250Z"
   },
   {
    "duration": 10,
    "start_time": "2023-06-02T17:41:01.412Z"
   },
   {
    "duration": 9,
    "start_time": "2023-06-02T17:41:23.990Z"
   },
   {
    "duration": 10,
    "start_time": "2023-06-02T17:41:28.950Z"
   },
   {
    "duration": 296,
    "start_time": "2023-06-02T17:43:00.018Z"
   },
   {
    "duration": 288,
    "start_time": "2023-06-02T17:43:10.085Z"
   },
   {
    "duration": 206,
    "start_time": "2023-06-02T17:44:49.914Z"
   },
   {
    "duration": 3656,
    "start_time": "2023-06-02T17:48:48.733Z"
   },
   {
    "duration": 1420,
    "start_time": "2023-06-02T17:49:00.190Z"
   },
   {
    "duration": 11,
    "start_time": "2023-06-02T17:53:17.819Z"
   },
   {
    "duration": 230,
    "start_time": "2023-06-02T17:53:29.925Z"
   },
   {
    "duration": 1070,
    "start_time": "2023-06-02T17:55:16.092Z"
   },
   {
    "duration": 5,
    "start_time": "2023-06-02T18:02:11.764Z"
   },
   {
    "duration": 2890,
    "start_time": "2023-06-02T18:02:15.999Z"
   },
   {
    "duration": 5,
    "start_time": "2023-06-02T18:03:46.164Z"
   },
   {
    "duration": 227,
    "start_time": "2023-06-02T18:03:52.082Z"
   },
   {
    "duration": 287,
    "start_time": "2023-06-02T18:04:21.386Z"
   },
   {
    "duration": 126,
    "start_time": "2023-06-02T18:04:33.245Z"
   },
   {
    "duration": 10,
    "start_time": "2023-06-02T18:05:05.109Z"
   },
   {
    "duration": 3642,
    "start_time": "2023-06-02T18:08:16.268Z"
   },
   {
    "duration": 3741,
    "start_time": "2023-06-02T18:08:25.548Z"
   },
   {
    "duration": 81,
    "start_time": "2023-06-02T18:08:29.291Z"
   },
   {
    "duration": 25,
    "start_time": "2023-06-02T18:08:29.375Z"
   },
   {
    "duration": 6,
    "start_time": "2023-06-02T18:08:29.402Z"
   },
   {
    "duration": 17,
    "start_time": "2023-06-02T18:08:29.415Z"
   },
   {
    "duration": 11,
    "start_time": "2023-06-02T18:08:29.435Z"
   },
   {
    "duration": 9,
    "start_time": "2023-06-02T18:08:29.448Z"
   },
   {
    "duration": 28,
    "start_time": "2023-06-02T18:08:29.460Z"
   },
   {
    "duration": 21,
    "start_time": "2023-06-02T18:08:29.490Z"
   },
   {
    "duration": 27,
    "start_time": "2023-06-02T18:08:29.516Z"
   },
   {
    "duration": 340,
    "start_time": "2023-06-02T18:08:29.545Z"
   },
   {
    "duration": 321,
    "start_time": "2023-06-02T18:08:29.887Z"
   },
   {
    "duration": 1358,
    "start_time": "2023-06-02T18:08:30.211Z"
   },
   {
    "duration": 13,
    "start_time": "2023-06-02T18:08:31.571Z"
   },
   {
    "duration": 320,
    "start_time": "2023-06-02T18:08:31.587Z"
   },
   {
    "duration": 161,
    "start_time": "2023-06-02T18:08:31.909Z"
   },
   {
    "duration": 16,
    "start_time": "2023-06-02T18:09:34.279Z"
   },
   {
    "duration": 2649,
    "start_time": "2023-06-02T18:10:01.510Z"
   },
   {
    "duration": 1517,
    "start_time": "2023-06-02T18:10:11.007Z"
   },
   {
    "duration": 1303,
    "start_time": "2023-06-02T18:10:32.110Z"
   },
   {
    "duration": 33,
    "start_time": "2023-06-02T18:10:48.043Z"
   },
   {
    "duration": 967,
    "start_time": "2023-06-02T18:10:57.670Z"
   },
   {
    "duration": 1005,
    "start_time": "2023-06-02T18:11:13.658Z"
   },
   {
    "duration": 3289,
    "start_time": "2023-06-02T18:12:25.274Z"
   },
   {
    "duration": 2809,
    "start_time": "2023-06-02T18:12:37.807Z"
   },
   {
    "duration": 1564,
    "start_time": "2023-06-02T18:13:00.547Z"
   },
   {
    "duration": 85,
    "start_time": "2023-06-02T18:13:02.113Z"
   },
   {
    "duration": 23,
    "start_time": "2023-06-02T18:13:02.200Z"
   },
   {
    "duration": 44,
    "start_time": "2023-06-02T18:13:02.227Z"
   },
   {
    "duration": 39,
    "start_time": "2023-06-02T18:13:02.274Z"
   },
   {
    "duration": 38,
    "start_time": "2023-06-02T18:13:02.316Z"
   },
   {
    "duration": 38,
    "start_time": "2023-06-02T18:13:02.357Z"
   },
   {
    "duration": 37,
    "start_time": "2023-06-02T18:13:02.397Z"
   },
   {
    "duration": 46,
    "start_time": "2023-06-02T18:13:02.437Z"
   },
   {
    "duration": 52,
    "start_time": "2023-06-02T18:13:02.487Z"
   },
   {
    "duration": 337,
    "start_time": "2023-06-02T18:13:02.542Z"
   },
   {
    "duration": 479,
    "start_time": "2023-06-02T18:13:02.882Z"
   },
   {
    "duration": 1729,
    "start_time": "2023-06-02T18:13:03.363Z"
   },
   {
    "duration": 9,
    "start_time": "2023-06-02T18:13:05.094Z"
   },
   {
    "duration": 205,
    "start_time": "2023-06-02T18:13:05.105Z"
   },
   {
    "duration": 2561,
    "start_time": "2023-06-02T18:13:05.313Z"
   },
   {
    "duration": 1889,
    "start_time": "2023-06-02T18:13:25.661Z"
   },
   {
    "duration": 541,
    "start_time": "2023-06-02T18:15:22.944Z"
   },
   {
    "duration": 2292,
    "start_time": "2023-06-02T18:19:00.300Z"
   },
   {
    "duration": 2651,
    "start_time": "2023-06-02T18:19:16.196Z"
   },
   {
    "duration": 2111,
    "start_time": "2023-06-02T18:23:04.741Z"
   },
   {
    "duration": 2419,
    "start_time": "2023-06-02T18:23:10.879Z"
   },
   {
    "duration": 1794,
    "start_time": "2023-06-02T18:25:09.948Z"
   },
   {
    "duration": 1356,
    "start_time": "2023-06-03T08:31:57.351Z"
   },
   {
    "duration": 219,
    "start_time": "2023-06-03T08:31:58.709Z"
   },
   {
    "duration": 16,
    "start_time": "2023-06-03T08:31:58.930Z"
   },
   {
    "duration": 3,
    "start_time": "2023-06-03T08:31:58.948Z"
   },
   {
    "duration": 5,
    "start_time": "2023-06-03T08:31:58.953Z"
   },
   {
    "duration": 7,
    "start_time": "2023-06-03T08:31:58.960Z"
   },
   {
    "duration": 4,
    "start_time": "2023-06-03T08:31:58.969Z"
   },
   {
    "duration": 24,
    "start_time": "2023-06-03T08:31:58.975Z"
   },
   {
    "duration": 30,
    "start_time": "2023-06-03T08:31:59.001Z"
   },
   {
    "duration": 25,
    "start_time": "2023-06-03T08:31:59.034Z"
   },
   {
    "duration": 307,
    "start_time": "2023-06-03T08:31:59.060Z"
   },
   {
    "duration": 301,
    "start_time": "2023-06-03T08:31:59.368Z"
   },
   {
    "duration": 1216,
    "start_time": "2023-06-03T08:31:59.671Z"
   },
   {
    "duration": 7,
    "start_time": "2023-06-03T08:32:00.889Z"
   },
   {
    "duration": 1551,
    "start_time": "2023-06-03T08:32:00.897Z"
   },
   {
    "duration": 211,
    "start_time": "2023-06-03T08:37:30.959Z"
   },
   {
    "duration": 102,
    "start_time": "2023-06-03T08:37:47.711Z"
   },
   {
    "duration": 9,
    "start_time": "2023-06-03T08:42:55.476Z"
   },
   {
    "duration": 118,
    "start_time": "2023-06-03T08:43:55.806Z"
   },
   {
    "duration": 115,
    "start_time": "2023-06-03T08:45:46.019Z"
   },
   {
    "duration": 122,
    "start_time": "2023-06-03T08:47:06.919Z"
   },
   {
    "duration": 113,
    "start_time": "2023-06-03T08:47:36.094Z"
   },
   {
    "duration": 101,
    "start_time": "2023-06-03T08:49:58.661Z"
   },
   {
    "duration": 5,
    "start_time": "2023-06-03T08:54:19.903Z"
   },
   {
    "duration": 25,
    "start_time": "2023-06-03T08:54:25.998Z"
   },
   {
    "duration": 5,
    "start_time": "2023-06-03T08:55:46.483Z"
   },
   {
    "duration": 163,
    "start_time": "2023-06-03T08:56:35.170Z"
   },
   {
    "duration": 250,
    "start_time": "2023-06-03T08:57:57.400Z"
   },
   {
    "duration": 139,
    "start_time": "2023-06-03T08:58:09.920Z"
   },
   {
    "duration": 150,
    "start_time": "2023-06-03T08:58:29.350Z"
   },
   {
    "duration": 181,
    "start_time": "2023-06-03T08:58:45.692Z"
   },
   {
    "duration": 163,
    "start_time": "2023-06-03T08:59:55.886Z"
   },
   {
    "duration": 186,
    "start_time": "2023-06-03T09:00:14.076Z"
   },
   {
    "duration": 172,
    "start_time": "2023-06-03T09:00:34.553Z"
   },
   {
    "duration": 180,
    "start_time": "2023-06-03T09:00:42.263Z"
   },
   {
    "duration": 191,
    "start_time": "2023-06-03T09:01:43.732Z"
   },
   {
    "duration": 185,
    "start_time": "2023-06-03T09:01:50.664Z"
   },
   {
    "duration": 173,
    "start_time": "2023-06-03T09:12:14.733Z"
   },
   {
    "duration": 304,
    "start_time": "2023-06-03T09:12:25.202Z"
   },
   {
    "duration": 187,
    "start_time": "2023-06-03T09:12:35.422Z"
   },
   {
    "duration": 180,
    "start_time": "2023-06-03T09:12:43.470Z"
   },
   {
    "duration": 194,
    "start_time": "2023-06-03T09:13:07.999Z"
   },
   {
    "duration": 149,
    "start_time": "2023-06-03T09:48:52.214Z"
   },
   {
    "duration": 148,
    "start_time": "2023-06-03T09:49:34.170Z"
   },
   {
    "duration": 144,
    "start_time": "2023-06-03T09:49:41.301Z"
   },
   {
    "duration": 149,
    "start_time": "2023-06-03T09:49:45.839Z"
   },
   {
    "duration": 144,
    "start_time": "2023-06-03T09:50:39.391Z"
   },
   {
    "duration": 146,
    "start_time": "2023-06-03T09:51:44.470Z"
   },
   {
    "duration": 169,
    "start_time": "2023-06-03T09:52:44.481Z"
   },
   {
    "duration": 262,
    "start_time": "2023-06-03T09:53:51.618Z"
   },
   {
    "duration": 143,
    "start_time": "2023-06-03T09:54:02.641Z"
   },
   {
    "duration": 158,
    "start_time": "2023-06-03T09:55:35.083Z"
   },
   {
    "duration": 147,
    "start_time": "2023-06-03T09:55:43.493Z"
   },
   {
    "duration": 156,
    "start_time": "2023-06-03T09:55:52.621Z"
   },
   {
    "duration": 151,
    "start_time": "2023-06-03T09:56:26.870Z"
   },
   {
    "duration": 161,
    "start_time": "2023-06-03T09:56:37.323Z"
   },
   {
    "duration": 151,
    "start_time": "2023-06-03T09:59:00.772Z"
   },
   {
    "duration": 148,
    "start_time": "2023-06-03T09:59:29.595Z"
   },
   {
    "duration": 162,
    "start_time": "2023-06-03T10:04:16.868Z"
   },
   {
    "duration": 71,
    "start_time": "2023-06-03T10:04:57.078Z"
   },
   {
    "duration": 174,
    "start_time": "2023-06-03T10:05:15.143Z"
   },
   {
    "duration": 98,
    "start_time": "2023-06-03T10:07:52.312Z"
   },
   {
    "duration": 70,
    "start_time": "2023-06-03T10:08:00.389Z"
   },
   {
    "duration": 91,
    "start_time": "2023-06-03T10:08:07.305Z"
   },
   {
    "duration": 72,
    "start_time": "2023-06-03T10:08:13.476Z"
   },
   {
    "duration": 70,
    "start_time": "2023-06-03T10:08:21.439Z"
   },
   {
    "duration": 74,
    "start_time": "2023-06-03T10:08:25.474Z"
   },
   {
    "duration": 87,
    "start_time": "2023-06-03T10:09:19.605Z"
   },
   {
    "duration": 114,
    "start_time": "2023-06-03T10:09:25.921Z"
   },
   {
    "duration": 74,
    "start_time": "2023-06-03T10:09:41.480Z"
   },
   {
    "duration": 105,
    "start_time": "2023-06-03T10:09:47.994Z"
   },
   {
    "duration": 165,
    "start_time": "2023-06-03T10:09:58.154Z"
   },
   {
    "duration": 162,
    "start_time": "2023-06-03T10:10:14.019Z"
   },
   {
    "duration": 157,
    "start_time": "2023-06-03T10:10:42.572Z"
   },
   {
    "duration": 297,
    "start_time": "2023-06-03T10:11:05.161Z"
   },
   {
    "duration": 153,
    "start_time": "2023-06-03T10:11:23.798Z"
   },
   {
    "duration": 153,
    "start_time": "2023-06-03T10:11:41.938Z"
   },
   {
    "duration": 161,
    "start_time": "2023-06-03T10:12:15.689Z"
   },
   {
    "duration": 152,
    "start_time": "2023-06-03T10:13:09.689Z"
   },
   {
    "duration": 857,
    "start_time": "2023-06-03T12:15:30.980Z"
   },
   {
    "duration": 1010,
    "start_time": "2023-06-03T12:15:44.642Z"
   },
   {
    "duration": 861,
    "start_time": "2023-06-03T12:16:11.477Z"
   },
   {
    "duration": 1431,
    "start_time": "2023-06-03T12:16:56.521Z"
   },
   {
    "duration": 134,
    "start_time": "2023-06-03T12:16:57.967Z"
   },
   {
    "duration": 26,
    "start_time": "2023-06-03T12:16:58.104Z"
   },
   {
    "duration": 4,
    "start_time": "2023-06-03T12:16:58.134Z"
   },
   {
    "duration": 17,
    "start_time": "2023-06-03T12:16:58.142Z"
   },
   {
    "duration": 29,
    "start_time": "2023-06-03T12:16:58.161Z"
   },
   {
    "duration": 17,
    "start_time": "2023-06-03T12:16:58.193Z"
   },
   {
    "duration": 25,
    "start_time": "2023-06-03T12:16:58.216Z"
   },
   {
    "duration": 27,
    "start_time": "2023-06-03T12:16:58.243Z"
   },
   {
    "duration": 66,
    "start_time": "2023-06-03T12:16:58.272Z"
   },
   {
    "duration": 402,
    "start_time": "2023-06-03T12:16:58.341Z"
   },
   {
    "duration": 404,
    "start_time": "2023-06-03T12:16:58.745Z"
   },
   {
    "duration": 1683,
    "start_time": "2023-06-03T12:16:59.151Z"
   },
   {
    "duration": 7,
    "start_time": "2023-06-03T12:17:00.840Z"
   },
   {
    "duration": 2243,
    "start_time": "2023-06-03T12:17:00.849Z"
   },
   {
    "duration": 8,
    "start_time": "2023-06-03T12:17:03.094Z"
   },
   {
    "duration": 293,
    "start_time": "2023-06-03T12:17:03.103Z"
   },
   {
    "duration": 191,
    "start_time": "2023-06-03T12:17:03.398Z"
   },
   {
    "duration": 203,
    "start_time": "2023-06-03T12:17:03.591Z"
   },
   {
    "duration": 171,
    "start_time": "2023-06-03T12:17:03.799Z"
   },
   {
    "duration": 917,
    "start_time": "2023-06-03T12:17:03.972Z"
   },
   {
    "duration": 889,
    "start_time": "2023-06-03T12:17:09.620Z"
   },
   {
    "duration": 104,
    "start_time": "2023-06-03T12:19:04.349Z"
   },
   {
    "duration": 788,
    "start_time": "2023-06-03T12:19:17.792Z"
   },
   {
    "duration": 809,
    "start_time": "2023-06-03T12:19:37.187Z"
   },
   {
    "duration": 762,
    "start_time": "2023-06-03T12:20:05.050Z"
   },
   {
    "duration": 110,
    "start_time": "2023-06-03T12:20:33.025Z"
   },
   {
    "duration": 901,
    "start_time": "2023-06-03T12:20:51.178Z"
   },
   {
    "duration": 778,
    "start_time": "2023-06-03T12:21:38.551Z"
   },
   {
    "duration": 1246,
    "start_time": "2023-06-03T12:22:13.058Z"
   },
   {
    "duration": 88,
    "start_time": "2023-06-03T12:22:14.306Z"
   },
   {
    "duration": 15,
    "start_time": "2023-06-03T12:22:14.396Z"
   },
   {
    "duration": 3,
    "start_time": "2023-06-03T12:22:14.414Z"
   },
   {
    "duration": 16,
    "start_time": "2023-06-03T12:22:14.419Z"
   },
   {
    "duration": 27,
    "start_time": "2023-06-03T12:22:14.437Z"
   },
   {
    "duration": 21,
    "start_time": "2023-06-03T12:22:14.469Z"
   },
   {
    "duration": 20,
    "start_time": "2023-06-03T12:22:14.492Z"
   },
   {
    "duration": 37,
    "start_time": "2023-06-03T12:22:14.514Z"
   },
   {
    "duration": 51,
    "start_time": "2023-06-03T12:22:14.554Z"
   },
   {
    "duration": 338,
    "start_time": "2023-06-03T12:22:14.608Z"
   },
   {
    "duration": 343,
    "start_time": "2023-06-03T12:22:14.969Z"
   },
   {
    "duration": 1398,
    "start_time": "2023-06-03T12:22:15.314Z"
   },
   {
    "duration": 7,
    "start_time": "2023-06-03T12:22:16.714Z"
   },
   {
    "duration": 1859,
    "start_time": "2023-06-03T12:22:16.722Z"
   },
   {
    "duration": 7,
    "start_time": "2023-06-03T12:22:18.583Z"
   },
   {
    "duration": 250,
    "start_time": "2023-06-03T12:22:18.591Z"
   },
   {
    "duration": 205,
    "start_time": "2023-06-03T12:22:18.843Z"
   },
   {
    "duration": 225,
    "start_time": "2023-06-03T12:22:19.050Z"
   },
   {
    "duration": 163,
    "start_time": "2023-06-03T12:22:19.278Z"
   },
   {
    "duration": 835,
    "start_time": "2023-06-03T12:22:19.442Z"
   },
   {
    "duration": 187,
    "start_time": "2023-06-03T12:24:51.494Z"
   },
   {
    "duration": 852,
    "start_time": "2023-06-03T12:25:02.213Z"
   },
   {
    "duration": 630,
    "start_time": "2023-06-03T12:25:13.605Z"
   },
   {
    "duration": 521,
    "start_time": "2023-06-03T12:25:46.708Z"
   },
   {
    "duration": 451,
    "start_time": "2023-06-03T12:26:22.110Z"
   },
   {
    "duration": 588,
    "start_time": "2023-06-03T12:26:39.222Z"
   },
   {
    "duration": 668,
    "start_time": "2023-06-03T12:28:35.948Z"
   },
   {
    "duration": 148,
    "start_time": "2023-06-03T12:35:49.112Z"
   },
   {
    "duration": 9,
    "start_time": "2023-06-03T12:36:06.995Z"
   },
   {
    "duration": 150,
    "start_time": "2023-06-03T12:37:30.278Z"
   },
   {
    "duration": 193,
    "start_time": "2023-06-03T12:37:41.144Z"
   },
   {
    "duration": 17,
    "start_time": "2023-06-03T12:38:20.821Z"
   },
   {
    "duration": 227,
    "start_time": "2023-06-03T12:38:36.054Z"
   },
   {
    "duration": 204,
    "start_time": "2023-06-03T12:38:50.034Z"
   },
   {
    "duration": 214,
    "start_time": "2023-06-03T12:39:28.217Z"
   },
   {
    "duration": 216,
    "start_time": "2023-06-03T12:39:44.899Z"
   },
   {
    "duration": 211,
    "start_time": "2023-06-03T12:41:20.629Z"
   },
   {
    "duration": 191,
    "start_time": "2023-06-03T12:41:26.339Z"
   },
   {
    "duration": 188,
    "start_time": "2023-06-03T12:41:40.793Z"
   },
   {
    "duration": 225,
    "start_time": "2023-06-03T12:42:04.483Z"
   },
   {
    "duration": 473,
    "start_time": "2023-06-03T12:42:47.030Z"
   },
   {
    "duration": 237,
    "start_time": "2023-06-03T12:43:04.581Z"
   },
   {
    "duration": 250,
    "start_time": "2023-06-03T12:43:09.955Z"
   },
   {
    "duration": 254,
    "start_time": "2023-06-03T12:43:18.231Z"
   },
   {
    "duration": 256,
    "start_time": "2023-06-03T12:43:24.093Z"
   },
   {
    "duration": 218,
    "start_time": "2023-06-03T12:43:40.716Z"
   },
   {
    "duration": 319,
    "start_time": "2023-06-03T12:44:01.084Z"
   },
   {
    "duration": 258,
    "start_time": "2023-06-03T12:58:38.239Z"
   },
   {
    "duration": 215,
    "start_time": "2023-06-03T12:59:23.719Z"
   },
   {
    "duration": 237,
    "start_time": "2023-06-03T12:59:30.750Z"
   },
   {
    "duration": 262,
    "start_time": "2023-06-03T12:59:49.296Z"
   },
   {
    "duration": 534,
    "start_time": "2023-06-03T13:00:03.747Z"
   },
   {
    "duration": 244,
    "start_time": "2023-06-03T13:01:28.441Z"
   },
   {
    "duration": 274,
    "start_time": "2023-06-03T13:01:46.078Z"
   },
   {
    "duration": 171,
    "start_time": "2023-06-03T13:01:48.229Z"
   },
   {
    "duration": 108,
    "start_time": "2023-06-03T13:01:52.943Z"
   },
   {
    "duration": 269,
    "start_time": "2023-06-03T13:01:56.727Z"
   },
   {
    "duration": 258,
    "start_time": "2023-06-03T13:01:59.717Z"
   },
   {
    "duration": 491,
    "start_time": "2023-06-03T13:02:43.832Z"
   },
   {
    "duration": 254,
    "start_time": "2023-06-03T13:02:54.829Z"
   },
   {
    "duration": 467,
    "start_time": "2023-06-03T13:03:04.212Z"
   },
   {
    "duration": 506,
    "start_time": "2023-06-03T13:03:22.249Z"
   },
   {
    "duration": 440,
    "start_time": "2023-06-03T13:03:37.889Z"
   },
   {
    "duration": 524,
    "start_time": "2023-06-03T13:06:51.836Z"
   },
   {
    "duration": 801,
    "start_time": "2023-06-03T13:07:04.380Z"
   },
   {
    "duration": 24,
    "start_time": "2023-06-03T13:09:53.027Z"
   },
   {
    "duration": 1882,
    "start_time": "2023-06-03T13:09:59.069Z"
   },
   {
    "duration": 173,
    "start_time": "2023-06-03T13:10:00.971Z"
   },
   {
    "duration": 34,
    "start_time": "2023-06-03T13:10:01.150Z"
   },
   {
    "duration": 64,
    "start_time": "2023-06-03T13:10:01.190Z"
   },
   {
    "duration": 96,
    "start_time": "2023-06-03T13:10:01.259Z"
   },
   {
    "duration": 65,
    "start_time": "2023-06-03T13:10:01.366Z"
   },
   {
    "duration": 33,
    "start_time": "2023-06-03T13:10:01.438Z"
   },
   {
    "duration": 54,
    "start_time": "2023-06-03T13:10:01.482Z"
   },
   {
    "duration": 35,
    "start_time": "2023-06-03T13:10:01.547Z"
   },
   {
    "duration": 41,
    "start_time": "2023-06-03T13:10:01.590Z"
   },
   {
    "duration": 82,
    "start_time": "2023-06-03T13:10:01.637Z"
   },
   {
    "duration": 474,
    "start_time": "2023-06-03T13:10:01.733Z"
   },
   {
    "duration": 534,
    "start_time": "2023-06-03T13:10:02.214Z"
   },
   {
    "duration": 2345,
    "start_time": "2023-06-03T13:10:02.754Z"
   },
   {
    "duration": 18,
    "start_time": "2023-06-03T13:10:05.109Z"
   },
   {
    "duration": 2819,
    "start_time": "2023-06-03T13:10:05.133Z"
   },
   {
    "duration": 9,
    "start_time": "2023-06-03T13:10:07.958Z"
   },
   {
    "duration": 305,
    "start_time": "2023-06-03T13:10:07.974Z"
   },
   {
    "duration": 188,
    "start_time": "2023-06-03T13:10:08.285Z"
   },
   {
    "duration": 216,
    "start_time": "2023-06-03T13:10:08.479Z"
   },
   {
    "duration": 216,
    "start_time": "2023-06-03T13:10:08.703Z"
   },
   {
    "duration": 808,
    "start_time": "2023-06-03T13:10:08.921Z"
   },
   {
    "duration": 741,
    "start_time": "2023-06-03T13:10:09.734Z"
   },
   {
    "duration": 520,
    "start_time": "2023-06-03T13:10:10.482Z"
   },
   {
    "duration": 1072,
    "start_time": "2023-06-03T13:10:11.011Z"
   },
   {
    "duration": 683,
    "start_time": "2023-06-03T13:10:12.090Z"
   },
   {
    "duration": 682,
    "start_time": "2023-06-03T13:10:12.781Z"
   },
   {
    "duration": 702,
    "start_time": "2023-06-03T13:10:54.711Z"
   },
   {
    "duration": 767,
    "start_time": "2023-06-03T13:11:25.412Z"
   },
   {
    "duration": 665,
    "start_time": "2023-06-03T13:11:32.838Z"
   },
   {
    "duration": 10,
    "start_time": "2023-06-03T13:13:50.899Z"
   },
   {
    "duration": 1561,
    "start_time": "2023-06-03T13:13:55.854Z"
   },
   {
    "duration": 133,
    "start_time": "2023-06-03T13:13:57.419Z"
   },
   {
    "duration": 21,
    "start_time": "2023-06-03T13:13:57.554Z"
   },
   {
    "duration": 4,
    "start_time": "2023-06-03T13:13:57.578Z"
   },
   {
    "duration": 6,
    "start_time": "2023-06-03T13:13:57.584Z"
   },
   {
    "duration": 14,
    "start_time": "2023-06-03T13:13:57.592Z"
   },
   {
    "duration": 8,
    "start_time": "2023-06-03T13:13:57.608Z"
   },
   {
    "duration": 23,
    "start_time": "2023-06-03T13:13:57.618Z"
   },
   {
    "duration": 72,
    "start_time": "2023-06-03T13:13:57.643Z"
   },
   {
    "duration": 7,
    "start_time": "2023-06-03T13:13:57.728Z"
   },
   {
    "duration": 86,
    "start_time": "2023-06-03T13:13:57.739Z"
   },
   {
    "duration": 392,
    "start_time": "2023-06-03T13:13:57.830Z"
   },
   {
    "duration": 430,
    "start_time": "2023-06-03T13:13:58.224Z"
   },
   {
    "duration": 1660,
    "start_time": "2023-06-03T13:13:58.663Z"
   },
   {
    "duration": 11,
    "start_time": "2023-06-03T13:14:00.329Z"
   },
   {
    "duration": 2402,
    "start_time": "2023-06-03T13:14:00.346Z"
   },
   {
    "duration": 31,
    "start_time": "2023-06-03T13:14:02.750Z"
   },
   {
    "duration": 293,
    "start_time": "2023-06-03T13:14:02.786Z"
   },
   {
    "duration": 194,
    "start_time": "2023-06-03T13:14:03.085Z"
   },
   {
    "duration": 243,
    "start_time": "2023-06-03T13:14:03.286Z"
   },
   {
    "duration": 203,
    "start_time": "2023-06-03T13:14:03.533Z"
   },
   {
    "duration": 540,
    "start_time": "2023-06-03T13:14:03.739Z"
   },
   {
    "duration": 541,
    "start_time": "2023-06-03T13:14:04.283Z"
   },
   {
    "duration": 368,
    "start_time": "2023-06-03T13:14:04.826Z"
   },
   {
    "duration": 607,
    "start_time": "2023-06-03T13:14:05.200Z"
   },
   {
    "duration": 608,
    "start_time": "2023-06-03T13:14:05.817Z"
   },
   {
    "duration": 592,
    "start_time": "2023-06-03T13:14:06.427Z"
   },
   {
    "duration": 209,
    "start_time": "2023-06-03T13:55:09.318Z"
   },
   {
    "duration": 38,
    "start_time": "2023-06-03T13:56:23.273Z"
   },
   {
    "duration": 19,
    "start_time": "2023-06-03T13:56:32.611Z"
   },
   {
    "duration": 17,
    "start_time": "2023-06-03T13:56:39.017Z"
   },
   {
    "duration": 16,
    "start_time": "2023-06-03T13:56:43.806Z"
   },
   {
    "duration": 17,
    "start_time": "2023-06-03T13:58:17.710Z"
   },
   {
    "duration": 22,
    "start_time": "2023-06-03T14:00:23.544Z"
   },
   {
    "duration": 17,
    "start_time": "2023-06-03T14:00:33.422Z"
   },
   {
    "duration": 20,
    "start_time": "2023-06-03T14:00:37.317Z"
   },
   {
    "duration": 38,
    "start_time": "2023-06-03T14:00:49.081Z"
   },
   {
    "duration": 31,
    "start_time": "2023-06-03T14:00:58.889Z"
   },
   {
    "duration": 15,
    "start_time": "2023-06-03T14:01:00.120Z"
   },
   {
    "duration": 13,
    "start_time": "2023-06-03T14:05:36.315Z"
   },
   {
    "duration": 126,
    "start_time": "2023-06-03T14:05:52.203Z"
   },
   {
    "duration": 13,
    "start_time": "2023-06-03T14:05:58.505Z"
   },
   {
    "duration": 17,
    "start_time": "2023-06-03T14:06:23.705Z"
   },
   {
    "duration": 25,
    "start_time": "2023-06-03T14:06:24.587Z"
   },
   {
    "duration": 14,
    "start_time": "2023-06-03T14:07:50.338Z"
   },
   {
    "duration": 34,
    "start_time": "2023-06-03T14:07:56.591Z"
   },
   {
    "duration": 12,
    "start_time": "2023-06-03T14:12:17.008Z"
   },
   {
    "duration": 20,
    "start_time": "2023-06-03T14:12:21.847Z"
   },
   {
    "duration": 22,
    "start_time": "2023-06-03T14:17:23.238Z"
   },
   {
    "duration": 12,
    "start_time": "2023-06-03T14:17:32.634Z"
   },
   {
    "duration": 185,
    "start_time": "2023-06-03T15:12:50.472Z"
   },
   {
    "duration": 1468,
    "start_time": "2023-06-04T08:32:51.265Z"
   },
   {
    "duration": 212,
    "start_time": "2023-06-04T08:32:52.735Z"
   },
   {
    "duration": 15,
    "start_time": "2023-06-04T08:32:52.949Z"
   },
   {
    "duration": 4,
    "start_time": "2023-06-04T08:32:52.967Z"
   },
   {
    "duration": 8,
    "start_time": "2023-06-04T08:32:52.972Z"
   },
   {
    "duration": 14,
    "start_time": "2023-06-04T08:32:52.982Z"
   },
   {
    "duration": 23,
    "start_time": "2023-06-04T08:32:52.998Z"
   },
   {
    "duration": 27,
    "start_time": "2023-06-04T08:32:53.023Z"
   },
   {
    "duration": 16,
    "start_time": "2023-06-04T08:32:53.052Z"
   },
   {
    "duration": 4,
    "start_time": "2023-06-04T08:32:53.071Z"
   },
   {
    "duration": 30,
    "start_time": "2023-06-04T08:32:53.076Z"
   },
   {
    "duration": 299,
    "start_time": "2023-06-04T08:32:53.108Z"
   },
   {
    "duration": 327,
    "start_time": "2023-06-04T08:32:53.409Z"
   },
   {
    "duration": 1275,
    "start_time": "2023-06-04T08:32:53.738Z"
   },
   {
    "duration": 8,
    "start_time": "2023-06-04T08:32:55.015Z"
   },
   {
    "duration": 1697,
    "start_time": "2023-06-04T08:32:55.025Z"
   },
   {
    "duration": 5,
    "start_time": "2023-06-04T08:32:56.724Z"
   },
   {
    "duration": 236,
    "start_time": "2023-06-04T08:32:56.730Z"
   },
   {
    "duration": 157,
    "start_time": "2023-06-04T08:32:56.968Z"
   },
   {
    "duration": 172,
    "start_time": "2023-06-04T08:32:57.127Z"
   },
   {
    "duration": 217,
    "start_time": "2023-06-04T08:32:57.301Z"
   },
   {
    "duration": 446,
    "start_time": "2023-06-04T08:32:57.521Z"
   },
   {
    "duration": 448,
    "start_time": "2023-06-04T08:32:57.970Z"
   },
   {
    "duration": 280,
    "start_time": "2023-06-04T08:32:58.420Z"
   },
   {
    "duration": 465,
    "start_time": "2023-06-04T08:32:58.702Z"
   },
   {
    "duration": 503,
    "start_time": "2023-06-04T08:32:59.168Z"
   },
   {
    "duration": 479,
    "start_time": "2023-06-04T08:32:59.677Z"
   },
   {
    "duration": 10,
    "start_time": "2023-06-04T08:33:00.159Z"
   },
   {
    "duration": 38,
    "start_time": "2023-06-04T08:33:00.179Z"
   },
   {
    "duration": 1202,
    "start_time": "2023-06-04T08:47:43.189Z"
   },
   {
    "duration": 14,
    "start_time": "2023-06-04T08:47:44.393Z"
   },
   {
    "duration": 3,
    "start_time": "2023-06-04T08:47:44.409Z"
   },
   {
    "duration": 8,
    "start_time": "2023-06-04T08:47:44.414Z"
   },
   {
    "duration": 8,
    "start_time": "2023-06-04T08:47:44.423Z"
   },
   {
    "duration": 4,
    "start_time": "2023-06-04T08:47:44.432Z"
   },
   {
    "duration": 50,
    "start_time": "2023-06-04T08:47:44.438Z"
   },
   {
    "duration": 18,
    "start_time": "2023-06-04T08:47:44.489Z"
   },
   {
    "duration": 5,
    "start_time": "2023-06-04T08:47:44.508Z"
   },
   {
    "duration": 34,
    "start_time": "2023-06-04T08:47:44.515Z"
   },
   {
    "duration": 304,
    "start_time": "2023-06-04T08:47:44.551Z"
   },
   {
    "duration": 285,
    "start_time": "2023-06-04T08:47:44.856Z"
   },
   {
    "duration": 1197,
    "start_time": "2023-06-04T08:47:45.142Z"
   },
   {
    "duration": 7,
    "start_time": "2023-06-04T08:47:46.340Z"
   },
   {
    "duration": 1560,
    "start_time": "2023-06-04T08:47:46.349Z"
   },
   {
    "duration": 5,
    "start_time": "2023-06-04T08:47:47.910Z"
   },
   {
    "duration": 192,
    "start_time": "2023-06-04T08:47:47.916Z"
   },
   {
    "duration": 132,
    "start_time": "2023-06-04T08:47:48.109Z"
   },
   {
    "duration": 145,
    "start_time": "2023-06-04T08:47:48.243Z"
   },
   {
    "duration": 151,
    "start_time": "2023-06-04T08:47:48.389Z"
   },
   {
    "duration": 429,
    "start_time": "2023-06-04T08:47:48.542Z"
   },
   {
    "duration": 430,
    "start_time": "2023-06-04T08:47:48.977Z"
   },
   {
    "duration": 298,
    "start_time": "2023-06-04T08:47:49.409Z"
   },
   {
    "duration": 481,
    "start_time": "2023-06-04T08:47:49.708Z"
   },
   {
    "duration": 513,
    "start_time": "2023-06-04T08:47:50.191Z"
   },
   {
    "duration": 490,
    "start_time": "2023-06-04T08:47:50.706Z"
   },
   {
    "duration": 10,
    "start_time": "2023-06-04T08:47:51.198Z"
   },
   {
    "duration": 33,
    "start_time": "2023-06-04T08:47:51.211Z"
   },
   {
    "duration": 1921,
    "start_time": "2023-06-04T08:51:17.797Z"
   },
   {
    "duration": 24,
    "start_time": "2023-06-04T08:51:19.721Z"
   },
   {
    "duration": 4,
    "start_time": "2023-06-04T08:51:19.748Z"
   },
   {
    "duration": 6,
    "start_time": "2023-06-04T08:51:19.754Z"
   },
   {
    "duration": 16,
    "start_time": "2023-06-04T08:51:19.767Z"
   },
   {
    "duration": 8,
    "start_time": "2023-06-04T08:51:19.787Z"
   },
   {
    "duration": 27,
    "start_time": "2023-06-04T08:51:19.800Z"
   },
   {
    "duration": 36,
    "start_time": "2023-06-04T08:51:19.830Z"
   },
   {
    "duration": 12,
    "start_time": "2023-06-04T08:51:19.868Z"
   },
   {
    "duration": 74,
    "start_time": "2023-06-04T08:51:19.881Z"
   },
   {
    "duration": 475,
    "start_time": "2023-06-04T08:51:19.957Z"
   },
   {
    "duration": 430,
    "start_time": "2023-06-04T08:51:20.434Z"
   },
   {
    "duration": 1752,
    "start_time": "2023-06-04T08:51:20.865Z"
   },
   {
    "duration": 7,
    "start_time": "2023-06-04T08:51:22.621Z"
   },
   {
    "duration": 1919,
    "start_time": "2023-06-04T08:51:22.630Z"
   },
   {
    "duration": 24,
    "start_time": "2023-06-04T08:51:24.563Z"
   },
   {
    "duration": 226,
    "start_time": "2023-06-04T08:51:24.589Z"
   },
   {
    "duration": 172,
    "start_time": "2023-06-04T08:51:24.817Z"
   },
   {
    "duration": 169,
    "start_time": "2023-06-04T08:51:24.990Z"
   },
   {
    "duration": 232,
    "start_time": "2023-06-04T08:51:25.161Z"
   },
   {
    "duration": 1231,
    "start_time": "2023-06-04T08:51:25.396Z"
   },
   {
    "duration": 1227,
    "start_time": "2023-06-04T08:51:26.659Z"
   },
   {
    "duration": 464,
    "start_time": "2023-06-04T08:51:27.888Z"
   },
   {
    "duration": 626,
    "start_time": "2023-06-04T08:51:28.357Z"
   },
   {
    "duration": 669,
    "start_time": "2023-06-04T08:51:28.984Z"
   },
   {
    "duration": 558,
    "start_time": "2023-06-04T08:51:29.655Z"
   },
   {
    "duration": 11,
    "start_time": "2023-06-04T08:51:30.215Z"
   },
   {
    "duration": 67,
    "start_time": "2023-06-04T08:51:30.229Z"
   },
   {
    "duration": 114,
    "start_time": "2023-06-04T08:52:44.434Z"
   },
   {
    "duration": 47,
    "start_time": "2023-06-04T08:52:44.551Z"
   },
   {
    "duration": 10,
    "start_time": "2023-06-04T08:52:44.601Z"
   },
   {
    "duration": 23,
    "start_time": "2023-06-04T08:52:44.614Z"
   },
   {
    "duration": 51,
    "start_time": "2023-06-04T08:52:44.641Z"
   },
   {
    "duration": 13,
    "start_time": "2023-06-04T08:52:44.695Z"
   },
   {
    "duration": 30,
    "start_time": "2023-06-04T08:52:44.711Z"
   },
   {
    "duration": 31,
    "start_time": "2023-06-04T08:52:44.746Z"
   },
   {
    "duration": 10,
    "start_time": "2023-06-04T08:52:44.779Z"
   },
   {
    "duration": 55,
    "start_time": "2023-06-04T08:52:44.792Z"
   },
   {
    "duration": 416,
    "start_time": "2023-06-04T08:52:44.850Z"
   },
   {
    "duration": 552,
    "start_time": "2023-06-04T08:52:45.268Z"
   },
   {
    "duration": 1694,
    "start_time": "2023-06-04T08:52:45.822Z"
   },
   {
    "duration": 13,
    "start_time": "2023-06-04T08:52:47.521Z"
   },
   {
    "duration": 2211,
    "start_time": "2023-06-04T08:52:47.536Z"
   },
   {
    "duration": 8,
    "start_time": "2023-06-04T08:52:49.749Z"
   },
   {
    "duration": 280,
    "start_time": "2023-06-04T08:52:49.758Z"
   },
   {
    "duration": 187,
    "start_time": "2023-06-04T08:52:50.040Z"
   },
   {
    "duration": 336,
    "start_time": "2023-06-04T08:52:50.229Z"
   },
   {
    "duration": 219,
    "start_time": "2023-06-04T08:52:50.568Z"
   },
   {
    "duration": 561,
    "start_time": "2023-06-04T08:52:50.789Z"
   },
   {
    "duration": 586,
    "start_time": "2023-06-04T08:52:51.351Z"
   },
   {
    "duration": 299,
    "start_time": "2023-06-04T08:52:51.938Z"
   },
   {
    "duration": 787,
    "start_time": "2023-06-04T08:52:52.240Z"
   },
   {
    "duration": 967,
    "start_time": "2023-06-04T08:52:53.030Z"
   },
   {
    "duration": 770,
    "start_time": "2023-06-04T08:52:54.000Z"
   },
   {
    "duration": 14,
    "start_time": "2023-06-04T08:52:54.772Z"
   },
   {
    "duration": 18,
    "start_time": "2023-06-04T08:52:54.793Z"
   },
   {
    "duration": 58,
    "start_time": "2023-06-04T17:38:14.097Z"
   },
   {
    "duration": 1603,
    "start_time": "2023-06-04T17:38:18.615Z"
   },
   {
    "duration": 15,
    "start_time": "2023-06-04T17:38:20.221Z"
   },
   {
    "duration": 7,
    "start_time": "2023-06-04T17:38:20.238Z"
   },
   {
    "duration": 22,
    "start_time": "2023-06-04T17:38:20.248Z"
   },
   {
    "duration": 12,
    "start_time": "2023-06-04T17:38:20.272Z"
   },
   {
    "duration": 6,
    "start_time": "2023-06-04T17:38:20.286Z"
   },
   {
    "duration": 20,
    "start_time": "2023-06-04T17:38:20.293Z"
   },
   {
    "duration": 22,
    "start_time": "2023-06-04T17:38:20.315Z"
   },
   {
    "duration": 4,
    "start_time": "2023-06-04T17:38:20.339Z"
   },
   {
    "duration": 23,
    "start_time": "2023-06-04T17:38:20.345Z"
   },
   {
    "duration": 281,
    "start_time": "2023-06-04T17:38:20.370Z"
   },
   {
    "duration": 299,
    "start_time": "2023-06-04T17:38:20.657Z"
   },
   {
    "duration": 1234,
    "start_time": "2023-06-04T17:38:20.958Z"
   },
   {
    "duration": 7,
    "start_time": "2023-06-04T17:38:22.194Z"
   },
   {
    "duration": 1527,
    "start_time": "2023-06-04T17:38:22.203Z"
   },
   {
    "duration": 5,
    "start_time": "2023-06-04T17:38:23.732Z"
   },
   {
    "duration": 202,
    "start_time": "2023-06-04T17:38:23.739Z"
   },
   {
    "duration": 157,
    "start_time": "2023-06-04T17:38:23.943Z"
   },
   {
    "duration": 154,
    "start_time": "2023-06-04T17:38:24.102Z"
   },
   {
    "duration": 155,
    "start_time": "2023-06-04T17:38:24.258Z"
   },
   {
    "duration": 410,
    "start_time": "2023-06-04T17:38:24.415Z"
   },
   {
    "duration": 432,
    "start_time": "2023-06-04T17:38:24.827Z"
   },
   {
    "duration": 284,
    "start_time": "2023-06-04T17:38:25.261Z"
   },
   {
    "duration": 476,
    "start_time": "2023-06-04T17:38:25.547Z"
   },
   {
    "duration": 488,
    "start_time": "2023-06-04T17:38:26.025Z"
   },
   {
    "duration": 464,
    "start_time": "2023-06-04T17:38:26.514Z"
   },
   {
    "duration": 12,
    "start_time": "2023-06-04T17:38:26.980Z"
   },
   {
    "duration": 11,
    "start_time": "2023-06-04T17:38:26.994Z"
   },
   {
    "duration": 154,
    "start_time": "2023-06-04T17:38:46.838Z"
   },
   {
    "duration": 262,
    "start_time": "2023-06-04T17:39:23.415Z"
   },
   {
    "duration": 146,
    "start_time": "2023-06-04T17:39:43.569Z"
   },
   {
    "duration": 169,
    "start_time": "2023-06-04T17:48:30.142Z"
   },
   {
    "duration": 179,
    "start_time": "2023-06-04T17:48:50.094Z"
   },
   {
    "duration": 166,
    "start_time": "2023-06-04T17:48:57.658Z"
   },
   {
    "duration": 183,
    "start_time": "2023-06-04T17:49:20.941Z"
   },
   {
    "duration": 168,
    "start_time": "2023-06-04T17:49:51.109Z"
   },
   {
    "duration": 143,
    "start_time": "2023-06-04T17:54:58.150Z"
   },
   {
    "duration": 114,
    "start_time": "2023-06-04T17:55:57.433Z"
   },
   {
    "duration": 143,
    "start_time": "2023-06-04T17:57:35.407Z"
   },
   {
    "duration": 14,
    "start_time": "2023-06-04T17:57:52.495Z"
   },
   {
    "duration": 10,
    "start_time": "2023-06-04T18:01:32.835Z"
   }
  ],
  "kernelspec": {
   "display_name": "Python 3 (ipykernel)",
   "language": "python",
   "name": "python3"
  },
  "language_info": {
   "codemirror_mode": {
    "name": "ipython",
    "version": 3
   },
   "file_extension": ".py",
   "mimetype": "text/x-python",
   "name": "python",
   "nbconvert_exporter": "python",
   "pygments_lexer": "ipython3",
   "version": "3.9.13"
  },
  "toc": {
   "base_numbering": 1,
   "nav_menu": {},
   "number_sections": true,
   "sideBar": true,
   "skip_h1_title": true,
   "title_cell": "Table of Contents",
   "title_sidebar": "Contents",
   "toc_cell": false,
   "toc_position": {},
   "toc_section_display": true,
   "toc_window_display": false
  }
 },
 "nbformat": 4,
 "nbformat_minor": 2
}
