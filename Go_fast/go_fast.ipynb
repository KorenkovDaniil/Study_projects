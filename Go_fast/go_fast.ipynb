{
 "cells": [
  {
   "cell_type": "markdown",
   "id": "c24cc5c0",
   "metadata": {},
   "source": [
    "<font face='Liberation serif' size=3>\n",
    "    \n",
    "**Привет, Даниил!** 👋\n",
    "\n",
    "Меня зовут Артем. Я старший аналитик заказчика и я буду проверять твой проект. В рамках корпоративной этики мы общаемся на «ты». Но если лучше на «Вы», то нужно обозначить это сразу.\n",
    " \n",
    "В тетрадке есть комментарии к проекту, они будут в отдельных ячейках Markdown.\n",
    " \n",
    "<div class=\"alert alert-danger\">\n",
    "\n",
    "**Артём:** ❌ Такой комментарий **нужно исправить** обязательно, он критически влияет на удачное выполнение проекта.\n",
    "\n",
    "</div>\n",
    "\n",
    "<div class=\"alert alert-info\">\n",
    "\n",
    "**Артём:** 💡 Этот комментарий подскажет о небольших ошибках или подсказки как сделать **твой проект ещё лучше**.\n",
    "</div>\n",
    "\n",
    "<div class=\"alert alert-success\">\n",
    "\n",
    "**Артём:** 👍 А это **самый главный комментарий**, значит все сделано хорошо. 😉\n",
    "\n",
    "</div>\n",
    "\n",
    "---\n",
    "\n",
    "**Распространенные ошибки**\n",
    "\n",
    "<div class=\"alert alert-danger\">\n",
    "\n",
    "**Артём:** ❌ Не перемещай и не удаляй мои комментарии. Лучше, чтобы твои ответы на мои комментарии шли по очереди, как сообщения в мессенджере. Это ускорит проверку.\n",
    "    \n",
    "</div>\n",
    "\n",
    "<div class=\"alert alert-danger\">\n",
    "\n",
    "**Артём:** ❌ Проверь проект на работоспособность перед отправкой на проверку. Это важный навык, который тебе пригодится как на собеседовании, при выполнении тестового задания, так и перед совещанием у руководства компании. Помни, ревьеры не вносят изменения в код, даже если это путь к датасету или ячейка в неверном формате (code/mardown).  \n",
    "    \n",
    "</div>\n",
    "\n",
    "<div class=\"alert alert-info\">\n",
    "\n",
    "**Артём:** 💡 Кстати, смотри как можно сделать, чтобы датасет грузился и локально, и в JupyterHub:\n",
    "\n",
    "```py\n",
    "try:\n",
    "    df = pd.read_csv('C:/Users/Student/Desktop/dataset.csv')\n",
    "except:\n",
    "    df = pd.read_csv('/datasets/dataset.csv')\n",
    "```\n",
    "    \n",
    "Используя эту конструкцию в будущих проектах, ты будешь спокойно отправлять проект на проверку зная, что он будет работать.\n",
    "    \n",
    "</div>\n",
    "\n",
    "<div class=\"alert alert-danger\">\n",
    "\n",
    "**Артём:** ❌ Проект должен быть структурирован. Где названия разделов и подразделов будут записаны в ячейках [Markdown](https://paulradzkov.com/2014/markdown_cheatsheet/?).\n",
    "    \n",
    "</div>\n",
    "\n",
    "<div class=\"alert alert-danger\">\n",
    "\n",
    "**Артём:** ❌ Если с твоим проектом будет знакомиться другой человек, например рекрутер или старший дата специалист, в нем должны быть описаны поставленные задачи, содержание датасета, промежуточные и финальные выводы. Как правило, заказчик читает только финальный вывод, поэтому важно добавить информацию о проведенном исследовании, применить форматирование текста, в общем, сделать красиво, чтобы было понятно, что проведено настоящее исследование и выводу можно верить. \n",
    "\n",
    "</div>  \n",
    "\n",
    "<div class=\"alert alert-info\">\n",
    "    \n",
    "**Артём:** 💡 Длинный код и комментарии нужно переносить на новую строку. Согласись, коллеги не оценят, если им придется тратить время на пролистывание ячеек. Согласно международному стандарту [PEP8](https://www.python.org/dev/peps/pep-0008/) длина строки не должна превышать 79 символов.\n",
    "Вот как можно перенести код на новую строку:\n",
    "\n",
    "```py\n",
    "# Переносить можно код внутри скобки\n",
    "example = (2 *\n",
    "           2)\n",
    "```\n",
    "Конечно, я не считаю сколько символов в строке, главное, чтобы код или комментарий не ушел за пределы ячейки (зависит от разрешения экрана). Если ушел, то это желтый комментарий для каждой нечитаемой ячейки.\n",
    "    \n",
    "</div>\n",
    "\n",
    "<div class=\"alert alert-info\">\n",
    "    \n",
    "**Артём:** 💡 Тимлид, старший дата специалист или ревьюер ценят твое и своё время, подсвечивай свои комментарии в ячейках Markdown. Шаблон я тебе оставил ниже. Подробнее про синтаксис Markdown, с примерами, можно почитать [здесь](https://paulradzkov.com/2014/markdown_cheatsheet/?).\n",
    "    \n",
    "</div>\n",
    "\n",
    "<div class=\"alert alert-success\">\n",
    "\n",
    "**Артём:** 👍 Буду рад, если воспользуешься моими советами. Они тебе помогут при трудоустройстве, например в [Яндексе](https://yandex.ru/jobs/pages/analytics_interview?ysclid=l84s63fs1g790141490), и при работе в команде. Если в ходе проведения исследования возникнут вопросы, не стесняйся задавай. 🙂\n",
    "</div>\n",
    "\n",
    "<div class=\"alert alert-info\">\n",
    "\n",
    "**Артём:** 🏁 [Итоги ревью здесь](#results)\n",
    "</div>\n",
    "\n",
    "\n",
    "**Поехали!** 🚀 👨‍🚀\n",
    "<a id=\"start\"></a>"
   ]
  },
  {
   "cell_type": "markdown",
   "id": "66436ef4",
   "metadata": {},
   "source": [
    "<div style=\"background-color:lavender; color:#black; text-align:center; padding:2%\">\n",
    "    \n",
    "**Имя:** Это шаблон для тебя. Такой комментарий можно быстро найти."
   ]
  },
  {
   "cell_type": "markdown",
   "id": "d6a0ff27",
   "metadata": {},
   "source": [
    "<div class=\"alert alert-success\">\n",
    "\n",
    "**Артём:**  Добавь название, описание проекта и отформатированное описание столбцов датасета, чтобы человек, который будет знакомиться с твоим портфолио понимал, что ты исследуешь.\n",
    "    \n",
    "Пример форматирования:\n",
    "\n",
    "- `first_column` — содержание столбца 1;\n",
    "- `second_column` — содержание столбца 2;\n",
    "\n",
    "</div>"
   ]
  },
  {
   "cell_type": "markdown",
   "id": "12c35dc2",
   "metadata": {},
   "source": [
    "<div style=\"background-color:lavender; color:#black; text-align:center; padding:2%\">  \n",
    "    \n",
    "Исправлено"
   ]
  },
  {
   "cell_type": "markdown",
   "id": "98b23e76",
   "metadata": {},
   "source": [
    "<div class=\"alert alert-success\">\n",
    "\n",
    "**Артём:** 👍 Хорошо.\n",
    "\n",
    "</div>"
   ]
  },
  {
   "cell_type": "markdown",
   "id": "8002de25",
   "metadata": {},
   "source": [
    "# Анализ данных сервиса аренды самокатов GoFast"
   ]
  },
  {
   "cell_type": "markdown",
   "id": "c0802555",
   "metadata": {},
   "source": [
    "Были получены данные о пользователях из нескольких городов, а также о поездках, которые они совершали.  \n",
    "Прежде всего, полученный объем данных требует обработки. После этого будет проведен исследовательский анализ данных.  \n",
    "Кроме того, будут проверены некоторые гипотезы, которые помогут оценить эффективность работы сервиса.  \n",
    "\n",
    "**Описание данных**:  \n",
    " \n",
    "* `user_id` - уникальный идентификатор пользователя  \n",
    "* `name` - имя пользователя  \n",
    "* `age` - возраст  \n",
    "* `city` - город  \n",
    "* `subscription_type` - тип подписки (free, ultra)  \n",
    "* `distance` - расстояние поездки, метров\n",
    "* `duration` - продолжительность поездки, минут  \n",
    "* `date` - дата совершения поездки\n",
    "* `minute_price` - стоимость одной минуты поездки по данной подписке  \n",
    "* `start_ride_price` - стоимость начала поездки  \n",
    "* `subscription_fee` - стоимость ежемесячного платежа"
   ]
  },
  {
   "cell_type": "code",
   "execution_count": 1,
   "id": "72576667",
   "metadata": {},
   "outputs": [],
   "source": [
    "import pandas as pd\n",
    "import seaborn as sns\n",
    "import matplotlib.pyplot as plt\n",
    "import scipy.stats as st"
   ]
  },
  {
   "cell_type": "markdown",
   "id": "a2739d44",
   "metadata": {},
   "source": [
    "<div class=\"alert alert-success\">\n",
    "\n",
    "**Артём:** 👍 Правильно, что импортируешь библиотеки в начале проекта.\n",
    "\n",
    "</div>"
   ]
  },
  {
   "cell_type": "markdown",
   "id": "c42cbe00",
   "metadata": {},
   "source": [
    "## Шаг 1. Загрузка данных"
   ]
  },
  {
   "cell_type": "code",
   "execution_count": 2,
   "id": "eff9f206",
   "metadata": {},
   "outputs": [
    {
     "data": {
      "text/html": [
       "<div>\n",
       "<style scoped>\n",
       "    .dataframe tbody tr th:only-of-type {\n",
       "        vertical-align: middle;\n",
       "    }\n",
       "\n",
       "    .dataframe tbody tr th {\n",
       "        vertical-align: top;\n",
       "    }\n",
       "\n",
       "    .dataframe thead th {\n",
       "        text-align: right;\n",
       "    }\n",
       "</style>\n",
       "<table border=\"1\" class=\"dataframe\">\n",
       "  <thead>\n",
       "    <tr style=\"text-align: right;\">\n",
       "      <th></th>\n",
       "      <th>user_id</th>\n",
       "      <th>name</th>\n",
       "      <th>age</th>\n",
       "      <th>city</th>\n",
       "      <th>subscription_type</th>\n",
       "    </tr>\n",
       "  </thead>\n",
       "  <tbody>\n",
       "    <tr>\n",
       "      <th>0</th>\n",
       "      <td>1</td>\n",
       "      <td>Кира</td>\n",
       "      <td>22</td>\n",
       "      <td>Тюмень</td>\n",
       "      <td>ultra</td>\n",
       "    </tr>\n",
       "    <tr>\n",
       "      <th>1</th>\n",
       "      <td>2</td>\n",
       "      <td>Станислав</td>\n",
       "      <td>31</td>\n",
       "      <td>Омск</td>\n",
       "      <td>ultra</td>\n",
       "    </tr>\n",
       "    <tr>\n",
       "      <th>2</th>\n",
       "      <td>3</td>\n",
       "      <td>Алексей</td>\n",
       "      <td>20</td>\n",
       "      <td>Москва</td>\n",
       "      <td>ultra</td>\n",
       "    </tr>\n",
       "    <tr>\n",
       "      <th>3</th>\n",
       "      <td>4</td>\n",
       "      <td>Константин</td>\n",
       "      <td>26</td>\n",
       "      <td>Ростов-на-Дону</td>\n",
       "      <td>ultra</td>\n",
       "    </tr>\n",
       "    <tr>\n",
       "      <th>4</th>\n",
       "      <td>5</td>\n",
       "      <td>Адель</td>\n",
       "      <td>28</td>\n",
       "      <td>Омск</td>\n",
       "      <td>ultra</td>\n",
       "    </tr>\n",
       "  </tbody>\n",
       "</table>\n",
       "</div>"
      ],
      "text/plain": [
       "   user_id        name  age            city subscription_type\n",
       "0        1        Кира   22          Тюмень             ultra\n",
       "1        2   Станислав   31            Омск             ultra\n",
       "2        3     Алексей   20          Москва             ultra\n",
       "3        4  Константин   26  Ростов-на-Дону             ultra\n",
       "4        5       Адель   28            Омск             ultra"
      ]
     },
     "metadata": {},
     "output_type": "display_data"
    },
    {
     "name": "stdout",
     "output_type": "stream",
     "text": [
      "<class 'pandas.core.frame.DataFrame'>\n",
      "RangeIndex: 1565 entries, 0 to 1564\n",
      "Data columns (total 5 columns):\n",
      " #   Column             Non-Null Count  Dtype \n",
      "---  ------             --------------  ----- \n",
      " 0   user_id            1565 non-null   int64 \n",
      " 1   name               1565 non-null   object\n",
      " 2   age                1565 non-null   int64 \n",
      " 3   city               1565 non-null   object\n",
      " 4   subscription_type  1565 non-null   object\n",
      "dtypes: int64(2), object(3)\n",
      "memory usage: 61.3+ KB\n"
     ]
    }
   ],
   "source": [
    "users_data = pd.read_csv('/datasets/users_go.csv')\n",
    "display(users_data.head(5))\n",
    "users_data.info()"
   ]
  },
  {
   "cell_type": "code",
   "execution_count": 3,
   "id": "a8f6f722",
   "metadata": {},
   "outputs": [
    {
     "data": {
      "text/html": [
       "<div>\n",
       "<style scoped>\n",
       "    .dataframe tbody tr th:only-of-type {\n",
       "        vertical-align: middle;\n",
       "    }\n",
       "\n",
       "    .dataframe tbody tr th {\n",
       "        vertical-align: top;\n",
       "    }\n",
       "\n",
       "    .dataframe thead th {\n",
       "        text-align: right;\n",
       "    }\n",
       "</style>\n",
       "<table border=\"1\" class=\"dataframe\">\n",
       "  <thead>\n",
       "    <tr style=\"text-align: right;\">\n",
       "      <th></th>\n",
       "      <th>user_id</th>\n",
       "      <th>distance</th>\n",
       "      <th>duration</th>\n",
       "      <th>date</th>\n",
       "    </tr>\n",
       "  </thead>\n",
       "  <tbody>\n",
       "    <tr>\n",
       "      <th>0</th>\n",
       "      <td>1</td>\n",
       "      <td>4409.919140</td>\n",
       "      <td>25.599769</td>\n",
       "      <td>2021-01-01</td>\n",
       "    </tr>\n",
       "    <tr>\n",
       "      <th>1</th>\n",
       "      <td>1</td>\n",
       "      <td>2617.592153</td>\n",
       "      <td>15.816871</td>\n",
       "      <td>2021-01-18</td>\n",
       "    </tr>\n",
       "    <tr>\n",
       "      <th>2</th>\n",
       "      <td>1</td>\n",
       "      <td>754.159807</td>\n",
       "      <td>6.232113</td>\n",
       "      <td>2021-04-20</td>\n",
       "    </tr>\n",
       "    <tr>\n",
       "      <th>3</th>\n",
       "      <td>1</td>\n",
       "      <td>2694.783254</td>\n",
       "      <td>18.511000</td>\n",
       "      <td>2021-08-11</td>\n",
       "    </tr>\n",
       "    <tr>\n",
       "      <th>4</th>\n",
       "      <td>1</td>\n",
       "      <td>4028.687306</td>\n",
       "      <td>26.265803</td>\n",
       "      <td>2021-08-28</td>\n",
       "    </tr>\n",
       "  </tbody>\n",
       "</table>\n",
       "</div>"
      ],
      "text/plain": [
       "   user_id     distance   duration        date\n",
       "0        1  4409.919140  25.599769  2021-01-01\n",
       "1        1  2617.592153  15.816871  2021-01-18\n",
       "2        1   754.159807   6.232113  2021-04-20\n",
       "3        1  2694.783254  18.511000  2021-08-11\n",
       "4        1  4028.687306  26.265803  2021-08-28"
      ]
     },
     "metadata": {},
     "output_type": "display_data"
    },
    {
     "name": "stdout",
     "output_type": "stream",
     "text": [
      "<class 'pandas.core.frame.DataFrame'>\n",
      "RangeIndex: 18068 entries, 0 to 18067\n",
      "Data columns (total 4 columns):\n",
      " #   Column    Non-Null Count  Dtype  \n",
      "---  ------    --------------  -----  \n",
      " 0   user_id   18068 non-null  int64  \n",
      " 1   distance  18068 non-null  float64\n",
      " 2   duration  18068 non-null  float64\n",
      " 3   date      18068 non-null  object \n",
      "dtypes: float64(2), int64(1), object(1)\n",
      "memory usage: 564.8+ KB\n"
     ]
    }
   ],
   "source": [
    "rides_data = pd.read_csv('/datasets/rides_go.csv')\n",
    "display(rides_data.head(5))\n",
    "rides_data.info()"
   ]
  },
  {
   "cell_type": "code",
   "execution_count": 4,
   "id": "08138542",
   "metadata": {},
   "outputs": [
    {
     "data": {
      "text/html": [
       "<div>\n",
       "<style scoped>\n",
       "    .dataframe tbody tr th:only-of-type {\n",
       "        vertical-align: middle;\n",
       "    }\n",
       "\n",
       "    .dataframe tbody tr th {\n",
       "        vertical-align: top;\n",
       "    }\n",
       "\n",
       "    .dataframe thead th {\n",
       "        text-align: right;\n",
       "    }\n",
       "</style>\n",
       "<table border=\"1\" class=\"dataframe\">\n",
       "  <thead>\n",
       "    <tr style=\"text-align: right;\">\n",
       "      <th></th>\n",
       "      <th>subscription_type</th>\n",
       "      <th>minute_price</th>\n",
       "      <th>start_ride_price</th>\n",
       "      <th>subscription_fee</th>\n",
       "    </tr>\n",
       "  </thead>\n",
       "  <tbody>\n",
       "    <tr>\n",
       "      <th>0</th>\n",
       "      <td>free</td>\n",
       "      <td>8</td>\n",
       "      <td>50</td>\n",
       "      <td>0</td>\n",
       "    </tr>\n",
       "    <tr>\n",
       "      <th>1</th>\n",
       "      <td>ultra</td>\n",
       "      <td>6</td>\n",
       "      <td>0</td>\n",
       "      <td>199</td>\n",
       "    </tr>\n",
       "  </tbody>\n",
       "</table>\n",
       "</div>"
      ],
      "text/plain": [
       "  subscription_type  minute_price  start_ride_price  subscription_fee\n",
       "0              free             8                50                 0\n",
       "1             ultra             6                 0               199"
      ]
     },
     "metadata": {},
     "output_type": "display_data"
    },
    {
     "name": "stdout",
     "output_type": "stream",
     "text": [
      "<class 'pandas.core.frame.DataFrame'>\n",
      "RangeIndex: 2 entries, 0 to 1\n",
      "Data columns (total 4 columns):\n",
      " #   Column             Non-Null Count  Dtype \n",
      "---  ------             --------------  ----- \n",
      " 0   subscription_type  2 non-null      object\n",
      " 1   minute_price       2 non-null      int64 \n",
      " 2   start_ride_price   2 non-null      int64 \n",
      " 3   subscription_fee   2 non-null      int64 \n",
      "dtypes: int64(3), object(1)\n",
      "memory usage: 192.0+ bytes\n"
     ]
    }
   ],
   "source": [
    "subscriptions_data = pd.read_csv('/datasets/subscriptions_go.csv')\n",
    "display(subscriptions_data.head(5))\n",
    "subscriptions_data.info()"
   ]
  },
  {
   "cell_type": "markdown",
   "id": "ae04611b",
   "metadata": {},
   "source": [
    "**Предварительный вывод по загруженным данным**  \n",
    "* В столбцах всех таблиц нет пропусков\n",
    "* В таблице с поездками столбец с датой поездки следует привести к типу datetime\n",
    "* Расстояние и длительность поездки отображаются в метрах и минутах соответственно\n",
    "* Таблицы с пользователями и поездками отсортированы по возрастанию user_id"
   ]
  },
  {
   "cell_type": "markdown",
   "id": "67b55dd8",
   "metadata": {},
   "source": [
    "<div class=\"alert alert-success\">\n",
    "\n",
    "**Артём:** 👍 Хорошо.\n",
    "\n",
    "</div>"
   ]
  },
  {
   "cell_type": "markdown",
   "id": "e95ebca7",
   "metadata": {},
   "source": [
    "## Шаг 2. Предобработка данных"
   ]
  },
  {
   "cell_type": "markdown",
   "id": "41ce3658",
   "metadata": {},
   "source": [
    "### Приведем столбец с датой к типу datetime"
   ]
  },
  {
   "cell_type": "code",
   "execution_count": 5,
   "id": "b3c8cda6",
   "metadata": {},
   "outputs": [],
   "source": [
    "rides_data['date'] = pd.to_datetime(rides_data['date'], format='%Y-%m-%d')\n",
    "#rides_data.info()\n",
    "#rides_data.head(5)"
   ]
  },
  {
   "cell_type": "markdown",
   "id": "e3274df0",
   "metadata": {},
   "source": [
    "<div class=\"alert alert-success\">\n",
    "\n",
    "**Артём:** 👍 Верно.\n",
    "\n",
    "</div>"
   ]
  },
  {
   "cell_type": "markdown",
   "id": "c5c03909",
   "metadata": {},
   "source": [
    "### Создадим столбец с номером месяца"
   ]
  },
  {
   "cell_type": "code",
   "execution_count": 6,
   "id": "b9a709b4",
   "metadata": {},
   "outputs": [],
   "source": [
    "rides_data['month'] = pd.DatetimeIndex(rides_data['date']).month\n",
    "#rides_data['month'].unique()"
   ]
  },
  {
   "cell_type": "markdown",
   "id": "a2b60921",
   "metadata": {},
   "source": [
    "<div class=\"alert alert-info\">\n",
    "\n",
    "#### **Артём:** 💡 Лучше проверить за какой период предоставлены данные. Если данные за несколько лет, то они попадут в один и тот же месяц.\n",
    "    \n",
    "</div>"
   ]
  },
  {
   "cell_type": "markdown",
   "id": "e8b3f097",
   "metadata": {},
   "source": [
    "### Проверим наличие пропущенных значений и дубликатов"
   ]
  },
  {
   "cell_type": "code",
   "execution_count": 7,
   "id": "fcf28d60",
   "metadata": {},
   "outputs": [
    {
     "data": {
      "text/plain": [
       "user_id     0\n",
       "distance    0\n",
       "duration    0\n",
       "date        0\n",
       "month       0\n",
       "dtype: int64"
      ]
     },
     "metadata": {},
     "output_type": "display_data"
    },
    {
     "data": {
      "text/plain": [
       "user_id              0\n",
       "name                 0\n",
       "age                  0\n",
       "city                 0\n",
       "subscription_type    0\n",
       "dtype: int64"
      ]
     },
     "metadata": {},
     "output_type": "display_data"
    }
   ],
   "source": [
    "display(rides_data.isna().sum())\n",
    "display(users_data.isna().sum())"
   ]
  },
  {
   "cell_type": "markdown",
   "id": "ba60fdf9",
   "metadata": {},
   "source": [
    "Пропущенных значений не обнаружено  \n",
    "\n",
    "Проверим данные на наличие дубликатов"
   ]
  },
  {
   "cell_type": "markdown",
   "id": "5d4f2701",
   "metadata": {},
   "source": [
    "<div class=\"alert alert-success\">\n",
    "\n",
    "**Артём:** 👍 Правильно.\n",
    "\n",
    "</div>"
   ]
  },
  {
   "cell_type": "code",
   "execution_count": 8,
   "id": "aeab1881",
   "metadata": {},
   "outputs": [
    {
     "data": {
      "text/plain": [
       "0"
      ]
     },
     "metadata": {},
     "output_type": "display_data"
    },
    {
     "data": {
      "text/plain": [
       "31"
      ]
     },
     "metadata": {},
     "output_type": "display_data"
    }
   ],
   "source": [
    "display(rides_data.duplicated().sum())\n",
    "display(users_data.duplicated().sum())"
   ]
  },
  {
   "cell_type": "markdown",
   "id": "df791d5f",
   "metadata": {},
   "source": [
    "В таблице с пользователями обнаружены 31 явный дубликат. Избавимся от них."
   ]
  },
  {
   "cell_type": "markdown",
   "id": "6e7ae650",
   "metadata": {},
   "source": [
    "<div class=\"alert alert-success\">\n",
    "\n",
    "**Артём:** 👍 Верно.\n",
    "\n",
    "</div>"
   ]
  },
  {
   "cell_type": "code",
   "execution_count": 9,
   "id": "10f48d49",
   "metadata": {},
   "outputs": [
    {
     "data": {
      "text/plain": [
       "0"
      ]
     },
     "execution_count": 9,
     "metadata": {},
     "output_type": "execute_result"
    }
   ],
   "source": [
    "users_data = users_data.drop_duplicates()\n",
    "users_data.duplicated().sum()"
   ]
  },
  {
   "cell_type": "markdown",
   "id": "9a745340",
   "metadata": {},
   "source": [
    "Попробуем найти неявные дубликаты, связанные с некорректным написанием имени или города в таблице с пользователями."
   ]
  },
  {
   "cell_type": "code",
   "execution_count": 10,
   "id": "21cb3585",
   "metadata": {},
   "outputs": [
    {
     "data": {
      "text/plain": [
       "array(['Агата', 'Аделина', 'Адель', 'Айдар', 'Александр', 'Александра',\n",
       "       'Алексей', 'Алина', 'Алиса', 'Алия', 'Алла', 'Альберт', 'Альбина',\n",
       "       'Алёна', 'Амалия', 'Амина', 'Амир', 'Анастасия', 'Анатолий',\n",
       "       'Ангелина', 'Андрей', 'Анжелика', 'Анна', 'Антон', 'Антонина',\n",
       "       'Ариана', 'Арина', 'Арсен', 'Арсений', 'Артемий', 'Артур', 'Артём',\n",
       "       'Богдан', 'Борис', 'Вадим', 'Валентина', 'Валерий', 'Валерия',\n",
       "       'Варвара', 'Василий', 'Василина', 'Василиса', 'Вера', 'Вероника',\n",
       "       'Виктор', 'Виктория', 'Виолетта', 'Виталий', 'Виталина', 'Влад',\n",
       "       'Влада', 'Владимир', 'Владислав', 'Владислава', 'Всеволод',\n",
       "       'Вячеслав', 'Галина', 'Георгий', 'Герман', 'Глеб', 'Гордей',\n",
       "       'Григорий', 'Давид', 'Дамир', 'Даниил', 'Данил', 'Данила',\n",
       "       'Даниэль', 'Дарина', 'Дарья', 'Демид', 'Денис', 'Диана', 'Дмитрий',\n",
       "       'Ева', 'Евгений', 'Евгения', 'Егор', 'Екатерина', 'Елена',\n",
       "       'Елизавета', 'Елисей', 'Есения', 'Жанна', 'Зарина', 'Захар',\n",
       "       'Злата', 'Иван', 'Игнат', 'Игорь', 'Ильдар', 'Илья', 'Инна',\n",
       "       'Ирина', 'Камилла', 'Карина', 'Каролина', 'Кира', 'Кирилл',\n",
       "       'Константин', 'Кристина', 'Ксения', 'Лариса', 'Лев', 'Леонид',\n",
       "       'Лиана', 'Лидия', 'Лилия', 'Любовь', 'Людмила', 'Мадина', 'Майя',\n",
       "       'Макар', 'Максим', 'Марат', 'Маргарита', 'Марина', 'Мария', 'Марк',\n",
       "       'Марсель', 'Матвей', 'Мелания', 'Милана', 'Милена', 'Мирон',\n",
       "       'Мирослав', 'Мирослава', 'Михаил', 'Назар', 'Наталия', 'Наталья',\n",
       "       'Наташа', 'Нелли', 'Ника', 'Никита', 'Николай', 'Нина', 'Одиссей',\n",
       "       'Оксана', 'Олег', 'Олеся', 'Ольга', 'Павел', 'Петр', 'Платон',\n",
       "       'Полина', 'Радмир', 'Рамиль', 'Регина', 'Роберт', 'Родион',\n",
       "       'Роман', 'Ростислав', 'Руслан', 'Рустам', 'Савелий', 'Самир',\n",
       "       'Самира', 'Светлана', 'Святогор', 'Святослав', 'Семен', 'Сергей',\n",
       "       'Снежана', 'София', 'Софья', 'Станислав', 'Степан', 'Стефания',\n",
       "       'Таисия', 'Тамара', 'Тамерлан', 'Татьяна', 'Тимофей', 'Тимур',\n",
       "       'Тихон', 'Ульяна', 'Федор', 'Эвелина', 'Эдуард', 'Элина',\n",
       "       'Эльвира', 'Эльмира', 'Эмилия', 'Эмиль', 'Юлиана', 'Юлия', 'Юрий',\n",
       "       'Ян', 'Яна', 'Яромир', 'Ярослав', 'Ярослава', 'Ясмина'],\n",
       "      dtype=object)"
      ]
     },
     "execution_count": 10,
     "metadata": {},
     "output_type": "execute_result"
    }
   ],
   "source": [
    "users_data['name'].sort_values().unique()"
   ]
  },
  {
   "cell_type": "markdown",
   "id": "268ae7bf",
   "metadata": {},
   "source": [
    "В стобце с именами неявных дубликатов нет. Даже \"Артём\" только через \"ё\"."
   ]
  },
  {
   "cell_type": "markdown",
   "id": "46bddee3",
   "metadata": {},
   "source": [
    "<div class=\"alert alert-success\">\n",
    "\n",
    "**Артём:** 👍 Супер! =)\n",
    "\n",
    "</div>"
   ]
  },
  {
   "cell_type": "code",
   "execution_count": 11,
   "id": "b3493957",
   "metadata": {},
   "outputs": [
    {
     "data": {
      "text/plain": [
       "array(['Екатеринбург', 'Краснодар', 'Москва', 'Омск', 'Пятигорск',\n",
       "       'Ростов-на-Дону', 'Сочи', 'Тюмень'], dtype=object)"
      ]
     },
     "execution_count": 11,
     "metadata": {},
     "output_type": "execute_result"
    }
   ],
   "source": [
    "users_data['city'].sort_values().unique()"
   ]
  },
  {
   "cell_type": "markdown",
   "id": "e7e43cd5",
   "metadata": {},
   "source": [
    "С городами тоже все в порядке."
   ]
  },
  {
   "cell_type": "markdown",
   "id": "e229621b",
   "metadata": {},
   "source": [
    "**Предобработка данных завершена**  \n",
    "* Столбец с датой преобразован к типу datetime\n",
    "* Создан столбец с номером месяца в таблице с поездками\n",
    "* Еще раз убедились в отсутствии пропущенных значений  \n",
    "* Устранён 31 явный дубликат\n",
    "* Неявных дубликатов в данных не обнаружено"
   ]
  },
  {
   "cell_type": "markdown",
   "id": "f54f2ea4",
   "metadata": {},
   "source": [
    "<div class=\"alert alert-success\">\n",
    "\n",
    "**Артём:** 👍 Молодец.\n",
    "\n",
    "</div>"
   ]
  },
  {
   "cell_type": "markdown",
   "id": "212593c7",
   "metadata": {},
   "source": [
    "## Шаг 3. Исследовательский анализ данных"
   ]
  },
  {
   "cell_type": "markdown",
   "id": "e27a4466",
   "metadata": {},
   "source": [
    "### Частота встречаемости городов"
   ]
  },
  {
   "cell_type": "code",
   "execution_count": 12,
   "id": "e3a4274c",
   "metadata": {},
   "outputs": [
    {
     "data": {
      "image/png": "[encoded data removed]",
      "text/plain": [
       "<Figure size 720x360 with 1 Axes>"
      ]
     },
     "metadata": {
      "needs_background": "light"
     },
     "output_type": "display_data"
    }
   ],
   "source": [
    "(\n",
    "    users_data.pivot_table(index='city', values='user_id', aggfunc='count')\n",
    "    .sort_values(by='user_id')\n",
    "    .plot(kind='bar', grid=True, figsize=(10,5))\n",
    ")\n",
    "plt.title('Кол-во пользователей в городах')\n",
    "plt.show()"
   ]
  },
  {
   "cell_type": "markdown",
   "id": "528aa3b0",
   "metadata": {},
   "source": [
    "<div class=\"alert alert-success\">\n",
    "\n",
    "**Артём:**  Значения лучше отсортировать, так будет удобнее их изучать.\n",
    "    \n",
    "\n",
    "</div>\n"
   ]
  },
  {
   "cell_type": "markdown",
   "id": "964ddf3a",
   "metadata": {},
   "source": [
    "<div style=\"background-color:lavender; color:#black; text-align:center; padding:2%\">  \n",
    "    \n",
    "Исправлено"
   ]
  },
  {
   "cell_type": "markdown",
   "id": "44e78381",
   "metadata": {},
   "source": [
    "<div class=\"alert alert-success\">\n",
    "\n",
    "**Артём:** 👍 Молодец.\n",
    "\n",
    "</div>"
   ]
  },
  {
   "cell_type": "markdown",
   "id": "731d2cd6",
   "metadata": {},
   "source": [
    "Среднее количество пользователей во всех городах находится в интервале 150-200 человек, явных лидеров и аутсайдеров по количеству пользователей среди городов нет.  \n",
    "Меньше всего пользователей в Москве, Омске и Тюмени.  \n",
    "Больше всего - в Пятигорске и Екатеринбурге.  "
   ]
  },
  {
   "cell_type": "markdown",
   "id": "9e6d1286",
   "metadata": {},
   "source": [
    "<div class=\"alert alert-success\">\n",
    "\n",
    "**Артём:** 👍 Хорошо.\n",
    "  \n",
    "</div> "
   ]
  },
  {
   "cell_type": "markdown",
   "id": "77926a77",
   "metadata": {},
   "source": [
    "### Соотношение пользователей с подпиской и без"
   ]
  },
  {
   "cell_type": "code",
   "execution_count": 13,
   "id": "72c41151",
   "metadata": {},
   "outputs": [
    {
     "data": {
      "image/png": "[encoded data removed]",
      "text/plain": [
       "<Figure size 360x360 with 1 Axes>"
      ]
     },
     "metadata": {},
     "output_type": "display_data"
    },
    {
     "name": "stdout",
     "output_type": "stream",
     "text": [
      "Пользователей без подписки в 1.19 раз больше, чем с подпиской\n"
     ]
    }
   ],
   "source": [
    "(\n",
    "    users_data.pivot_table(index='subscription_type', values='user_id', aggfunc='count')\n",
    "    .plot(kind='pie', y='user_id', figsize=(5,5))\n",
    ")\n",
    "plt.title('Кол-во пользователей с подпиской и без')\n",
    "plt.show()\n",
    "\n",
    "rel = users_data[users_data['subscription_type'] == 'free']['user_id'].count()/ \\\n",
    "users_data[users_data['subscription_type'] == 'ultra']['user_id'].count()\n",
    "print(f'Пользователей без подписки в {round(rel, 2)} раз больше, чем с подпиской')"
   ]
  },
  {
   "cell_type": "markdown",
   "id": "c07ccf18",
   "metadata": {},
   "source": [
    "<div class=\"alert alert-success\">\n",
    "\n",
    "**Артём:** 💡 Лучше сделать круговую диаграмму поскольку всего два значения, и их сумма составляет 100%.\n",
    "    \n",
    "</div>"
   ]
  },
  {
   "cell_type": "markdown",
   "id": "a6a473e5",
   "metadata": {},
   "source": [
    "<div style=\"background-color:lavender; color:#black; text-align:center; padding:2%\">  \n",
    "    \n",
    "Исправлено"
   ]
  },
  {
   "cell_type": "markdown",
   "id": "5e6724a0",
   "metadata": {},
   "source": [
    "<div class=\"alert alert-success\">\n",
    "\n",
    "**Артём:** 👍 Молодец.\n",
    "\n",
    "</div>"
   ]
  },
  {
   "cell_type": "markdown",
   "id": "6cd0b03d",
   "metadata": {},
   "source": [
    "### Возраст пользователей"
   ]
  },
  {
   "cell_type": "code",
   "execution_count": 14,
   "id": "a9bb9378",
   "metadata": {},
   "outputs": [
    {
     "data": {
      "image/png": "[encoded data removed]",
      "text/plain": [
       "<Figure size 720x360 with 1 Axes>"
      ]
     },
     "metadata": {
      "needs_background": "light"
     },
     "output_type": "display_data"
    },
    {
     "data": {
      "text/plain": [
       "count    1534.000000\n",
       "mean       24.903520\n",
       "std         4.572367\n",
       "min        12.000000\n",
       "25%        22.000000\n",
       "50%        25.000000\n",
       "75%        28.000000\n",
       "max        43.000000\n",
       "Name: age, dtype: float64"
      ]
     },
     "metadata": {},
     "output_type": "display_data"
    }
   ],
   "source": [
    "(\n",
    "    users_data.pivot_table(index='age', values='user_id', aggfunc='count')\n",
    "    .plot(kind='bar', grid=True, figsize=(10,5))\n",
    ")\n",
    "plt.title('Распределение возраста пользователей')\n",
    "plt.xlabel(\"возраст\")\n",
    "plt.ylabel('количество пользователей')\n",
    "plt.show()\n",
    "display(users_data['age'].describe())"
   ]
  },
  {
   "cell_type": "markdown",
   "id": "1bf5beb4",
   "metadata": {},
   "source": [
    "<div class=\"alert alert-success\">\n",
    "\n",
    "**Артём:**  Чтобы во время совещания не возникало вопросов, на всех графиках представленных в проекте, осталось сделать описание осей на языке заказчика.\n",
    "    \n",
    "**Визуализация - это один из главных инструментов при взаимодействии с руководством.**\n",
    "    \n",
    "</div>"
   ]
  },
  {
   "cell_type": "markdown",
   "id": "838843a0",
   "metadata": {},
   "source": [
    "<div style=\"background-color:lavender; color:#black; text-align:center; padding:2%\">  \n",
    "    \n",
    "Исправлено"
   ]
  },
  {
   "cell_type": "markdown",
   "id": "59e6261e",
   "metadata": {},
   "source": [
    "<div class=\"alert alert-success\">\n",
    "\n",
    "**Артём:** 👍 Отлично.\n",
    "\n",
    "</div>"
   ]
  },
  {
   "cell_type": "markdown",
   "id": "bb0a006c",
   "metadata": {},
   "source": [
    "<div class=\"alert alert-success\">\n",
    "\n",
    "**Артём:** 👍 В остальном отлично.\n",
    "  \n",
    "</div> "
   ]
  },
  {
   "cell_type": "markdown",
   "id": "5a831e1f",
   "metadata": {},
   "source": [
    "Возраст пользователей имеет нормальное распределение с медианой, равной 25 годам."
   ]
  },
  {
   "cell_type": "markdown",
   "id": "c23d856b",
   "metadata": {},
   "source": [
    "<div class=\"alert alert-success\">\n",
    "\n",
    "**Артём:** 👍 Хорошо.\n",
    "  \n",
    "</div> "
   ]
  },
  {
   "cell_type": "markdown",
   "id": "9119cb83",
   "metadata": {},
   "source": [
    "### Расстояние, преодолеваемое за одну поездку"
   ]
  },
  {
   "cell_type": "code",
   "execution_count": 15,
   "id": "42bece63",
   "metadata": {},
   "outputs": [
    {
     "data": {
      "image/png": "[encoded data removed]",
      "text/plain": [
       "<Figure size 432x288 with 1 Axes>"
      ]
     },
     "metadata": {
      "needs_background": "light"
     },
     "output_type": "display_data"
    },
    {
     "data": {
      "text/plain": [
       "count    18068.000000\n",
       "mean      3070.659976\n",
       "std       1116.831209\n",
       "min          0.855683\n",
       "25%       2543.226360\n",
       "50%       3133.609994\n",
       "75%       3776.222735\n",
       "max       7211.007745\n",
       "Name: distance, dtype: float64"
      ]
     },
     "metadata": {},
     "output_type": "display_data"
    }
   ],
   "source": [
    "rides_data['distance'].hist(bins=20)\n",
    "plt.title(\"Расстояние за одну поездку\")\n",
    "plt.xlabel(\"расстояние\")\n",
    "plt.ylabel('количество поездок')\n",
    "plt.show()\n",
    "display(rides_data['distance'].describe())"
   ]
  },
  {
   "cell_type": "markdown",
   "id": "0ac73b7c",
   "metadata": {},
   "source": [
    "Распределение имеет два пика - около 500 м и около 3 км.  \n",
    "Возможно, это связано с тем, что самокаты обычно берут по двум причинам - быстро добраться куда-то, не используя общественный транспорт (первый пик, в районе 500 м), либо для прогулок (в среднем 3 км).  \n",
    "Среднее значение расстояния совпадает с медианным и составляет примерно 3100 м."
   ]
  },
  {
   "cell_type": "markdown",
   "id": "c1adfd29",
   "metadata": {},
   "source": [
    "<div class=\"alert alert-success\">\n",
    "\n",
    "**Артём:**  Для проведения качественного анализа лучше добавить описательную статистику. В этом тебе поможет метод `describe`. Добавь его в исследовании возраста, расстояния и длительности.\n",
    "    \n",
    "\n",
    "</div>"
   ]
  },
  {
   "cell_type": "markdown",
   "id": "38724e34",
   "metadata": {},
   "source": [
    "<div style=\"background-color:lavender; color:#black; text-align:center; padding:2%\">  \n",
    "    \n",
    "Исправлено"
   ]
  },
  {
   "cell_type": "markdown",
   "id": "e10447c6",
   "metadata": {},
   "source": [
    "<div class=\"alert alert-success\">\n",
    "\n",
    "**Артём:** 👍 Хорошо.\n",
    "\n",
    "</div>"
   ]
  },
  {
   "cell_type": "markdown",
   "id": "5820fdff",
   "metadata": {},
   "source": [
    "### Продолжительность поездок"
   ]
  },
  {
   "cell_type": "code",
   "execution_count": 16,
   "id": "ad425d32",
   "metadata": {},
   "outputs": [
    {
     "data": {
      "image/png": "[encoded data removed]",
      "text/plain": [
       "<Figure size 432x288 with 1 Axes>"
      ]
     },
     "metadata": {
      "needs_background": "light"
     },
     "output_type": "display_data"
    },
    {
     "data": {
      "text/plain": [
       "count    18068.000000\n",
       "mean        17.805011\n",
       "std          6.091051\n",
       "min          0.500000\n",
       "25%         13.597563\n",
       "50%         17.678395\n",
       "75%         21.724800\n",
       "max         40.823963\n",
       "Name: duration, dtype: float64"
      ]
     },
     "metadata": {},
     "output_type": "display_data"
    }
   ],
   "source": [
    "rides_data['duration'].hist(bins=20)\n",
    "plt.title(\"Время одной поездки\")\n",
    "plt.xlabel(\"время\")\n",
    "plt.ylabel('количество поездок')\n",
    "plt.show()\n",
    "display(rides_data['duration'].describe())"
   ]
  },
  {
   "cell_type": "markdown",
   "id": "6909d01d",
   "metadata": {},
   "source": [
    "Время одной поездки имеет нормальное распределение с медианой, равной 17 минутам.  \n",
    "Среднее значение длительности поездок совпадает с медианным и составляет примерно 18 минут."
   ]
  },
  {
   "cell_type": "markdown",
   "id": "952f9203",
   "metadata": {},
   "source": [
    "**Исследовательский анализ данных завершен**  \n",
    "* Данные имеют адекватное, ожидаемое, логически объяснимое распределение.  \n",
    "* Выбросов и аномальных значений не обнаружено."
   ]
  },
  {
   "cell_type": "markdown",
   "id": "e8d42f1b",
   "metadata": {},
   "source": [
    "<div class=\"alert alert-success\">\n",
    "\n",
    "**Артём:** 👍 Молодец.\n",
    "  \n",
    "</div> "
   ]
  },
  {
   "cell_type": "markdown",
   "id": "4ef51331",
   "metadata": {},
   "source": [
    "## Шаг 4. Объединение данных"
   ]
  },
  {
   "cell_type": "markdown",
   "id": "bdaf4751",
   "metadata": {},
   "source": [
    "### Объединим все три таблицы с данными."
   ]
  },
  {
   "cell_type": "code",
   "execution_count": 17,
   "id": "6bf288b5",
   "metadata": {
    "scrolled": true
   },
   "outputs": [
    {
     "data": {
      "text/html": [
       "<div>\n",
       "<style scoped>\n",
       "    .dataframe tbody tr th:only-of-type {\n",
       "        vertical-align: middle;\n",
       "    }\n",
       "\n",
       "    .dataframe tbody tr th {\n",
       "        vertical-align: top;\n",
       "    }\n",
       "\n",
       "    .dataframe thead th {\n",
       "        text-align: right;\n",
       "    }\n",
       "</style>\n",
       "<table border=\"1\" class=\"dataframe\">\n",
       "  <thead>\n",
       "    <tr style=\"text-align: right;\">\n",
       "      <th></th>\n",
       "      <th>user_id</th>\n",
       "      <th>name</th>\n",
       "      <th>age</th>\n",
       "      <th>city</th>\n",
       "      <th>subscription_type</th>\n",
       "      <th>distance</th>\n",
       "      <th>duration</th>\n",
       "      <th>date</th>\n",
       "      <th>month</th>\n",
       "      <th>minute_price</th>\n",
       "      <th>start_ride_price</th>\n",
       "      <th>subscription_fee</th>\n",
       "    </tr>\n",
       "  </thead>\n",
       "  <tbody>\n",
       "    <tr>\n",
       "      <th>18063</th>\n",
       "      <td>1534</td>\n",
       "      <td>Альберт</td>\n",
       "      <td>25</td>\n",
       "      <td>Краснодар</td>\n",
       "      <td>free</td>\n",
       "      <td>3781.098080</td>\n",
       "      <td>19.822962</td>\n",
       "      <td>2021-11-04</td>\n",
       "      <td>11</td>\n",
       "      <td>8</td>\n",
       "      <td>50</td>\n",
       "      <td>0</td>\n",
       "    </tr>\n",
       "    <tr>\n",
       "      <th>18064</th>\n",
       "      <td>1534</td>\n",
       "      <td>Альберт</td>\n",
       "      <td>25</td>\n",
       "      <td>Краснодар</td>\n",
       "      <td>free</td>\n",
       "      <td>2840.423057</td>\n",
       "      <td>21.409799</td>\n",
       "      <td>2021-11-16</td>\n",
       "      <td>11</td>\n",
       "      <td>8</td>\n",
       "      <td>50</td>\n",
       "      <td>0</td>\n",
       "    </tr>\n",
       "    <tr>\n",
       "      <th>18065</th>\n",
       "      <td>1534</td>\n",
       "      <td>Альберт</td>\n",
       "      <td>25</td>\n",
       "      <td>Краснодар</td>\n",
       "      <td>free</td>\n",
       "      <td>3826.185507</td>\n",
       "      <td>18.435051</td>\n",
       "      <td>2021-11-18</td>\n",
       "      <td>11</td>\n",
       "      <td>8</td>\n",
       "      <td>50</td>\n",
       "      <td>0</td>\n",
       "    </tr>\n",
       "    <tr>\n",
       "      <th>18066</th>\n",
       "      <td>1534</td>\n",
       "      <td>Альберт</td>\n",
       "      <td>25</td>\n",
       "      <td>Краснодар</td>\n",
       "      <td>free</td>\n",
       "      <td>2902.308661</td>\n",
       "      <td>16.674362</td>\n",
       "      <td>2021-11-27</td>\n",
       "      <td>11</td>\n",
       "      <td>8</td>\n",
       "      <td>50</td>\n",
       "      <td>0</td>\n",
       "    </tr>\n",
       "    <tr>\n",
       "      <th>18067</th>\n",
       "      <td>1534</td>\n",
       "      <td>Альберт</td>\n",
       "      <td>25</td>\n",
       "      <td>Краснодар</td>\n",
       "      <td>free</td>\n",
       "      <td>2371.711192</td>\n",
       "      <td>15.893917</td>\n",
       "      <td>2021-12-29</td>\n",
       "      <td>12</td>\n",
       "      <td>8</td>\n",
       "      <td>50</td>\n",
       "      <td>0</td>\n",
       "    </tr>\n",
       "  </tbody>\n",
       "</table>\n",
       "</div>"
      ],
      "text/plain": [
       "       user_id     name  age       city subscription_type     distance  \\\n",
       "18063     1534  Альберт   25  Краснодар              free  3781.098080   \n",
       "18064     1534  Альберт   25  Краснодар              free  2840.423057   \n",
       "18065     1534  Альберт   25  Краснодар              free  3826.185507   \n",
       "18066     1534  Альберт   25  Краснодар              free  2902.308661   \n",
       "18067     1534  Альберт   25  Краснодар              free  2371.711192   \n",
       "\n",
       "        duration       date  month  minute_price  start_ride_price  \\\n",
       "18063  19.822962 2021-11-04     11             8                50   \n",
       "18064  21.409799 2021-11-16     11             8                50   \n",
       "18065  18.435051 2021-11-18     11             8                50   \n",
       "18066  16.674362 2021-11-27     11             8                50   \n",
       "18067  15.893917 2021-12-29     12             8                50   \n",
       "\n",
       "       subscription_fee  \n",
       "18063                 0  \n",
       "18064                 0  \n",
       "18065                 0  \n",
       "18066                 0  \n",
       "18067                 0  "
      ]
     },
     "metadata": {},
     "output_type": "display_data"
    },
    {
     "name": "stdout",
     "output_type": "stream",
     "text": [
      "<class 'pandas.core.frame.DataFrame'>\n",
      "Int64Index: 18068 entries, 0 to 18067\n",
      "Data columns (total 12 columns):\n",
      " #   Column             Non-Null Count  Dtype         \n",
      "---  ------             --------------  -----         \n",
      " 0   user_id            18068 non-null  int64         \n",
      " 1   name               18068 non-null  object        \n",
      " 2   age                18068 non-null  int64         \n",
      " 3   city               18068 non-null  object        \n",
      " 4   subscription_type  18068 non-null  object        \n",
      " 5   distance           18068 non-null  float64       \n",
      " 6   duration           18068 non-null  float64       \n",
      " 7   date               18068 non-null  datetime64[ns]\n",
      " 8   month              18068 non-null  int64         \n",
      " 9   minute_price       18068 non-null  int64         \n",
      " 10  start_ride_price   18068 non-null  int64         \n",
      " 11  subscription_fee   18068 non-null  int64         \n",
      "dtypes: datetime64[ns](1), float64(2), int64(6), object(3)\n",
      "memory usage: 1.8+ MB\n"
     ]
    },
    {
     "data": {
      "text/plain": [
       "None"
      ]
     },
     "metadata": {},
     "output_type": "display_data"
    }
   ],
   "source": [
    "complete_data = users_data.merge(\n",
    "    rides_data,\n",
    "    on='user_id',\n",
    "    how='inner',\n",
    ")\n",
    "\n",
    "complete_data = complete_data.merge(\n",
    "    subscriptions_data,\n",
    "    on='subscription_type',\n",
    "    how='inner'\n",
    ")\n",
    "\n",
    "display(complete_data.tail(5))\n",
    "display(complete_data.info())\n"
   ]
  },
  {
   "cell_type": "markdown",
   "id": "ec4b1cb2",
   "metadata": {},
   "source": [
    "Размер таблицы после объединения совпадает с размером самой большой таблицы. Все строки вошли в новый датафрейм."
   ]
  },
  {
   "cell_type": "markdown",
   "id": "b2798eb4",
   "metadata": {},
   "source": [
    "<div class=\"alert alert-success\">\n",
    "\n",
    "**Артём:**  После объединения датафреймов важно проверить, все ли строки вошли в получившийся датафтрейм.\n",
    "    \n",
    "</div>"
   ]
  },
  {
   "cell_type": "markdown",
   "id": "ff57b048",
   "metadata": {},
   "source": [
    "<div style=\"background-color:lavender; color:#black; text-align:center; padding:2%\">  \n",
    "    \n",
    "Исправлено"
   ]
  },
  {
   "cell_type": "markdown",
   "id": "b23a4a5c",
   "metadata": {},
   "source": [
    "<div class=\"alert alert-success\">\n",
    "\n",
    "**Артём:** 👍 Хорошо.\n",
    "\n",
    "</div>"
   ]
  },
  {
   "cell_type": "markdown",
   "id": "5035cbe5",
   "metadata": {},
   "source": [
    "### Создадим две новые таблицы - пользователи с платной подпиской и без нее."
   ]
  },
  {
   "cell_type": "code",
   "execution_count": 18,
   "id": "21d3f8be",
   "metadata": {},
   "outputs": [
    {
     "data": {
      "text/html": [
       "<div>\n",
       "<style scoped>\n",
       "    .dataframe tbody tr th:only-of-type {\n",
       "        vertical-align: middle;\n",
       "    }\n",
       "\n",
       "    .dataframe tbody tr th {\n",
       "        vertical-align: top;\n",
       "    }\n",
       "\n",
       "    .dataframe thead th {\n",
       "        text-align: right;\n",
       "    }\n",
       "</style>\n",
       "<table border=\"1\" class=\"dataframe\">\n",
       "  <thead>\n",
       "    <tr style=\"text-align: right;\">\n",
       "      <th></th>\n",
       "      <th>user_id</th>\n",
       "      <th>name</th>\n",
       "      <th>age</th>\n",
       "      <th>city</th>\n",
       "      <th>subscription_type</th>\n",
       "      <th>distance</th>\n",
       "      <th>duration</th>\n",
       "      <th>date</th>\n",
       "      <th>month</th>\n",
       "      <th>minute_price</th>\n",
       "      <th>start_ride_price</th>\n",
       "      <th>subscription_fee</th>\n",
       "    </tr>\n",
       "  </thead>\n",
       "  <tbody>\n",
       "    <tr>\n",
       "      <th>18065</th>\n",
       "      <td>1534</td>\n",
       "      <td>Альберт</td>\n",
       "      <td>25</td>\n",
       "      <td>Краснодар</td>\n",
       "      <td>free</td>\n",
       "      <td>3826.185507</td>\n",
       "      <td>18.435051</td>\n",
       "      <td>2021-11-18</td>\n",
       "      <td>11</td>\n",
       "      <td>8</td>\n",
       "      <td>50</td>\n",
       "      <td>0</td>\n",
       "    </tr>\n",
       "    <tr>\n",
       "      <th>18066</th>\n",
       "      <td>1534</td>\n",
       "      <td>Альберт</td>\n",
       "      <td>25</td>\n",
       "      <td>Краснодар</td>\n",
       "      <td>free</td>\n",
       "      <td>2902.308661</td>\n",
       "      <td>16.674362</td>\n",
       "      <td>2021-11-27</td>\n",
       "      <td>11</td>\n",
       "      <td>8</td>\n",
       "      <td>50</td>\n",
       "      <td>0</td>\n",
       "    </tr>\n",
       "    <tr>\n",
       "      <th>18067</th>\n",
       "      <td>1534</td>\n",
       "      <td>Альберт</td>\n",
       "      <td>25</td>\n",
       "      <td>Краснодар</td>\n",
       "      <td>free</td>\n",
       "      <td>2371.711192</td>\n",
       "      <td>15.893917</td>\n",
       "      <td>2021-12-29</td>\n",
       "      <td>12</td>\n",
       "      <td>8</td>\n",
       "      <td>50</td>\n",
       "      <td>0</td>\n",
       "    </tr>\n",
       "  </tbody>\n",
       "</table>\n",
       "</div>"
      ],
      "text/plain": [
       "       user_id     name  age       city subscription_type     distance  \\\n",
       "18065     1534  Альберт   25  Краснодар              free  3826.185507   \n",
       "18066     1534  Альберт   25  Краснодар              free  2902.308661   \n",
       "18067     1534  Альберт   25  Краснодар              free  2371.711192   \n",
       "\n",
       "        duration       date  month  minute_price  start_ride_price  \\\n",
       "18065  18.435051 2021-11-18     11             8                50   \n",
       "18066  16.674362 2021-11-27     11             8                50   \n",
       "18067  15.893917 2021-12-29     12             8                50   \n",
       "\n",
       "       subscription_fee  \n",
       "18065                 0  \n",
       "18066                 0  \n",
       "18067                 0  "
      ]
     },
     "metadata": {},
     "output_type": "display_data"
    },
    {
     "data": {
      "text/html": [
       "<div>\n",
       "<style scoped>\n",
       "    .dataframe tbody tr th:only-of-type {\n",
       "        vertical-align: middle;\n",
       "    }\n",
       "\n",
       "    .dataframe tbody tr th {\n",
       "        vertical-align: top;\n",
       "    }\n",
       "\n",
       "    .dataframe thead th {\n",
       "        text-align: right;\n",
       "    }\n",
       "</style>\n",
       "<table border=\"1\" class=\"dataframe\">\n",
       "  <thead>\n",
       "    <tr style=\"text-align: right;\">\n",
       "      <th></th>\n",
       "      <th>user_id</th>\n",
       "      <th>name</th>\n",
       "      <th>age</th>\n",
       "      <th>city</th>\n",
       "      <th>subscription_type</th>\n",
       "      <th>distance</th>\n",
       "      <th>duration</th>\n",
       "      <th>date</th>\n",
       "      <th>month</th>\n",
       "      <th>minute_price</th>\n",
       "      <th>start_ride_price</th>\n",
       "      <th>subscription_fee</th>\n",
       "    </tr>\n",
       "  </thead>\n",
       "  <tbody>\n",
       "    <tr>\n",
       "      <th>6497</th>\n",
       "      <td>699</td>\n",
       "      <td>Оксана</td>\n",
       "      <td>22</td>\n",
       "      <td>Москва</td>\n",
       "      <td>ultra</td>\n",
       "      <td>3076.159348</td>\n",
       "      <td>14.389525</td>\n",
       "      <td>2021-09-26</td>\n",
       "      <td>9</td>\n",
       "      <td>6</td>\n",
       "      <td>0</td>\n",
       "      <td>199</td>\n",
       "    </tr>\n",
       "    <tr>\n",
       "      <th>6498</th>\n",
       "      <td>699</td>\n",
       "      <td>Оксана</td>\n",
       "      <td>22</td>\n",
       "      <td>Москва</td>\n",
       "      <td>ultra</td>\n",
       "      <td>4707.845501</td>\n",
       "      <td>15.839579</td>\n",
       "      <td>2021-10-17</td>\n",
       "      <td>10</td>\n",
       "      <td>6</td>\n",
       "      <td>0</td>\n",
       "      <td>199</td>\n",
       "    </tr>\n",
       "    <tr>\n",
       "      <th>6499</th>\n",
       "      <td>699</td>\n",
       "      <td>Оксана</td>\n",
       "      <td>22</td>\n",
       "      <td>Москва</td>\n",
       "      <td>ultra</td>\n",
       "      <td>3202.890770</td>\n",
       "      <td>25.217345</td>\n",
       "      <td>2021-12-03</td>\n",
       "      <td>12</td>\n",
       "      <td>6</td>\n",
       "      <td>0</td>\n",
       "      <td>199</td>\n",
       "    </tr>\n",
       "  </tbody>\n",
       "</table>\n",
       "</div>"
      ],
      "text/plain": [
       "      user_id    name  age    city subscription_type     distance   duration  \\\n",
       "6497      699  Оксана   22  Москва             ultra  3076.159348  14.389525   \n",
       "6498      699  Оксана   22  Москва             ultra  4707.845501  15.839579   \n",
       "6499      699  Оксана   22  Москва             ultra  3202.890770  25.217345   \n",
       "\n",
       "           date  month  minute_price  start_ride_price  subscription_fee  \n",
       "6497 2021-09-26      9             6                 0               199  \n",
       "6498 2021-10-17     10             6                 0               199  \n",
       "6499 2021-12-03     12             6                 0               199  "
      ]
     },
     "metadata": {},
     "output_type": "display_data"
    }
   ],
   "source": [
    "free_data = complete_data.query('subscription_type == \"free\"')\n",
    "ultra_data = complete_data.query('subscription_type == \"ultra\"')\n",
    "#check\n",
    "display(free_data.tail(3))\n",
    "display(ultra_data.tail(3))"
   ]
  },
  {
   "cell_type": "markdown",
   "id": "bd33720b",
   "metadata": {},
   "source": [
    "### Визуализируем информацию о расстоянии и времени поездок для пользователей обеих категорий."
   ]
  },
  {
   "cell_type": "code",
   "execution_count": 19,
   "id": "234345a5",
   "metadata": {},
   "outputs": [
    {
     "data": {
      "image/png": "[encoded data removed]",
      "text/plain": [
       "<Figure size 432x288 with 1 Axes>"
      ]
     },
     "metadata": {
      "needs_background": "light"
     },
     "output_type": "display_data"
    },
    {
     "data": {
      "image/png": "[encoded data removed]",
      "text/plain": [
       "<Figure size 432x288 with 1 Axes>"
      ]
     },
     "metadata": {
      "needs_background": "light"
     },
     "output_type": "display_data"
    }
   ],
   "source": [
    "free_data['duration'].hist(bins=20)\n",
    "plt.title('Длительность поездок для free-пользователей')\n",
    "plt.xlim(0, 35)\n",
    "plt.show()\n",
    "ultra_data['duration'].hist(bins=20)\n",
    "plt.title('Длительность поездок для ultra-пользователей')\n",
    "plt.xlim(0, 35)\n",
    "plt.show()"
   ]
  },
  {
   "cell_type": "markdown",
   "id": "51f0182b",
   "metadata": {},
   "source": [
    "Оба графика имеют нормальное распределение с медианой 17 минут."
   ]
  },
  {
   "cell_type": "markdown",
   "id": "d2386d92",
   "metadata": {},
   "source": [
    "<div class=\"alert alert-success\">\n",
    "\n",
    "**Артём:** 👍 Хорошо.\n",
    "  \n",
    "</div> "
   ]
  },
  {
   "cell_type": "code",
   "execution_count": 20,
   "id": "55accdb5",
   "metadata": {},
   "outputs": [
    {
     "data": {
      "image/png": "[encoded data removed]",
      "text/plain": [
       "<Figure size 432x288 with 1 Axes>"
      ]
     },
     "metadata": {
      "needs_background": "light"
     },
     "output_type": "display_data"
    },
    {
     "data": {
      "image/png": "[encoded data removed]",
      "text/plain": [
       "<Figure size 432x288 with 1 Axes>"
      ]
     },
     "metadata": {
      "needs_background": "light"
     },
     "output_type": "display_data"
    }
   ],
   "source": [
    "free_data['distance'].hist(bins=30)\n",
    "plt.title('Расстояние поездок для free-пользователей')\n",
    "plt.xlim(0, 7000)\n",
    "plt.show()\n",
    "ultra_data['distance'].hist(bins=30)\n",
    "plt.title('Расстояние поездок для ultra-пользователей')\n",
    "plt.xlim(0, 7000)\n",
    "plt.show()"
   ]
  },
  {
   "cell_type": "markdown",
   "id": "75d8860e",
   "metadata": {},
   "source": [
    "Оба графика с двумя вершинами (модами). Графики имеют нормальное распределение. Пик главной вершины на обеих графиках находится в области 3 км.  \n",
    "Визуально графики отличаются, но это можно объяснить тем, что ультра-пользователей в 2 раза меньше."
   ]
  },
  {
   "cell_type": "markdown",
   "id": "3cfc685f",
   "metadata": {},
   "source": [
    "<div class=\"alert alert-success\">\n",
    "\n",
    "**Артём:** 👍 Молодец.\n",
    "  \n",
    "</div> "
   ]
  },
  {
   "cell_type": "markdown",
   "id": "402d620f",
   "metadata": {},
   "source": [
    "## Шаг 5. Подсчёт выручки"
   ]
  },
  {
   "cell_type": "code",
   "execution_count": 21,
   "id": "9f3a1ae8",
   "metadata": {},
   "outputs": [],
   "source": [
    "#добавим столбец с идентификатором наличия подписки\n",
    "def define(row):\n",
    "    if row['subscription_type'] == 'ultra':\n",
    "        return 1\n",
    "    else:\n",
    "        return 0\n",
    "complete_data['sub_id'] = complete_data.apply(define, axis=1)\n"
   ]
  },
  {
   "cell_type": "code",
   "execution_count": 22,
   "id": "53049e0a",
   "metadata": {},
   "outputs": [],
   "source": [
    "gain_data = complete_data.groupby(['user_id', 'month']).agg({'duration':'sum', 'distance':'sum', 'city':'count',\n",
    "                                                            'sub_id':'sum'})\n",
    "gain_data.columns = ['Длительность', 'Расстояние', 'Количество', 'Подписка']\n",
    "#gain_data"
   ]
  },
  {
   "cell_type": "code",
   "execution_count": 23,
   "id": "7765040a",
   "metadata": {},
   "outputs": [],
   "source": [
    "#функция для подсчета прибыли\n",
    "def gain_count(row):\n",
    "    if row['Подписка'] == 0:\n",
    "        return (50 * row['Количество']) + (8 * round(row['Длительность']))\n",
    "    else:\n",
    "        return (6 * round(row['Длительность'])) + 199"
   ]
  },
  {
   "cell_type": "code",
   "execution_count": 24,
   "id": "6900ff99",
   "metadata": {},
   "outputs": [
    {
     "data": {
      "text/html": [
       "<div>\n",
       "<style scoped>\n",
       "    .dataframe tbody tr th:only-of-type {\n",
       "        vertical-align: middle;\n",
       "    }\n",
       "\n",
       "    .dataframe tbody tr th {\n",
       "        vertical-align: top;\n",
       "    }\n",
       "\n",
       "    .dataframe thead th {\n",
       "        text-align: right;\n",
       "    }\n",
       "</style>\n",
       "<table border=\"1\" class=\"dataframe\">\n",
       "  <thead>\n",
       "    <tr style=\"text-align: right;\">\n",
       "      <th></th>\n",
       "      <th></th>\n",
       "      <th>Длительность</th>\n",
       "      <th>Расстояние</th>\n",
       "      <th>Количество</th>\n",
       "      <th>Подписка</th>\n",
       "      <th>Прибыль</th>\n",
       "    </tr>\n",
       "    <tr>\n",
       "      <th>user_id</th>\n",
       "      <th>month</th>\n",
       "      <th></th>\n",
       "      <th></th>\n",
       "      <th></th>\n",
       "      <th></th>\n",
       "      <th></th>\n",
       "    </tr>\n",
       "  </thead>\n",
       "  <tbody>\n",
       "    <tr>\n",
       "      <th rowspan=\"5\" valign=\"top\">1</th>\n",
       "      <th>1</th>\n",
       "      <td>41.416640</td>\n",
       "      <td>7027.511294</td>\n",
       "      <td>2</td>\n",
       "      <td>2</td>\n",
       "      <td>445.0</td>\n",
       "    </tr>\n",
       "    <tr>\n",
       "      <th>4</th>\n",
       "      <td>6.232113</td>\n",
       "      <td>754.159807</td>\n",
       "      <td>1</td>\n",
       "      <td>1</td>\n",
       "      <td>235.0</td>\n",
       "    </tr>\n",
       "    <tr>\n",
       "      <th>8</th>\n",
       "      <td>44.776802</td>\n",
       "      <td>6723.470560</td>\n",
       "      <td>2</td>\n",
       "      <td>2</td>\n",
       "      <td>469.0</td>\n",
       "    </tr>\n",
       "    <tr>\n",
       "      <th>10</th>\n",
       "      <td>31.578017</td>\n",
       "      <td>5809.911100</td>\n",
       "      <td>2</td>\n",
       "      <td>2</td>\n",
       "      <td>391.0</td>\n",
       "    </tr>\n",
       "    <tr>\n",
       "      <th>11</th>\n",
       "      <td>53.397424</td>\n",
       "      <td>7003.499363</td>\n",
       "      <td>3</td>\n",
       "      <td>3</td>\n",
       "      <td>517.0</td>\n",
       "    </tr>\n",
       "    <tr>\n",
       "      <th>...</th>\n",
       "      <th>...</th>\n",
       "      <td>...</td>\n",
       "      <td>...</td>\n",
       "      <td>...</td>\n",
       "      <td>...</td>\n",
       "      <td>...</td>\n",
       "    </tr>\n",
       "    <tr>\n",
       "      <th rowspan=\"5\" valign=\"top\">1534</th>\n",
       "      <th>6</th>\n",
       "      <td>24.812678</td>\n",
       "      <td>3409.468534</td>\n",
       "      <td>2</td>\n",
       "      <td>0</td>\n",
       "      <td>300.0</td>\n",
       "    </tr>\n",
       "    <tr>\n",
       "      <th>8</th>\n",
       "      <td>47.205960</td>\n",
       "      <td>7622.453034</td>\n",
       "      <td>2</td>\n",
       "      <td>0</td>\n",
       "      <td>476.0</td>\n",
       "    </tr>\n",
       "    <tr>\n",
       "      <th>9</th>\n",
       "      <td>22.560373</td>\n",
       "      <td>4928.173852</td>\n",
       "      <td>1</td>\n",
       "      <td>0</td>\n",
       "      <td>234.0</td>\n",
       "    </tr>\n",
       "    <tr>\n",
       "      <th>11</th>\n",
       "      <td>76.342174</td>\n",
       "      <td>13350.015305</td>\n",
       "      <td>4</td>\n",
       "      <td>0</td>\n",
       "      <td>808.0</td>\n",
       "    </tr>\n",
       "    <tr>\n",
       "      <th>12</th>\n",
       "      <td>15.893917</td>\n",
       "      <td>2371.711192</td>\n",
       "      <td>1</td>\n",
       "      <td>0</td>\n",
       "      <td>178.0</td>\n",
       "    </tr>\n",
       "  </tbody>\n",
       "</table>\n",
       "<p>11331 rows × 5 columns</p>\n",
       "</div>"
      ],
      "text/plain": [
       "               Длительность    Расстояние  Количество  Подписка  Прибыль\n",
       "user_id month                                                           \n",
       "1       1         41.416640   7027.511294           2         2    445.0\n",
       "        4          6.232113    754.159807           1         1    235.0\n",
       "        8         44.776802   6723.470560           2         2    469.0\n",
       "        10        31.578017   5809.911100           2         2    391.0\n",
       "        11        53.397424   7003.499363           3         3    517.0\n",
       "...                     ...           ...         ...       ...      ...\n",
       "1534    6         24.812678   3409.468534           2         0    300.0\n",
       "        8         47.205960   7622.453034           2         0    476.0\n",
       "        9         22.560373   4928.173852           1         0    234.0\n",
       "        11        76.342174  13350.015305           4         0    808.0\n",
       "        12        15.893917   2371.711192           1         0    178.0\n",
       "\n",
       "[11331 rows x 5 columns]"
      ]
     },
     "execution_count": 24,
     "metadata": {},
     "output_type": "execute_result"
    }
   ],
   "source": [
    "gain_data['Прибыль'] = gain_data.apply(gain_count, axis=1)\n",
    "gain_data"
   ]
  },
  {
   "cell_type": "markdown",
   "id": "e3d83878",
   "metadata": {},
   "source": [
    "<div class=\"alert alert-success\">\n",
    "\n",
    "**Артём:** 👍 Отлично.\n",
    "  \n",
    "</div> "
   ]
  },
  {
   "cell_type": "markdown",
   "id": "41545ac0",
   "metadata": {},
   "source": [
    "## Шаг 6. Проверка гипотез"
   ]
  },
  {
   "cell_type": "markdown",
   "id": "47119d1c",
   "metadata": {},
   "source": [
    "### Проверим, тратят ли пользователи с подпиской больше времени на поездки."
   ]
  },
  {
   "cell_type": "code",
   "execution_count": 25,
   "id": "9cdb54b2",
   "metadata": {},
   "outputs": [
    {
     "name": "stdout",
     "output_type": "stream",
     "text": [
      "Среднее с подпиской: 17.39090929866399\n",
      "Среднее без подписки: 18.54198516280583\n",
      "p-value: 1.2804098316645618e-34\n",
      "Отвергаем нулевую гипотезу\n"
     ]
    }
   ],
   "source": [
    "# нулевая гипотеза - длительность поездок у обеих групп равна\n",
    "# альтернативная гипотеза - длительность у пользователей с подпиской больше\n",
    "\n",
    "alpha = 0.05\n",
    "\n",
    "second = free_data['duration']\n",
    "print(\"Среднее с подпиской:\" ,second.mean())\n",
    "first = ultra_data['duration']\n",
    "print('Среднее без подписки:' , first.mean())\n",
    "\n",
    "results = st.ttest_ind(first, second, alternative='greater')\n",
    "\n",
    "print(f'p-value: {results.pvalue}')\n",
    "\n",
    "# проверяем p-value\n",
    "if results.pvalue < alpha:\n",
    "    print('Отвергаем нулевую гипотезу')\n",
    "else:\n",
    "    print('Нет оснований отвергнуть нулевую гипотезу')"
   ]
  },
  {
   "cell_type": "markdown",
   "id": "a9279a24",
   "metadata": {},
   "source": [
    "Пользователи с подпиской больше времени проводят на самокате."
   ]
  },
  {
   "cell_type": "markdown",
   "id": "9aaa956e",
   "metadata": {},
   "source": [
    "<div class=\"alert alert-success\">\n",
    "\n",
    "**Артём:** 👍 Гипотезы сформулированы верно, и с кодом все правильно.\n",
    "  \n",
    "</div> "
   ]
  },
  {
   "cell_type": "markdown",
   "id": "deb97ffe",
   "metadata": {},
   "source": [
    "### Определим, превышает ли дальность поездок подписчиков значение 3130 метров"
   ]
  },
  {
   "cell_type": "code",
   "execution_count": 26,
   "id": "3c50f6a7",
   "metadata": {},
   "outputs": [
    {
     "name": "stdout",
     "output_type": "stream",
     "text": [
      "p-value: 0.08046311521502146\n",
      "Нет оснований отвергнуть нулевую гипотезу\n"
     ]
    }
   ],
   "source": [
    "# нулевая гипотеза - расстояние, которое проезжают подписчики, равно 3130м\n",
    "# альтернативная гипотеза - это расстояние меньше 3130м\n",
    "\n",
    "alpha = 0.05\n",
    "\n",
    "samp = ultra_data['distance']\n",
    "aim = 3130\n",
    "\n",
    "results = st.ttest_1samp(samp, aim, alternative='less')\n",
    "\n",
    "print(f'p-value: {results.pvalue}')\n",
    "\n",
    "# проверяем p-value\n",
    "if results.pvalue < alpha:\n",
    "    print('Отвергаем нулевую гипотезу')\n",
    "else:\n",
    "    print('Нет оснований отвергнуть нулевую гипотезу')"
   ]
  },
  {
   "cell_type": "markdown",
   "id": "d45ed1fd",
   "metadata": {},
   "source": [
    "Расстояние, которое проезжают пользователи с подпиской, равно 3130.  \n",
    "Но значение p-value совсем немного превышает уровень значимости 5%, так что, на мой взгляд, не будет большой ошибкой сказать, что большинство пользователей совершают поездки не более, чем на 3130 метров."
   ]
  },
  {
   "cell_type": "markdown",
   "id": "0ca8e71f",
   "metadata": {},
   "source": [
    "<div class=\"alert alert-success\">\n",
    "\n",
    "**Артём:** 👍 Правильно.\n",
    "  \n",
    "</div> "
   ]
  },
  {
   "cell_type": "markdown",
   "id": "11b3eae8",
   "metadata": {},
   "source": [
    "### Определим, будет ли помесячная выручка подписчиков больше, чем у пользователей без подписки"
   ]
  },
  {
   "cell_type": "code",
   "execution_count": 27,
   "id": "657fa4fc",
   "metadata": {},
   "outputs": [
    {
     "name": "stdout",
     "output_type": "stream",
     "text": [
      "Средняя прибыль с подпиской: 135437.75\n",
      "Средняя прибыль без подписки: 182290.66666666666\n",
      "p-value: 4.2545633865876946e-13\n",
      "Отвергаем нулевую гипотезу\n"
     ]
    }
   ],
   "source": [
    "# нулевая гипотеза - помесячная выручка у обеих групп равна\n",
    "# альтернативная гипотеза - помесячная выручка у пользователей с подпиской меньше\n",
    "\n",
    "alpha = 0.05\n",
    "\n",
    "first = gain_data.query('Подписка != 0').groupby('month')['Прибыль'].sum()\n",
    "print('Средняя прибыль с подпиской:' , first.mean())\n",
    "\n",
    "second = gain_data.query('Подписка == 0').groupby('month')['Прибыль'].sum()\n",
    "print(\"Средняя прибыль без подписки:\" ,second.mean())\n",
    "\n",
    "results = st.ttest_ind(first, second,equal_var=False, alternative='less')\n",
    "\n",
    "print(f'p-value: {results.pvalue}')\n",
    "\n",
    "# проверяем p-value\n",
    "if results.pvalue < alpha:\n",
    "    print('Отвергаем нулевую гипотезу')\n",
    "else:\n",
    "    print('Нет оснований отвергнуть нулевую гипотезу')"
   ]
  },
  {
   "cell_type": "markdown",
   "id": "645fd320",
   "metadata": {},
   "source": [
    "Помесячная прибыль от пользователей без подписки больше."
   ]
  },
  {
   "cell_type": "markdown",
   "id": "105a54f7",
   "metadata": {},
   "source": [
    "<div class=\"alert alert-success\">\n",
    "\n",
    "**Артём:** 👍 Верно.\n",
    "  \n",
    "</div> "
   ]
  },
  {
   "cell_type": "markdown",
   "id": "b4803f68",
   "metadata": {},
   "source": [
    "### Вопрос о количестве обращений до и после обновления"
   ]
  },
  {
   "cell_type": "markdown",
   "id": "ed2d5974",
   "metadata": {},
   "source": [
    "Т.к. рассматриваются одни и те же пользователи до и после обновления, в данном случае выборки будут парными, т.е. иметь равный размер и одинаковый порядок пользователей в массиве.  \n",
    "В этом случае рекомендуется использовать метод ```scipy.stats.ttest_rel()```  \n",
    "У метода всего два аргумента - выборка до и после: ```scipy.stats.ttest_rel(first_samp, second_samp)```  "
   ]
  },
  {
   "cell_type": "markdown",
   "id": "c63f59ac",
   "metadata": {},
   "source": [
    "<div class=\"alert alert-success\">\n",
    "\n",
    "**Артём:** 👍 Хорошо.\n",
    "  \n",
    "</div> "
   ]
  },
  {
   "cell_type": "markdown",
   "id": "cffe936a",
   "metadata": {},
   "source": [
    "## Итог"
   ]
  },
  {
   "cell_type": "markdown",
   "id": "479b279b",
   "metadata": {},
   "source": [
    "Проведенный анализ данных выявил следующие закономерности:  \n",
    "* Больше всего пользователей живут в Екатеринбурге, меньше всего - в Москве  \n",
    "* Половина пользователей - люди в возрасте от 22 до 28 лет  \n",
    "* На поездку в среднем тратится 18 минут  \n",
    "* Среднее расстояние одной поездки около 3 км  \n",
    "* Пользователей без подписки в 1.19 раз больше, чем пользователей с подпиской  \n",
    "\n",
    "Были проверены некоторые гипотезы, касающиеся прибыльности \"платных\" пользователей. Они помогут принять решение о целесобразности проведения рекламных компаний по привлечению подписчиков.  \n",
    "Результаты проверки гипотез говорят о следующем:  \n",
    "1) Пользователи с подпиской больше времени проводят на самокате  \n",
    "2) Подписчики редко проезжают больше 3130 метров (это расстояние оптимально с точки зрения износа самоката)  \n",
    "3) Помесячная прибыль от пользователей **без подписки** выше, причем значительно - 135 тысяч от подписчиков против 182 тысяч от \"бесплатных\" пользователей  \n",
    "\n",
    "На основе полученных данных можно сделать вывод, что проведение рекламной компании по увеличению количества подписчиков не является целесообразным."
   ]
  },
  {
   "cell_type": "markdown",
   "id": "61213c5e",
   "metadata": {},
   "source": [
    "## Шаг 7. Распределения"
   ]
  },
  {
   "cell_type": "markdown",
   "id": "9251d273",
   "metadata": {},
   "source": [
    "<div class=\"alert alert-success\">\n",
    "\n",
    "**Артём:**  В где же вывод? Промежуточные выводы будет смотреть старший аналитик, а заказчик будет читать финальный вывод и только его. Добавь информации о полученных результатах по каждому из четырех вопросов, разбей по пунктам, сделай красиво, чтобы было понятно, что проведено настоящее исследование и выводу можно верить. Помни, вывод – это лицо дата специалиста. 😉\n",
    "\n",
    "</div>\n",
    "<div class=\"alert alert-success\">\n",
    "\n",
    "**Артём:** 👍 Хороший вывод. Аккуратно, последовательно, приятно читать.\n",
    "\n",
    "</div>"
   ]
  },
  {
   "cell_type": "markdown",
   "id": "ae9d9596",
   "metadata": {},
   "source": [
    "## 🏁 Итоги ревью\n",
    "<a id=\"results\"></a>\n",
    "[В начало](#start)\n",
    "\n",
    "<div class=\"alert alert-danger\">\n",
    "\n",
    "**Артём:** ❌ Даниил, спасибо за работу. Осталось исправить несколько комментариев и можно идти к заказчику. Молодец! 👍\n",
    "    \n",
    "Для удобства, комментарии которые нужно скорректировать я добавил в меню **Contents** слева.\n",
    "    \n",
    "Жду новую версию проекта. 🙂\n",
    "\n",
    "</div>"
   ]
  },
  {
   "cell_type": "markdown",
   "id": "4a5f3e67",
   "metadata": {},
   "source": [
    "<img src=\"https://lifeo.ru/wp-content/uploads/gif-salyut-10.gif\"> \n",
    "<div class=\"alert alert-success\">   \n",
    "\n",
    "**Артём:** ✌️ Даниил, спасибо за работу и внесенные корректировки! Критических замечаний нет.\n",
    "\n",
    "Поздравляю, **проект принят!** 🥳 🎉 Ты молодец!\n",
    "\n",
    "Желаю тебе успехов в дальнейшем обучении. 😉\n",
    "    \n",
    "---\n",
    "    \n",
    "#### 📖 **Полезные ссылки**\n",
    "\n",
    "* [Работа в Яндексе](https://yandex.ru/jobs/pages/analytics_interview?ysclid=l84s63fs1g790141490)\n",
    "* [Настройте свой Jupyter Notebook правильно](https://medium.com/nuances-of-programming/настройте-свой-jupyter-notebook-правильно-faef14c89434)    \n",
    "* [Краткое руководство по Маркдауну](https://paulradzkov.com/2014/markdown_cheatsheet/?)\n",
    "* [PEP 8 – Style Guide for Python Code](https://www.python.org/dev/peps/pep-0008/)    \n",
    "* [Обработка пропусков в данных](https://loginom.ru/blog/missing)  \n",
    "* [Разделение данных с помощью qcut и cut в Pandas](https://dfedorov.spb.ru/pandas/Разделение%20данных%20в%20Pandas%20с%20помощью%20qcut%20и%20cut.html?)  \n",
    "* [Официальная документаци метода qcut](https://pandas.pydata.org/pandas-docs/stable/reference/api/pandas.qcut.html)  \n",
    "* [Подробное руководство по группировке и агрегированию с помощью pandas](https://dfedorov.spb.ru/pandas/Подробное%20руководство%20по%20группировке%20и%20агрегированию%20с%20помощью%20pandas.html?ysclid=lcmm6rtg2w602526506)\n",
    "* [Шпаргалка по визуализации данных в Python с помощью Plotly](https://habr.com/ru/articles/502958/)    \n",
    "* [Главред помогает очистить текст от словесного мусора, проверяет на соответствие информационному стилю.](https://glvrd.ru)\n",
    "\n",
    "</div>"
   ]
  },
  {
   "cell_type": "code",
   "execution_count": null,
   "id": "c9baaed3",
   "metadata": {},
   "outputs": [],
   "source": []
  }
 ],
 "metadata": {
  "ExecuteTimeLog": [
   {
    "duration": 51,
    "start_time": "2023-05-02T18:52:42.746Z"
   },
   {
    "duration": 404,
    "start_time": "2023-05-02T18:52:48.374Z"
   },
   {
    "duration": 82,
    "start_time": "2023-05-02T18:52:48.780Z"
   },
   {
    "duration": 41,
    "start_time": "2023-05-02T18:52:59.826Z"
   },
   {
    "duration": 73,
    "start_time": "2023-05-02T18:53:37.237Z"
   },
   {
    "duration": 39,
    "start_time": "2023-05-02T18:53:46.609Z"
   },
   {
    "duration": 31,
    "start_time": "2023-05-02T18:54:08.286Z"
   },
   {
    "duration": 36,
    "start_time": "2023-05-02T18:54:16.215Z"
   },
   {
    "duration": 42,
    "start_time": "2023-05-02T18:54:39.703Z"
   },
   {
    "duration": 43,
    "start_time": "2023-05-02T18:54:51.832Z"
   },
   {
    "duration": 75,
    "start_time": "2023-05-02T18:55:50.440Z"
   },
   {
    "duration": 35,
    "start_time": "2023-05-02T19:00:32.063Z"
   },
   {
    "duration": 41,
    "start_time": "2023-05-02T19:00:37.916Z"
   },
   {
    "duration": 7,
    "start_time": "2023-05-02T19:05:10.196Z"
   },
   {
    "duration": 56,
    "start_time": "2023-05-02T19:05:19.402Z"
   },
   {
    "duration": 27,
    "start_time": "2023-05-02T19:05:31.794Z"
   },
   {
    "duration": 16,
    "start_time": "2023-05-02T19:05:43.765Z"
   },
   {
    "duration": 18,
    "start_time": "2023-05-02T19:05:52.238Z"
   },
   {
    "duration": 22,
    "start_time": "2023-05-02T19:05:56.528Z"
   },
   {
    "duration": 38,
    "start_time": "2023-05-02T19:06:12.649Z"
   },
   {
    "duration": 28,
    "start_time": "2023-05-02T19:06:23.648Z"
   },
   {
    "duration": 28,
    "start_time": "2023-05-02T19:07:59.980Z"
   },
   {
    "duration": 432,
    "start_time": "2023-05-02T19:08:05.551Z"
   },
   {
    "duration": 45,
    "start_time": "2023-05-02T19:08:05.985Z"
   },
   {
    "duration": 50,
    "start_time": "2023-05-02T19:08:06.032Z"
   },
   {
    "duration": 26,
    "start_time": "2023-05-02T19:08:06.084Z"
   },
   {
    "duration": 761,
    "start_time": "2023-05-02T19:08:06.112Z"
   },
   {
    "duration": 654,
    "start_time": "2023-05-02T19:08:12.846Z"
   },
   {
    "duration": 717,
    "start_time": "2023-05-02T19:08:24.425Z"
   },
   {
    "duration": 20,
    "start_time": "2023-05-02T19:08:35.190Z"
   },
   {
    "duration": 413,
    "start_time": "2023-05-02T19:08:42.426Z"
   },
   {
    "duration": 56,
    "start_time": "2023-05-02T19:08:42.841Z"
   },
   {
    "duration": 40,
    "start_time": "2023-05-02T19:08:42.899Z"
   },
   {
    "duration": 28,
    "start_time": "2023-05-02T19:08:42.941Z"
   },
   {
    "duration": 23,
    "start_time": "2023-05-02T19:08:42.971Z"
   },
   {
    "duration": 48,
    "start_time": "2023-05-02T19:08:49.409Z"
   },
   {
    "duration": 72,
    "start_time": "2023-05-02T19:09:58.437Z"
   },
   {
    "duration": 10,
    "start_time": "2023-05-02T19:10:02.260Z"
   },
   {
    "duration": 7,
    "start_time": "2023-05-02T19:10:12.321Z"
   },
   {
    "duration": 5,
    "start_time": "2023-05-02T19:10:30.136Z"
   },
   {
    "duration": 10,
    "start_time": "2023-05-02T19:10:42.957Z"
   },
   {
    "duration": 4,
    "start_time": "2023-05-02T19:10:53.276Z"
   },
   {
    "duration": 10,
    "start_time": "2023-05-02T19:11:22.857Z"
   },
   {
    "duration": 8,
    "start_time": "2023-05-02T19:11:32.525Z"
   },
   {
    "duration": 12,
    "start_time": "2023-05-02T19:11:51.815Z"
   },
   {
    "duration": 14,
    "start_time": "2023-05-02T19:11:55.212Z"
   },
   {
    "duration": 13,
    "start_time": "2023-05-02T19:15:59.676Z"
   },
   {
    "duration": 8,
    "start_time": "2023-05-02T19:16:04.040Z"
   },
   {
    "duration": 13,
    "start_time": "2023-05-02T19:16:28.005Z"
   },
   {
    "duration": 7,
    "start_time": "2023-05-02T19:18:23.925Z"
   },
   {
    "duration": 8,
    "start_time": "2023-05-02T19:18:28.923Z"
   },
   {
    "duration": 13,
    "start_time": "2023-05-02T19:19:52.018Z"
   },
   {
    "duration": 8,
    "start_time": "2023-05-02T19:19:58.018Z"
   },
   {
    "duration": 8,
    "start_time": "2023-05-02T19:20:09.387Z"
   },
   {
    "duration": 13,
    "start_time": "2023-05-02T19:20:39.733Z"
   },
   {
    "duration": 11,
    "start_time": "2023-05-02T19:20:48.705Z"
   },
   {
    "duration": 12,
    "start_time": "2023-05-02T19:22:14.255Z"
   },
   {
    "duration": 8,
    "start_time": "2023-05-02T19:22:37.885Z"
   },
   {
    "duration": 8,
    "start_time": "2023-05-02T19:22:43.444Z"
   },
   {
    "duration": 12,
    "start_time": "2023-05-02T19:22:46.219Z"
   },
   {
    "duration": 11,
    "start_time": "2023-05-02T19:22:55.148Z"
   },
   {
    "duration": 5,
    "start_time": "2023-05-02T19:23:13.463Z"
   },
   {
    "duration": 8,
    "start_time": "2023-05-02T19:23:30.811Z"
   },
   {
    "duration": 9,
    "start_time": "2023-05-02T19:23:35.335Z"
   },
   {
    "duration": 8,
    "start_time": "2023-05-02T19:23:40.705Z"
   },
   {
    "duration": 8,
    "start_time": "2023-05-02T19:25:21.007Z"
   },
   {
    "duration": 8,
    "start_time": "2023-05-02T19:26:45.180Z"
   },
   {
    "duration": 4,
    "start_time": "2023-05-02T19:27:08.607Z"
   },
   {
    "duration": 4,
    "start_time": "2023-05-02T19:27:11.038Z"
   },
   {
    "duration": 4,
    "start_time": "2023-05-02T19:27:17.562Z"
   },
   {
    "duration": 4,
    "start_time": "2023-05-02T19:28:03.619Z"
   },
   {
    "duration": 8,
    "start_time": "2023-05-02T19:28:55.115Z"
   },
   {
    "duration": 7,
    "start_time": "2023-05-02T19:29:02.721Z"
   },
   {
    "duration": 8,
    "start_time": "2023-05-02T19:29:05.355Z"
   },
   {
    "duration": 7,
    "start_time": "2023-05-02T19:31:12.930Z"
   },
   {
    "duration": 513,
    "start_time": "2023-05-02T19:34:41.728Z"
   },
   {
    "duration": 152,
    "start_time": "2023-05-02T19:35:01.312Z"
   },
   {
    "duration": 143,
    "start_time": "2023-05-02T19:35:05.300Z"
   },
   {
    "duration": 197,
    "start_time": "2023-05-02T19:35:22.123Z"
   },
   {
    "duration": 146,
    "start_time": "2023-05-02T19:35:32.510Z"
   },
   {
    "duration": 470,
    "start_time": "2023-05-02T19:36:47.655Z"
   },
   {
    "duration": 1127,
    "start_time": "2023-05-02T19:36:54.508Z"
   },
   {
    "duration": 41,
    "start_time": "2023-05-02T19:36:55.637Z"
   },
   {
    "duration": 39,
    "start_time": "2023-05-02T19:36:55.679Z"
   },
   {
    "duration": 24,
    "start_time": "2023-05-02T19:36:55.719Z"
   },
   {
    "duration": 14,
    "start_time": "2023-05-02T19:36:55.745Z"
   },
   {
    "duration": 26,
    "start_time": "2023-05-02T19:36:55.761Z"
   },
   {
    "duration": 10,
    "start_time": "2023-05-02T19:36:55.789Z"
   },
   {
    "duration": 11,
    "start_time": "2023-05-02T19:36:55.800Z"
   },
   {
    "duration": 6,
    "start_time": "2023-05-02T19:36:55.813Z"
   },
   {
    "duration": 5,
    "start_time": "2023-05-02T19:36:55.822Z"
   },
   {
    "duration": 8,
    "start_time": "2023-05-02T19:36:55.829Z"
   },
   {
    "duration": 165,
    "start_time": "2023-05-02T19:36:55.859Z"
   },
   {
    "duration": 180,
    "start_time": "2023-05-02T19:38:56.207Z"
   },
   {
    "duration": 164,
    "start_time": "2023-05-02T19:39:31.280Z"
   },
   {
    "duration": 73,
    "start_time": "2023-05-02T19:39:46.961Z"
   },
   {
    "duration": 210,
    "start_time": "2023-05-02T19:39:50.794Z"
   },
   {
    "duration": 170,
    "start_time": "2023-05-02T19:39:56.250Z"
   },
   {
    "duration": 167,
    "start_time": "2023-05-02T19:40:14.380Z"
   },
   {
    "duration": 169,
    "start_time": "2023-05-02T20:00:21.892Z"
   },
   {
    "duration": 174,
    "start_time": "2023-05-02T20:00:30.003Z"
   },
   {
    "duration": 161,
    "start_time": "2023-05-02T20:00:50.148Z"
   },
   {
    "duration": 228,
    "start_time": "2023-05-02T20:00:59.101Z"
   },
   {
    "duration": 63,
    "start_time": "2023-05-03T17:27:46.473Z"
   },
   {
    "duration": 7,
    "start_time": "2023-05-03T17:27:52.456Z"
   },
   {
    "duration": 1606,
    "start_time": "2023-05-03T17:27:57.873Z"
   },
   {
    "duration": 131,
    "start_time": "2023-05-03T17:27:59.482Z"
   },
   {
    "duration": 91,
    "start_time": "2023-05-03T17:27:59.617Z"
   },
   {
    "duration": 73,
    "start_time": "2023-05-03T17:27:59.710Z"
   },
   {
    "duration": 12,
    "start_time": "2023-05-03T17:27:59.787Z"
   },
   {
    "duration": 18,
    "start_time": "2023-05-03T17:27:59.801Z"
   },
   {
    "duration": 11,
    "start_time": "2023-05-03T17:27:59.821Z"
   },
   {
    "duration": 15,
    "start_time": "2023-05-03T17:27:59.833Z"
   },
   {
    "duration": 9,
    "start_time": "2023-05-03T17:27:59.849Z"
   },
   {
    "duration": 11,
    "start_time": "2023-05-03T17:27:59.891Z"
   },
   {
    "duration": 8,
    "start_time": "2023-05-03T17:27:59.905Z"
   },
   {
    "duration": 242,
    "start_time": "2023-05-03T17:27:59.914Z"
   },
   {
    "duration": 186,
    "start_time": "2023-05-03T17:28:00.158Z"
   },
   {
    "duration": 164,
    "start_time": "2023-05-03T17:28:20.845Z"
   },
   {
    "duration": 97,
    "start_time": "2023-05-03T17:28:55.933Z"
   },
   {
    "duration": 199,
    "start_time": "2023-05-03T17:29:00.471Z"
   },
   {
    "duration": 187,
    "start_time": "2023-05-03T17:29:07.909Z"
   },
   {
    "duration": 154,
    "start_time": "2023-05-03T17:29:15.339Z"
   },
   {
    "duration": 170,
    "start_time": "2023-05-03T17:30:06.947Z"
   },
   {
    "duration": 266,
    "start_time": "2023-05-03T17:30:30.751Z"
   },
   {
    "duration": 165,
    "start_time": "2023-05-03T17:30:42.536Z"
   },
   {
    "duration": 317,
    "start_time": "2023-05-03T17:31:16.133Z"
   },
   {
    "duration": 305,
    "start_time": "2023-05-03T17:31:25.823Z"
   },
   {
    "duration": 331,
    "start_time": "2023-05-03T17:31:50.049Z"
   },
   {
    "duration": 160,
    "start_time": "2023-05-03T17:35:53.169Z"
   },
   {
    "duration": 149,
    "start_time": "2023-05-03T17:36:03.592Z"
   },
   {
    "duration": 159,
    "start_time": "2023-05-03T17:36:09.532Z"
   },
   {
    "duration": 272,
    "start_time": "2023-05-03T17:36:40.956Z"
   },
   {
    "duration": 156,
    "start_time": "2023-05-03T17:40:42.512Z"
   },
   {
    "duration": 179,
    "start_time": "2023-05-03T17:40:58.376Z"
   },
   {
    "duration": 172,
    "start_time": "2023-05-03T17:41:12.773Z"
   },
   {
    "duration": 183,
    "start_time": "2023-05-03T17:41:18.241Z"
   },
   {
    "duration": 161,
    "start_time": "2023-05-03T17:41:50.710Z"
   },
   {
    "duration": 28,
    "start_time": "2023-05-03T17:48:59.629Z"
   },
   {
    "duration": 19,
    "start_time": "2023-05-03T17:50:31.896Z"
   },
   {
    "duration": 14,
    "start_time": "2023-05-03T17:50:46.582Z"
   },
   {
    "duration": 25,
    "start_time": "2023-05-03T17:50:53.336Z"
   },
   {
    "duration": 112,
    "start_time": "2023-05-03T17:52:17.121Z"
   },
   {
    "duration": 54,
    "start_time": "2023-05-03T17:52:30.705Z"
   },
   {
    "duration": 7,
    "start_time": "2023-05-03T17:53:17.823Z"
   },
   {
    "duration": 1302,
    "start_time": "2023-05-03T17:53:30.590Z"
   },
   {
    "duration": 103,
    "start_time": "2023-05-03T17:53:31.895Z"
   },
   {
    "duration": 83,
    "start_time": "2023-05-03T17:53:32.000Z"
   },
   {
    "duration": 68,
    "start_time": "2023-05-03T17:53:32.085Z"
   },
   {
    "duration": 11,
    "start_time": "2023-05-03T17:53:32.155Z"
   },
   {
    "duration": 152,
    "start_time": "2023-05-03T17:53:32.168Z"
   },
   {
    "duration": 57,
    "start_time": "2023-05-03T17:53:32.322Z"
   },
   {
    "duration": 50,
    "start_time": "2023-05-03T17:53:32.381Z"
   },
   {
    "duration": 29,
    "start_time": "2023-05-03T17:53:32.434Z"
   },
   {
    "duration": 20,
    "start_time": "2023-05-03T17:53:32.467Z"
   },
   {
    "duration": 85,
    "start_time": "2023-05-03T17:53:32.490Z"
   },
   {
    "duration": 369,
    "start_time": "2023-05-03T17:53:32.577Z"
   },
   {
    "duration": 155,
    "start_time": "2023-05-03T17:53:32.948Z"
   },
   {
    "duration": 310,
    "start_time": "2023-05-03T17:53:33.105Z"
   },
   {
    "duration": 171,
    "start_time": "2023-05-03T17:53:33.417Z"
   },
   {
    "duration": 163,
    "start_time": "2023-05-03T17:53:33.590Z"
   },
   {
    "duration": 17,
    "start_time": "2023-05-03T17:53:33.754Z"
   },
   {
    "duration": 30,
    "start_time": "2023-05-03T17:53:33.773Z"
   },
   {
    "duration": 24,
    "start_time": "2023-05-03T17:53:54.487Z"
   },
   {
    "duration": 30,
    "start_time": "2023-05-03T17:54:03.735Z"
   },
   {
    "duration": 48,
    "start_time": "2023-05-03T17:54:38.266Z"
   },
   {
    "duration": 36,
    "start_time": "2023-05-03T17:54:40.757Z"
   },
   {
    "duration": 22,
    "start_time": "2023-05-03T17:54:48.577Z"
   },
   {
    "duration": 30,
    "start_time": "2023-05-03T17:56:30.333Z"
   },
   {
    "duration": 28,
    "start_time": "2023-05-03T17:56:50.111Z"
   },
   {
    "duration": 29,
    "start_time": "2023-05-03T17:57:14.258Z"
   },
   {
    "duration": 119,
    "start_time": "2023-05-03T17:58:38.109Z"
   },
   {
    "duration": 72,
    "start_time": "2023-05-03T17:58:43.330Z"
   },
   {
    "duration": 9,
    "start_time": "2023-05-03T17:58:47.812Z"
   },
   {
    "duration": 30,
    "start_time": "2023-05-03T17:58:51.998Z"
   },
   {
    "duration": 10,
    "start_time": "2023-05-03T17:59:15.074Z"
   },
   {
    "duration": 8,
    "start_time": "2023-05-03T18:10:21.814Z"
   },
   {
    "duration": 31,
    "start_time": "2023-05-03T18:10:26.411Z"
   },
   {
    "duration": 30,
    "start_time": "2023-05-03T18:10:46.245Z"
   },
   {
    "duration": 30,
    "start_time": "2023-05-03T18:10:52.152Z"
   },
   {
    "duration": 77,
    "start_time": "2023-05-03T18:10:58.198Z"
   },
   {
    "duration": 12,
    "start_time": "2023-05-03T18:11:02.257Z"
   },
   {
    "duration": 22,
    "start_time": "2023-05-03T18:11:59.852Z"
   },
   {
    "duration": 7,
    "start_time": "2023-05-03T18:12:16.253Z"
   },
   {
    "duration": 21,
    "start_time": "2023-05-03T18:12:20.468Z"
   },
   {
    "duration": 76,
    "start_time": "2023-05-03T18:13:13.906Z"
   },
   {
    "duration": 10,
    "start_time": "2023-05-03T18:13:18.577Z"
   },
   {
    "duration": 23,
    "start_time": "2023-05-03T18:13:23.123Z"
   },
   {
    "duration": 10,
    "start_time": "2023-05-03T18:14:22.162Z"
   },
   {
    "duration": 19,
    "start_time": "2023-05-03T18:14:53.408Z"
   },
   {
    "duration": 18,
    "start_time": "2023-05-03T18:15:02.028Z"
   },
   {
    "duration": 28,
    "start_time": "2023-05-03T18:15:28.726Z"
   },
   {
    "duration": 30,
    "start_time": "2023-05-03T18:15:43.384Z"
   },
   {
    "duration": 29,
    "start_time": "2023-05-03T18:16:00.141Z"
   },
   {
    "duration": 26,
    "start_time": "2023-05-03T18:16:11.423Z"
   },
   {
    "duration": 1151,
    "start_time": "2023-05-03T18:19:03.390Z"
   },
   {
    "duration": 125,
    "start_time": "2023-05-03T18:19:06.605Z"
   },
   {
    "duration": 161,
    "start_time": "2023-05-03T18:19:14.506Z"
   },
   {
    "duration": 170,
    "start_time": "2023-05-03T18:19:18.040Z"
   },
   {
    "duration": 250,
    "start_time": "2023-05-03T18:19:39.128Z"
   },
   {
    "duration": 150,
    "start_time": "2023-05-03T18:19:42.281Z"
   },
   {
    "duration": 168,
    "start_time": "2023-05-03T18:20:22.649Z"
   },
   {
    "duration": 196,
    "start_time": "2023-05-03T18:20:29.976Z"
   },
   {
    "duration": 174,
    "start_time": "2023-05-03T18:20:58.799Z"
   },
   {
    "duration": 279,
    "start_time": "2023-05-03T18:21:11.527Z"
   },
   {
    "duration": 280,
    "start_time": "2023-05-03T18:22:27.806Z"
   },
   {
    "duration": 288,
    "start_time": "2023-05-03T18:22:43.571Z"
   },
   {
    "duration": 371,
    "start_time": "2023-05-03T18:24:46.880Z"
   },
   {
    "duration": 295,
    "start_time": "2023-05-03T18:25:13.103Z"
   },
   {
    "duration": 303,
    "start_time": "2023-05-03T18:25:35.399Z"
   },
   {
    "duration": 30,
    "start_time": "2023-05-03T18:30:31.613Z"
   },
   {
    "duration": 3,
    "start_time": "2023-05-03T18:42:20.194Z"
   },
   {
    "duration": 4,
    "start_time": "2023-05-03T18:42:24.663Z"
   },
   {
    "duration": 4,
    "start_time": "2023-05-03T18:43:06.589Z"
   },
   {
    "duration": 7,
    "start_time": "2023-05-03T18:43:12.003Z"
   },
   {
    "duration": 4,
    "start_time": "2023-05-03T18:45:37.248Z"
   },
   {
    "duration": 70,
    "start_time": "2023-05-03T18:46:44.406Z"
   },
   {
    "duration": 17,
    "start_time": "2023-05-03T18:47:02.639Z"
   },
   {
    "duration": 92,
    "start_time": "2023-05-03T18:47:17.097Z"
   },
   {
    "duration": 10,
    "start_time": "2023-05-03T18:47:26.137Z"
   },
   {
    "duration": 16,
    "start_time": "2023-05-03T18:47:32.374Z"
   },
   {
    "duration": 20,
    "start_time": "2023-05-03T18:48:46.839Z"
   },
   {
    "duration": 19,
    "start_time": "2023-05-03T18:49:14.844Z"
   },
   {
    "duration": 18,
    "start_time": "2023-05-03T18:49:48.090Z"
   },
   {
    "duration": 21,
    "start_time": "2023-05-03T18:50:21.349Z"
   },
   {
    "duration": 26,
    "start_time": "2023-05-03T18:50:58.134Z"
   },
   {
    "duration": 28,
    "start_time": "2023-05-03T18:51:04.679Z"
   },
   {
    "duration": 26,
    "start_time": "2023-05-03T18:51:13.127Z"
   },
   {
    "duration": 25,
    "start_time": "2023-05-03T18:51:19.403Z"
   },
   {
    "duration": 19,
    "start_time": "2023-05-03T18:51:39.230Z"
   },
   {
    "duration": 21,
    "start_time": "2023-05-03T18:51:55.101Z"
   },
   {
    "duration": 33,
    "start_time": "2023-05-03T18:52:04.461Z"
   },
   {
    "duration": 313,
    "start_time": "2023-05-03T18:52:58.400Z"
   },
   {
    "duration": 20,
    "start_time": "2023-05-03T18:53:07.873Z"
   },
   {
    "duration": 22,
    "start_time": "2023-05-03T18:53:35.227Z"
   },
   {
    "duration": 12,
    "start_time": "2023-05-03T18:54:16.701Z"
   },
   {
    "duration": 22,
    "start_time": "2023-05-03T18:54:22.925Z"
   },
   {
    "duration": 24,
    "start_time": "2023-05-03T18:54:39.358Z"
   },
   {
    "duration": 26,
    "start_time": "2023-05-03T18:55:27.804Z"
   },
   {
    "duration": 30,
    "start_time": "2023-05-03T18:56:03.719Z"
   },
   {
    "duration": 17,
    "start_time": "2023-05-03T18:56:39.308Z"
   },
   {
    "duration": 22,
    "start_time": "2023-05-03T19:00:30.664Z"
   },
   {
    "duration": 26,
    "start_time": "2023-05-03T19:03:38.114Z"
   },
   {
    "duration": 20,
    "start_time": "2023-05-03T19:03:48.090Z"
   },
   {
    "duration": 27,
    "start_time": "2023-05-03T19:03:55.134Z"
   },
   {
    "duration": 3,
    "start_time": "2023-05-03T19:04:25.541Z"
   },
   {
    "duration": 1177,
    "start_time": "2023-05-03T19:04:51.016Z"
   },
   {
    "duration": 1197,
    "start_time": "2023-05-03T19:05:40.766Z"
   },
   {
    "duration": 3,
    "start_time": "2023-05-03T19:06:57.515Z"
   },
   {
    "duration": 22,
    "start_time": "2023-05-03T19:07:04.099Z"
   },
   {
    "duration": 1125,
    "start_time": "2023-05-03T19:07:18.564Z"
   },
   {
    "duration": 1163,
    "start_time": "2023-05-03T19:07:34.984Z"
   },
   {
    "duration": 1150,
    "start_time": "2023-05-03T19:07:57.182Z"
   },
   {
    "duration": 20,
    "start_time": "2023-05-03T19:08:42.218Z"
   },
   {
    "duration": 2,
    "start_time": "2023-05-03T19:08:44.595Z"
   },
   {
    "duration": 1315,
    "start_time": "2023-05-03T19:08:45.222Z"
   },
   {
    "duration": 1198,
    "start_time": "2023-05-03T19:09:03.235Z"
   },
   {
    "duration": 4,
    "start_time": "2023-05-03T19:09:12.823Z"
   },
   {
    "duration": 16,
    "start_time": "2023-05-03T19:09:21.904Z"
   },
   {
    "duration": 168,
    "start_time": "2023-05-03T19:13:31.912Z"
   },
   {
    "duration": 3,
    "start_time": "2023-05-03T19:13:46.371Z"
   },
   {
    "duration": 272,
    "start_time": "2023-05-03T19:13:48.067Z"
   },
   {
    "duration": 23,
    "start_time": "2023-05-03T19:16:18.292Z"
   },
   {
    "duration": 83,
    "start_time": "2023-05-03T19:16:24.212Z"
   },
   {
    "duration": 85,
    "start_time": "2023-05-03T19:16:32.400Z"
   },
   {
    "duration": 300,
    "start_time": "2023-05-03T19:16:43.034Z"
   },
   {
    "duration": 21,
    "start_time": "2023-05-03T19:18:10.028Z"
   },
   {
    "duration": 1146,
    "start_time": "2023-05-03T19:20:48.940Z"
   },
   {
    "duration": 27,
    "start_time": "2023-05-03T19:23:12.812Z"
   },
   {
    "duration": 14,
    "start_time": "2023-05-03T19:23:23.983Z"
   },
   {
    "duration": 18,
    "start_time": "2023-05-03T19:23:28.146Z"
   },
   {
    "duration": 14,
    "start_time": "2023-05-03T19:24:31.631Z"
   },
   {
    "duration": 10,
    "start_time": "2023-05-03T19:24:37.729Z"
   },
   {
    "duration": 22,
    "start_time": "2023-05-03T19:29:19.194Z"
   },
   {
    "duration": 703,
    "start_time": "2023-05-03T19:29:55.262Z"
   },
   {
    "duration": 1201,
    "start_time": "2023-05-03T19:30:54.642Z"
   },
   {
    "duration": 20,
    "start_time": "2023-05-03T19:33:13.214Z"
   },
   {
    "duration": 643,
    "start_time": "2023-05-03T19:33:18.793Z"
   },
   {
    "duration": 9,
    "start_time": "2023-05-03T19:37:29.236Z"
   },
   {
    "duration": 9,
    "start_time": "2023-05-03T19:38:05.975Z"
   },
   {
    "duration": 1090,
    "start_time": "2023-05-03T19:38:21.145Z"
   },
   {
    "duration": 1140,
    "start_time": "2023-05-03T19:38:34.505Z"
   },
   {
    "duration": 42,
    "start_time": "2023-05-03T19:38:35.647Z"
   },
   {
    "duration": 37,
    "start_time": "2023-05-03T19:38:35.690Z"
   },
   {
    "duration": 24,
    "start_time": "2023-05-03T19:38:35.729Z"
   },
   {
    "duration": 7,
    "start_time": "2023-05-03T19:38:35.755Z"
   },
   {
    "duration": 7,
    "start_time": "2023-05-03T19:38:35.764Z"
   },
   {
    "duration": 18,
    "start_time": "2023-05-03T19:38:35.772Z"
   },
   {
    "duration": 24,
    "start_time": "2023-05-03T19:38:35.792Z"
   },
   {
    "duration": 9,
    "start_time": "2023-05-03T19:38:35.818Z"
   },
   {
    "duration": 5,
    "start_time": "2023-05-03T19:38:35.830Z"
   },
   {
    "duration": 7,
    "start_time": "2023-05-03T19:38:35.837Z"
   },
   {
    "duration": 196,
    "start_time": "2023-05-03T19:38:35.845Z"
   },
   {
    "duration": 148,
    "start_time": "2023-05-03T19:38:36.043Z"
   },
   {
    "duration": 291,
    "start_time": "2023-05-03T19:38:36.192Z"
   },
   {
    "duration": 161,
    "start_time": "2023-05-03T19:38:36.484Z"
   },
   {
    "duration": 161,
    "start_time": "2023-05-03T19:38:36.647Z"
   },
   {
    "duration": 26,
    "start_time": "2023-05-03T19:38:36.810Z"
   },
   {
    "duration": 28,
    "start_time": "2023-05-03T19:38:36.837Z"
   },
   {
    "duration": 306,
    "start_time": "2023-05-03T19:38:36.866Z"
   },
   {
    "duration": 395,
    "start_time": "2023-05-03T19:38:37.173Z"
   },
   {
    "duration": 26,
    "start_time": "2023-05-03T19:38:37.570Z"
   },
   {
    "duration": 3,
    "start_time": "2023-05-03T19:38:37.598Z"
   },
   {
    "duration": 1211,
    "start_time": "2023-05-03T19:38:37.602Z"
   },
   {
    "duration": 14,
    "start_time": "2023-05-03T19:39:25.186Z"
   },
   {
    "duration": 1403,
    "start_time": "2023-05-03T19:40:02.082Z"
   },
   {
    "duration": 1110,
    "start_time": "2023-05-03T19:40:24.798Z"
   },
   {
    "duration": 19,
    "start_time": "2023-05-03T19:40:36.550Z"
   },
   {
    "duration": 3,
    "start_time": "2023-05-03T19:40:37.986Z"
   },
   {
    "duration": 10,
    "start_time": "2023-05-03T19:40:38.691Z"
   },
   {
    "duration": 1101,
    "start_time": "2023-05-03T19:40:52.438Z"
   },
   {
    "duration": 186,
    "start_time": "2023-05-03T19:42:43.070Z"
   },
   {
    "duration": 173,
    "start_time": "2023-05-03T19:42:51.891Z"
   },
   {
    "duration": 164,
    "start_time": "2023-05-03T19:43:11.443Z"
   },
   {
    "duration": 169,
    "start_time": "2023-05-03T19:43:19.686Z"
   },
   {
    "duration": 294,
    "start_time": "2023-05-03T19:44:23.153Z"
   },
   {
    "duration": 26,
    "start_time": "2023-05-03T19:44:30.439Z"
   },
   {
    "duration": 1540,
    "start_time": "2023-05-03T19:55:54.872Z"
   },
   {
    "duration": 1267,
    "start_time": "2023-05-03T19:56:29.857Z"
   },
   {
    "duration": 43,
    "start_time": "2023-05-03T19:56:31.126Z"
   },
   {
    "duration": 42,
    "start_time": "2023-05-03T19:56:31.170Z"
   },
   {
    "duration": 26,
    "start_time": "2023-05-03T19:56:31.214Z"
   },
   {
    "duration": 8,
    "start_time": "2023-05-03T19:56:31.242Z"
   },
   {
    "duration": 32,
    "start_time": "2023-05-03T19:56:31.252Z"
   },
   {
    "duration": 36,
    "start_time": "2023-05-03T19:56:31.286Z"
   },
   {
    "duration": 31,
    "start_time": "2023-05-03T19:56:31.324Z"
   },
   {
    "duration": 33,
    "start_time": "2023-05-03T19:56:31.357Z"
   },
   {
    "duration": 16,
    "start_time": "2023-05-03T19:56:31.393Z"
   },
   {
    "duration": 23,
    "start_time": "2023-05-03T19:56:31.411Z"
   },
   {
    "duration": 243,
    "start_time": "2023-05-03T19:56:31.436Z"
   },
   {
    "duration": 158,
    "start_time": "2023-05-03T19:56:31.681Z"
   },
   {
    "duration": 322,
    "start_time": "2023-05-03T19:56:31.841Z"
   },
   {
    "duration": 165,
    "start_time": "2023-05-03T19:56:32.165Z"
   },
   {
    "duration": 173,
    "start_time": "2023-05-03T19:56:32.332Z"
   },
   {
    "duration": 28,
    "start_time": "2023-05-03T19:56:32.507Z"
   },
   {
    "duration": 29,
    "start_time": "2023-05-03T19:56:32.536Z"
   },
   {
    "duration": 338,
    "start_time": "2023-05-03T19:56:32.567Z"
   },
   {
    "duration": 414,
    "start_time": "2023-05-03T19:56:32.906Z"
   },
   {
    "duration": 163,
    "start_time": "2023-05-03T19:56:33.322Z"
   },
   {
    "duration": 22,
    "start_time": "2023-05-03T19:56:33.487Z"
   },
   {
    "duration": 3,
    "start_time": "2023-05-03T19:56:33.510Z"
   },
   {
    "duration": 107,
    "start_time": "2023-05-03T19:56:33.515Z"
   },
   {
    "duration": 96,
    "start_time": "2023-05-03T19:56:42.633Z"
   },
   {
    "duration": 3,
    "start_time": "2023-05-03T19:56:52.821Z"
   },
   {
    "duration": 82,
    "start_time": "2023-05-03T19:56:53.357Z"
   },
   {
    "duration": 3,
    "start_time": "2023-05-03T19:58:47.655Z"
   },
   {
    "duration": 105,
    "start_time": "2023-05-03T19:58:48.732Z"
   },
   {
    "duration": 4,
    "start_time": "2023-05-03T19:59:37.676Z"
   },
   {
    "duration": 156,
    "start_time": "2023-05-03T19:59:38.672Z"
   },
   {
    "duration": 4,
    "start_time": "2023-05-03T20:00:20.355Z"
   },
   {
    "duration": 186,
    "start_time": "2023-05-03T20:00:21.489Z"
   },
   {
    "duration": 194,
    "start_time": "2023-05-03T20:01:20.665Z"
   },
   {
    "duration": 1332,
    "start_time": "2023-05-03T20:01:26.868Z"
   },
   {
    "duration": 56,
    "start_time": "2023-05-03T20:01:28.203Z"
   },
   {
    "duration": 55,
    "start_time": "2023-05-03T20:01:28.261Z"
   },
   {
    "duration": 36,
    "start_time": "2023-05-03T20:01:28.319Z"
   },
   {
    "duration": 39,
    "start_time": "2023-05-03T20:01:28.359Z"
   },
   {
    "duration": 39,
    "start_time": "2023-05-03T20:01:28.400Z"
   },
   {
    "duration": 11,
    "start_time": "2023-05-03T20:01:28.442Z"
   },
   {
    "duration": 13,
    "start_time": "2023-05-03T20:01:28.455Z"
   },
   {
    "duration": 10,
    "start_time": "2023-05-03T20:01:28.469Z"
   },
   {
    "duration": 7,
    "start_time": "2023-05-03T20:01:28.481Z"
   },
   {
    "duration": 11,
    "start_time": "2023-05-03T20:01:28.489Z"
   },
   {
    "duration": 207,
    "start_time": "2023-05-03T20:01:28.501Z"
   },
   {
    "duration": 158,
    "start_time": "2023-05-03T20:01:28.710Z"
   },
   {
    "duration": 343,
    "start_time": "2023-05-03T20:01:28.870Z"
   },
   {
    "duration": 175,
    "start_time": "2023-05-03T20:01:29.215Z"
   },
   {
    "duration": 170,
    "start_time": "2023-05-03T20:01:29.392Z"
   },
   {
    "duration": 42,
    "start_time": "2023-05-03T20:01:29.564Z"
   },
   {
    "duration": 43,
    "start_time": "2023-05-03T20:01:29.609Z"
   },
   {
    "duration": 342,
    "start_time": "2023-05-03T20:01:29.654Z"
   },
   {
    "duration": 456,
    "start_time": "2023-05-03T20:01:29.998Z"
   },
   {
    "duration": 242,
    "start_time": "2023-05-03T20:01:30.456Z"
   },
   {
    "duration": 29,
    "start_time": "2023-05-03T20:01:30.700Z"
   },
   {
    "duration": 5,
    "start_time": "2023-05-03T20:01:30.731Z"
   },
   {
    "duration": 250,
    "start_time": "2023-05-03T20:01:30.738Z"
   },
   {
    "duration": 1415,
    "start_time": "2023-05-04T18:11:37.363Z"
   },
   {
    "duration": 108,
    "start_time": "2023-05-04T18:11:38.780Z"
   },
   {
    "duration": 385,
    "start_time": "2023-05-04T18:11:38.890Z"
   },
   {
    "duration": 71,
    "start_time": "2023-05-04T18:11:39.277Z"
   },
   {
    "duration": 7,
    "start_time": "2023-05-04T18:11:39.350Z"
   },
   {
    "duration": 26,
    "start_time": "2023-05-04T18:11:39.359Z"
   },
   {
    "duration": 30,
    "start_time": "2023-05-04T18:11:39.387Z"
   },
   {
    "duration": 51,
    "start_time": "2023-05-04T18:11:39.419Z"
   },
   {
    "duration": 25,
    "start_time": "2023-05-04T18:11:39.472Z"
   },
   {
    "duration": 28,
    "start_time": "2023-05-04T18:11:39.500Z"
   },
   {
    "duration": 35,
    "start_time": "2023-05-04T18:11:39.530Z"
   },
   {
    "duration": 221,
    "start_time": "2023-05-04T18:11:39.566Z"
   },
   {
    "duration": 177,
    "start_time": "2023-05-04T18:11:39.789Z"
   },
   {
    "duration": 345,
    "start_time": "2023-05-04T18:11:39.968Z"
   },
   {
    "duration": 189,
    "start_time": "2023-05-04T18:11:40.315Z"
   },
   {
    "duration": 191,
    "start_time": "2023-05-04T18:11:40.506Z"
   },
   {
    "duration": 36,
    "start_time": "2023-05-04T18:11:40.700Z"
   },
   {
    "duration": 54,
    "start_time": "2023-05-04T18:11:40.738Z"
   },
   {
    "duration": 332,
    "start_time": "2023-05-04T18:11:40.794Z"
   },
   {
    "duration": 459,
    "start_time": "2023-05-04T18:11:41.128Z"
   },
   {
    "duration": 247,
    "start_time": "2023-05-04T18:11:41.588Z"
   },
   {
    "duration": 13,
    "start_time": "2023-05-04T18:11:41.837Z"
   },
   {
    "duration": 27,
    "start_time": "2023-05-04T18:11:41.852Z"
   },
   {
    "duration": 208,
    "start_time": "2023-05-04T18:11:41.881Z"
   },
   {
    "duration": 6,
    "start_time": "2023-05-04T18:14:44.239Z"
   },
   {
    "duration": 5,
    "start_time": "2023-05-04T18:15:13.246Z"
   },
   {
    "duration": 6,
    "start_time": "2023-05-04T18:15:23.444Z"
   },
   {
    "duration": 8,
    "start_time": "2023-05-04T18:15:46.320Z"
   },
   {
    "duration": 13,
    "start_time": "2023-05-04T18:15:54.795Z"
   },
   {
    "duration": 10,
    "start_time": "2023-05-04T18:16:05.389Z"
   },
   {
    "duration": 13,
    "start_time": "2023-05-04T18:16:08.971Z"
   },
   {
    "duration": 15,
    "start_time": "2023-05-04T18:16:22.239Z"
   },
   {
    "duration": 13,
    "start_time": "2023-05-04T18:16:32.536Z"
   },
   {
    "duration": 11,
    "start_time": "2023-05-04T18:17:13.343Z"
   },
   {
    "duration": 15,
    "start_time": "2023-05-04T18:17:39.253Z"
   },
   {
    "duration": 11,
    "start_time": "2023-05-04T18:18:17.108Z"
   },
   {
    "duration": 8,
    "start_time": "2023-05-04T18:18:56.642Z"
   },
   {
    "duration": 10,
    "start_time": "2023-05-04T18:20:08.953Z"
   },
   {
    "duration": 12,
    "start_time": "2023-05-04T18:20:30.589Z"
   },
   {
    "duration": 11,
    "start_time": "2023-05-04T18:21:57.300Z"
   },
   {
    "duration": 10,
    "start_time": "2023-05-04T18:22:33.985Z"
   },
   {
    "duration": 9,
    "start_time": "2023-05-04T18:22:53.184Z"
   },
   {
    "duration": 101,
    "start_time": "2023-05-04T18:33:57.386Z"
   },
   {
    "duration": 6,
    "start_time": "2023-05-04T18:34:04.958Z"
   },
   {
    "duration": 5,
    "start_time": "2023-05-04T18:35:27.007Z"
   },
   {
    "duration": 6,
    "start_time": "2023-05-04T18:35:48.853Z"
   },
   {
    "duration": 5,
    "start_time": "2023-05-04T18:35:57.096Z"
   },
   {
    "duration": 6,
    "start_time": "2023-05-04T18:36:03.339Z"
   },
   {
    "duration": 7,
    "start_time": "2023-05-04T18:45:27.878Z"
   },
   {
    "duration": 5,
    "start_time": "2023-05-04T18:47:29.715Z"
   },
   {
    "duration": 5,
    "start_time": "2023-05-04T18:47:40.547Z"
   },
   {
    "duration": 12,
    "start_time": "2023-05-04T18:47:49.423Z"
   },
   {
    "duration": 14,
    "start_time": "2023-05-04T18:48:16.746Z"
   },
   {
    "duration": 25,
    "start_time": "2023-05-04T18:48:47.781Z"
   },
   {
    "duration": 52,
    "start_time": "2023-05-04T18:49:58.305Z"
   },
   {
    "duration": 263,
    "start_time": "2023-05-04T18:50:02.103Z"
   },
   {
    "duration": 20,
    "start_time": "2023-05-04T18:50:05.972Z"
   },
   {
    "duration": 17,
    "start_time": "2023-05-04T18:50:21.610Z"
   },
   {
    "duration": 14,
    "start_time": "2023-05-04T18:54:01.219Z"
   },
   {
    "duration": 7,
    "start_time": "2023-05-04T18:55:06.374Z"
   },
   {
    "duration": 13,
    "start_time": "2023-05-04T18:55:12.328Z"
   },
   {
    "duration": 13,
    "start_time": "2023-05-04T18:55:16.460Z"
   },
   {
    "duration": 14,
    "start_time": "2023-05-04T18:57:34.441Z"
   },
   {
    "duration": 14,
    "start_time": "2023-05-04T18:57:37.600Z"
   },
   {
    "duration": 14,
    "start_time": "2023-05-04T18:58:39.093Z"
   },
   {
    "duration": 22,
    "start_time": "2023-05-04T18:58:51.998Z"
   },
   {
    "duration": 14,
    "start_time": "2023-05-04T18:58:54.181Z"
   },
   {
    "duration": 13,
    "start_time": "2023-05-04T18:59:22.647Z"
   },
   {
    "duration": 15,
    "start_time": "2023-05-04T18:59:30.694Z"
   },
   {
    "duration": 1274,
    "start_time": "2023-05-05T18:49:43.276Z"
   },
   {
    "duration": 59,
    "start_time": "2023-05-05T18:49:44.553Z"
   },
   {
    "duration": 37,
    "start_time": "2023-05-05T18:49:44.614Z"
   },
   {
    "duration": 36,
    "start_time": "2023-05-05T18:49:44.653Z"
   },
   {
    "duration": 7,
    "start_time": "2023-05-05T18:49:44.690Z"
   },
   {
    "duration": 12,
    "start_time": "2023-05-05T18:49:44.699Z"
   },
   {
    "duration": 10,
    "start_time": "2023-05-05T18:49:44.713Z"
   },
   {
    "duration": 13,
    "start_time": "2023-05-05T18:49:44.725Z"
   },
   {
    "duration": 37,
    "start_time": "2023-05-05T18:49:44.740Z"
   },
   {
    "duration": 6,
    "start_time": "2023-05-05T18:49:44.779Z"
   },
   {
    "duration": 9,
    "start_time": "2023-05-05T18:49:44.786Z"
   },
   {
    "duration": 213,
    "start_time": "2023-05-05T18:49:44.796Z"
   },
   {
    "duration": 166,
    "start_time": "2023-05-05T18:49:45.011Z"
   },
   {
    "duration": 374,
    "start_time": "2023-05-05T18:49:45.179Z"
   },
   {
    "duration": 187,
    "start_time": "2023-05-05T18:49:45.556Z"
   },
   {
    "duration": 199,
    "start_time": "2023-05-05T18:49:45.745Z"
   },
   {
    "duration": 41,
    "start_time": "2023-05-05T18:49:45.946Z"
   },
   {
    "duration": 39,
    "start_time": "2023-05-05T18:49:45.989Z"
   },
   {
    "duration": 335,
    "start_time": "2023-05-05T18:49:46.029Z"
   },
   {
    "duration": 458,
    "start_time": "2023-05-05T18:49:46.366Z"
   },
   {
    "duration": 172,
    "start_time": "2023-05-05T18:49:46.825Z"
   },
   {
    "duration": 16,
    "start_time": "2023-05-05T18:49:46.999Z"
   },
   {
    "duration": 3,
    "start_time": "2023-05-05T18:49:47.018Z"
   },
   {
    "duration": 212,
    "start_time": "2023-05-05T18:49:47.023Z"
   },
   {
    "duration": 8,
    "start_time": "2023-05-05T18:49:47.236Z"
   },
   {
    "duration": 14,
    "start_time": "2023-05-05T18:49:47.256Z"
   },
   {
    "duration": 22,
    "start_time": "2023-05-05T18:49:47.272Z"
   },
   {
    "duration": 6,
    "start_time": "2023-05-05T19:06:53.713Z"
   },
   {
    "duration": 7,
    "start_time": "2023-05-05T19:07:05.885Z"
   },
   {
    "duration": 1507,
    "start_time": "2023-05-21T18:27:03.477Z"
   },
   {
    "duration": 143,
    "start_time": "2023-05-21T18:27:04.986Z"
   },
   {
    "duration": 121,
    "start_time": "2023-05-21T18:27:05.133Z"
   },
   {
    "duration": 74,
    "start_time": "2023-05-21T18:27:05.257Z"
   },
   {
    "duration": 13,
    "start_time": "2023-05-21T18:27:05.333Z"
   },
   {
    "duration": 41,
    "start_time": "2023-05-21T18:27:05.350Z"
   },
   {
    "duration": 15,
    "start_time": "2023-05-21T18:27:05.393Z"
   },
   {
    "duration": 11,
    "start_time": "2023-05-21T18:27:05.410Z"
   },
   {
    "duration": 48,
    "start_time": "2023-05-21T18:27:05.428Z"
   },
   {
    "duration": 11,
    "start_time": "2023-05-21T18:27:05.479Z"
   },
   {
    "duration": 30,
    "start_time": "2023-05-21T18:27:05.491Z"
   },
   {
    "duration": 280,
    "start_time": "2023-05-21T18:27:05.531Z"
   },
   {
    "duration": 185,
    "start_time": "2023-05-21T18:27:05.813Z"
   },
   {
    "duration": 366,
    "start_time": "2023-05-21T18:27:06.000Z"
   },
   {
    "duration": 488,
    "start_time": "2023-05-21T18:27:06.372Z"
   },
   {
    "duration": 478,
    "start_time": "2023-05-21T18:27:06.862Z"
   },
   {
    "duration": 89,
    "start_time": "2023-05-21T18:27:07.342Z"
   },
   {
    "duration": 38,
    "start_time": "2023-05-21T18:27:07.433Z"
   },
   {
    "duration": 963,
    "start_time": "2023-05-21T18:27:07.473Z"
   },
   {
    "duration": 1137,
    "start_time": "2023-05-21T18:27:08.438Z"
   },
   {
    "duration": 551,
    "start_time": "2023-05-21T18:27:09.577Z"
   },
   {
    "duration": 27,
    "start_time": "2023-05-21T18:27:10.130Z"
   },
   {
    "duration": 77,
    "start_time": "2023-05-21T18:27:10.159Z"
   },
   {
    "duration": 528,
    "start_time": "2023-05-21T18:27:10.243Z"
   },
   {
    "duration": 55,
    "start_time": "2023-05-21T18:27:10.773Z"
   },
   {
    "duration": 46,
    "start_time": "2023-05-21T18:27:10.829Z"
   },
   {
    "duration": 15,
    "start_time": "2023-05-21T18:27:10.877Z"
   },
   {
    "duration": 2,
    "start_time": "2023-05-21T18:45:16.112Z"
   },
   {
    "duration": 119,
    "start_time": "2023-05-21T18:46:17.176Z"
   },
   {
    "duration": 17,
    "start_time": "2023-05-21T18:46:30.354Z"
   },
   {
    "duration": 25,
    "start_time": "2023-05-21T18:46:47.417Z"
   },
   {
    "duration": 183,
    "start_time": "2023-05-21T18:47:01.341Z"
   },
   {
    "duration": 19,
    "start_time": "2023-05-21T18:48:18.421Z"
   },
   {
    "duration": 128,
    "start_time": "2023-05-21T18:48:50.104Z"
   },
   {
    "duration": 53,
    "start_time": "2023-05-22T19:19:51.658Z"
   },
   {
    "duration": 1309,
    "start_time": "2023-05-22T19:19:56.109Z"
   },
   {
    "duration": 99,
    "start_time": "2023-05-22T19:19:57.421Z"
   },
   {
    "duration": 87,
    "start_time": "2023-05-22T19:19:57.522Z"
   },
   {
    "duration": 70,
    "start_time": "2023-05-22T19:19:57.611Z"
   },
   {
    "duration": 8,
    "start_time": "2023-05-22T19:19:57.682Z"
   },
   {
    "duration": 10,
    "start_time": "2023-05-22T19:19:57.691Z"
   },
   {
    "duration": 18,
    "start_time": "2023-05-22T19:19:57.702Z"
   },
   {
    "duration": 24,
    "start_time": "2023-05-22T19:19:57.722Z"
   },
   {
    "duration": 8,
    "start_time": "2023-05-22T19:19:57.748Z"
   },
   {
    "duration": 7,
    "start_time": "2023-05-22T19:19:57.773Z"
   },
   {
    "duration": 8,
    "start_time": "2023-05-22T19:19:57.781Z"
   },
   {
    "duration": 241,
    "start_time": "2023-05-22T19:19:57.791Z"
   },
   {
    "duration": 148,
    "start_time": "2023-05-22T19:19:58.034Z"
   },
   {
    "duration": 301,
    "start_time": "2023-05-22T19:19:58.183Z"
   },
   {
    "duration": 162,
    "start_time": "2023-05-22T19:19:58.486Z"
   },
   {
    "duration": 161,
    "start_time": "2023-05-22T19:19:58.650Z"
   },
   {
    "duration": 28,
    "start_time": "2023-05-22T19:19:58.813Z"
   },
   {
    "duration": 52,
    "start_time": "2023-05-22T19:19:58.844Z"
   },
   {
    "duration": 312,
    "start_time": "2023-05-22T19:19:58.898Z"
   },
   {
    "duration": 413,
    "start_time": "2023-05-22T19:19:59.211Z"
   },
   {
    "duration": 161,
    "start_time": "2023-05-22T19:19:59.626Z"
   },
   {
    "duration": 13,
    "start_time": "2023-05-22T19:19:59.789Z"
   },
   {
    "duration": 11,
    "start_time": "2023-05-22T19:19:59.804Z"
   },
   {
    "duration": 187,
    "start_time": "2023-05-22T19:19:59.817Z"
   },
   {
    "duration": 8,
    "start_time": "2023-05-22T19:20:00.007Z"
   },
   {
    "duration": 47,
    "start_time": "2023-05-22T19:20:00.017Z"
   },
   {
    "duration": 102,
    "start_time": "2023-05-22T19:20:00.066Z"
   },
   {
    "duration": 305,
    "start_time": "2023-05-22T19:20:25.411Z"
   },
   {
    "duration": 198,
    "start_time": "2023-05-22T19:20:57.751Z"
   },
   {
    "duration": 163,
    "start_time": "2023-05-22T19:23:10.705Z"
   },
   {
    "duration": 176,
    "start_time": "2023-05-22T19:23:58.412Z"
   },
   {
    "duration": 188,
    "start_time": "2023-05-22T19:24:07.684Z"
   },
   {
    "duration": 166,
    "start_time": "2023-05-22T19:26:03.852Z"
   },
   {
    "duration": 255,
    "start_time": "2023-05-22T19:26:22.579Z"
   },
   {
    "duration": 172,
    "start_time": "2023-05-22T19:26:30.021Z"
   },
   {
    "duration": 323,
    "start_time": "2023-05-22T19:28:30.367Z"
   },
   {
    "duration": 38,
    "start_time": "2023-05-22T19:30:52.490Z"
   },
   {
    "duration": 1305,
    "start_time": "2023-05-23T10:09:07.092Z"
   },
   {
    "duration": 52,
    "start_time": "2023-05-23T10:09:08.399Z"
   },
   {
    "duration": 45,
    "start_time": "2023-05-23T10:09:08.453Z"
   },
   {
    "duration": 31,
    "start_time": "2023-05-23T10:09:08.500Z"
   },
   {
    "duration": 8,
    "start_time": "2023-05-23T10:09:08.533Z"
   },
   {
    "duration": 36,
    "start_time": "2023-05-23T10:09:08.542Z"
   },
   {
    "duration": 41,
    "start_time": "2023-05-23T10:09:08.580Z"
   },
   {
    "duration": 12,
    "start_time": "2023-05-23T10:09:08.623Z"
   },
   {
    "duration": 22,
    "start_time": "2023-05-23T10:09:08.637Z"
   },
   {
    "duration": 20,
    "start_time": "2023-05-23T10:09:08.661Z"
   },
   {
    "duration": 37,
    "start_time": "2023-05-23T10:09:08.682Z"
   },
   {
    "duration": 213,
    "start_time": "2023-05-23T10:09:08.720Z"
   },
   {
    "duration": 168,
    "start_time": "2023-05-23T10:09:08.935Z"
   },
   {
    "duration": 348,
    "start_time": "2023-05-23T10:09:09.106Z"
   },
   {
    "duration": 201,
    "start_time": "2023-05-23T10:09:09.455Z"
   },
   {
    "duration": 192,
    "start_time": "2023-05-23T10:09:09.657Z"
   },
   {
    "duration": 51,
    "start_time": "2023-05-23T10:09:09.851Z"
   },
   {
    "duration": 35,
    "start_time": "2023-05-23T10:09:09.904Z"
   },
   {
    "duration": 359,
    "start_time": "2023-05-23T10:09:09.941Z"
   },
   {
    "duration": 457,
    "start_time": "2023-05-23T10:09:10.302Z"
   },
   {
    "duration": 176,
    "start_time": "2023-05-23T10:09:10.761Z"
   },
   {
    "duration": 14,
    "start_time": "2023-05-23T10:09:10.938Z"
   },
   {
    "duration": 97,
    "start_time": "2023-05-23T10:09:10.954Z"
   },
   {
    "duration": 293,
    "start_time": "2023-05-23T10:09:11.053Z"
   },
   {
    "duration": 7,
    "start_time": "2023-05-23T10:09:11.348Z"
   },
   {
    "duration": 21,
    "start_time": "2023-05-23T10:09:11.357Z"
   },
   {
    "duration": 27,
    "start_time": "2023-05-23T10:09:11.380Z"
   }
  ],
  "kernelspec": {
   "display_name": "Python 3 (ipykernel)",
   "language": "python",
   "name": "python3"
  },
  "language_info": {
   "codemirror_mode": {
    "name": "ipython",
    "version": 3
   },
   "file_extension": ".py",
   "mimetype": "text/x-python",
   "name": "python",
   "nbconvert_exporter": "python",
   "pygments_lexer": "ipython3",
   "version": "3.9.5"
  },
  "toc": {
   "base_numbering": 1,
   "nav_menu": {},
   "number_sections": true,
   "sideBar": true,
   "skip_h1_title": true,
   "title_cell": "Table of Contents",
   "title_sidebar": "Contents",
   "toc_cell": false,
   "toc_position": {
    "height": "calc(100% - 180px)",
    "left": "10px",
    "top": "150px",
    "width": "165px"
   },
   "toc_section_display": true,
   "toc_window_display": true
  }
 },
 "nbformat": 4,
 "nbformat_minor": 5
}
