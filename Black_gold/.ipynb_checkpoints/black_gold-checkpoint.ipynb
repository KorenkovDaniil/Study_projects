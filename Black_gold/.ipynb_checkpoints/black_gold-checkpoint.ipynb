{
 "cells": [
  {
   "cell_type": "markdown",
   "metadata": {},
   "source": [
    "# Выбор локации для скважины"
   ]
  },
  {
   "cell_type": "markdown",
   "metadata": {},
   "source": [
    "Предоставлены пробы нефти в трёх регионах: в каждом 10 000 месторождений, где измерили качество нефти и объём её запасов. Необходимо построить модель машинного обучения, которая поможет определить регион, где добыча принесёт наибольшую прибыль. \n",
    "\n",
    "Шаги для выбора локации:\n",
    "\n",
    "- В избранном регионе ищут месторождения, для каждого определяют значения признаков;\n",
    "- Строят модель и оценивают объём запасов;\n",
    "- Выбирают месторождения с самым высокими оценками значений. Количество месторождений зависит от бюджета компании и стоимости разработки одной скважины;\n",
    "- Прибыль равна суммарной прибыли отобранных месторождений."
   ]
  },
  {
   "cell_type": "markdown",
   "metadata": {},
   "source": [
    "## Загрузка и подготовка данных"
   ]
  },
  {
   "cell_type": "code",
   "execution_count": 1,
   "metadata": {},
   "outputs": [],
   "source": [
    "import pandas as pd\n",
    "import numpy as np\n",
    "import scipy \n",
    "from sklearn.model_selection import train_test_split\n",
    "from sklearn.linear_model import LinearRegression\n",
    "from sklearn.metrics import mean_squared_error, r2_score\n",
    "from sklearn.preprocessing import StandardScaler"
   ]
  },
  {
   "cell_type": "code",
   "execution_count": 2,
   "metadata": {},
   "outputs": [
    {
     "name": "stdout",
     "output_type": "stream",
     "text": [
      "Данные для нулевой скважины:\n",
      "Количество дубликатов: 10 \n",
      "\n",
      "<class 'pandas.core.frame.DataFrame'>\n",
      "RangeIndex: 100000 entries, 0 to 99999\n",
      "Data columns (total 5 columns):\n",
      " #   Column   Non-Null Count   Dtype  \n",
      "---  ------   --------------   -----  \n",
      " 0   id       100000 non-null  object \n",
      " 1   f0       100000 non-null  float64\n",
      " 2   f1       100000 non-null  float64\n",
      " 3   f2       100000 non-null  float64\n",
      " 4   product  100000 non-null  float64\n",
      "dtypes: float64(4), object(1)\n",
      "memory usage: 3.8+ MB\n"
     ]
    },
    {
     "data": {
      "text/plain": [
       "None"
      ]
     },
     "metadata": {},
     "output_type": "display_data"
    },
    {
     "name": "stdout",
     "output_type": "stream",
     "text": [
      "\n",
      "Данные для первой скважины:\n",
      "Количество дубликатов: 4 \n",
      "\n",
      "<class 'pandas.core.frame.DataFrame'>\n",
      "RangeIndex: 100000 entries, 0 to 99999\n",
      "Data columns (total 5 columns):\n",
      " #   Column   Non-Null Count   Dtype  \n",
      "---  ------   --------------   -----  \n",
      " 0   id       100000 non-null  object \n",
      " 1   f0       100000 non-null  float64\n",
      " 2   f1       100000 non-null  float64\n",
      " 3   f2       100000 non-null  float64\n",
      " 4   product  100000 non-null  float64\n",
      "dtypes: float64(4), object(1)\n",
      "memory usage: 3.8+ MB\n"
     ]
    },
    {
     "data": {
      "text/plain": [
       "None"
      ]
     },
     "metadata": {},
     "output_type": "display_data"
    },
    {
     "name": "stdout",
     "output_type": "stream",
     "text": [
      "\n",
      "Данные для второй скважины:\n",
      "Количество дубликатов: 4 \n",
      "\n",
      "<class 'pandas.core.frame.DataFrame'>\n",
      "RangeIndex: 100000 entries, 0 to 99999\n",
      "Data columns (total 5 columns):\n",
      " #   Column   Non-Null Count   Dtype  \n",
      "---  ------   --------------   -----  \n",
      " 0   id       100000 non-null  object \n",
      " 1   f0       100000 non-null  float64\n",
      " 2   f1       100000 non-null  float64\n",
      " 3   f2       100000 non-null  float64\n",
      " 4   product  100000 non-null  float64\n",
      "dtypes: float64(4), object(1)\n",
      "memory usage: 3.8+ MB\n"
     ]
    },
    {
     "data": {
      "text/plain": [
       "None"
      ]
     },
     "metadata": {},
     "output_type": "display_data"
    }
   ],
   "source": [
    "data_0 = pd.read_csv('/datasets/geo_data_0.csv')\n",
    "print('Данные для Нулевого региона:')\n",
    "print('Количество дубликатов:', data_0.duplicated(subset='id').sum(), '\\n')\n",
    "display(data_0.info())\n",
    "data_1 = pd.read_csv('/datasets/geo_data_1.csv')\n",
    "print('\\nДанные для Первого региона:')\n",
    "print('Количество дубликатов:', data_1.duplicated(subset='id').sum(), '\\n')\n",
    "display(data_1.info())\n",
    "data_2 = pd.read_csv('/datasets/geo_data_2.csv')\n",
    "print('\\nДанные для Второго региона:')\n",
    "print('Количество дубликатов:', data_2.duplicated(subset='id').sum(), '\\n')\n",
    "display(data_2.info())"
   ]
  },
  {
   "cell_type": "markdown",
   "metadata": {},
   "source": [
    "Данные имеют правильный типа, пропусков не обнаружено.  \n",
    "Есть повторяющиеся значения в столбце с уникальным идектификатором скважины *id*, эти строки лучше удалить."
   ]
  },
  {
   "cell_type": "code",
   "execution_count": 3,
   "metadata": {},
   "outputs": [],
   "source": [
    "data_0 = data_0.drop_duplicates(subset='id')\n",
    "data_1 = data_1.drop_duplicates(subset='id')\n",
    "data_2 = data_2.drop_duplicates(subset='id')"
   ]
  },
  {
   "cell_type": "code",
   "execution_count": 14,
   "metadata": {},
   "outputs": [
    {
     "name": "stdout",
     "output_type": "stream",
     "text": [
      "<class 'pandas.core.frame.DataFrame'>\n",
      "Int64Index: 99990 entries, 0 to 99999\n",
      "Data columns (total 5 columns):\n",
      " #   Column   Non-Null Count  Dtype  \n",
      "---  ------   --------------  -----  \n",
      " 0   id       99990 non-null  object \n",
      " 1   f0       99990 non-null  float64\n",
      " 2   f1       99990 non-null  float64\n",
      " 3   f2       99990 non-null  float64\n",
      " 4   product  99990 non-null  float64\n",
      "dtypes: float64(4), object(1)\n",
      "memory usage: 4.6+ MB\n"
     ]
    }
   ],
   "source": [
    "# проверка\n",
    "data_0.info()"
   ]
  },
  {
   "cell_type": "markdown",
   "metadata": {},
   "source": [
    "## Обучение и проверка модели"
   ]
  },
  {
   "cell_type": "markdown",
   "metadata": {},
   "source": [
    "### Разделение данных на выборки"
   ]
  },
  {
   "cell_type": "code",
   "execution_count": 5,
   "metadata": {},
   "outputs": [
    {
     "name": "stdout",
     "output_type": "stream",
     "text": [
      "0. Признаки (тренировочные, валидационные); таргеты (тренировочные, валидационные) (74992, 3) (24998, 3) (74992,) (24998,)\n",
      "1. Признаки (тренировочные, валидационные); таргеты (тренировочные, валидационные) (74997, 3) (24999, 3) (74997,) (24999,)\n",
      "2. Признаки (тренировочные, валидационные); таргеты (тренировочные, валидационные) (74997, 3) (24999, 3) (74997,) (24999,)\n"
     ]
    }
   ],
   "source": [
    "features_0 = data_0.drop(['product', 'id'], axis=1)\n",
    "target_0 = data_0['product']\n",
    "\n",
    "features_1 = data_1.drop(['product', 'id'], axis=1)\n",
    "target_1 = data_1['product']\n",
    "\n",
    "features_2 = data_2.drop(['product', 'id'], axis=1)\n",
    "target_2 = data_2['product']\n",
    "\n",
    "features_0_train, features_0_valid, target_0_train, target_0_valid = train_test_split(\n",
    "features_0, target_0, test_size=0.25, random_state=123)\n",
    "print(f'0. Признаки (тренировочные, валидационные); таргеты (тренировочные, валидационные)',\n",
    "     features_0_train.shape, features_0_valid.shape, target_0_train.shape, target_0_valid.shape)\n",
    "\n",
    "features_1_train, features_1_valid, target_1_train, target_1_valid = train_test_split(\n",
    "features_1, target_1, test_size=0.25, random_state=123)\n",
    "print(f'1. Признаки (тренировочные, валидационные); таргеты (тренировочные, валидационные)',\n",
    "     features_1_train.shape, features_1_valid.shape, target_1_train.shape, target_1_valid.shape)\n",
    "\n",
    "features_2_train, features_2_valid, target_2_train, target_2_valid = train_test_split(\n",
    "features_2, target_2, test_size=0.25, random_state=123)\n",
    "print(f'2. Признаки (тренировочные, валидационные); таргеты (тренировочные, валидационные)',\n",
    "     features_2_train.shape, features_2_valid.shape, target_2_train.shape, target_2_valid.shape)"
   ]
  },
  {
   "cell_type": "markdown",
   "metadata": {},
   "source": [
    "Данные для трех регионов разбиты на тренировочную и валидационную выборки в соотношении 75:25."
   ]
  },
  {
   "cell_type": "markdown",
   "metadata": {},
   "source": [
    "### Обучение моделей линейной регрессии"
   ]
  },
  {
   "cell_type": "code",
   "execution_count": 6,
   "metadata": {},
   "outputs": [
    {
     "name": "stdout",
     "output_type": "stream",
     "text": [
      "Нулевая модель\n",
      "Среднее значение 92.68, RMSE 37.60\n",
      "Коэффициент детерминации R2: 0.27\n"
     ]
    }
   ],
   "source": [
    "model_0 = LinearRegression()\n",
    "model_0.fit(features_0_train, target_0_train)\n",
    "predicted_valid_0 = model_0.predict(features_0_valid)\n",
    "true_answer_0 = target_0_valid\n",
    "rmse_0 = mean_squared_error(true_answer_0, predicted_valid_0, squared=False)\n",
    "print('Нулевая модель')\n",
    "print(f'Среднее значение {predicted_valid_0.mean():.2f}, RMSE {rmse_0:.2F}')\n",
    "print(f'Коэффициент детерминации R2: {r2_score(target_0_valid, predicted_valid_0):.2f}')"
   ]
  },
  {
   "cell_type": "code",
   "execution_count": 7,
   "metadata": {},
   "outputs": [
    {
     "name": "stdout",
     "output_type": "stream",
     "text": [
      "Первая модель\n",
      "Среднее значение 69.31, RMSE 0.89\n",
      "Коэффициент детерминации R2: 1.00\n"
     ]
    }
   ],
   "source": [
    "model_1 = LinearRegression()\n",
    "model_1.fit(features_1_train, target_1_train)\n",
    "predicted_valid_1 = model_1.predict(features_1_valid)\n",
    "true_answer_1 = target_1_valid\n",
    "rmse_1 = mean_squared_error(true_answer_1, predicted_valid_1, squared=False)\n",
    "print('Первая модель')\n",
    "print(f'Среднее значение {predicted_valid_1.mean():.2f}, RMSE {rmse_1:.2F}')\n",
    "print(f'Коэффициент детерминации R2: {r2_score(target_1_valid, predicted_valid_1):.2f}')"
   ]
  },
  {
   "cell_type": "code",
   "execution_count": 8,
   "metadata": {},
   "outputs": [
    {
     "name": "stdout",
     "output_type": "stream",
     "text": [
      "Вторая модель\n",
      "Среднее значение 94.94, RMSE 40.05\n",
      "Коэффициент детерминации R2: 0.20\n"
     ]
    }
   ],
   "source": [
    "model_2 = LinearRegression()\n",
    "model_2.fit(features_2_train, target_2_train)\n",
    "predicted_valid_2 = model_2.predict(features_2_valid)\n",
    "true_answer_2 = target_2_valid\n",
    "rmse_2 = mean_squared_error(true_answer_2, predicted_valid_2, squared=False)\n",
    "print('Вторая модель')\n",
    "print(f'Среднее значение {predicted_valid_2.mean():.2f}, RMSE {rmse_2:.2F}')\n",
    "print(f'Коэффициент детерминации R2: {r2_score(target_2_valid, predicted_valid_2):.2f}')"
   ]
  },
  {
   "cell_type": "markdown",
   "metadata": {},
   "source": [
    "**Выводы**  \n",
    "Модели для Нулевого и Второго регионов далеки от идеала, об этом говорит высокое значение квадрата из среднеквадратичной ошибки и значение коэффициента детерминации, близкое к нулю. Возможно, в данных присутствует много выбросов, и модели не удалось установить связь между характеристиками месторождений и количеством запасов нефти в них.  \n",
    "Модель Первого региона делает прогнозы с практически стопроцентной точностью, однако среднее значение ниже среднего для Нулевого и Второго регионов.  \n",
    "Делать выводы о выборе региона пока нельзя, нужно понять, где добыча с большей вероятностью будет более прибыльной."
   ]
  },
  {
   "cell_type": "markdown",
   "metadata": {},
   "source": [
    "## Подготовка к расчёту прибыли"
   ]
  },
  {
   "cell_type": "code",
   "execution_count": 9,
   "metadata": {},
   "outputs": [
    {
     "name": "stdout",
     "output_type": "stream",
     "text": [
      "Количество баррелей, тыс. для безубыточной разработки одной скважины 111.11\n"
     ]
    }
   ],
   "source": [
    "# Бюджет\n",
    "budget = 10e9\n",
    "# Количество скважин под разработку\n",
    "quantity = 200\n",
    "# Цена за баррель, за у.е. (тысячу баррелей)\n",
    "price_barrel = 450\n",
    "price_unit = 450e3\n",
    "\n",
    "# Количество тысяч баррелей в скважине для безубыточной разработки\n",
    "product_min = (budget/quantity)/price_unit\n",
    "print(f'Количество баррелей, тыс. для безубыточной разработки одной скважины {product_min:.2f}')"
   ]
  },
  {
   "cell_type": "markdown",
   "metadata": {},
   "source": [
    "Это значение выше, чем средние значения \"урожайности\" скважин для всех трех регионов.  \n",
    "Учитывая неточные модели и разброс запасов нефти для Нулевого и Второго регионов, нельзя делать выводы о прибыльности региона лишь на основе сравнения средних значений запасов и минимально необходимого объема нефти."
   ]
  },
  {
   "cell_type": "markdown",
   "metadata": {},
   "source": [
    "## Расчёт прибыли и рисков "
   ]
  },
  {
   "cell_type": "markdown",
   "metadata": {},
   "source": [
    "### Расчет прибыли для лучших предсказанных скважин"
   ]
  },
  {
   "cell_type": "markdown",
   "metadata": {},
   "source": [
    "Рассчитаем для каждого региона прибыль для 200 лучших скважин, предсказанных моделями."
   ]
  },
  {
   "cell_type": "code",
   "execution_count": 10,
   "metadata": {},
   "outputs": [
    {
     "name": "stdout",
     "output_type": "stream",
     "text": [
      "Прибыль в Нулевом регионе 3.90e+09 рублей\n",
      "Прибыль в Первом регионе 2.49e+09 рублей\n",
      "Прибыль во Втором регионе 3.42e+09 рублей\n"
     ]
    }
   ],
   "source": [
    "best_0 = pd.Series(predicted_valid_0).sort_values(ascending=False).head(200)\n",
    "profit_0 = best_0.sum()*price_unit - budget\n",
    "print(f'Прибыль в Нулевом регионе {profit_0:.2e} рублей')\n",
    "\n",
    "best_1 = pd.Series(predicted_valid_1).sort_values(ascending=False).head(200)\n",
    "profit_1 = best_1.sum()*price_unit - budget\n",
    "print(f'Прибыль в Первом регионе {profit_1:.2e} рублей')\n",
    "\n",
    "best_2 = pd.Series(predicted_valid_2).sort_values(ascending=False).head(200)\n",
    "profit_2 = best_2.sum()*price_unit - budget\n",
    "print(f'Прибыль во Втором регионе {profit_2:.2e} рублей')"
   ]
  },
  {
   "cell_type": "markdown",
   "metadata": {},
   "source": [
    "Ожидаемо, в Первом регионе с наименьшим средним значением прибыль с двухсот лучших скважин гораздо меньше, 2,49 миллиарда против 3,9 и 3,42 в Нулевом и Втором."
   ]
  },
  {
   "cell_type": "markdown",
   "metadata": {},
   "source": [
    "### Расчет распределения прибыли и вероятность убытков"
   ]
  },
  {
   "cell_type": "markdown",
   "metadata": {},
   "source": [
    "Рассчитаем среднюю прибыль и 95% доверительный интервал, а также вероятность убытков."
   ]
  },
  {
   "cell_type": "code",
   "execution_count": 11,
   "metadata": {},
   "outputs": [],
   "source": [
    "# фунция для расчета прибыли\n",
    "def revenue(target, probabilities, count):\n",
    "    probs_sorted = probabilities.sort_values(ascending=False)\n",
    "    selected = target[probs_sorted.index][:count]\n",
    "    return price_unit * selected.sum() - budget\n",
    "\n",
    "state = np.random.RandomState(123)"
   ]
  },
  {
   "cell_type": "code",
   "execution_count": 12,
   "metadata": {},
   "outputs": [
    {
     "name": "stdout",
     "output_type": "stream",
     "text": [
      "Нулевой регион\n",
      "Средняя выручка: 4.24e+08\n",
      "95% интервал: от -1.03e+08 до 9.43e+08\n",
      "Вероятность убытков: 6.1%\n",
      "\n",
      "Первый регион\n",
      "Средняя выручка: 5.36e+08\n",
      "95% интервал: от 1.07e+08 до 9.92e+08\n",
      "Вероятность убытков: 0.6%\n",
      "\n",
      "Второй регион\n",
      "Средняя выручка: 3.65e+08\n",
      "95% интервал: от -1.94e+08 до 9.38e+08\n",
      "Вероятность убытков: 11.1%\n"
     ]
    }
   ],
   "source": [
    "target_0_valid = pd.Series(target_0_valid)\n",
    "predicted_valid_0 = pd.Series(predicted_valid_0, index=target_0_valid.index)\n",
    "\n",
    "values = []\n",
    "for i in range(1000):\n",
    "    target_subsample = target_0_valid.sample(n=500, replace=True, random_state=state)\n",
    "    probs_subsample = predicted_valid_0[target_subsample.index]  \n",
    "    values.append(revenue(target_subsample, probs_subsample, quantity))\n",
    "\n",
    "values = pd.Series(values)\n",
    "lower = values.quantile(0.025)\n",
    "upper = values.quantile(0.975)\n",
    "\n",
    "mean = values.mean()\n",
    "print(f\"Нулевой регион\\nСредняя прибыль: {mean:.2e}\")\n",
    "print(f\"95% интервал: от {lower:.2e} до {upper:.2e}\")\n",
    "print(f\"Вероятность убытков: {scipy.stats.percentileofscore(values, 0):.1f}%\")\n",
    "\n",
    "target_1_valid = pd.Series(target_1_valid)\n",
    "predicted_valid_1 = pd.Series(predicted_valid_1, index=target_1_valid.index)\n",
    "\n",
    "values = []\n",
    "for i in range(1000):\n",
    "    target_subsample = target_1_valid.sample(n=500, replace=True, random_state=state)\n",
    "    probs_subsample = predicted_valid_1[target_subsample.index]  \n",
    "    values.append(revenue(target_subsample, probs_subsample, quantity))\n",
    "\n",
    "values = pd.Series(values)\n",
    "lower = values.quantile(0.025)\n",
    "upper = values.quantile(0.975)\n",
    "\n",
    "mean = values.mean()\n",
    "print(f\"\\nПервый регион\\nСредняя прибыль: {mean:.2e}\")\n",
    "print(f\"95% интервал: от {lower:.2e} до {upper:.2e}\")\n",
    "print(f\"Вероятность убытков: {scipy.stats.percentileofscore(values, 0):.1f}%\")\n",
    "\n",
    "target_2_valid = pd.Series(target_2_valid)\n",
    "predicted_valid_2 = pd.Series(predicted_valid_2, index=target_2_valid.index)\n",
    "\n",
    "values = []\n",
    "for i in range(1000):\n",
    "    target_subsample = target_2_valid.sample(n=500, replace=True, random_state=state)\n",
    "    probs_subsample = predicted_valid_2[target_subsample.index]  \n",
    "    values.append(revenue(target_subsample, probs_subsample, quantity))\n",
    "\n",
    "values = pd.Series(values)\n",
    "lower = values.quantile(0.025)\n",
    "upper = values.quantile(0.975)\n",
    "\n",
    "mean = values.mean()\n",
    "print(f\"\\nВторой регион\\nСредняя прибыль: {mean:.2e}\")\n",
    "print(f\"95% интервал: от {lower:.2e} до {upper:.2e}\")\n",
    "print(f\"Вероятность убытков: {scipy.stats.percentileofscore(values, 0):.1f}%\")"
   ]
  },
  {
   "cell_type": "markdown",
   "metadata": {},
   "source": [
    "**Вывод**  \n",
    "\n",
    "Наиболее перспективным является Первый регион: по прогнозу там ожидается самая высокая средняя прибыль, вероятность убытков практически равна нулю.  \n",
    "Для Нулевого и Второго регионов вероятность убытков превышает отметку в 2.5%, средняя прибыль там меньше, чем в Первом регионе, поэтому их не стоит рассматривать в качестве варианта для разработки месторождений."
   ]
  }
 ],
 "metadata": {
  "ExecuteTimeLog": [
   {
    "duration": 447,
    "start_time": "2023-07-16T09:50:58.501Z"
   },
   {
    "duration": 388,
    "start_time": "2023-07-16T09:50:59.786Z"
   },
   {
    "duration": 193,
    "start_time": "2023-07-16T09:51:10.958Z"
   },
   {
    "duration": 540,
    "start_time": "2023-07-16T09:51:51.542Z"
   },
   {
    "duration": 414,
    "start_time": "2023-07-16T09:52:28.833Z"
   },
   {
    "duration": 507,
    "start_time": "2023-07-16T09:52:55.252Z"
   },
   {
    "duration": 412,
    "start_time": "2023-07-16T09:53:09.504Z"
   },
   {
    "duration": 444,
    "start_time": "2023-07-16T09:53:32.636Z"
   },
   {
    "duration": 409,
    "start_time": "2023-07-16T09:53:48.292Z"
   },
   {
    "duration": 386,
    "start_time": "2023-07-16T09:54:51.745Z"
   },
   {
    "duration": 430,
    "start_time": "2023-07-16T09:55:25.357Z"
   },
   {
    "duration": 418,
    "start_time": "2023-07-16T09:59:52.989Z"
   },
   {
    "duration": 411,
    "start_time": "2023-07-16T10:00:06.444Z"
   },
   {
    "duration": 459,
    "start_time": "2023-07-16T10:00:35.530Z"
   },
   {
    "duration": 433,
    "start_time": "2023-07-16T10:01:52.048Z"
   },
   {
    "duration": 21,
    "start_time": "2023-07-16T10:04:22.615Z"
   },
   {
    "duration": 25,
    "start_time": "2023-07-16T10:04:28.408Z"
   },
   {
    "duration": 58,
    "start_time": "2023-07-16T10:04:51.472Z"
   },
   {
    "duration": 67,
    "start_time": "2023-07-16T10:05:06.252Z"
   },
   {
    "duration": 63,
    "start_time": "2023-07-16T10:05:23.850Z"
   },
   {
    "duration": 1130,
    "start_time": "2023-07-17T18:12:56.041Z"
   },
   {
    "duration": 1107,
    "start_time": "2023-07-17T18:12:57.174Z"
   },
   {
    "duration": 95,
    "start_time": "2023-07-17T18:12:58.283Z"
   },
   {
    "duration": 48,
    "start_time": "2023-07-17T18:12:58.380Z"
   },
   {
    "duration": 39,
    "start_time": "2023-07-17T18:14:57.112Z"
   },
   {
    "duration": 90,
    "start_time": "2023-07-17T18:16:35.968Z"
   },
   {
    "duration": 24,
    "start_time": "2023-07-17T18:46:06.303Z"
   },
   {
    "duration": 10,
    "start_time": "2023-07-17T18:46:12.271Z"
   },
   {
    "duration": 46,
    "start_time": "2023-07-17T18:47:10.458Z"
   },
   {
    "duration": 134,
    "start_time": "2023-07-17T18:48:09.859Z"
   },
   {
    "duration": 24,
    "start_time": "2023-07-17T18:48:14.758Z"
   },
   {
    "duration": 529,
    "start_time": "2023-07-17T18:48:17.534Z"
   },
   {
    "duration": 91,
    "start_time": "2023-07-17T18:48:18.066Z"
   },
   {
    "duration": 11,
    "start_time": "2023-07-17T18:48:18.159Z"
   },
   {
    "duration": 41,
    "start_time": "2023-07-17T18:48:19.288Z"
   },
   {
    "duration": 3,
    "start_time": "2023-07-17T18:50:34.454Z"
   },
   {
    "duration": 20,
    "start_time": "2023-07-17T18:51:59.987Z"
   },
   {
    "duration": 1170,
    "start_time": "2023-07-17T18:52:07.374Z"
   },
   {
    "duration": 512,
    "start_time": "2023-07-17T18:52:08.546Z"
   },
   {
    "duration": 81,
    "start_time": "2023-07-17T18:52:09.059Z"
   },
   {
    "duration": 12,
    "start_time": "2023-07-17T18:52:09.142Z"
   },
   {
    "duration": 72,
    "start_time": "2023-07-17T18:52:09.156Z"
   },
   {
    "duration": 114,
    "start_time": "2023-07-17T18:52:09.230Z"
   },
   {
    "duration": 21,
    "start_time": "2023-07-17T18:54:44.130Z"
   },
   {
    "duration": 17,
    "start_time": "2023-07-17T18:55:00.446Z"
   },
   {
    "duration": 14,
    "start_time": "2023-07-17T19:04:53.949Z"
   },
   {
    "duration": 17,
    "start_time": "2023-07-17T19:05:21.142Z"
   },
   {
    "duration": 9,
    "start_time": "2023-07-17T19:10:03.242Z"
   },
   {
    "duration": 1336,
    "start_time": "2023-07-17T19:10:07.792Z"
   },
   {
    "duration": 0,
    "start_time": "2023-07-17T19:10:09.130Z"
   },
   {
    "duration": 0,
    "start_time": "2023-07-17T19:10:09.132Z"
   },
   {
    "duration": 0,
    "start_time": "2023-07-17T19:10:09.133Z"
   },
   {
    "duration": 0,
    "start_time": "2023-07-17T19:10:09.134Z"
   },
   {
    "duration": 0,
    "start_time": "2023-07-17T19:10:09.136Z"
   },
   {
    "duration": 1167,
    "start_time": "2023-07-17T19:10:26.930Z"
   },
   {
    "duration": 591,
    "start_time": "2023-07-17T19:10:28.099Z"
   },
   {
    "duration": 80,
    "start_time": "2023-07-17T19:10:28.691Z"
   },
   {
    "duration": 14,
    "start_time": "2023-07-17T19:10:28.773Z"
   },
   {
    "duration": 76,
    "start_time": "2023-07-17T19:10:28.789Z"
   },
   {
    "duration": 19,
    "start_time": "2023-07-17T19:10:28.867Z"
   },
   {
    "duration": 92,
    "start_time": "2023-07-17T19:10:39.925Z"
   },
   {
    "duration": 14,
    "start_time": "2023-07-17T19:11:28.574Z"
   },
   {
    "duration": 15,
    "start_time": "2023-07-17T19:11:37.729Z"
   },
   {
    "duration": 15,
    "start_time": "2023-07-17T19:11:52.626Z"
   },
   {
    "duration": 20,
    "start_time": "2023-07-17T19:13:01.780Z"
   },
   {
    "duration": 29,
    "start_time": "2023-07-17T19:13:15.500Z"
   },
   {
    "duration": 15,
    "start_time": "2023-07-17T19:13:24.029Z"
   },
   {
    "duration": 16,
    "start_time": "2023-07-17T19:13:30.073Z"
   },
   {
    "duration": 53,
    "start_time": "2023-07-18T18:34:40.323Z"
   },
   {
    "duration": 1139,
    "start_time": "2023-07-18T18:34:44.784Z"
   },
   {
    "duration": 922,
    "start_time": "2023-07-18T18:34:45.925Z"
   },
   {
    "duration": 72,
    "start_time": "2023-07-18T18:34:46.849Z"
   },
   {
    "duration": 12,
    "start_time": "2023-07-18T18:34:46.922Z"
   },
   {
    "duration": 51,
    "start_time": "2023-07-18T18:34:46.936Z"
   },
   {
    "duration": 87,
    "start_time": "2023-07-18T18:34:46.989Z"
   },
   {
    "duration": 109,
    "start_time": "2023-07-18T18:34:47.079Z"
   },
   {
    "duration": 192,
    "start_time": "2023-07-18T18:34:47.191Z"
   },
   {
    "duration": 9,
    "start_time": "2023-07-18T18:35:04.963Z"
   },
   {
    "duration": 23,
    "start_time": "2023-07-18T18:35:13.990Z"
   },
   {
    "duration": 9,
    "start_time": "2023-07-18T18:35:32.657Z"
   },
   {
    "duration": 10,
    "start_time": "2023-07-18T18:36:15.574Z"
   },
   {
    "duration": 15,
    "start_time": "2023-07-18T18:37:06.029Z"
   },
   {
    "duration": 31,
    "start_time": "2023-07-18T18:37:28.121Z"
   },
   {
    "duration": 18,
    "start_time": "2023-07-18T18:37:49.103Z"
   },
   {
    "duration": 20,
    "start_time": "2023-07-18T19:03:08.118Z"
   },
   {
    "duration": 15,
    "start_time": "2023-07-18T19:03:09.883Z"
   },
   {
    "duration": 15,
    "start_time": "2023-07-18T19:03:11.692Z"
   },
   {
    "duration": 3,
    "start_time": "2023-07-18T19:09:00.762Z"
   },
   {
    "duration": 19,
    "start_time": "2023-07-18T19:09:27.450Z"
   },
   {
    "duration": 72,
    "start_time": "2023-07-18T19:09:35.407Z"
   },
   {
    "duration": 73,
    "start_time": "2023-07-18T19:09:46.584Z"
   },
   {
    "duration": 15,
    "start_time": "2023-07-18T19:10:04.847Z"
   },
   {
    "duration": 17,
    "start_time": "2023-07-18T19:10:09.525Z"
   },
   {
    "duration": 86,
    "start_time": "2023-07-18T19:10:26.589Z"
   },
   {
    "duration": 15,
    "start_time": "2023-07-18T19:10:35.530Z"
   },
   {
    "duration": 16,
    "start_time": "2023-07-18T19:11:33.478Z"
   },
   {
    "duration": 23,
    "start_time": "2023-07-18T19:12:04.457Z"
   },
   {
    "duration": 3,
    "start_time": "2023-07-18T19:40:21.318Z"
   },
   {
    "duration": 3,
    "start_time": "2023-07-18T19:41:15.251Z"
   },
   {
    "duration": 4,
    "start_time": "2023-07-18T19:42:27.158Z"
   },
   {
    "duration": 1181,
    "start_time": "2023-07-19T17:41:12.363Z"
   },
   {
    "duration": 875,
    "start_time": "2023-07-19T17:41:13.546Z"
   },
   {
    "duration": 81,
    "start_time": "2023-07-19T17:41:14.423Z"
   },
   {
    "duration": 17,
    "start_time": "2023-07-19T17:41:14.516Z"
   },
   {
    "duration": 62,
    "start_time": "2023-07-19T17:41:14.535Z"
   },
   {
    "duration": 58,
    "start_time": "2023-07-19T17:41:14.599Z"
   },
   {
    "duration": 137,
    "start_time": "2023-07-19T17:41:14.658Z"
   },
   {
    "duration": 161,
    "start_time": "2023-07-19T17:41:14.797Z"
   },
   {
    "duration": 95,
    "start_time": "2023-07-19T17:41:14.960Z"
   },
   {
    "duration": 106,
    "start_time": "2023-07-19T17:42:34.775Z"
   },
   {
    "duration": 9,
    "start_time": "2023-07-19T17:42:49.618Z"
   },
   {
    "duration": 6,
    "start_time": "2023-07-19T17:43:31.159Z"
   },
   {
    "duration": 8,
    "start_time": "2023-07-19T17:43:37.268Z"
   },
   {
    "duration": 9,
    "start_time": "2023-07-19T17:43:44.786Z"
   },
   {
    "duration": 8,
    "start_time": "2023-07-19T17:43:50.702Z"
   },
   {
    "duration": 10,
    "start_time": "2023-07-19T17:45:02.370Z"
   },
   {
    "duration": 9,
    "start_time": "2023-07-19T17:45:10.335Z"
   },
   {
    "duration": 15,
    "start_time": "2023-07-19T17:45:32.662Z"
   },
   {
    "duration": 9,
    "start_time": "2023-07-19T17:45:40.357Z"
   },
   {
    "duration": 8,
    "start_time": "2023-07-19T17:45:51.298Z"
   },
   {
    "duration": 8,
    "start_time": "2023-07-19T17:46:30.890Z"
   },
   {
    "duration": 8,
    "start_time": "2023-07-19T17:46:35.053Z"
   },
   {
    "duration": 8,
    "start_time": "2023-07-19T17:46:38.702Z"
   },
   {
    "duration": 8,
    "start_time": "2023-07-19T17:48:19.554Z"
   },
   {
    "duration": 13,
    "start_time": "2023-07-19T17:48:34.991Z"
   },
   {
    "duration": 10,
    "start_time": "2023-07-19T17:48:42.476Z"
   },
   {
    "duration": 5,
    "start_time": "2023-07-19T17:48:54.883Z"
   },
   {
    "duration": 8,
    "start_time": "2023-07-19T17:49:25.995Z"
   },
   {
    "duration": 9,
    "start_time": "2023-07-19T17:49:33.865Z"
   },
   {
    "duration": 10,
    "start_time": "2023-07-19T17:49:53.562Z"
   },
   {
    "duration": 9,
    "start_time": "2023-07-19T17:51:26.193Z"
   },
   {
    "duration": 9,
    "start_time": "2023-07-19T17:51:48.350Z"
   },
   {
    "duration": 9,
    "start_time": "2023-07-19T17:51:58.556Z"
   },
   {
    "duration": 8,
    "start_time": "2023-07-19T17:52:10.002Z"
   },
   {
    "duration": 8,
    "start_time": "2023-07-19T17:52:28.432Z"
   },
   {
    "duration": 1318,
    "start_time": "2023-07-19T17:53:35.047Z"
   },
   {
    "duration": 12,
    "start_time": "2023-07-19T17:54:44.036Z"
   },
   {
    "duration": 8,
    "start_time": "2023-07-19T17:54:52.093Z"
   },
   {
    "duration": 9,
    "start_time": "2023-07-19T17:55:00.944Z"
   },
   {
    "duration": 8,
    "start_time": "2023-07-19T17:56:45.177Z"
   },
   {
    "duration": 7,
    "start_time": "2023-07-19T17:58:18.803Z"
   },
   {
    "duration": 7,
    "start_time": "2023-07-19T17:58:24.891Z"
   },
   {
    "duration": 16,
    "start_time": "2023-07-19T17:59:16.642Z"
   },
   {
    "duration": 3,
    "start_time": "2023-07-19T19:13:16.863Z"
   },
   {
    "duration": 11,
    "start_time": "2023-07-19T19:14:55.527Z"
   },
   {
    "duration": 12,
    "start_time": "2023-07-19T19:15:58.663Z"
   },
   {
    "duration": 14,
    "start_time": "2023-07-19T19:18:28.224Z"
   },
   {
    "duration": 1088,
    "start_time": "2023-07-19T19:19:43.213Z"
   },
   {
    "duration": 488,
    "start_time": "2023-07-19T19:19:44.304Z"
   },
   {
    "duration": 88,
    "start_time": "2023-07-19T19:19:44.793Z"
   },
   {
    "duration": 14,
    "start_time": "2023-07-19T19:19:44.882Z"
   },
   {
    "duration": 544,
    "start_time": "2023-07-19T19:19:44.898Z"
   },
   {
    "duration": 21,
    "start_time": "2023-07-19T19:19:45.444Z"
   },
   {
    "duration": 200,
    "start_time": "2023-07-19T19:19:45.467Z"
   },
   {
    "duration": 199,
    "start_time": "2023-07-19T19:19:45.669Z"
   },
   {
    "duration": 93,
    "start_time": "2023-07-19T19:19:45.870Z"
   },
   {
    "duration": 26,
    "start_time": "2023-07-19T19:19:46.051Z"
   },
   {
    "duration": 100,
    "start_time": "2023-07-19T19:19:46.079Z"
   },
   {
    "duration": 817,
    "start_time": "2023-07-19T19:24:17.369Z"
   },
   {
    "duration": 12,
    "start_time": "2023-07-19T19:24:30.375Z"
   },
   {
    "duration": 5,
    "start_time": "2023-07-19T19:25:08.813Z"
   },
   {
    "duration": 5,
    "start_time": "2023-07-19T19:25:29.110Z"
   },
   {
    "duration": 804,
    "start_time": "2023-07-19T19:26:37.814Z"
   },
   {
    "duration": 757,
    "start_time": "2023-07-19T19:27:13.571Z"
   },
   {
    "duration": 13,
    "start_time": "2023-07-19T19:27:23.205Z"
   },
   {
    "duration": 20,
    "start_time": "2023-07-19T19:27:34.122Z"
   },
   {
    "duration": 1298,
    "start_time": "2023-07-19T19:29:09.074Z"
   },
   {
    "duration": 88,
    "start_time": "2023-07-19T19:30:30.595Z"
   },
   {
    "duration": 1236,
    "start_time": "2023-07-19T19:30:51.245Z"
   },
   {
    "duration": 1278,
    "start_time": "2023-07-19T19:33:19.647Z"
   },
   {
    "duration": 1300,
    "start_time": "2023-07-19T19:34:06.305Z"
   },
   {
    "duration": 1257,
    "start_time": "2023-07-19T19:34:51.394Z"
   },
   {
    "duration": 49,
    "start_time": "2023-07-20T19:17:21.887Z"
   },
   {
    "duration": 1168,
    "start_time": "2023-07-20T19:17:26.176Z"
   },
   {
    "duration": 2354,
    "start_time": "2023-07-20T19:17:27.346Z"
   },
   {
    "duration": 97,
    "start_time": "2023-07-20T19:17:29.702Z"
   },
   {
    "duration": 17,
    "start_time": "2023-07-20T19:17:29.802Z"
   },
   {
    "duration": 64,
    "start_time": "2023-07-20T19:17:29.821Z"
   },
   {
    "duration": 125,
    "start_time": "2023-07-20T19:17:29.888Z"
   },
   {
    "duration": 106,
    "start_time": "2023-07-20T19:17:30.015Z"
   },
   {
    "duration": 295,
    "start_time": "2023-07-20T19:17:30.123Z"
   },
   {
    "duration": 207,
    "start_time": "2023-07-20T19:17:30.420Z"
   },
   {
    "duration": 57,
    "start_time": "2023-07-20T19:17:30.629Z"
   },
   {
    "duration": 1535,
    "start_time": "2023-07-20T19:17:30.688Z"
   },
   {
    "duration": 1474,
    "start_time": "2023-07-20T19:17:32.225Z"
   },
   {
    "duration": 1373,
    "start_time": "2023-07-20T19:17:33.701Z"
   },
   {
    "duration": 3,
    "start_time": "2023-07-20T19:21:24.725Z"
   },
   {
    "duration": 1466,
    "start_time": "2023-07-20T19:21:40.037Z"
   },
   {
    "duration": 1513,
    "start_time": "2023-07-20T19:23:04.938Z"
   },
   {
    "duration": 1436,
    "start_time": "2023-07-20T19:23:12.465Z"
   },
   {
    "duration": 1401,
    "start_time": "2023-07-20T19:24:17.467Z"
   },
   {
    "duration": 1372,
    "start_time": "2023-07-20T19:24:47.436Z"
   },
   {
    "duration": 1405,
    "start_time": "2023-07-20T19:25:06.123Z"
   },
   {
    "duration": 1469,
    "start_time": "2023-07-20T19:25:55.007Z"
   },
   {
    "duration": 1370,
    "start_time": "2023-07-20T19:26:00.402Z"
   },
   {
    "duration": 1534,
    "start_time": "2023-07-20T19:26:30.391Z"
   },
   {
    "duration": 1539,
    "start_time": "2023-07-20T19:26:56.349Z"
   },
   {
    "duration": 1532,
    "start_time": "2023-07-20T19:27:09.894Z"
   },
   {
    "duration": 1431,
    "start_time": "2023-07-20T19:27:24.822Z"
   },
   {
    "duration": 1615,
    "start_time": "2023-07-20T19:27:29.221Z"
   },
   {
    "duration": 1583,
    "start_time": "2023-07-20T19:27:53.377Z"
   },
   {
    "duration": 1606,
    "start_time": "2023-07-20T19:27:55.009Z"
   },
   {
    "duration": 1443,
    "start_time": "2023-07-20T19:28:48.641Z"
   },
   {
    "duration": 1363,
    "start_time": "2023-07-20T19:29:12.275Z"
   },
   {
    "duration": 1502,
    "start_time": "2023-07-20T19:29:15.271Z"
   },
   {
    "duration": 4134,
    "start_time": "2023-07-20T19:33:58.096Z"
   },
   {
    "duration": 4164,
    "start_time": "2023-07-20T19:34:20.907Z"
   },
   {
    "duration": 1085,
    "start_time": "2023-07-20T19:34:35.658Z"
   },
   {
    "duration": 460,
    "start_time": "2023-07-20T19:34:36.745Z"
   },
   {
    "duration": 68,
    "start_time": "2023-07-20T19:34:37.207Z"
   },
   {
    "duration": 12,
    "start_time": "2023-07-20T19:34:37.277Z"
   },
   {
    "duration": 54,
    "start_time": "2023-07-20T19:34:37.290Z"
   },
   {
    "duration": 71,
    "start_time": "2023-07-20T19:34:37.346Z"
   },
   {
    "duration": 100,
    "start_time": "2023-07-20T19:34:37.420Z"
   },
   {
    "duration": 95,
    "start_time": "2023-07-20T19:34:37.522Z"
   },
   {
    "duration": 101,
    "start_time": "2023-07-20T19:34:37.619Z"
   },
   {
    "duration": 102,
    "start_time": "2023-07-20T19:34:37.723Z"
   },
   {
    "duration": 11,
    "start_time": "2023-07-20T19:34:37.827Z"
   },
   {
    "duration": 4080,
    "start_time": "2023-07-20T19:34:37.839Z"
   },
   {
    "duration": 17,
    "start_time": "2023-07-20T19:42:55.302Z"
   },
   {
    "duration": 15,
    "start_time": "2023-07-20T19:43:04.482Z"
   }
  ],
  "kernelspec": {
   "display_name": "Python 3 (ipykernel)",
   "language": "python",
   "name": "python3"
  },
  "language_info": {
   "codemirror_mode": {
    "name": "ipython",
    "version": 3
   },
   "file_extension": ".py",
   "mimetype": "text/x-python",
   "name": "python",
   "nbconvert_exporter": "python",
   "pygments_lexer": "ipython3",
   "version": "3.9.13"
  },
  "toc": {
   "base_numbering": 1,
   "nav_menu": {},
   "number_sections": true,
   "sideBar": true,
   "skip_h1_title": true,
   "title_cell": "Table of Contents",
   "title_sidebar": "Contents",
   "toc_cell": false,
   "toc_position": {},
   "toc_section_display": true,
   "toc_window_display": false
  }
 },
 "nbformat": 4,
 "nbformat_minor": 2
}
