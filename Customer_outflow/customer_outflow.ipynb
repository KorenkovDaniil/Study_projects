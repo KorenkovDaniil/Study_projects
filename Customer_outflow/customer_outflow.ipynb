{
 "cells": [
  {
   "cell_type": "markdown",
   "metadata": {},
   "source": [
    "# Отток клиентов"
   ]
  },
  {
   "cell_type": "markdown",
   "metadata": {},
   "source": [
    "Из «Бета-Банка» стали уходить клиенты. Необходимо спрогнозировать, уйдёт клиент из банка в ближайшее время или нет. Предоставлены исторические данные о поведении клиентов и расторжении договоров с банком. \n",
    "\n",
    "Нужно построить модель с предельно большим значением *F1*-меры, минимум 0.59. \n",
    "\n",
    "Источник данных: [https://www.kaggle.com/barelydedicated/bank-customer-churn-modeling](https://www.kaggle.com/barelydedicated/bank-customer-churn-modeling)"
   ]
  },
  {
   "cell_type": "markdown",
   "metadata": {
    "toc": true
   },
   "source": [
    "<h1>Содержание<span class=\"tocSkip\"></span></h1>\n",
    "<div class=\"toc\"><ul class=\"toc-item\"><li><span><a href=\"#Подготовка-данных\" data-toc-modified-id=\"Подготовка-данных-1\"><span class=\"toc-item-num\">1&nbsp;&nbsp;</span>Подготовка данных</a></span><ul class=\"toc-item\"><li><span><a href=\"#Импорт-библиотек,-загрузка-данных\" data-toc-modified-id=\"Импорт-библиотек,-загрузка-данных-1.1\"><span class=\"toc-item-num\">1.1&nbsp;&nbsp;</span>Импорт библиотек, загрузка данных</a></span></li><li><span><a href=\"#Подготовка-признаков\" data-toc-modified-id=\"Подготовка-признаков-1.2\"><span class=\"toc-item-num\">1.2&nbsp;&nbsp;</span>Подготовка признаков</a></span></li><li><span><a href=\"#Разделение-данных-на-выборки\" data-toc-modified-id=\"Разделение-данных-на-выборки-1.3\"><span class=\"toc-item-num\">1.3&nbsp;&nbsp;</span>Разделение данных на выборки</a></span></li><li><span><a href=\"#OHE-и-масштабирование\" data-toc-modified-id=\"OHE-и-масштабирование-1.4\"><span class=\"toc-item-num\">1.4&nbsp;&nbsp;</span>OHE и масштабирование</a></span></li></ul></li><li><span><a href=\"#Исследование-задачи\" data-toc-modified-id=\"Исследование-задачи-2\"><span class=\"toc-item-num\">2&nbsp;&nbsp;</span>Исследование задачи</a></span><ul class=\"toc-item\"><li><span><a href=\"#Дисбаланс-классов\" data-toc-modified-id=\"Дисбаланс-классов-2.1\"><span class=\"toc-item-num\">2.1&nbsp;&nbsp;</span>Дисбаланс классов</a></span></li><li><span><a href=\"#Логистическая-регрессия-без-учета-дисбаланса\" data-toc-modified-id=\"Логистическая-регрессия-без-учета-дисбаланса-2.2\"><span class=\"toc-item-num\">2.2&nbsp;&nbsp;</span>Логистическая регрессия без учета дисбаланса</a></span></li><li><span><a href=\"#Решающее-дерево-без-учета-дисбаланса\" data-toc-modified-id=\"Решающее-дерево-без-учета-дисбаланса-2.3\"><span class=\"toc-item-num\">2.3&nbsp;&nbsp;</span>Решающее дерево без учета дисбаланса</a></span></li><li><span><a href=\"#Случайный-лес-без-учета-дисбаланса\" data-toc-modified-id=\"Случайный-лес-без-учета-дисбаланса-2.4\"><span class=\"toc-item-num\">2.4&nbsp;&nbsp;</span>Случайный лес без учета дисбаланса</a></span></li></ul></li><li><span><a href=\"#Борьба-с-дисбалансом\" data-toc-modified-id=\"Борьба-с-дисбалансом-3\"><span class=\"toc-item-num\">3&nbsp;&nbsp;</span>Борьба с дисбалансом</a></span><ul class=\"toc-item\"><li><span><a href=\"#Масштабирование-признаков\" data-toc-modified-id=\"Масштабирование-признаков-3.1\"><span class=\"toc-item-num\">3.1&nbsp;&nbsp;</span>Масштабирование признаков</a></span></li><li><span><a href=\"#Увеличение-выборки\" data-toc-modified-id=\"Увеличение-выборки-3.2\"><span class=\"toc-item-num\">3.2&nbsp;&nbsp;</span>Увеличение выборки</a></span></li><li><span><a href=\"#Проверка-моделей-с-учетом-дисбаланса\" data-toc-modified-id=\"Проверка-моделей-с-учетом-дисбаланса-3.3\"><span class=\"toc-item-num\">3.3&nbsp;&nbsp;</span>Проверка моделей с учетом дисбаланса</a></span><ul class=\"toc-item\"><li><span><a href=\"#Логистическая-регрессия\" data-toc-modified-id=\"Логистическая-регрессия-3.3.1\"><span class=\"toc-item-num\">3.3.1&nbsp;&nbsp;</span>Логистическая регрессия</a></span></li><li><span><a href=\"#Решающее-дерево\" data-toc-modified-id=\"Решающее-дерево-3.3.2\"><span class=\"toc-item-num\">3.3.2&nbsp;&nbsp;</span>Решающее дерево</a></span></li><li><span><a href=\"#Случайный-лес\" data-toc-modified-id=\"Случайный-лес-3.3.3\"><span class=\"toc-item-num\">3.3.3&nbsp;&nbsp;</span>Случайный лес</a></span></li></ul></li></ul></li><li><span><a href=\"#Тестирование-модели\" data-toc-modified-id=\"Тестирование-модели-4\"><span class=\"toc-item-num\">4&nbsp;&nbsp;</span>Тестирование модели</a>"
   ]
  },
  {
   "cell_type": "markdown",
   "metadata": {},
   "source": [
    "## Подготовка данных"
   ]
  },
  {
   "cell_type": "markdown",
   "metadata": {},
   "source": [
    "### Импорт библиотек, загрузка данных"
   ]
  },
  {
   "cell_type": "code",
   "execution_count": 24,
   "metadata": {},
   "outputs": [],
   "source": [
    "#!pip install scikit-learn==1.1.3"
   ]
  },
  {
   "cell_type": "code",
   "execution_count": 2,
   "metadata": {},
   "outputs": [],
   "source": [
    "import pandas as pd\n",
    "import matplotlib.pyplot as plt\n",
    "from sklearn.linear_model import LogisticRegression\n",
    "from sklearn.tree import DecisionTreeClassifier\n",
    "from sklearn.ensemble import RandomForestClassifier\n",
    "from sklearn.metrics import confusion_matrix, recall_score, precision_score, f1_score, roc_auc_score, accuracy_score\n",
    "from sklearn.model_selection import train_test_split\n",
    "from sklearn.preprocessing import StandardScaler, OneHotEncoder\n",
    "from sklearn.utils import shuffle\n",
    "from sklearn.dummy import DummyClassifier"
   ]
  },
  {
   "cell_type": "code",
   "execution_count": 3,
   "metadata": {},
   "outputs": [
    {
     "data": {
      "text/html": [
       "<div>\n",
       "<style scoped>\n",
       "    .dataframe tbody tr th:only-of-type {\n",
       "        vertical-align: middle;\n",
       "    }\n",
       "\n",
       "    .dataframe tbody tr th {\n",
       "        vertical-align: top;\n",
       "    }\n",
       "\n",
       "    .dataframe thead th {\n",
       "        text-align: right;\n",
       "    }\n",
       "</style>\n",
       "<table border=\"1\" class=\"dataframe\">\n",
       "  <thead>\n",
       "    <tr style=\"text-align: right;\">\n",
       "      <th></th>\n",
       "      <th>RowNumber</th>\n",
       "      <th>CustomerId</th>\n",
       "      <th>Surname</th>\n",
       "      <th>CreditScore</th>\n",
       "      <th>Geography</th>\n",
       "      <th>Gender</th>\n",
       "      <th>Age</th>\n",
       "      <th>Tenure</th>\n",
       "      <th>Balance</th>\n",
       "      <th>NumOfProducts</th>\n",
       "      <th>HasCrCard</th>\n",
       "      <th>IsActiveMember</th>\n",
       "      <th>EstimatedSalary</th>\n",
       "      <th>Exited</th>\n",
       "    </tr>\n",
       "  </thead>\n",
       "  <tbody>\n",
       "    <tr>\n",
       "      <th>0</th>\n",
       "      <td>1</td>\n",
       "      <td>15634602</td>\n",
       "      <td>Hargrave</td>\n",
       "      <td>619</td>\n",
       "      <td>France</td>\n",
       "      <td>Female</td>\n",
       "      <td>42</td>\n",
       "      <td>2.0</td>\n",
       "      <td>0.00</td>\n",
       "      <td>1</td>\n",
       "      <td>1</td>\n",
       "      <td>1</td>\n",
       "      <td>101348.88</td>\n",
       "      <td>1</td>\n",
       "    </tr>\n",
       "    <tr>\n",
       "      <th>1</th>\n",
       "      <td>2</td>\n",
       "      <td>15647311</td>\n",
       "      <td>Hill</td>\n",
       "      <td>608</td>\n",
       "      <td>Spain</td>\n",
       "      <td>Female</td>\n",
       "      <td>41</td>\n",
       "      <td>1.0</td>\n",
       "      <td>83807.86</td>\n",
       "      <td>1</td>\n",
       "      <td>0</td>\n",
       "      <td>1</td>\n",
       "      <td>112542.58</td>\n",
       "      <td>0</td>\n",
       "    </tr>\n",
       "    <tr>\n",
       "      <th>2</th>\n",
       "      <td>3</td>\n",
       "      <td>15619304</td>\n",
       "      <td>Onio</td>\n",
       "      <td>502</td>\n",
       "      <td>France</td>\n",
       "      <td>Female</td>\n",
       "      <td>42</td>\n",
       "      <td>8.0</td>\n",
       "      <td>159660.80</td>\n",
       "      <td>3</td>\n",
       "      <td>1</td>\n",
       "      <td>0</td>\n",
       "      <td>113931.57</td>\n",
       "      <td>1</td>\n",
       "    </tr>\n",
       "    <tr>\n",
       "      <th>3</th>\n",
       "      <td>4</td>\n",
       "      <td>15701354</td>\n",
       "      <td>Boni</td>\n",
       "      <td>699</td>\n",
       "      <td>France</td>\n",
       "      <td>Female</td>\n",
       "      <td>39</td>\n",
       "      <td>1.0</td>\n",
       "      <td>0.00</td>\n",
       "      <td>2</td>\n",
       "      <td>0</td>\n",
       "      <td>0</td>\n",
       "      <td>93826.63</td>\n",
       "      <td>0</td>\n",
       "    </tr>\n",
       "    <tr>\n",
       "      <th>4</th>\n",
       "      <td>5</td>\n",
       "      <td>15737888</td>\n",
       "      <td>Mitchell</td>\n",
       "      <td>850</td>\n",
       "      <td>Spain</td>\n",
       "      <td>Female</td>\n",
       "      <td>43</td>\n",
       "      <td>2.0</td>\n",
       "      <td>125510.82</td>\n",
       "      <td>1</td>\n",
       "      <td>1</td>\n",
       "      <td>1</td>\n",
       "      <td>79084.10</td>\n",
       "      <td>0</td>\n",
       "    </tr>\n",
       "  </tbody>\n",
       "</table>\n",
       "</div>"
      ],
      "text/plain": [
       "   RowNumber  CustomerId   Surname  CreditScore Geography  Gender  Age  \\\n",
       "0          1    15634602  Hargrave          619    France  Female   42   \n",
       "1          2    15647311      Hill          608     Spain  Female   41   \n",
       "2          3    15619304      Onio          502    France  Female   42   \n",
       "3          4    15701354      Boni          699    France  Female   39   \n",
       "4          5    15737888  Mitchell          850     Spain  Female   43   \n",
       "\n",
       "   Tenure    Balance  NumOfProducts  HasCrCard  IsActiveMember  \\\n",
       "0     2.0       0.00              1          1               1   \n",
       "1     1.0   83807.86              1          0               1   \n",
       "2     8.0  159660.80              3          1               0   \n",
       "3     1.0       0.00              2          0               0   \n",
       "4     2.0  125510.82              1          1               1   \n",
       "\n",
       "   EstimatedSalary  Exited  \n",
       "0        101348.88       1  \n",
       "1        112542.58       0  \n",
       "2        113931.57       1  \n",
       "3         93826.63       0  \n",
       "4         79084.10       0  "
      ]
     },
     "metadata": {},
     "output_type": "display_data"
    },
    {
     "name": "stdout",
     "output_type": "stream",
     "text": [
      "<class 'pandas.core.frame.DataFrame'>\n",
      "RangeIndex: 10000 entries, 0 to 9999\n",
      "Data columns (total 14 columns):\n",
      " #   Column           Non-Null Count  Dtype  \n",
      "---  ------           --------------  -----  \n",
      " 0   RowNumber        10000 non-null  int64  \n",
      " 1   CustomerId       10000 non-null  int64  \n",
      " 2   Surname          10000 non-null  object \n",
      " 3   CreditScore      10000 non-null  int64  \n",
      " 4   Geography        10000 non-null  object \n",
      " 5   Gender           10000 non-null  object \n",
      " 6   Age              10000 non-null  int64  \n",
      " 7   Tenure           9091 non-null   float64\n",
      " 8   Balance          10000 non-null  float64\n",
      " 9   NumOfProducts    10000 non-null  int64  \n",
      " 10  HasCrCard        10000 non-null  int64  \n",
      " 11  IsActiveMember   10000 non-null  int64  \n",
      " 12  EstimatedSalary  10000 non-null  float64\n",
      " 13  Exited           10000 non-null  int64  \n",
      "dtypes: float64(3), int64(8), object(3)\n",
      "memory usage: 1.1+ MB\n"
     ]
    }
   ],
   "source": [
    "data = pd.read_csv('Churn.csv')\n",
    "display(data.head(5))\n",
    "data.info()\n"
   ]
  },
  {
   "cell_type": "markdown",
   "metadata": {},
   "source": [
    "Данные имеют адекватный тип, пропусков нет, за исключением столбца Tenure (сколько лет человек обслуживается в банке)."
   ]
  },
  {
   "cell_type": "markdown",
   "metadata": {},
   "source": [
    "### Подготовка признаков"
   ]
  },
  {
   "cell_type": "markdown",
   "metadata": {},
   "source": [
    "Избавимся от пропусков в столбце *Tenure*.  \n",
    "Пропуск необязательно значит \"меньше года, ноль лет\", т.к. нули встречаются в значениях.  "
   ]
  },
  {
   "cell_type": "code",
   "execution_count": 4,
   "metadata": {},
   "outputs": [
    {
     "data": {
      "text/plain": [
       "array([ 2.,  1.,  8.,  7.,  4.,  6.,  3., 10.,  5.,  9.,  0., nan])"
      ]
     },
     "execution_count": 4,
     "metadata": {},
     "output_type": "execute_result"
    }
   ],
   "source": [
    "# Сделаем копию первоначального датафрейма\n",
    "df = data\n",
    "\n",
    "df['Tenure'].unique()"
   ]
  },
  {
   "cell_type": "markdown",
   "metadata": {},
   "source": [
    "Посмотрим, влияет ли длительтность обслуживания на уход клиента из банка."
   ]
  },
  {
   "cell_type": "code",
   "execution_count": 5,
   "metadata": {},
   "outputs": [
    {
     "data": {
      "image/png": "[encoded data removed]",
      "text/plain": [
       "<Figure size 558.875x500 with 1 Axes>"
      ]
     },
     "metadata": {},
     "output_type": "display_data"
    }
   ],
   "source": [
    "import seaborn as sns\n",
    "\n",
    "sns.catplot(data=df, x=\"Tenure\", hue='Exited', kind='count')\n",
    "plt.xlabel('Обслуживание, лет')\n",
    "plt.ylabel('Количество человек')\n",
    "plt.show()"
   ]
  },
  {
   "cell_type": "markdown",
   "metadata": {},
   "source": [
    "Из графика видно, что клиенты могут отказываться от услуг банка независимо от длительности времени обслуживания в нем.  \n",
    "Этот столбец можно не добавлять в обучающий датасет."
   ]
  },
  {
   "cell_type": "code",
   "execution_count": 6,
   "metadata": {},
   "outputs": [],
   "source": [
    "df = df.drop(['Tenure'], axis=1)"
   ]
  },
  {
   "cell_type": "code",
   "execution_count": 7,
   "metadata": {},
   "outputs": [
    {
     "data": {
      "text/plain": [
       "0"
      ]
     },
     "execution_count": 7,
     "metadata": {},
     "output_type": "execute_result"
    }
   ],
   "source": [
    "df.duplicated().sum()"
   ]
  },
  {
   "cell_type": "markdown",
   "metadata": {},
   "source": [
    "Дубликаты отсутствуют."
   ]
  },
  {
   "cell_type": "markdown",
   "metadata": {},
   "source": [
    "Первые три столбца лучше убрать: номер ряда и номер пользователя - уникальные значения, а имя просто не может влиять на целевой признак."
   ]
  },
  {
   "cell_type": "code",
   "execution_count": 8,
   "metadata": {},
   "outputs": [],
   "source": [
    "df = df.drop(['RowNumber', 'CustomerId', 'Surname'], axis=1)"
   ]
  },
  {
   "cell_type": "code",
   "execution_count": 9,
   "metadata": {},
   "outputs": [
    {
     "data": {
      "text/html": [
       "<div>\n",
       "<style scoped>\n",
       "    .dataframe tbody tr th:only-of-type {\n",
       "        vertical-align: middle;\n",
       "    }\n",
       "\n",
       "    .dataframe tbody tr th {\n",
       "        vertical-align: top;\n",
       "    }\n",
       "\n",
       "    .dataframe thead th {\n",
       "        text-align: right;\n",
       "    }\n",
       "</style>\n",
       "<table border=\"1\" class=\"dataframe\">\n",
       "  <thead>\n",
       "    <tr style=\"text-align: right;\">\n",
       "      <th></th>\n",
       "      <th>CreditScore</th>\n",
       "      <th>Geography</th>\n",
       "      <th>Gender</th>\n",
       "      <th>Age</th>\n",
       "      <th>Balance</th>\n",
       "      <th>NumOfProducts</th>\n",
       "      <th>HasCrCard</th>\n",
       "      <th>IsActiveMember</th>\n",
       "      <th>EstimatedSalary</th>\n",
       "      <th>Exited</th>\n",
       "    </tr>\n",
       "  </thead>\n",
       "  <tbody>\n",
       "    <tr>\n",
       "      <th>0</th>\n",
       "      <td>619</td>\n",
       "      <td>France</td>\n",
       "      <td>Female</td>\n",
       "      <td>42</td>\n",
       "      <td>0.00</td>\n",
       "      <td>1</td>\n",
       "      <td>1</td>\n",
       "      <td>1</td>\n",
       "      <td>101348.88</td>\n",
       "      <td>1</td>\n",
       "    </tr>\n",
       "    <tr>\n",
       "      <th>1</th>\n",
       "      <td>608</td>\n",
       "      <td>Spain</td>\n",
       "      <td>Female</td>\n",
       "      <td>41</td>\n",
       "      <td>83807.86</td>\n",
       "      <td>1</td>\n",
       "      <td>0</td>\n",
       "      <td>1</td>\n",
       "      <td>112542.58</td>\n",
       "      <td>0</td>\n",
       "    </tr>\n",
       "    <tr>\n",
       "      <th>2</th>\n",
       "      <td>502</td>\n",
       "      <td>France</td>\n",
       "      <td>Female</td>\n",
       "      <td>42</td>\n",
       "      <td>159660.80</td>\n",
       "      <td>3</td>\n",
       "      <td>1</td>\n",
       "      <td>0</td>\n",
       "      <td>113931.57</td>\n",
       "      <td>1</td>\n",
       "    </tr>\n",
       "  </tbody>\n",
       "</table>\n",
       "</div>"
      ],
      "text/plain": [
       "   CreditScore Geography  Gender  Age    Balance  NumOfProducts  HasCrCard  \\\n",
       "0          619    France  Female   42       0.00              1          1   \n",
       "1          608     Spain  Female   41   83807.86              1          0   \n",
       "2          502    France  Female   42  159660.80              3          1   \n",
       "\n",
       "   IsActiveMember  EstimatedSalary  Exited  \n",
       "0               1        101348.88       1  \n",
       "1               1        112542.58       0  \n",
       "2               0        113931.57       1  "
      ]
     },
     "execution_count": 9,
     "metadata": {},
     "output_type": "execute_result"
    }
   ],
   "source": [
    "df.head(3)"
   ]
  },
  {
   "cell_type": "markdown",
   "metadata": {},
   "source": [
    "### Разделение данных на выборки"
   ]
  },
  {
   "cell_type": "code",
   "execution_count": 10,
   "metadata": {},
   "outputs": [
    {
     "name": "stdout",
     "output_type": "stream",
     "text": [
      "Тренировочная выборка (6000, 10) \n",
      "Валидационная выборка (2000, 10) \n",
      "Тестовая выборка (2000, 10)\n"
     ]
    }
   ],
   "source": [
    "# отделим 60% обучающей выборки, затем разделим остаток на валидационную и тестовую\n",
    "df_train, df_buff = train_test_split(df, test_size=0.4, random_state=12345)\n",
    "df_valid, df_test = train_test_split(df_buff, test_size=0.5, random_state=12345)\n",
    "\n",
    "# проверим\n",
    "print('Тренировочная выборка', df_train.shape, \"\\nВалидационная выборка\", df_valid.shape, '\\nТестовая выборка', df_test.shape)"
   ]
  },
  {
   "cell_type": "code",
   "execution_count": 11,
   "metadata": {},
   "outputs": [],
   "source": [
    "features_train = df_train.drop(['Exited'], axis=1)\n",
    "target_train = df_train['Exited']\n",
    "\n",
    "features_valid = df_valid.drop(['Exited'], axis=1)\n",
    "target_valid = df_valid['Exited']\n",
    "\n",
    "features_test = df_test.drop(['Exited'], axis=1)\n",
    "target_test = df_test['Exited']"
   ]
  },
  {
   "cell_type": "markdown",
   "metadata": {},
   "source": [
    "### OHE и масштабирование"
   ]
  },
  {
   "cell_type": "code",
   "execution_count": 12,
   "metadata": {},
   "outputs": [
    {
     "name": "stdout",
     "output_type": "stream",
     "text": [
      "['Geography', 'Gender']\n"
     ]
    }
   ],
   "source": [
    "#категориальные признаки для OHE\n",
    "ohe_features = df.select_dtypes(include='object').columns.to_list()\n",
    "print(ohe_features)"
   ]
  },
  {
   "cell_type": "code",
   "execution_count": 13,
   "metadata": {},
   "outputs": [
    {
     "data": {
      "text/html": [
       "<div>\n",
       "<style scoped>\n",
       "    .dataframe tbody tr th:only-of-type {\n",
       "        vertical-align: middle;\n",
       "    }\n",
       "\n",
       "    .dataframe tbody tr th {\n",
       "        vertical-align: top;\n",
       "    }\n",
       "\n",
       "    .dataframe thead th {\n",
       "        text-align: right;\n",
       "    }\n",
       "</style>\n",
       "<table border=\"1\" class=\"dataframe\">\n",
       "  <thead>\n",
       "    <tr style=\"text-align: right;\">\n",
       "      <th></th>\n",
       "      <th>CreditScore</th>\n",
       "      <th>Age</th>\n",
       "      <th>Balance</th>\n",
       "      <th>NumOfProducts</th>\n",
       "      <th>HasCrCard</th>\n",
       "      <th>IsActiveMember</th>\n",
       "      <th>EstimatedSalary</th>\n",
       "      <th>Geography_Germany</th>\n",
       "      <th>Geography_Spain</th>\n",
       "      <th>Gender_Male</th>\n",
       "    </tr>\n",
       "  </thead>\n",
       "  <tbody>\n",
       "    <tr>\n",
       "      <th>7479</th>\n",
       "      <td>-0.886751</td>\n",
       "      <td>-0.373192</td>\n",
       "      <td>1.232271</td>\n",
       "      <td>1</td>\n",
       "      <td>1</td>\n",
       "      <td>0</td>\n",
       "      <td>-0.187705</td>\n",
       "      <td>0.0</td>\n",
       "      <td>1.0</td>\n",
       "      <td>1.0</td>\n",
       "    </tr>\n",
       "    <tr>\n",
       "      <th>3411</th>\n",
       "      <td>0.608663</td>\n",
       "      <td>-0.183385</td>\n",
       "      <td>0.600563</td>\n",
       "      <td>1</td>\n",
       "      <td>0</td>\n",
       "      <td>0</td>\n",
       "      <td>-0.333945</td>\n",
       "      <td>0.0</td>\n",
       "      <td>0.0</td>\n",
       "      <td>0.0</td>\n",
       "    </tr>\n",
       "    <tr>\n",
       "      <th>6027</th>\n",
       "      <td>2.052152</td>\n",
       "      <td>0.480939</td>\n",
       "      <td>1.027098</td>\n",
       "      <td>2</td>\n",
       "      <td>0</td>\n",
       "      <td>1</td>\n",
       "      <td>1.503095</td>\n",
       "      <td>1.0</td>\n",
       "      <td>0.0</td>\n",
       "      <td>1.0</td>\n",
       "    </tr>\n",
       "  </tbody>\n",
       "</table>\n",
       "</div>"
      ],
      "text/plain": [
       "      CreditScore       Age   Balance  NumOfProducts  HasCrCard  \\\n",
       "7479    -0.886751 -0.373192  1.232271              1          1   \n",
       "3411     0.608663 -0.183385  0.600563              1          0   \n",
       "6027     2.052152  0.480939  1.027098              2          0   \n",
       "\n",
       "      IsActiveMember  EstimatedSalary  Geography_Germany  Geography_Spain  \\\n",
       "7479               0        -0.187705                0.0              1.0   \n",
       "3411               0        -0.333945                0.0              0.0   \n",
       "6027               1         1.503095                1.0              0.0   \n",
       "\n",
       "      Gender_Male  \n",
       "7479          1.0  \n",
       "3411          0.0  \n",
       "6027          1.0  "
      ]
     },
     "execution_count": 13,
     "metadata": {},
     "output_type": "execute_result"
    }
   ],
   "source": [
    "encoder = OneHotEncoder(drop='first', handle_unknown='ignore', sparse=False)\n",
    "encoder.fit(features_train[ohe_features])\n",
    "\n",
    "features_train[encoder.get_feature_names_out()] = encoder.transform(features_train[ohe_features])\n",
    "features_train = features_train.drop(ohe_features, axis=1)\n",
    "features_valid[encoder.get_feature_names_out()] = encoder.transform(features_valid[ohe_features])\n",
    "features_valid = features_valid.drop(ohe_features, axis=1)\n",
    "features_test[encoder.get_feature_names_out()] = encoder.transform(features_test[ohe_features])\n",
    "features_test = features_test.drop(ohe_features, axis=1)\n",
    "\n",
    "num_features = ['CreditScore', 'Age', 'Balance', 'EstimatedSalary']\n",
    "\n",
    "scaler = StandardScaler()\n",
    "scaler.fit(features_train[num_features]) \n",
    "\n",
    "features_train[num_features] = scaler.transform(features_train[num_features])\n",
    "features_valid[num_features] = scaler.transform(features_valid[num_features])\n",
    "features_test[num_features] = scaler.transform(features_test[num_features])\n",
    "\n",
    "features_train.head(3)"
   ]
  },
  {
   "cell_type": "markdown",
   "metadata": {},
   "source": [
    "## Исследование задачи"
   ]
  },
  {
   "cell_type": "markdown",
   "metadata": {},
   "source": [
    "### Дисбаланс классов"
   ]
  },
  {
   "cell_type": "markdown",
   "metadata": {},
   "source": [
    "Оценим дисбаланс классов"
   ]
  },
  {
   "cell_type": "code",
   "execution_count": 14,
   "metadata": {},
   "outputs": [
    {
     "data": {
      "text/plain": [
       "<AxesSubplot:title={'center':'Распределение класса Exited'}>"
      ]
     },
     "metadata": {},
     "output_type": "display_data"
    }
   ],
   "source": [
    "class_frequency = df['Exited'].value_counts(normalize=True)\n",
    "display(class_frequency.plot(kind='bar', title='Распределение класса Exited'))"
   ]
  },
  {
   "cell_type": "markdown",
   "metadata": {},
   "source": [
    "Наблюдается небольшой дисбаланс классов, 80% и 20% (идеальный баланс - соотношение 1:1, т.е. 50% и 50%)"
   ]
  },
  {
   "cell_type": "markdown",
   "metadata": {},
   "source": [
    "Кроме того, у признаков разный масштаб - возраст, кредитная история, зарплата и баланс различаются на несколько порядков."
   ]
  },
  {
   "cell_type": "markdown",
   "metadata": {},
   "source": [
    "### Логистическая регрессия без учета дисбаланса"
   ]
  },
  {
   "cell_type": "code",
   "execution_count": 15,
   "metadata": {},
   "outputs": [
    {
     "data": {
      "text/plain": [
       "array([[1511,   71],\n",
       "       [ 323,   95]], dtype=int64)"
      ]
     },
     "metadata": {},
     "output_type": "display_data"
    },
    {
     "name": "stdout",
     "output_type": "stream",
     "text": [
      "F1-мера 0.3253\n"
     ]
    }
   ],
   "source": [
    "model = LogisticRegression(solver='liblinear', random_state=12345)\n",
    "model.fit(features_train, target_train)\n",
    "predicted_valid = model.predict(features_valid)\n",
    "display(confusion_matrix(target_valid, predicted_valid))\n",
    "print(f'F1-мера {f1_score(target_valid, predicted_valid):.4f}')"
   ]
  },
  {
   "cell_type": "markdown",
   "metadata": {},
   "source": [
    "F1-мера довольно мала, качество модели низкое.   \n",
    "Это объясняется дисбалансом классов признаков."
   ]
  },
  {
   "cell_type": "markdown",
   "metadata": {},
   "source": [
    "### Решающее дерево без учета дисбаланса"
   ]
  },
  {
   "cell_type": "code",
   "execution_count": 16,
   "metadata": {},
   "outputs": [
    {
     "data": {
      "text/plain": [
       "array([[1526,   56],\n",
       "       [ 231,  187]], dtype=int64)"
      ]
     },
     "metadata": {},
     "output_type": "display_data"
    },
    {
     "name": "stdout",
     "output_type": "stream",
     "text": [
      "Лучшая глубина дерева  6\n",
      "F1-мера 0.5658\n"
     ]
    }
   ],
   "source": [
    "best_score = 0\n",
    "best_depth_tree = 0\n",
    "\n",
    "for depth in range(1,7): \n",
    "    model = DecisionTreeClassifier(random_state=12345, max_depth=depth)\n",
    "    model.fit(features_train, target_train)\n",
    "    predicted_valid = model.predict(features_valid)\n",
    "    #print(\"n_estimators =\", est, \": \", end='')\n",
    "    score = f1_score(target_valid, predicted_valid)\n",
    "    #print(score)\n",
    "    if score > best_score:\n",
    "        best_score = score\n",
    "        best_depth_tree = depth\n",
    "\n",
    "        \n",
    "model = DecisionTreeClassifier(random_state=12345, max_depth=best_depth_tree)\n",
    "model.fit(features_train, target_train)\n",
    "predicted_valid = model.predict(features_valid)\n",
    "display(confusion_matrix(target_valid, predicted_valid))\n",
    "print('Лучшая глубина дерева ', best_depth_tree)\n",
    "print(f'F1-мера {f1_score(target_valid, predicted_valid):.4f}')"
   ]
  },
  {
   "cell_type": "markdown",
   "metadata": {},
   "source": [
    "Качество модели неплохое, удовлетворяет минимальной величине метрики для данного проекта."
   ]
  },
  {
   "cell_type": "markdown",
   "metadata": {},
   "source": [
    "### Случайный лес без учета дисбаланса"
   ]
  },
  {
   "cell_type": "code",
   "execution_count": 17,
   "metadata": {},
   "outputs": [
    {
     "data": {
      "text/plain": [
       "array([[1556,   26],\n",
       "       [ 275,  143]], dtype=int64)"
      ]
     },
     "metadata": {},
     "output_type": "display_data"
    },
    {
     "name": "stdout",
     "output_type": "stream",
     "text": [
      "Лучшая F1-мера равна 0.522, достигается при глубине дерева 6 и количестве деревьев 20\n"
     ]
    }
   ],
   "source": [
    "best_est_forest = 0\n",
    "best_score = 0\n",
    "best_depth_forest = 0\n",
    "\n",
    "for depth in range(1,7): \n",
    "    for est in range(10, 40, 5):\n",
    "        model = RandomForestClassifier(random_state=12345, n_estimators = est, max_depth=depth)\n",
    "        model.fit(features_train, target_train)\n",
    "        predicted_valid = model.predict(features_valid)\n",
    "        #print(\"n_estimators =\", est, \": \", end='')\n",
    "        score = f1_score(target_valid, predicted_valid)\n",
    "        #print(score)\n",
    "        if score > best_score:\n",
    "            best_score = score\n",
    "            best_est_forest = est\n",
    "            best_depth_forest = depth\n",
    "\n",
    "\n",
    "display(confusion_matrix(target_valid, predicted_valid))            \n",
    "print(f'Лучшая F1-мера равна {best_score:.3f}, достигается при глубине дерева {best_depth_forest} и количестве деревьев {best_est_forest}')"
   ]
  },
  {
   "cell_type": "markdown",
   "metadata": {},
   "source": [
    "Данная модель лучше, чем модель решающего дерева"
   ]
  },
  {
   "cell_type": "markdown",
   "metadata": {},
   "source": [
    "**Вывод**  \n",
    "\n",
    "Без учета дисбаланса классов модель логистической регрессии показала самые низкие результаты.  \n",
    "Случайный лес и решающее дерево близки по качеству.   \n",
    "После учета дисбаланса нужно подробнее рассмотреть все модели, выбрать оптимальные гиперпараметры и оставить наилучшую."
   ]
  },
  {
   "cell_type": "markdown",
   "metadata": {},
   "source": [
    "## Борьба с дисбалансом"
   ]
  },
  {
   "cell_type": "markdown",
   "metadata": {},
   "source": [
    "Произведем масштабирование и увеличение выборки (upsampling).   "
   ]
  },
  {
   "cell_type": "markdown",
   "metadata": {},
   "source": [
    "### Увеличение выборки"
   ]
  },
  {
   "cell_type": "markdown",
   "metadata": {},
   "source": [
    "Увеличение выборки будет производиться только для обучающих данных"
   ]
  },
  {
   "cell_type": "code",
   "execution_count": 18,
   "metadata": {},
   "outputs": [
    {
     "data": {
      "text/plain": [
       "(9588, 10)"
      ]
     },
     "metadata": {},
     "output_type": "display_data"
    },
    {
     "data": {
      "text/plain": [
       "(9588,)"
      ]
     },
     "metadata": {},
     "output_type": "display_data"
    }
   ],
   "source": [
    "def upsample(features, target, repeat):\n",
    "    features_zeros = features[target == 0]\n",
    "    features_ones = features[target == 1]\n",
    "    target_zeros = target[target == 0]\n",
    "    target_ones = target[target == 1]\n",
    "\n",
    "    features_upsampled = pd.concat([features_zeros] + [features_ones] * repeat)\n",
    "    target_upsampled = pd.concat([target_zeros] + [target_ones] * repeat)\n",
    "    \n",
    "    features_upsampled, target_upsampled = shuffle(\n",
    "        features_upsampled, target_upsampled, random_state=12345)\n",
    "    \n",
    "    return features_upsampled, target_upsampled\n",
    "\n",
    "features_train_up, target_train_up = upsample(features_train, target_train, 4)\n",
    "display(features_train_up.shape)\n",
    "display(target_train_up.shape)"
   ]
  },
  {
   "cell_type": "markdown",
   "metadata": {},
   "source": [
    "### Проверка моделей с учетом дисбаланса"
   ]
  },
  {
   "cell_type": "markdown",
   "metadata": {},
   "source": [
    "#### Логистическая регрессия"
   ]
  },
  {
   "cell_type": "code",
   "execution_count": 19,
   "metadata": {},
   "outputs": [
    {
     "data": {
      "text/plain": [
       "array([[1118,  464],\n",
       "       [ 134,  284]], dtype=int64)"
      ]
     },
     "metadata": {},
     "output_type": "display_data"
    },
    {
     "name": "stdout",
     "output_type": "stream",
     "text": [
      "F1-мера 0.4871\n"
     ]
    }
   ],
   "source": [
    "model = LogisticRegression(solver='liblinear', random_state=12345, class_weight='balanced')\n",
    "model.fit(features_train_up, target_train_up)\n",
    "predicted_valid = model.predict(features_valid)\n",
    "display(confusion_matrix(target_valid, predicted_valid))\n",
    "print(f'F1-мера {f1_score(target_valid, predicted_valid):.4f}')"
   ]
  },
  {
   "cell_type": "markdown",
   "metadata": {},
   "source": [
    "После действий по борьбе с дисбалансом качество модели логистической регрессии существенно выросло."
   ]
  },
  {
   "cell_type": "markdown",
   "metadata": {},
   "source": [
    "#### Решающее дерево"
   ]
  },
  {
   "cell_type": "code",
   "execution_count": 20,
   "metadata": {},
   "outputs": [
    {
     "data": {
      "text/plain": [
       "array([[1341,  241],\n",
       "       [ 138,  280]], dtype=int64)"
      ]
     },
     "metadata": {},
     "output_type": "display_data"
    },
    {
     "name": "stdout",
     "output_type": "stream",
     "text": [
      "Лучшая глубина дерева  5\n",
      "F1-мера 0.5964\n"
     ]
    }
   ],
   "source": [
    "best_score = 0\n",
    "best_depth_tree = 0\n",
    "\n",
    "for depth in range(1,7): \n",
    "    model = DecisionTreeClassifier(random_state=12345, max_depth=depth, class_weight='balanced')\n",
    "    model.fit(features_train_up, target_train_up)\n",
    "    predicted_valid = model.predict(features_valid)\n",
    "    score = f1_score(target_valid, predicted_valid)\n",
    "    if score > best_score:\n",
    "        best_score = score\n",
    "        best_depth_tree = depth\n",
    "        \n",
    "model = DecisionTreeClassifier(random_state=12345, max_depth=best_depth_tree, class_weight='balanced')\n",
    "model.fit(features_train_up, target_train_up)\n",
    "predicted_valid = model.predict(features_valid)\n",
    "display(confusion_matrix(target_valid, predicted_valid))\n",
    "print('Лучшая глубина дерева ', best_depth_tree)\n",
    "print(f'F1-мера {f1_score(target_valid, predicted_valid):.4f}')"
   ]
  },
  {
   "cell_type": "markdown",
   "metadata": {},
   "source": [
    "Качество модели решающего дерева немного выросло."
   ]
  },
  {
   "cell_type": "markdown",
   "metadata": {},
   "source": [
    "#### Случайный лес"
   ]
  },
  {
   "cell_type": "code",
   "execution_count": 21,
   "metadata": {},
   "outputs": [
    {
     "data": {
      "text/plain": [
       "array([[1301,  281],\n",
       "       [ 108,  310]], dtype=int64)"
      ]
     },
     "metadata": {},
     "output_type": "display_data"
    },
    {
     "name": "stdout",
     "output_type": "stream",
     "text": [
      "F1-мера 0.6145, глубина дерева 6, количество деревьев 33\n"
     ]
    }
   ],
   "source": [
    "best_est_forest = 0\n",
    "best_score = 0\n",
    "best_depth_forest = 0\n",
    "\n",
    "for depth in range(4,7): \n",
    "    for est in range(15, 46, 1):\n",
    "        model = RandomForestClassifier(random_state=12345, n_estimators = est, max_depth=depth, class_weight='balanced')\n",
    "        model.fit(features_train_up, target_train_up)\n",
    "        predicted_valid = model.predict(features_valid)\n",
    "        score = f1_score(target_valid, predicted_valid)\n",
    "        if score > best_score:\n",
    "            best_score = score\n",
    "            best_est_forest = est\n",
    "            best_depth_forest = depth\n",
    "\n",
    "\n",
    "model = RandomForestClassifier(random_state=12345, n_estimators=best_est_forest, max_depth=best_depth_forest, class_weight='balanced')\n",
    "model.fit(features_train_up, target_train_up)\n",
    "predicted_valid = model.predict(features_valid)\n",
    "display(confusion_matrix(target_valid, predicted_valid))\n",
    "print(f'F1-мера {f1_score(target_valid, predicted_valid):.4f}, глубина дерева {best_depth_forest}, количество деревьев {best_est_forest}')"
   ]
  },
  {
   "cell_type": "markdown",
   "metadata": {},
   "source": [
    "После учета дисбаланса модель случайного леса удовлетворяет требованиям к качеству в данном проекте.  "
   ]
  },
  {
   "cell_type": "markdown",
   "metadata": {},
   "source": [
    "**Вывод**  \n",
    "\n",
    "Дисбаланс существеннее всего влияет на модель логистической регрессии.  \n",
    "Модели случайного леса и решающего дерева более устойчивы к дисбалансу классов, однако избавление от дисбаланса способно улучшить их метрики."
   ]
  },
  {
   "cell_type": "markdown",
   "metadata": {},
   "source": [
    "## Тестирование модели"
   ]
  },
  {
   "cell_type": "code",
   "execution_count": 22,
   "metadata": {},
   "outputs": [
    {
     "name": "stdout",
     "output_type": "stream",
     "text": [
      "Глубина дерева 6, количество деревьев 33\n",
      "F1-мера 0.613\n",
      "AUC-ROC 0.851\n",
      "Точность 80%\n",
      "Полнота 74%\n"
     ]
    }
   ],
   "source": [
    "model_final = RandomForestClassifier(random_state=12345, n_estimators = best_est_forest, max_depth=best_depth_forest, class_weight='balanced')\n",
    "model.fit(features_train_up, target_train_up)\n",
    "predicted_test = model.predict(features_test)\n",
    "print(f'Глубина дерева {best_depth_forest}, количество деревьев {best_est_forest}')\n",
    "print(f'F1-мера {f1_score(target_test, predicted_test):.3f}')\n",
    "\n",
    "probabilities_test = model.predict_proba(features_test)\n",
    "probabilities_one_test = probabilities_test[:, 1]\n",
    "\n",
    "print(f'AUC-ROC {roc_auc_score(target_test, probabilities_one_test):.3f}')\n",
    "\n",
    "print(f'Точность {accuracy_score(target_test, predicted_test):.0%}')\n",
    "\n",
    "print(f'Полнота {recall_score(target_test, predicted_test):.0%}')"
   ]
  },
  {
   "cell_type": "markdown",
   "metadata": {},
   "source": [
    "Сравним нашу модель с константной моделью"
   ]
  },
  {
   "cell_type": "code",
   "execution_count": 23,
   "metadata": {},
   "outputs": [
    {
     "name": "stdout",
     "output_type": "stream",
     "text": [
      "Точность 21%\n",
      "F1-мера 0.349\n"
     ]
    }
   ],
   "source": [
    "dummy = DummyClassifier(strategy='constant', constant=1)\n",
    "dummy.fit(features_train_up, target_train_up)\n",
    "dummy_predict = dummy.predict(features_test)\n",
    "score = accuracy_score(dummy_predict, target_test)\n",
    "print(f'Точность {score:.0%}')\n",
    "print(f'F1-мера {f1_score(target_test, dummy_predict):.3f}')"
   ]
  },
  {
   "cell_type": "markdown",
   "metadata": {},
   "source": [
    "Качество получившейся модели довольно высокое, приведенные выше метрики говорят о хорошем результате.  \n",
    "Сравнение с константной моделью говорит о том, что модель создана правильно.  \n",
    "Значение полноты говорит о том, что модель правильно предсказала 74% ответов."
   ]
  }
 ],
 "metadata": {
  "ExecuteTimeLog": [
   {
    "duration": 609,
    "start_time": "2023-07-04T10:44:28.513Z"
   },
   {
    "duration": 64,
    "start_time": "2023-07-04T10:48:48.071Z"
   },
   {
    "duration": 91,
    "start_time": "2023-07-04T10:51:59.759Z"
   },
   {
    "duration": 28,
    "start_time": "2023-07-04T10:52:06.304Z"
   },
   {
    "duration": 24,
    "start_time": "2023-07-04T10:52:18.524Z"
   },
   {
    "duration": 5,
    "start_time": "2023-07-04T10:52:31.591Z"
   },
   {
    "duration": 1411,
    "start_time": "2023-07-04T10:54:05.584Z"
   },
   {
    "duration": 8,
    "start_time": "2023-07-04T10:54:14.290Z"
   },
   {
    "duration": 5,
    "start_time": "2023-07-04T10:54:31.553Z"
   },
   {
    "duration": 63,
    "start_time": "2023-07-04T11:09:45.535Z"
   },
   {
    "duration": 5,
    "start_time": "2023-07-04T11:09:46.720Z"
   },
   {
    "duration": 8,
    "start_time": "2023-07-04T11:10:00.735Z"
   },
   {
    "duration": 76,
    "start_time": "2023-07-04T11:10:45.102Z"
   },
   {
    "duration": 803,
    "start_time": "2023-07-04T11:10:57.815Z"
   },
   {
    "duration": 7,
    "start_time": "2023-07-04T11:11:00.848Z"
   },
   {
    "duration": 12,
    "start_time": "2023-07-04T11:11:02.132Z"
   },
   {
    "duration": 5,
    "start_time": "2023-07-04T11:12:49.936Z"
   },
   {
    "duration": 5,
    "start_time": "2023-07-04T11:13:10.124Z"
   },
   {
    "duration": 8,
    "start_time": "2023-07-04T11:14:30.698Z"
   },
   {
    "duration": 33,
    "start_time": "2023-07-04T11:25:41.862Z"
   },
   {
    "duration": 5,
    "start_time": "2023-07-04T11:25:55.190Z"
   },
   {
    "duration": 51,
    "start_time": "2023-07-08T09:03:45.449Z"
   },
   {
    "duration": 1323,
    "start_time": "2023-07-08T09:03:50.456Z"
   },
   {
    "duration": 0,
    "start_time": "2023-07-08T09:03:51.781Z"
   },
   {
    "duration": 0,
    "start_time": "2023-07-08T09:03:51.782Z"
   },
   {
    "duration": 0,
    "start_time": "2023-07-08T09:03:51.784Z"
   },
   {
    "duration": 0,
    "start_time": "2023-07-08T09:03:51.785Z"
   },
   {
    "duration": 0,
    "start_time": "2023-07-08T09:03:51.787Z"
   },
   {
    "duration": 24,
    "start_time": "2023-07-08T09:03:57.657Z"
   },
   {
    "duration": 71,
    "start_time": "2023-07-08T09:04:16.649Z"
   },
   {
    "duration": 6,
    "start_time": "2023-07-08T09:04:20.214Z"
   },
   {
    "duration": 4,
    "start_time": "2023-07-08T09:04:23.415Z"
   },
   {
    "duration": 17,
    "start_time": "2023-07-08T09:04:24.278Z"
   },
   {
    "duration": 10,
    "start_time": "2023-07-08T09:05:36.540Z"
   },
   {
    "duration": 8,
    "start_time": "2023-07-08T09:05:59.829Z"
   },
   {
    "duration": 15,
    "start_time": "2023-07-08T09:06:20.910Z"
   },
   {
    "duration": 1175,
    "start_time": "2023-07-08T09:06:44.347Z"
   },
   {
    "duration": 4,
    "start_time": "2023-07-08T09:06:45.523Z"
   },
   {
    "duration": 12,
    "start_time": "2023-07-08T09:06:45.530Z"
   },
   {
    "duration": 3,
    "start_time": "2023-07-08T09:06:45.544Z"
   },
   {
    "duration": 9,
    "start_time": "2023-07-08T09:06:45.549Z"
   },
   {
    "duration": 7,
    "start_time": "2023-07-08T09:06:45.587Z"
   },
   {
    "duration": 10,
    "start_time": "2023-07-08T09:06:58.708Z"
   },
   {
    "duration": 12,
    "start_time": "2023-07-08T09:07:23.203Z"
   },
   {
    "duration": 62,
    "start_time": "2023-07-08T09:17:13.588Z"
   },
   {
    "duration": 10,
    "start_time": "2023-07-08T09:17:27.764Z"
   },
   {
    "duration": 110,
    "start_time": "2023-07-08T09:17:34.033Z"
   },
   {
    "duration": 1178,
    "start_time": "2023-07-08T09:17:42.777Z"
   },
   {
    "duration": 4,
    "start_time": "2023-07-08T09:17:43.957Z"
   },
   {
    "duration": 244,
    "start_time": "2023-07-08T09:17:43.963Z"
   },
   {
    "duration": 67,
    "start_time": "2023-07-08T09:17:44.209Z"
   },
   {
    "duration": 54,
    "start_time": "2023-07-08T09:17:44.279Z"
   },
   {
    "duration": 54,
    "start_time": "2023-07-08T09:17:44.335Z"
   },
   {
    "duration": 7,
    "start_time": "2023-07-08T09:17:44.391Z"
   },
   {
    "duration": 110,
    "start_time": "2023-07-08T09:17:44.399Z"
   },
   {
    "duration": 11,
    "start_time": "2023-07-08T09:19:08.903Z"
   },
   {
    "duration": 1142,
    "start_time": "2023-07-08T09:19:16.087Z"
   },
   {
    "duration": 5,
    "start_time": "2023-07-08T09:19:17.231Z"
   },
   {
    "duration": 47,
    "start_time": "2023-07-08T09:19:17.238Z"
   },
   {
    "duration": 12,
    "start_time": "2023-07-08T09:19:17.288Z"
   },
   {
    "duration": 15,
    "start_time": "2023-07-08T09:19:17.301Z"
   },
   {
    "duration": 16,
    "start_time": "2023-07-08T09:19:17.317Z"
   },
   {
    "duration": 12,
    "start_time": "2023-07-08T09:19:17.335Z"
   },
   {
    "duration": 22,
    "start_time": "2023-07-08T09:19:17.349Z"
   },
   {
    "duration": 18,
    "start_time": "2023-07-08T09:21:09.821Z"
   },
   {
    "duration": 21,
    "start_time": "2023-07-08T09:21:39.791Z"
   },
   {
    "duration": 1135,
    "start_time": "2023-07-08T09:23:31.740Z"
   },
   {
    "duration": 6,
    "start_time": "2023-07-08T09:23:32.878Z"
   },
   {
    "duration": 25,
    "start_time": "2023-07-08T09:23:32.886Z"
   },
   {
    "duration": 4,
    "start_time": "2023-07-08T09:23:32.913Z"
   },
   {
    "duration": 17,
    "start_time": "2023-07-08T09:23:32.918Z"
   },
   {
    "duration": 26,
    "start_time": "2023-07-08T09:23:32.937Z"
   },
   {
    "duration": 20,
    "start_time": "2023-07-08T09:23:32.965Z"
   },
   {
    "duration": 9,
    "start_time": "2023-07-08T09:23:32.987Z"
   },
   {
    "duration": 16,
    "start_time": "2023-07-08T09:30:05.747Z"
   },
   {
    "duration": 10,
    "start_time": "2023-07-08T09:30:17.795Z"
   },
   {
    "duration": 8,
    "start_time": "2023-07-08T09:30:38.931Z"
   },
   {
    "duration": 8,
    "start_time": "2023-07-08T09:30:43.759Z"
   },
   {
    "duration": 7,
    "start_time": "2023-07-08T09:30:53.088Z"
   },
   {
    "duration": 8,
    "start_time": "2023-07-08T09:31:07.851Z"
   },
   {
    "duration": 5,
    "start_time": "2023-07-08T09:31:26.533Z"
   },
   {
    "duration": 6,
    "start_time": "2023-07-08T09:31:38.485Z"
   },
   {
    "duration": 7,
    "start_time": "2023-07-08T09:32:46.294Z"
   },
   {
    "duration": 7,
    "start_time": "2023-07-08T09:33:06.779Z"
   },
   {
    "duration": 6,
    "start_time": "2023-07-08T09:33:45.652Z"
   },
   {
    "duration": 7,
    "start_time": "2023-07-08T09:34:01.470Z"
   },
   {
    "duration": 489,
    "start_time": "2023-07-08T10:19:36.364Z"
   },
   {
    "duration": 97,
    "start_time": "2023-07-08T10:20:21.396Z"
   },
   {
    "duration": 211,
    "start_time": "2023-07-08T10:20:29.872Z"
   },
   {
    "duration": 97,
    "start_time": "2023-07-08T10:20:39.215Z"
   },
   {
    "duration": 98,
    "start_time": "2023-07-08T10:20:49.199Z"
   },
   {
    "duration": 99,
    "start_time": "2023-07-08T10:21:06.129Z"
   },
   {
    "duration": 102,
    "start_time": "2023-07-08T10:21:14.148Z"
   },
   {
    "duration": 182,
    "start_time": "2023-07-08T10:21:17.007Z"
   },
   {
    "duration": 114,
    "start_time": "2023-07-08T10:21:31.143Z"
   },
   {
    "duration": 11,
    "start_time": "2023-07-08T10:28:24.239Z"
   },
   {
    "duration": 1156,
    "start_time": "2023-07-08T10:28:30.505Z"
   },
   {
    "duration": 5,
    "start_time": "2023-07-08T10:28:31.663Z"
   },
   {
    "duration": 43,
    "start_time": "2023-07-08T10:28:31.671Z"
   },
   {
    "duration": 10,
    "start_time": "2023-07-08T10:28:31.716Z"
   },
   {
    "duration": 48,
    "start_time": "2023-07-08T10:28:31.728Z"
   },
   {
    "duration": 36,
    "start_time": "2023-07-08T10:28:31.778Z"
   },
   {
    "duration": 22,
    "start_time": "2023-07-08T10:28:31.816Z"
   },
   {
    "duration": 14,
    "start_time": "2023-07-08T10:28:31.840Z"
   },
   {
    "duration": 351,
    "start_time": "2023-07-08T10:28:31.856Z"
   },
   {
    "duration": 4,
    "start_time": "2023-07-08T10:28:32.209Z"
   },
   {
    "duration": 109,
    "start_time": "2023-07-08T10:29:40.222Z"
   },
   {
    "duration": 15,
    "start_time": "2023-07-08T10:29:58.837Z"
   },
   {
    "duration": 1156,
    "start_time": "2023-07-08T10:30:05.324Z"
   },
   {
    "duration": 4,
    "start_time": "2023-07-08T10:30:06.481Z"
   },
   {
    "duration": 26,
    "start_time": "2023-07-08T10:30:06.487Z"
   },
   {
    "duration": 4,
    "start_time": "2023-07-08T10:30:06.514Z"
   },
   {
    "duration": 11,
    "start_time": "2023-07-08T10:30:06.520Z"
   },
   {
    "duration": 20,
    "start_time": "2023-07-08T10:30:06.532Z"
   },
   {
    "duration": 8,
    "start_time": "2023-07-08T10:30:06.553Z"
   },
   {
    "duration": 24,
    "start_time": "2023-07-08T10:30:06.562Z"
   },
   {
    "duration": 420,
    "start_time": "2023-07-08T10:30:06.587Z"
   },
   {
    "duration": 113,
    "start_time": "2023-07-08T10:30:07.009Z"
   },
   {
    "duration": 2,
    "start_time": "2023-07-08T10:30:24.110Z"
   },
   {
    "duration": 22,
    "start_time": "2023-07-08T10:31:46.377Z"
   },
   {
    "duration": 1167,
    "start_time": "2023-07-08T10:36:25.736Z"
   },
   {
    "duration": 4,
    "start_time": "2023-07-08T10:36:26.905Z"
   },
   {
    "duration": 36466,
    "start_time": "2023-07-08T10:36:26.910Z"
   },
   {
    "duration": 12,
    "start_time": "2023-07-08T10:37:03.378Z"
   },
   {
    "duration": 6,
    "start_time": "2023-07-08T10:37:03.392Z"
   },
   {
    "duration": 20,
    "start_time": "2023-07-08T10:37:03.399Z"
   },
   {
    "duration": 25,
    "start_time": "2023-07-08T10:37:03.421Z"
   },
   {
    "duration": 27,
    "start_time": "2023-07-08T10:37:03.448Z"
   },
   {
    "duration": 9,
    "start_time": "2023-07-08T10:37:03.476Z"
   },
   {
    "duration": 140,
    "start_time": "2023-07-08T10:37:03.487Z"
   },
   {
    "duration": 3,
    "start_time": "2023-07-08T10:37:03.628Z"
   },
   {
    "duration": 121,
    "start_time": "2023-07-08T10:37:03.632Z"
   },
   {
    "duration": 379,
    "start_time": "2023-07-08T10:49:42.648Z"
   },
   {
    "duration": 303,
    "start_time": "2023-07-08T10:49:58.884Z"
   },
   {
    "duration": 328,
    "start_time": "2023-07-08T10:51:11.396Z"
   },
   {
    "duration": 580,
    "start_time": "2023-07-08T10:51:32.165Z"
   },
   {
    "duration": 10,
    "start_time": "2023-07-08T10:54:47.012Z"
   },
   {
    "duration": 335,
    "start_time": "2023-07-08T10:55:27.204Z"
   },
   {
    "duration": 52,
    "start_time": "2023-07-08T10:55:51.956Z"
   },
   {
    "duration": 453,
    "start_time": "2023-07-08T10:55:56.445Z"
   },
   {
    "duration": 470,
    "start_time": "2023-07-08T11:09:46.329Z"
   },
   {
    "duration": 1375,
    "start_time": "2023-07-08T11:09:53.090Z"
   },
   {
    "duration": 6,
    "start_time": "2023-07-08T11:09:54.473Z"
   },
   {
    "duration": 509,
    "start_time": "2023-07-08T11:09:54.483Z"
   },
   {
    "duration": 10,
    "start_time": "2023-07-08T11:09:54.993Z"
   },
   {
    "duration": 12,
    "start_time": "2023-07-08T11:09:55.004Z"
   },
   {
    "duration": 32,
    "start_time": "2023-07-08T11:09:55.018Z"
   },
   {
    "duration": 54,
    "start_time": "2023-07-08T11:09:55.052Z"
   },
   {
    "duration": 15,
    "start_time": "2023-07-08T11:09:55.108Z"
   },
   {
    "duration": 36,
    "start_time": "2023-07-08T11:09:55.124Z"
   },
   {
    "duration": 146,
    "start_time": "2023-07-08T11:09:55.161Z"
   },
   {
    "duration": 2,
    "start_time": "2023-07-08T11:09:55.309Z"
   },
   {
    "duration": 141,
    "start_time": "2023-07-08T11:09:55.313Z"
   },
   {
    "duration": 410,
    "start_time": "2023-07-08T11:11:03.492Z"
   },
   {
    "duration": 488,
    "start_time": "2023-07-08T11:11:09.450Z"
   },
   {
    "duration": 395,
    "start_time": "2023-07-08T11:11:27.709Z"
   },
   {
    "duration": 1442,
    "start_time": "2023-07-08T11:19:49.001Z"
   },
   {
    "duration": 4,
    "start_time": "2023-07-08T11:19:50.445Z"
   },
   {
    "duration": 466,
    "start_time": "2023-07-08T11:19:50.451Z"
   },
   {
    "duration": 19,
    "start_time": "2023-07-08T11:19:50.919Z"
   },
   {
    "duration": 17,
    "start_time": "2023-07-08T11:19:50.939Z"
   },
   {
    "duration": 8,
    "start_time": "2023-07-08T11:19:50.957Z"
   },
   {
    "duration": 11,
    "start_time": "2023-07-08T11:19:50.975Z"
   },
   {
    "duration": 34,
    "start_time": "2023-07-08T11:19:50.988Z"
   },
   {
    "duration": 8,
    "start_time": "2023-07-08T11:19:51.024Z"
   },
   {
    "duration": 7,
    "start_time": "2023-07-08T11:19:51.034Z"
   },
   {
    "duration": 125,
    "start_time": "2023-07-08T11:19:51.043Z"
   },
   {
    "duration": 5,
    "start_time": "2023-07-08T11:19:51.170Z"
   },
   {
    "duration": 137,
    "start_time": "2023-07-08T11:19:51.177Z"
   },
   {
    "duration": 1461,
    "start_time": "2023-07-08T11:20:35.854Z"
   },
   {
    "duration": 4,
    "start_time": "2023-07-08T11:20:37.317Z"
   },
   {
    "duration": 493,
    "start_time": "2023-07-08T11:20:37.325Z"
   },
   {
    "duration": 4,
    "start_time": "2023-07-08T11:20:37.820Z"
   },
   {
    "duration": 17,
    "start_time": "2023-07-08T11:20:37.826Z"
   },
   {
    "duration": 12,
    "start_time": "2023-07-08T11:20:37.844Z"
   },
   {
    "duration": 19,
    "start_time": "2023-07-08T11:20:37.857Z"
   },
   {
    "duration": 17,
    "start_time": "2023-07-08T11:20:37.877Z"
   },
   {
    "duration": 7,
    "start_time": "2023-07-08T11:20:37.896Z"
   },
   {
    "duration": 12,
    "start_time": "2023-07-08T11:20:37.905Z"
   },
   {
    "duration": 122,
    "start_time": "2023-07-08T11:20:37.919Z"
   },
   {
    "duration": 3,
    "start_time": "2023-07-08T11:20:38.042Z"
   },
   {
    "duration": 48,
    "start_time": "2023-07-08T11:20:38.046Z"
   },
   {
    "duration": 1274,
    "start_time": "2023-07-08T11:24:41.635Z"
   },
   {
    "duration": 5,
    "start_time": "2023-07-08T11:24:42.911Z"
   },
   {
    "duration": 559,
    "start_time": "2023-07-08T11:24:42.917Z"
   },
   {
    "duration": 5,
    "start_time": "2023-07-08T11:24:43.478Z"
   },
   {
    "duration": 13,
    "start_time": "2023-07-08T11:24:43.484Z"
   },
   {
    "duration": 4,
    "start_time": "2023-07-08T11:24:43.499Z"
   },
   {
    "duration": 16,
    "start_time": "2023-07-08T11:24:43.505Z"
   },
   {
    "duration": 16,
    "start_time": "2023-07-08T11:24:43.523Z"
   },
   {
    "duration": 9,
    "start_time": "2023-07-08T11:24:43.540Z"
   },
   {
    "duration": 6,
    "start_time": "2023-07-08T11:24:43.576Z"
   },
   {
    "duration": 117,
    "start_time": "2023-07-08T11:24:43.584Z"
   },
   {
    "duration": 2,
    "start_time": "2023-07-08T11:24:43.703Z"
   },
   {
    "duration": 33,
    "start_time": "2023-07-08T11:24:43.707Z"
   },
   {
    "duration": 132,
    "start_time": "2023-07-08T11:25:53.016Z"
   },
   {
    "duration": 38,
    "start_time": "2023-07-08T11:26:08.523Z"
   },
   {
    "duration": 1423,
    "start_time": "2023-07-08T11:27:22.445Z"
   },
   {
    "duration": 4,
    "start_time": "2023-07-08T11:27:23.870Z"
   },
   {
    "duration": 521,
    "start_time": "2023-07-08T11:27:23.876Z"
   },
   {
    "duration": 4,
    "start_time": "2023-07-08T11:27:24.399Z"
   },
   {
    "duration": 50,
    "start_time": "2023-07-08T11:27:24.405Z"
   },
   {
    "duration": 71,
    "start_time": "2023-07-08T11:27:24.457Z"
   },
   {
    "duration": 53,
    "start_time": "2023-07-08T11:27:24.530Z"
   },
   {
    "duration": 56,
    "start_time": "2023-07-08T11:27:24.585Z"
   },
   {
    "duration": 27,
    "start_time": "2023-07-08T11:27:24.643Z"
   },
   {
    "duration": 26,
    "start_time": "2023-07-08T11:27:24.673Z"
   },
   {
    "duration": 132,
    "start_time": "2023-07-08T11:27:24.701Z"
   },
   {
    "duration": 2,
    "start_time": "2023-07-08T11:27:24.834Z"
   },
   {
    "duration": 64,
    "start_time": "2023-07-08T11:27:24.839Z"
   },
   {
    "duration": 4,
    "start_time": "2023-07-08T11:28:12.418Z"
   },
   {
    "duration": 39,
    "start_time": "2023-07-08T11:28:15.860Z"
   },
   {
    "duration": 44,
    "start_time": "2023-07-08T11:30:05.170Z"
   },
   {
    "duration": 36,
    "start_time": "2023-07-08T11:31:08.343Z"
   },
   {
    "duration": 38,
    "start_time": "2023-07-08T11:31:18.164Z"
   },
   {
    "duration": 112,
    "start_time": "2023-07-08T11:41:06.467Z"
   },
   {
    "duration": 35,
    "start_time": "2023-07-08T11:56:43.206Z"
   },
   {
    "duration": 47,
    "start_time": "2023-07-08T11:56:46.843Z"
   },
   {
    "duration": 110,
    "start_time": "2023-07-08T11:59:43.151Z"
   },
   {
    "duration": 1353,
    "start_time": "2023-07-08T11:59:49.494Z"
   },
   {
    "duration": 4,
    "start_time": "2023-07-08T11:59:50.848Z"
   },
   {
    "duration": 522,
    "start_time": "2023-07-08T11:59:50.854Z"
   },
   {
    "duration": 7,
    "start_time": "2023-07-08T11:59:51.383Z"
   },
   {
    "duration": 29,
    "start_time": "2023-07-08T11:59:51.393Z"
   },
   {
    "duration": 7,
    "start_time": "2023-07-08T11:59:51.424Z"
   },
   {
    "duration": 18,
    "start_time": "2023-07-08T11:59:51.433Z"
   },
   {
    "duration": 59,
    "start_time": "2023-07-08T11:59:51.452Z"
   },
   {
    "duration": 10,
    "start_time": "2023-07-08T11:59:51.513Z"
   },
   {
    "duration": 28,
    "start_time": "2023-07-08T11:59:51.526Z"
   },
   {
    "duration": 155,
    "start_time": "2023-07-08T11:59:51.556Z"
   },
   {
    "duration": 169,
    "start_time": "2023-07-08T11:59:51.713Z"
   },
   {
    "duration": 35,
    "start_time": "2023-07-08T11:59:51.883Z"
   },
   {
    "duration": 675,
    "start_time": "2023-07-08T11:59:51.920Z"
   },
   {
    "duration": 61,
    "start_time": "2023-07-08T12:03:33.480Z"
   },
   {
    "duration": 35,
    "start_time": "2023-07-08T12:04:27.539Z"
   },
   {
    "duration": 672,
    "start_time": "2023-07-08T12:04:41.125Z"
   },
   {
    "duration": 107,
    "start_time": "2023-07-08T12:04:47.696Z"
   },
   {
    "duration": 57,
    "start_time": "2023-07-08T12:15:20.936Z"
   },
   {
    "duration": 9,
    "start_time": "2023-07-08T12:30:31.645Z"
   },
   {
    "duration": 9,
    "start_time": "2023-07-08T12:31:09.852Z"
   },
   {
    "duration": 105,
    "start_time": "2023-07-08T12:31:26.106Z"
   },
   {
    "duration": 8,
    "start_time": "2023-07-08T12:31:33.737Z"
   },
   {
    "duration": 17,
    "start_time": "2023-07-08T12:31:56.140Z"
   },
   {
    "duration": 19,
    "start_time": "2023-07-08T12:33:30.161Z"
   },
   {
    "duration": 23,
    "start_time": "2023-07-08T12:33:55.566Z"
   },
   {
    "duration": 1462,
    "start_time": "2023-07-08T12:34:02.025Z"
   },
   {
    "duration": 5,
    "start_time": "2023-07-08T12:34:03.489Z"
   },
   {
    "duration": 601,
    "start_time": "2023-07-08T12:34:03.496Z"
   },
   {
    "duration": 5,
    "start_time": "2023-07-08T12:34:04.099Z"
   },
   {
    "duration": 41,
    "start_time": "2023-07-08T12:34:04.107Z"
   },
   {
    "duration": 5,
    "start_time": "2023-07-08T12:34:04.150Z"
   },
   {
    "duration": 29,
    "start_time": "2023-07-08T12:34:04.157Z"
   },
   {
    "duration": 20,
    "start_time": "2023-07-08T12:34:04.188Z"
   },
   {
    "duration": 27,
    "start_time": "2023-07-08T12:34:04.211Z"
   },
   {
    "duration": 15,
    "start_time": "2023-07-08T12:34:04.241Z"
   },
   {
    "duration": 196,
    "start_time": "2023-07-08T12:34:04.258Z"
   },
   {
    "duration": 224,
    "start_time": "2023-07-08T12:34:04.456Z"
   },
   {
    "duration": 45,
    "start_time": "2023-07-08T12:34:04.682Z"
   },
   {
    "duration": 758,
    "start_time": "2023-07-08T12:34:04.730Z"
   },
   {
    "duration": 178,
    "start_time": "2023-07-08T12:34:05.490Z"
   },
   {
    "duration": 18,
    "start_time": "2023-07-08T12:34:18.402Z"
   },
   {
    "duration": 21,
    "start_time": "2023-07-08T12:34:33.622Z"
   },
   {
    "duration": 30,
    "start_time": "2023-07-08T12:34:38.601Z"
   },
   {
    "duration": 38,
    "start_time": "2023-07-08T12:34:44.502Z"
   },
   {
    "duration": 28,
    "start_time": "2023-07-08T12:35:24.220Z"
   },
   {
    "duration": 19,
    "start_time": "2023-07-08T12:39:29.355Z"
   },
   {
    "duration": 56,
    "start_time": "2023-07-08T12:39:42.560Z"
   },
   {
    "duration": 1381,
    "start_time": "2023-07-08T12:39:46.620Z"
   },
   {
    "duration": 4,
    "start_time": "2023-07-08T12:39:48.003Z"
   },
   {
    "duration": 520,
    "start_time": "2023-07-08T12:39:48.009Z"
   },
   {
    "duration": 5,
    "start_time": "2023-07-08T12:39:48.531Z"
   },
   {
    "duration": 19,
    "start_time": "2023-07-08T12:39:48.538Z"
   },
   {
    "duration": 4,
    "start_time": "2023-07-08T12:39:48.559Z"
   },
   {
    "duration": 13,
    "start_time": "2023-07-08T12:39:48.575Z"
   },
   {
    "duration": 33,
    "start_time": "2023-07-08T12:39:48.589Z"
   },
   {
    "duration": 11,
    "start_time": "2023-07-08T12:39:48.623Z"
   },
   {
    "duration": 16,
    "start_time": "2023-07-08T12:39:48.636Z"
   },
   {
    "duration": 149,
    "start_time": "2023-07-08T12:39:48.654Z"
   },
   {
    "duration": 84,
    "start_time": "2023-07-08T12:39:48.805Z"
   },
   {
    "duration": 44,
    "start_time": "2023-07-08T12:39:48.976Z"
   },
   {
    "duration": 701,
    "start_time": "2023-07-08T12:39:49.022Z"
   },
   {
    "duration": 29,
    "start_time": "2023-07-08T12:39:49.725Z"
   },
   {
    "duration": 23,
    "start_time": "2023-07-08T12:39:49.755Z"
   },
   {
    "duration": 122,
    "start_time": "2023-07-08T12:40:05.245Z"
   },
   {
    "duration": 29,
    "start_time": "2023-07-08T12:40:09.696Z"
   },
   {
    "duration": 98,
    "start_time": "2023-07-08T12:40:21.610Z"
   },
   {
    "duration": 299,
    "start_time": "2023-07-08T12:40:40.210Z"
   },
   {
    "duration": 2049,
    "start_time": "2023-07-08T12:40:52.297Z"
   },
   {
    "duration": 1390,
    "start_time": "2023-07-08T12:41:12.125Z"
   },
   {
    "duration": 5,
    "start_time": "2023-07-08T12:41:13.516Z"
   },
   {
    "duration": 504,
    "start_time": "2023-07-08T12:41:13.522Z"
   },
   {
    "duration": 4,
    "start_time": "2023-07-08T12:41:14.028Z"
   },
   {
    "duration": 14,
    "start_time": "2023-07-08T12:41:14.034Z"
   },
   {
    "duration": 9,
    "start_time": "2023-07-08T12:41:14.049Z"
   },
   {
    "duration": 24,
    "start_time": "2023-07-08T12:41:14.060Z"
   },
   {
    "duration": 18,
    "start_time": "2023-07-08T12:41:14.086Z"
   },
   {
    "duration": 8,
    "start_time": "2023-07-08T12:41:14.106Z"
   },
   {
    "duration": 7,
    "start_time": "2023-07-08T12:41:14.116Z"
   },
   {
    "duration": 125,
    "start_time": "2023-07-08T12:41:14.125Z"
   },
   {
    "duration": 128,
    "start_time": "2023-07-08T12:41:14.252Z"
   },
   {
    "duration": 121,
    "start_time": "2023-07-08T12:41:14.382Z"
   },
   {
    "duration": 655,
    "start_time": "2023-07-08T12:41:14.505Z"
   },
   {
    "duration": 30,
    "start_time": "2023-07-08T12:41:15.162Z"
   },
   {
    "duration": 14,
    "start_time": "2023-07-08T12:41:15.194Z"
   },
   {
    "duration": 14,
    "start_time": "2023-07-08T12:42:30.593Z"
   },
   {
    "duration": 1334,
    "start_time": "2023-07-08T12:42:38.395Z"
   },
   {
    "duration": 4,
    "start_time": "2023-07-08T12:42:39.731Z"
   },
   {
    "duration": 462,
    "start_time": "2023-07-08T12:42:39.736Z"
   },
   {
    "duration": 5,
    "start_time": "2023-07-08T12:42:40.199Z"
   },
   {
    "duration": 32,
    "start_time": "2023-07-08T12:42:40.205Z"
   },
   {
    "duration": 7,
    "start_time": "2023-07-08T12:42:40.239Z"
   },
   {
    "duration": 18,
    "start_time": "2023-07-08T12:42:40.247Z"
   },
   {
    "duration": 28,
    "start_time": "2023-07-08T12:42:40.266Z"
   },
   {
    "duration": 11,
    "start_time": "2023-07-08T12:42:40.295Z"
   },
   {
    "duration": 9,
    "start_time": "2023-07-08T12:42:40.308Z"
   },
   {
    "duration": 130,
    "start_time": "2023-07-08T12:42:40.319Z"
   },
   {
    "duration": 130,
    "start_time": "2023-07-08T12:42:40.450Z"
   },
   {
    "duration": 134,
    "start_time": "2023-07-08T12:42:40.582Z"
   },
   {
    "duration": 648,
    "start_time": "2023-07-08T12:42:40.718Z"
   },
   {
    "duration": 26,
    "start_time": "2023-07-08T12:42:41.374Z"
   },
   {
    "duration": 11,
    "start_time": "2023-07-08T12:42:41.402Z"
   },
   {
    "duration": 1398,
    "start_time": "2023-07-08T12:42:54.136Z"
   },
   {
    "duration": 5,
    "start_time": "2023-07-08T12:42:55.536Z"
   },
   {
    "duration": 485,
    "start_time": "2023-07-08T12:42:55.542Z"
   },
   {
    "duration": 5,
    "start_time": "2023-07-08T12:42:56.028Z"
   },
   {
    "duration": 13,
    "start_time": "2023-07-08T12:42:56.035Z"
   },
   {
    "duration": 13,
    "start_time": "2023-07-08T12:42:56.049Z"
   },
   {
    "duration": 17,
    "start_time": "2023-07-08T12:42:56.063Z"
   },
   {
    "duration": 18,
    "start_time": "2023-07-08T12:42:56.081Z"
   },
   {
    "duration": 8,
    "start_time": "2023-07-08T12:42:56.101Z"
   },
   {
    "duration": 9,
    "start_time": "2023-07-08T12:42:56.111Z"
   },
   {
    "duration": 158,
    "start_time": "2023-07-08T12:42:56.122Z"
   },
   {
    "duration": 103,
    "start_time": "2023-07-08T12:42:56.281Z"
   },
   {
    "duration": 124,
    "start_time": "2023-07-08T12:42:56.388Z"
   },
   {
    "duration": 664,
    "start_time": "2023-07-08T12:42:56.515Z"
   },
   {
    "duration": 29,
    "start_time": "2023-07-08T12:42:57.181Z"
   },
   {
    "duration": 15,
    "start_time": "2023-07-08T12:42:57.212Z"
   },
   {
    "duration": 85,
    "start_time": "2023-07-08T12:47:47.494Z"
   },
   {
    "duration": 41,
    "start_time": "2023-07-08T12:49:05.945Z"
   },
   {
    "duration": 885,
    "start_time": "2023-07-08T12:49:25.650Z"
   },
   {
    "duration": 11007,
    "start_time": "2023-07-08T13:01:14.721Z"
   },
   {
    "duration": 10900,
    "start_time": "2023-07-08T13:02:10.018Z"
   },
   {
    "duration": 5753,
    "start_time": "2023-07-08T13:04:14.157Z"
   },
   {
    "duration": 5693,
    "start_time": "2023-07-08T13:04:28.294Z"
   },
   {
    "duration": 15739,
    "start_time": "2023-07-08T13:04:47.322Z"
   },
   {
    "duration": 10,
    "start_time": "2023-07-08T13:11:31.564Z"
   },
   {
    "duration": 217,
    "start_time": "2023-07-08T13:12:00.264Z"
   },
   {
    "duration": 217,
    "start_time": "2023-07-08T13:14:28.302Z"
   },
   {
    "duration": 218,
    "start_time": "2023-07-08T13:14:44.276Z"
   },
   {
    "duration": 258,
    "start_time": "2023-07-08T15:20:57.960Z"
   },
   {
    "duration": 5,
    "start_time": "2023-07-08T15:21:11.723Z"
   },
   {
    "duration": 12,
    "start_time": "2023-07-08T15:21:25.303Z"
   },
   {
    "duration": 6,
    "start_time": "2023-07-08T15:21:29.096Z"
   },
   {
    "duration": 5,
    "start_time": "2023-07-08T15:21:35.123Z"
   },
   {
    "duration": 9,
    "start_time": "2023-07-08T15:21:37.903Z"
   },
   {
    "duration": 10,
    "start_time": "2023-07-08T15:21:49.820Z"
   },
   {
    "duration": 8,
    "start_time": "2023-07-08T15:21:52.742Z"
   },
   {
    "duration": 5,
    "start_time": "2023-07-08T15:21:56.768Z"
   },
   {
    "duration": 10,
    "start_time": "2023-07-08T15:22:00.976Z"
   },
   {
    "duration": 260,
    "start_time": "2023-07-08T15:23:06.915Z"
   },
   {
    "duration": 266,
    "start_time": "2023-07-08T15:24:59.387Z"
   },
   {
    "duration": 103,
    "start_time": "2023-07-08T15:25:48.464Z"
   },
   {
    "duration": 326,
    "start_time": "2023-07-08T15:26:31.560Z"
   },
   {
    "duration": 279,
    "start_time": "2023-07-08T15:26:48.072Z"
   },
   {
    "duration": 1771,
    "start_time": "2023-07-08T15:27:45.127Z"
   },
   {
    "duration": 6,
    "start_time": "2023-07-08T15:27:46.908Z"
   },
   {
    "duration": 604,
    "start_time": "2023-07-08T15:27:46.916Z"
   },
   {
    "duration": 6,
    "start_time": "2023-07-08T15:27:47.524Z"
   },
   {
    "duration": 20,
    "start_time": "2023-07-08T15:27:47.533Z"
   },
   {
    "duration": 5,
    "start_time": "2023-07-08T15:27:47.556Z"
   },
   {
    "duration": 59,
    "start_time": "2023-07-08T15:27:47.578Z"
   },
   {
    "duration": 23,
    "start_time": "2023-07-08T15:27:47.639Z"
   },
   {
    "duration": 9,
    "start_time": "2023-07-08T15:27:47.664Z"
   },
   {
    "duration": 56,
    "start_time": "2023-07-08T15:27:47.675Z"
   },
   {
    "duration": 177,
    "start_time": "2023-07-08T15:27:47.732Z"
   },
   {
    "duration": 83,
    "start_time": "2023-07-08T15:27:47.911Z"
   },
   {
    "duration": 138,
    "start_time": "2023-07-08T15:27:47.997Z"
   },
   {
    "duration": 777,
    "start_time": "2023-07-08T15:27:48.137Z"
   },
   {
    "duration": 45,
    "start_time": "2023-07-08T15:27:48.920Z"
   },
   {
    "duration": 26,
    "start_time": "2023-07-08T15:27:48.967Z"
   },
   {
    "duration": 115,
    "start_time": "2023-07-08T15:27:48.995Z"
   },
   {
    "duration": 82,
    "start_time": "2023-07-08T15:27:49.174Z"
   },
   {
    "duration": 1122,
    "start_time": "2023-07-08T15:27:49.258Z"
   },
   {
    "duration": 17363,
    "start_time": "2023-07-08T15:27:50.382Z"
   },
   {
    "duration": 263,
    "start_time": "2023-07-08T15:28:07.747Z"
   },
   {
    "duration": 24,
    "start_time": "2023-07-08T15:29:29.474Z"
   },
   {
    "duration": 21,
    "start_time": "2023-07-08T15:29:43.142Z"
   },
   {
    "duration": 41,
    "start_time": "2023-07-08T15:30:49.412Z"
   },
   {
    "duration": 1609,
    "start_time": "2023-07-08T15:32:22.173Z"
   },
   {
    "duration": 9,
    "start_time": "2023-07-08T15:32:23.788Z"
   },
   {
    "duration": 617,
    "start_time": "2023-07-08T15:32:23.799Z"
   },
   {
    "duration": 4,
    "start_time": "2023-07-08T15:32:24.419Z"
   },
   {
    "duration": 14,
    "start_time": "2023-07-08T15:32:24.425Z"
   },
   {
    "duration": 7,
    "start_time": "2023-07-08T15:32:24.441Z"
   },
   {
    "duration": 19,
    "start_time": "2023-07-08T15:32:24.450Z"
   },
   {
    "duration": 61,
    "start_time": "2023-07-08T15:32:24.475Z"
   },
   {
    "duration": 10,
    "start_time": "2023-07-08T15:32:24.538Z"
   },
   {
    "duration": 14,
    "start_time": "2023-07-08T15:32:24.551Z"
   },
   {
    "duration": 180,
    "start_time": "2023-07-08T15:32:24.567Z"
   },
   {
    "duration": 140,
    "start_time": "2023-07-08T15:32:24.749Z"
   },
   {
    "duration": 107,
    "start_time": "2023-07-08T15:32:24.893Z"
   },
   {
    "duration": 756,
    "start_time": "2023-07-08T15:32:25.008Z"
   },
   {
    "duration": 41,
    "start_time": "2023-07-08T15:32:25.782Z"
   },
   {
    "duration": 91,
    "start_time": "2023-07-08T15:32:25.825Z"
   },
   {
    "duration": 75,
    "start_time": "2023-07-08T15:32:25.918Z"
   },
   {
    "duration": 206,
    "start_time": "2023-07-08T15:32:25.996Z"
   },
   {
    "duration": 1132,
    "start_time": "2023-07-08T15:32:26.204Z"
   },
   {
    "duration": 17330,
    "start_time": "2023-07-08T15:32:27.338Z"
   },
   {
    "duration": 263,
    "start_time": "2023-07-08T15:32:44.670Z"
   },
   {
    "duration": 2392,
    "start_time": "2023-07-08T15:51:23.857Z"
   },
   {
    "duration": 6,
    "start_time": "2023-07-08T15:51:26.254Z"
   },
   {
    "duration": 570,
    "start_time": "2023-07-08T15:51:26.262Z"
   },
   {
    "duration": 6,
    "start_time": "2023-07-08T15:51:26.834Z"
   },
   {
    "duration": 18,
    "start_time": "2023-07-08T15:51:26.851Z"
   },
   {
    "duration": 5,
    "start_time": "2023-07-08T15:51:26.871Z"
   },
   {
    "duration": 13,
    "start_time": "2023-07-08T15:51:26.877Z"
   },
   {
    "duration": 55,
    "start_time": "2023-07-08T15:51:26.891Z"
   },
   {
    "duration": 12,
    "start_time": "2023-07-08T15:51:26.948Z"
   },
   {
    "duration": 8,
    "start_time": "2023-07-08T15:51:26.962Z"
   },
   {
    "duration": 164,
    "start_time": "2023-07-08T15:51:26.972Z"
   },
   {
    "duration": 97,
    "start_time": "2023-07-08T15:51:27.139Z"
   },
   {
    "duration": 125,
    "start_time": "2023-07-08T15:51:27.238Z"
   },
   {
    "duration": 843,
    "start_time": "2023-07-08T15:51:27.365Z"
   },
   {
    "duration": 44,
    "start_time": "2023-07-08T15:51:28.215Z"
   },
   {
    "duration": 18,
    "start_time": "2023-07-08T15:51:28.262Z"
   },
   {
    "duration": 135,
    "start_time": "2023-07-08T15:51:28.282Z"
   },
   {
    "duration": 134,
    "start_time": "2023-07-08T15:51:28.419Z"
   },
   {
    "duration": 1222,
    "start_time": "2023-07-08T15:51:28.555Z"
   },
   {
    "duration": 19016,
    "start_time": "2023-07-08T15:51:29.779Z"
   },
   {
    "duration": 315,
    "start_time": "2023-07-08T15:51:48.797Z"
   },
   {
    "duration": 62,
    "start_time": "2023-07-08T16:05:00.933Z"
   },
   {
    "duration": 4,
    "start_time": "2023-07-08T16:05:00.997Z"
   },
   {
    "duration": 495,
    "start_time": "2023-07-08T16:05:01.003Z"
   },
   {
    "duration": 4,
    "start_time": "2023-07-08T16:05:01.500Z"
   },
   {
    "duration": 43,
    "start_time": "2023-07-08T16:05:01.512Z"
   },
   {
    "duration": 2078,
    "start_time": "2023-07-09T14:34:16.921Z"
   },
   {
    "duration": 1439,
    "start_time": "2023-07-09T14:35:06.426Z"
   },
   {
    "duration": 194,
    "start_time": "2023-07-09T14:35:07.867Z"
   },
   {
    "duration": 4,
    "start_time": "2023-07-09T14:35:08.063Z"
   },
   {
    "duration": 552,
    "start_time": "2023-07-09T14:35:08.069Z"
   },
   {
    "duration": 4,
    "start_time": "2023-07-09T14:35:08.623Z"
   },
   {
    "duration": 22,
    "start_time": "2023-07-09T14:35:08.629Z"
   },
   {
    "duration": 5,
    "start_time": "2023-07-09T14:35:08.653Z"
   },
   {
    "duration": 20,
    "start_time": "2023-07-09T14:35:08.659Z"
   },
   {
    "duration": 124,
    "start_time": "2023-07-09T14:35:08.681Z"
   },
   {
    "duration": 0,
    "start_time": "2023-07-09T14:35:08.807Z"
   },
   {
    "duration": 0,
    "start_time": "2023-07-09T14:35:08.808Z"
   },
   {
    "duration": 0,
    "start_time": "2023-07-09T14:35:08.809Z"
   },
   {
    "duration": 0,
    "start_time": "2023-07-09T14:35:08.813Z"
   },
   {
    "duration": 0,
    "start_time": "2023-07-09T14:35:08.814Z"
   },
   {
    "duration": 0,
    "start_time": "2023-07-09T14:35:08.815Z"
   },
   {
    "duration": 0,
    "start_time": "2023-07-09T14:35:08.816Z"
   },
   {
    "duration": 0,
    "start_time": "2023-07-09T14:35:08.817Z"
   },
   {
    "duration": 0,
    "start_time": "2023-07-09T14:35:08.818Z"
   },
   {
    "duration": 0,
    "start_time": "2023-07-09T14:35:08.819Z"
   },
   {
    "duration": 0,
    "start_time": "2023-07-09T14:35:08.820Z"
   },
   {
    "duration": 0,
    "start_time": "2023-07-09T14:35:08.822Z"
   },
   {
    "duration": 0,
    "start_time": "2023-07-09T14:35:08.823Z"
   },
   {
    "duration": 0,
    "start_time": "2023-07-09T14:35:08.824Z"
   },
   {
    "duration": 0,
    "start_time": "2023-07-09T14:35:08.825Z"
   },
   {
    "duration": 1422,
    "start_time": "2023-07-09T14:35:37.751Z"
   },
   {
    "duration": 69,
    "start_time": "2023-07-09T14:35:39.176Z"
   },
   {
    "duration": 4,
    "start_time": "2023-07-09T14:35:39.247Z"
   },
   {
    "duration": 604,
    "start_time": "2023-07-09T14:35:39.253Z"
   },
   {
    "duration": 5,
    "start_time": "2023-07-09T14:35:39.860Z"
   },
   {
    "duration": 17,
    "start_time": "2023-07-09T14:35:39.867Z"
   },
   {
    "duration": 6,
    "start_time": "2023-07-09T14:35:39.887Z"
   },
   {
    "duration": 12,
    "start_time": "2023-07-09T14:35:39.914Z"
   },
   {
    "duration": 23,
    "start_time": "2023-07-09T14:35:39.928Z"
   },
   {
    "duration": 9,
    "start_time": "2023-07-09T14:35:39.953Z"
   },
   {
    "duration": 7,
    "start_time": "2023-07-09T14:35:39.963Z"
   },
   {
    "duration": 150,
    "start_time": "2023-07-09T14:35:39.971Z"
   },
   {
    "duration": 0,
    "start_time": "2023-07-09T14:35:40.123Z"
   },
   {
    "duration": 0,
    "start_time": "2023-07-09T14:35:40.124Z"
   },
   {
    "duration": 0,
    "start_time": "2023-07-09T14:35:40.126Z"
   },
   {
    "duration": 0,
    "start_time": "2023-07-09T14:35:40.127Z"
   },
   {
    "duration": 0,
    "start_time": "2023-07-09T14:35:40.128Z"
   },
   {
    "duration": 0,
    "start_time": "2023-07-09T14:35:40.129Z"
   },
   {
    "duration": 0,
    "start_time": "2023-07-09T14:35:40.131Z"
   },
   {
    "duration": 0,
    "start_time": "2023-07-09T14:35:40.132Z"
   },
   {
    "duration": 0,
    "start_time": "2023-07-09T14:35:40.133Z"
   },
   {
    "duration": 0,
    "start_time": "2023-07-09T14:35:40.134Z"
   },
   {
    "duration": 0,
    "start_time": "2023-07-09T14:35:40.135Z"
   },
   {
    "duration": 5,
    "start_time": "2023-07-09T14:35:58.515Z"
   },
   {
    "duration": 1454,
    "start_time": "2023-07-09T14:36:19.819Z"
   },
   {
    "duration": 90,
    "start_time": "2023-07-09T14:36:21.276Z"
   },
   {
    "duration": 6,
    "start_time": "2023-07-09T14:36:21.367Z"
   },
   {
    "duration": 537,
    "start_time": "2023-07-09T14:36:21.376Z"
   },
   {
    "duration": 4,
    "start_time": "2023-07-09T14:36:21.915Z"
   },
   {
    "duration": 56,
    "start_time": "2023-07-09T14:36:21.920Z"
   },
   {
    "duration": 11,
    "start_time": "2023-07-09T14:36:21.977Z"
   },
   {
    "duration": 21,
    "start_time": "2023-07-09T14:36:21.989Z"
   },
   {
    "duration": 5,
    "start_time": "2023-07-09T14:36:22.012Z"
   },
   {
    "duration": 20,
    "start_time": "2023-07-09T14:36:22.019Z"
   },
   {
    "duration": 20,
    "start_time": "2023-07-09T14:36:22.041Z"
   },
   {
    "duration": 8,
    "start_time": "2023-07-09T14:36:22.063Z"
   },
   {
    "duration": 127,
    "start_time": "2023-07-09T14:36:22.073Z"
   },
   {
    "duration": 131,
    "start_time": "2023-07-09T14:36:22.202Z"
   },
   {
    "duration": 0,
    "start_time": "2023-07-09T14:36:22.335Z"
   },
   {
    "duration": 0,
    "start_time": "2023-07-09T14:36:22.337Z"
   },
   {
    "duration": 0,
    "start_time": "2023-07-09T14:36:22.339Z"
   },
   {
    "duration": 0,
    "start_time": "2023-07-09T14:36:22.341Z"
   },
   {
    "duration": 0,
    "start_time": "2023-07-09T14:36:22.342Z"
   },
   {
    "duration": 0,
    "start_time": "2023-07-09T14:36:22.344Z"
   },
   {
    "duration": 0,
    "start_time": "2023-07-09T14:36:22.346Z"
   },
   {
    "duration": 0,
    "start_time": "2023-07-09T14:36:22.347Z"
   },
   {
    "duration": 0,
    "start_time": "2023-07-09T14:36:22.348Z"
   },
   {
    "duration": 5,
    "start_time": "2023-07-09T14:37:00.715Z"
   },
   {
    "duration": 1473,
    "start_time": "2023-07-09T14:45:03.545Z"
   },
   {
    "duration": 69,
    "start_time": "2023-07-09T14:45:05.021Z"
   },
   {
    "duration": 33,
    "start_time": "2023-07-09T14:45:05.092Z"
   },
   {
    "duration": 641,
    "start_time": "2023-07-09T14:45:05.128Z"
   },
   {
    "duration": 5,
    "start_time": "2023-07-09T14:45:05.771Z"
   },
   {
    "duration": 51,
    "start_time": "2023-07-09T14:45:05.778Z"
   },
   {
    "duration": 48,
    "start_time": "2023-07-09T14:45:05.831Z"
   },
   {
    "duration": 37,
    "start_time": "2023-07-09T14:45:05.880Z"
   },
   {
    "duration": 17,
    "start_time": "2023-07-09T14:45:05.919Z"
   },
   {
    "duration": 50,
    "start_time": "2023-07-09T14:45:05.939Z"
   },
   {
    "duration": 26,
    "start_time": "2023-07-09T14:45:05.991Z"
   },
   {
    "duration": 27,
    "start_time": "2023-07-09T14:45:06.019Z"
   },
   {
    "duration": 119,
    "start_time": "2023-07-09T14:45:06.048Z"
   },
   {
    "duration": 0,
    "start_time": "2023-07-09T14:45:06.168Z"
   },
   {
    "duration": 0,
    "start_time": "2023-07-09T14:45:06.169Z"
   },
   {
    "duration": 1,
    "start_time": "2023-07-09T14:45:06.170Z"
   },
   {
    "duration": 0,
    "start_time": "2023-07-09T14:45:06.171Z"
   },
   {
    "duration": 0,
    "start_time": "2023-07-09T14:45:06.172Z"
   },
   {
    "duration": 0,
    "start_time": "2023-07-09T14:45:06.173Z"
   },
   {
    "duration": 0,
    "start_time": "2023-07-09T14:45:06.175Z"
   },
   {
    "duration": 0,
    "start_time": "2023-07-09T14:45:06.176Z"
   },
   {
    "duration": 0,
    "start_time": "2023-07-09T14:45:06.177Z"
   },
   {
    "duration": 0,
    "start_time": "2023-07-09T14:45:06.178Z"
   },
   {
    "duration": 0,
    "start_time": "2023-07-09T14:45:06.179Z"
   },
   {
    "duration": 8385,
    "start_time": "2023-07-09T14:45:46.082Z"
   },
   {
    "duration": 2161,
    "start_time": "2023-07-09T14:46:07.879Z"
   },
   {
    "duration": 1206,
    "start_time": "2023-07-09T14:46:10.043Z"
   },
   {
    "duration": 70,
    "start_time": "2023-07-09T14:46:11.251Z"
   },
   {
    "duration": 6,
    "start_time": "2023-07-09T14:46:11.323Z"
   },
   {
    "duration": 567,
    "start_time": "2023-07-09T14:46:11.332Z"
   },
   {
    "duration": 5,
    "start_time": "2023-07-09T14:46:11.901Z"
   },
   {
    "duration": 52,
    "start_time": "2023-07-09T14:46:11.914Z"
   },
   {
    "duration": 22,
    "start_time": "2023-07-09T14:46:11.968Z"
   },
   {
    "duration": 49,
    "start_time": "2023-07-09T14:46:11.991Z"
   },
   {
    "duration": 42,
    "start_time": "2023-07-09T14:46:12.041Z"
   },
   {
    "duration": 33,
    "start_time": "2023-07-09T14:46:12.085Z"
   },
   {
    "duration": 12,
    "start_time": "2023-07-09T14:46:12.120Z"
   },
   {
    "duration": 30,
    "start_time": "2023-07-09T14:46:12.134Z"
   },
   {
    "duration": 112,
    "start_time": "2023-07-09T14:46:12.167Z"
   },
   {
    "duration": 162,
    "start_time": "2023-07-09T14:46:12.281Z"
   },
   {
    "duration": 154,
    "start_time": "2023-07-09T14:46:12.444Z"
   },
   {
    "duration": 0,
    "start_time": "2023-07-09T14:46:12.600Z"
   },
   {
    "duration": 0,
    "start_time": "2023-07-09T14:46:12.601Z"
   },
   {
    "duration": 0,
    "start_time": "2023-07-09T14:46:12.602Z"
   },
   {
    "duration": 0,
    "start_time": "2023-07-09T14:46:12.603Z"
   },
   {
    "duration": 0,
    "start_time": "2023-07-09T14:46:12.613Z"
   },
   {
    "duration": 0,
    "start_time": "2023-07-09T14:46:12.614Z"
   },
   {
    "duration": 0,
    "start_time": "2023-07-09T14:46:12.615Z"
   },
   {
    "duration": 0,
    "start_time": "2023-07-09T14:46:12.617Z"
   },
   {
    "duration": 0,
    "start_time": "2023-07-09T14:46:12.618Z"
   },
   {
    "duration": 78,
    "start_time": "2023-07-09T14:50:36.255Z"
   },
   {
    "duration": 2136,
    "start_time": "2023-07-09T14:54:11.988Z"
   },
   {
    "duration": 1269,
    "start_time": "2023-07-09T14:54:14.126Z"
   },
   {
    "duration": 70,
    "start_time": "2023-07-09T14:54:15.397Z"
   },
   {
    "duration": 5,
    "start_time": "2023-07-09T14:54:15.470Z"
   },
   {
    "duration": 570,
    "start_time": "2023-07-09T14:54:15.477Z"
   },
   {
    "duration": 6,
    "start_time": "2023-07-09T14:54:16.049Z"
   },
   {
    "duration": 32,
    "start_time": "2023-07-09T14:54:16.058Z"
   },
   {
    "duration": 5,
    "start_time": "2023-07-09T14:54:16.092Z"
   },
   {
    "duration": 21,
    "start_time": "2023-07-09T14:54:16.099Z"
   },
   {
    "duration": 134,
    "start_time": "2023-07-09T14:54:16.123Z"
   },
   {
    "duration": 27,
    "start_time": "2023-07-09T14:54:16.258Z"
   },
   {
    "duration": 31,
    "start_time": "2023-07-09T14:54:16.287Z"
   },
   {
    "duration": 20,
    "start_time": "2023-07-09T14:54:16.320Z"
   },
   {
    "duration": 62,
    "start_time": "2023-07-09T14:54:16.342Z"
   },
   {
    "duration": 146,
    "start_time": "2023-07-09T14:54:16.406Z"
   },
   {
    "duration": 65,
    "start_time": "2023-07-09T14:54:16.555Z"
   },
   {
    "duration": 123,
    "start_time": "2023-07-09T14:54:16.623Z"
   },
   {
    "duration": 756,
    "start_time": "2023-07-09T14:54:16.747Z"
   },
   {
    "duration": 40,
    "start_time": "2023-07-09T14:54:17.504Z"
   },
   {
    "duration": 15,
    "start_time": "2023-07-09T14:54:17.545Z"
   },
   {
    "duration": 152,
    "start_time": "2023-07-09T14:54:17.562Z"
   },
   {
    "duration": 41,
    "start_time": "2023-07-09T14:54:17.716Z"
   },
   {
    "duration": 1046,
    "start_time": "2023-07-09T14:54:17.760Z"
   },
   {
    "duration": 18440,
    "start_time": "2023-07-09T14:54:18.807Z"
   },
   {
    "duration": 380,
    "start_time": "2023-07-09T14:54:37.250Z"
   },
   {
    "duration": 123,
    "start_time": "2023-07-09T15:22:12.252Z"
   },
   {
    "duration": 142,
    "start_time": "2023-07-09T15:23:51.786Z"
   },
   {
    "duration": 123,
    "start_time": "2023-07-09T15:24:13.012Z"
   },
   {
    "duration": 2120,
    "start_time": "2023-07-09T15:24:42.223Z"
   },
   {
    "duration": 1241,
    "start_time": "2023-07-09T15:24:44.346Z"
   },
   {
    "duration": 77,
    "start_time": "2023-07-09T15:24:45.589Z"
   },
   {
    "duration": 5,
    "start_time": "2023-07-09T15:24:45.669Z"
   },
   {
    "duration": 566,
    "start_time": "2023-07-09T15:24:45.676Z"
   },
   {
    "duration": 5,
    "start_time": "2023-07-09T15:24:46.244Z"
   },
   {
    "duration": 16,
    "start_time": "2023-07-09T15:24:46.251Z"
   },
   {
    "duration": 4,
    "start_time": "2023-07-09T15:24:46.269Z"
   },
   {
    "duration": 15,
    "start_time": "2023-07-09T15:24:46.275Z"
   },
   {
    "duration": 3,
    "start_time": "2023-07-09T15:24:46.315Z"
   },
   {
    "duration": 12,
    "start_time": "2023-07-09T15:24:46.320Z"
   },
   {
    "duration": 8,
    "start_time": "2023-07-09T15:24:46.334Z"
   },
   {
    "duration": 10,
    "start_time": "2023-07-09T15:24:46.345Z"
   },
   {
    "duration": 107,
    "start_time": "2023-07-09T15:24:46.357Z"
   },
   {
    "duration": 151,
    "start_time": "2023-07-09T15:24:46.465Z"
   },
   {
    "duration": 100,
    "start_time": "2023-07-09T15:24:46.617Z"
   },
   {
    "duration": 219,
    "start_time": "2023-07-09T15:24:46.718Z"
   },
   {
    "duration": 811,
    "start_time": "2023-07-09T15:24:46.939Z"
   },
   {
    "duration": 33,
    "start_time": "2023-07-09T15:24:47.752Z"
   },
   {
    "duration": 31,
    "start_time": "2023-07-09T15:24:47.786Z"
   },
   {
    "duration": 99,
    "start_time": "2023-07-09T15:24:47.819Z"
   },
   {
    "duration": 126,
    "start_time": "2023-07-09T15:24:47.920Z"
   },
   {
    "duration": 1606,
    "start_time": "2023-07-09T15:24:48.047Z"
   },
   {
    "duration": 17574,
    "start_time": "2023-07-09T15:24:49.655Z"
   },
   {
    "duration": 284,
    "start_time": "2023-07-09T15:25:07.231Z"
   },
   {
    "duration": 128,
    "start_time": "2023-07-09T15:25:14.946Z"
   },
   {
    "duration": 130,
    "start_time": "2023-07-09T15:26:11.090Z"
   },
   {
    "duration": 124,
    "start_time": "2023-07-09T15:26:13.629Z"
   },
   {
    "duration": 16679,
    "start_time": "2023-07-09T15:29:00.545Z"
   },
   {
    "duration": 15417,
    "start_time": "2023-07-09T15:31:29.314Z"
   },
   {
    "duration": 133,
    "start_time": "2023-07-09T15:33:44.705Z"
   },
   {
    "duration": 48,
    "start_time": "2023-07-09T15:35:24.464Z"
   },
   {
    "duration": 30,
    "start_time": "2023-07-09T15:35:46.006Z"
   },
   {
    "duration": 125,
    "start_time": "2023-07-09T15:36:16.472Z"
   },
   {
    "duration": 2255,
    "start_time": "2023-07-09T15:36:23.448Z"
   },
   {
    "duration": 1308,
    "start_time": "2023-07-09T15:36:25.706Z"
   },
   {
    "duration": 72,
    "start_time": "2023-07-09T15:36:27.016Z"
   },
   {
    "duration": 5,
    "start_time": "2023-07-09T15:36:27.090Z"
   },
   {
    "duration": 580,
    "start_time": "2023-07-09T15:36:27.097Z"
   },
   {
    "duration": 4,
    "start_time": "2023-07-09T15:36:27.679Z"
   },
   {
    "duration": 41,
    "start_time": "2023-07-09T15:36:27.685Z"
   },
   {
    "duration": 4,
    "start_time": "2023-07-09T15:36:27.728Z"
   },
   {
    "duration": 25,
    "start_time": "2023-07-09T15:36:27.734Z"
   },
   {
    "duration": 24,
    "start_time": "2023-07-09T15:36:27.762Z"
   },
   {
    "duration": 25,
    "start_time": "2023-07-09T15:36:27.788Z"
   },
   {
    "duration": 11,
    "start_time": "2023-07-09T15:36:27.815Z"
   },
   {
    "duration": 38,
    "start_time": "2023-07-09T15:36:27.827Z"
   },
   {
    "duration": 75,
    "start_time": "2023-07-09T15:36:27.867Z"
   },
   {
    "duration": 143,
    "start_time": "2023-07-09T15:36:27.943Z"
   },
   {
    "duration": 39,
    "start_time": "2023-07-09T15:36:28.088Z"
   },
   {
    "duration": 273,
    "start_time": "2023-07-09T15:36:28.129Z"
   },
   {
    "duration": 12725,
    "start_time": "2023-07-09T15:36:28.414Z"
   },
   {
    "duration": 93,
    "start_time": "2023-07-09T15:36:41.140Z"
   },
   {
    "duration": 14,
    "start_time": "2023-07-09T15:36:41.235Z"
   },
   {
    "duration": 168,
    "start_time": "2023-07-09T15:36:41.251Z"
   },
   {
    "duration": 118,
    "start_time": "2023-07-09T15:36:41.420Z"
   },
   {
    "duration": 921,
    "start_time": "2023-07-09T15:36:41.540Z"
   },
   {
    "duration": 17314,
    "start_time": "2023-07-09T15:36:42.463Z"
   },
   {
    "duration": 317,
    "start_time": "2023-07-09T15:36:59.779Z"
   },
   {
    "duration": 12883,
    "start_time": "2023-07-09T15:38:18.892Z"
   },
   {
    "duration": 15495,
    "start_time": "2023-07-09T15:38:41.084Z"
   },
   {
    "duration": 2860,
    "start_time": "2023-07-09T15:39:06.587Z"
   },
   {
    "duration": 1569,
    "start_time": "2023-07-09T15:39:09.449Z"
   },
   {
    "duration": 69,
    "start_time": "2023-07-09T15:39:11.019Z"
   },
   {
    "duration": 5,
    "start_time": "2023-07-09T15:39:11.091Z"
   },
   {
    "duration": 540,
    "start_time": "2023-07-09T15:39:11.097Z"
   },
   {
    "duration": 6,
    "start_time": "2023-07-09T15:39:11.639Z"
   },
   {
    "duration": 16,
    "start_time": "2023-07-09T15:39:11.646Z"
   },
   {
    "duration": 4,
    "start_time": "2023-07-09T15:39:11.665Z"
   },
   {
    "duration": 37,
    "start_time": "2023-07-09T15:39:11.671Z"
   },
   {
    "duration": 6,
    "start_time": "2023-07-09T15:39:11.714Z"
   },
   {
    "duration": 20,
    "start_time": "2023-07-09T15:39:11.722Z"
   },
   {
    "duration": 18,
    "start_time": "2023-07-09T15:39:11.743Z"
   },
   {
    "duration": 17,
    "start_time": "2023-07-09T15:39:11.762Z"
   },
   {
    "duration": 76,
    "start_time": "2023-07-09T15:39:11.782Z"
   },
   {
    "duration": 141,
    "start_time": "2023-07-09T15:39:11.859Z"
   },
   {
    "duration": 119,
    "start_time": "2023-07-09T15:39:12.002Z"
   },
   {
    "duration": 193,
    "start_time": "2023-07-09T15:39:12.124Z"
   },
   {
    "duration": 11665,
    "start_time": "2023-07-09T15:39:12.319Z"
   },
   {
    "duration": 46,
    "start_time": "2023-07-09T15:39:23.985Z"
   },
   {
    "duration": 17,
    "start_time": "2023-07-09T15:39:24.033Z"
   },
   {
    "duration": 161,
    "start_time": "2023-07-09T15:39:24.053Z"
   },
   {
    "duration": 44,
    "start_time": "2023-07-09T15:39:24.216Z"
   },
   {
    "duration": 681,
    "start_time": "2023-07-09T15:39:24.263Z"
   },
   {
    "duration": 17660,
    "start_time": "2023-07-09T15:39:24.945Z"
   },
   {
    "duration": 272,
    "start_time": "2023-07-09T15:39:42.607Z"
   },
   {
    "duration": 2166,
    "start_time": "2023-07-09T15:40:03.954Z"
   },
   {
    "duration": 1408,
    "start_time": "2023-07-09T15:40:06.123Z"
   },
   {
    "duration": 116,
    "start_time": "2023-07-09T15:40:07.533Z"
   },
   {
    "duration": 7,
    "start_time": "2023-07-09T15:40:07.652Z"
   },
   {
    "duration": 1173,
    "start_time": "2023-07-09T15:40:07.660Z"
   },
   {
    "duration": 5,
    "start_time": "2023-07-09T15:40:08.835Z"
   },
   {
    "duration": 20,
    "start_time": "2023-07-09T15:40:08.841Z"
   },
   {
    "duration": 9,
    "start_time": "2023-07-09T15:40:08.915Z"
   },
   {
    "duration": 22,
    "start_time": "2023-07-09T15:40:08.927Z"
   },
   {
    "duration": 12,
    "start_time": "2023-07-09T15:40:08.953Z"
   },
   {
    "duration": 11,
    "start_time": "2023-07-09T15:40:09.014Z"
   },
   {
    "duration": 23,
    "start_time": "2023-07-09T15:40:09.027Z"
   },
   {
    "duration": 17,
    "start_time": "2023-07-09T15:40:09.052Z"
   },
   {
    "duration": 114,
    "start_time": "2023-07-09T15:40:09.114Z"
   },
   {
    "duration": 288,
    "start_time": "2023-07-09T15:40:09.229Z"
   },
   {
    "duration": 196,
    "start_time": "2023-07-09T15:40:09.519Z"
   },
   {
    "duration": 304,
    "start_time": "2023-07-09T15:40:09.717Z"
   },
   {
    "duration": 9840,
    "start_time": "2023-07-09T15:40:10.023Z"
   },
   {
    "duration": 54,
    "start_time": "2023-07-09T15:40:19.865Z"
   },
   {
    "duration": 75,
    "start_time": "2023-07-09T15:40:19.921Z"
   },
   {
    "duration": 234,
    "start_time": "2023-07-09T15:40:19.998Z"
   },
   {
    "duration": 202,
    "start_time": "2023-07-09T15:40:20.235Z"
   },
   {
    "duration": 580,
    "start_time": "2023-07-09T15:40:20.439Z"
   },
   {
    "duration": 17665,
    "start_time": "2023-07-09T15:40:21.021Z"
   },
   {
    "duration": 271,
    "start_time": "2023-07-09T15:40:38.688Z"
   },
   {
    "duration": 12979,
    "start_time": "2023-07-09T15:40:38.962Z"
   },
   {
    "duration": 46,
    "start_time": "2023-07-09T15:43:38.335Z"
   },
   {
    "duration": 586,
    "start_time": "2023-07-09T15:44:14.431Z"
   },
   {
    "duration": 582,
    "start_time": "2023-07-09T15:44:24.523Z"
   },
   {
    "duration": 17627,
    "start_time": "2023-07-09T15:45:40.839Z"
   },
   {
    "duration": 2206,
    "start_time": "2023-07-09T15:47:46.358Z"
   },
   {
    "duration": 1315,
    "start_time": "2023-07-09T15:47:48.568Z"
   },
   {
    "duration": 72,
    "start_time": "2023-07-09T15:47:49.885Z"
   },
   {
    "duration": 6,
    "start_time": "2023-07-09T15:47:49.959Z"
   },
   {
    "duration": 641,
    "start_time": "2023-07-09T15:47:49.967Z"
   },
   {
    "duration": 5,
    "start_time": "2023-07-09T15:47:50.610Z"
   },
   {
    "duration": 23,
    "start_time": "2023-07-09T15:47:50.617Z"
   },
   {
    "duration": 15,
    "start_time": "2023-07-09T15:47:50.641Z"
   },
   {
    "duration": 26,
    "start_time": "2023-07-09T15:47:50.658Z"
   },
   {
    "duration": 21,
    "start_time": "2023-07-09T15:47:50.687Z"
   },
   {
    "duration": 13,
    "start_time": "2023-07-09T15:47:50.711Z"
   },
   {
    "duration": 10,
    "start_time": "2023-07-09T15:47:50.726Z"
   },
   {
    "duration": 9,
    "start_time": "2023-07-09T15:47:50.739Z"
   },
   {
    "duration": 81,
    "start_time": "2023-07-09T15:47:50.750Z"
   },
   {
    "duration": 140,
    "start_time": "2023-07-09T15:47:50.833Z"
   },
   {
    "duration": 46,
    "start_time": "2023-07-09T15:47:50.976Z"
   },
   {
    "duration": 267,
    "start_time": "2023-07-09T15:47:51.024Z"
   },
   {
    "duration": 3059,
    "start_time": "2023-07-09T15:47:51.293Z"
   },
   {
    "duration": 36,
    "start_time": "2023-07-09T15:47:54.354Z"
   },
   {
    "duration": 35,
    "start_time": "2023-07-09T15:47:54.391Z"
   },
   {
    "duration": 87,
    "start_time": "2023-07-09T15:47:54.428Z"
   },
   {
    "duration": 123,
    "start_time": "2023-07-09T15:47:54.516Z"
   },
   {
    "duration": 162,
    "start_time": "2023-07-09T15:47:54.641Z"
   },
   {
    "duration": 17848,
    "start_time": "2023-07-09T15:47:54.805Z"
   },
   {
    "duration": 292,
    "start_time": "2023-07-09T15:48:12.655Z"
   },
   {
    "duration": 2286,
    "start_time": "2023-07-09T15:51:57.970Z"
   },
   {
    "duration": 1233,
    "start_time": "2023-07-09T15:52:00.258Z"
   },
   {
    "duration": 67,
    "start_time": "2023-07-09T15:52:01.493Z"
   },
   {
    "duration": 6,
    "start_time": "2023-07-09T15:52:01.562Z"
   },
   {
    "duration": 584,
    "start_time": "2023-07-09T15:52:01.569Z"
   },
   {
    "duration": 5,
    "start_time": "2023-07-09T15:52:02.155Z"
   },
   {
    "duration": 32,
    "start_time": "2023-07-09T15:52:02.162Z"
   },
   {
    "duration": 9,
    "start_time": "2023-07-09T15:52:02.196Z"
   },
   {
    "duration": 33,
    "start_time": "2023-07-09T15:52:02.207Z"
   },
   {
    "duration": 15,
    "start_time": "2023-07-09T15:52:02.243Z"
   },
   {
    "duration": 24,
    "start_time": "2023-07-09T15:52:02.260Z"
   },
   {
    "duration": 30,
    "start_time": "2023-07-09T15:52:02.286Z"
   },
   {
    "duration": 27,
    "start_time": "2023-07-09T15:52:02.318Z"
   },
   {
    "duration": 78,
    "start_time": "2023-07-09T15:52:02.347Z"
   },
   {
    "duration": 144,
    "start_time": "2023-07-09T15:52:02.427Z"
   },
   {
    "duration": 49,
    "start_time": "2023-07-09T15:52:02.573Z"
   },
   {
    "duration": 294,
    "start_time": "2023-07-09T15:52:02.624Z"
   },
   {
    "duration": 3055,
    "start_time": "2023-07-09T15:52:02.919Z"
   },
   {
    "duration": 48,
    "start_time": "2023-07-09T15:52:05.976Z"
   },
   {
    "duration": 15,
    "start_time": "2023-07-09T15:52:06.026Z"
   },
   {
    "duration": 78,
    "start_time": "2023-07-09T15:52:06.043Z"
   },
   {
    "duration": 119,
    "start_time": "2023-07-09T15:52:06.122Z"
   },
   {
    "duration": 156,
    "start_time": "2023-07-09T15:52:06.243Z"
   },
   {
    "duration": 17734,
    "start_time": "2023-07-09T15:52:06.401Z"
   },
   {
    "duration": 287,
    "start_time": "2023-07-09T15:52:24.137Z"
   },
   {
    "duration": 143,
    "start_time": "2023-07-09T15:54:05.850Z"
   },
   {
    "duration": 161,
    "start_time": "2023-07-09T15:55:04.518Z"
   },
   {
    "duration": 4458,
    "start_time": "2023-07-09T15:55:35.750Z"
   },
   {
    "duration": 91,
    "start_time": "2023-07-09T15:56:43.980Z"
   },
   {
    "duration": 2166,
    "start_time": "2023-07-09T15:57:08.990Z"
   },
   {
    "duration": 1236,
    "start_time": "2023-07-09T15:57:11.159Z"
   },
   {
    "duration": 69,
    "start_time": "2023-07-09T15:57:12.397Z"
   },
   {
    "duration": 5,
    "start_time": "2023-07-09T15:57:12.470Z"
   },
   {
    "duration": 579,
    "start_time": "2023-07-09T15:57:12.477Z"
   },
   {
    "duration": 5,
    "start_time": "2023-07-09T15:57:13.057Z"
   },
   {
    "duration": 14,
    "start_time": "2023-07-09T15:57:13.064Z"
   },
   {
    "duration": 5,
    "start_time": "2023-07-09T15:57:13.080Z"
   },
   {
    "duration": 32,
    "start_time": "2023-07-09T15:57:13.087Z"
   },
   {
    "duration": 13,
    "start_time": "2023-07-09T15:57:13.122Z"
   },
   {
    "duration": 18,
    "start_time": "2023-07-09T15:57:13.136Z"
   },
   {
    "duration": 8,
    "start_time": "2023-07-09T15:57:13.156Z"
   },
   {
    "duration": 14,
    "start_time": "2023-07-09T15:57:13.165Z"
   },
   {
    "duration": 69,
    "start_time": "2023-07-09T15:57:13.181Z"
   },
   {
    "duration": 138,
    "start_time": "2023-07-09T15:57:13.252Z"
   },
   {
    "duration": 37,
    "start_time": "2023-07-09T15:57:13.392Z"
   },
   {
    "duration": 283,
    "start_time": "2023-07-09T15:57:13.431Z"
   },
   {
    "duration": 3075,
    "start_time": "2023-07-09T15:57:13.716Z"
   },
   {
    "duration": 40,
    "start_time": "2023-07-09T15:57:16.793Z"
   },
   {
    "duration": 15,
    "start_time": "2023-07-09T15:57:16.835Z"
   },
   {
    "duration": 66,
    "start_time": "2023-07-09T15:57:16.852Z"
   },
   {
    "duration": 275,
    "start_time": "2023-07-09T15:57:16.921Z"
   },
   {
    "duration": 19326,
    "start_time": "2023-07-09T15:57:17.197Z"
   },
   {
    "duration": 127,
    "start_time": "2023-07-09T15:57:36.525Z"
   },
   {
    "duration": 234,
    "start_time": "2023-07-09T15:58:37.823Z"
   },
   {
    "duration": 2436,
    "start_time": "2023-07-09T16:10:48.315Z"
   },
   {
    "duration": 1242,
    "start_time": "2023-07-09T16:10:50.754Z"
   },
   {
    "duration": 68,
    "start_time": "2023-07-09T16:10:51.998Z"
   },
   {
    "duration": 5,
    "start_time": "2023-07-09T16:10:52.067Z"
   },
   {
    "duration": 570,
    "start_time": "2023-07-09T16:10:52.074Z"
   },
   {
    "duration": 5,
    "start_time": "2023-07-09T16:10:52.646Z"
   },
   {
    "duration": 58,
    "start_time": "2023-07-09T16:10:52.652Z"
   },
   {
    "duration": 13,
    "start_time": "2023-07-09T16:10:52.712Z"
   },
   {
    "duration": 24,
    "start_time": "2023-07-09T16:10:52.727Z"
   },
   {
    "duration": 27,
    "start_time": "2023-07-09T16:10:52.754Z"
   },
   {
    "duration": 28,
    "start_time": "2023-07-09T16:10:52.782Z"
   },
   {
    "duration": 37,
    "start_time": "2023-07-09T16:10:52.812Z"
   },
   {
    "duration": 30,
    "start_time": "2023-07-09T16:10:52.851Z"
   },
   {
    "duration": 72,
    "start_time": "2023-07-09T16:10:52.883Z"
   },
   {
    "duration": 144,
    "start_time": "2023-07-09T16:10:52.957Z"
   },
   {
    "duration": 201,
    "start_time": "2023-07-09T16:10:53.114Z"
   },
   {
    "duration": 159,
    "start_time": "2023-07-09T16:10:53.317Z"
   },
   {
    "duration": 3115,
    "start_time": "2023-07-09T16:10:53.478Z"
   },
   {
    "duration": 42,
    "start_time": "2023-07-09T16:10:56.595Z"
   },
   {
    "duration": 14,
    "start_time": "2023-07-09T16:10:56.639Z"
   },
   {
    "duration": 66,
    "start_time": "2023-07-09T16:10:56.655Z"
   },
   {
    "duration": 269,
    "start_time": "2023-07-09T16:10:56.722Z"
   },
   {
    "duration": 16598,
    "start_time": "2023-07-09T16:10:56.993Z"
   },
   {
    "duration": 249,
    "start_time": "2023-07-09T16:11:13.593Z"
   },
   {
    "duration": 8,
    "start_time": "2023-07-09T16:11:13.844Z"
   },
   {
    "duration": 223,
    "start_time": "2023-07-09T16:14:09.266Z"
   },
   {
    "duration": 2135,
    "start_time": "2023-07-09T16:19:11.450Z"
   },
   {
    "duration": 1400,
    "start_time": "2023-07-09T16:19:13.588Z"
   },
   {
    "duration": 71,
    "start_time": "2023-07-09T16:19:14.989Z"
   },
   {
    "duration": 12,
    "start_time": "2023-07-09T16:19:15.062Z"
   },
   {
    "duration": 588,
    "start_time": "2023-07-09T16:19:15.075Z"
   },
   {
    "duration": 5,
    "start_time": "2023-07-09T16:19:15.664Z"
   },
   {
    "duration": 14,
    "start_time": "2023-07-09T16:19:15.671Z"
   },
   {
    "duration": 4,
    "start_time": "2023-07-09T16:19:15.687Z"
   },
   {
    "duration": 30,
    "start_time": "2023-07-09T16:19:15.692Z"
   },
   {
    "duration": 8,
    "start_time": "2023-07-09T16:19:15.725Z"
   },
   {
    "duration": 9,
    "start_time": "2023-07-09T16:19:15.735Z"
   },
   {
    "duration": 7,
    "start_time": "2023-07-09T16:19:15.745Z"
   },
   {
    "duration": 7,
    "start_time": "2023-07-09T16:19:15.754Z"
   },
   {
    "duration": 84,
    "start_time": "2023-07-09T16:19:15.762Z"
   },
   {
    "duration": 138,
    "start_time": "2023-07-09T16:19:15.847Z"
   },
   {
    "duration": 40,
    "start_time": "2023-07-09T16:19:15.987Z"
   },
   {
    "duration": 271,
    "start_time": "2023-07-09T16:19:16.029Z"
   },
   {
    "duration": 2980,
    "start_time": "2023-07-09T16:19:16.302Z"
   },
   {
    "duration": 29,
    "start_time": "2023-07-09T16:19:19.284Z"
   },
   {
    "duration": 101,
    "start_time": "2023-07-09T16:19:19.315Z"
   },
   {
    "duration": 260,
    "start_time": "2023-07-09T16:19:19.418Z"
   },
   {
    "duration": 17795,
    "start_time": "2023-07-09T16:19:19.680Z"
   },
   {
    "duration": 252,
    "start_time": "2023-07-09T16:19:37.477Z"
   },
   {
    "duration": 7,
    "start_time": "2023-07-09T16:19:37.732Z"
   }
  ],
  "kernelspec": {
   "display_name": "Python 3 (ipykernel)",
   "language": "python",
   "name": "python3"
  },
  "language_info": {
   "codemirror_mode": {
    "name": "ipython",
    "version": 3
   },
   "file_extension": ".py",
   "mimetype": "text/x-python",
   "name": "python",
   "nbconvert_exporter": "python",
   "pygments_lexer": "ipython3",
   "version": "3.9.13"
  },
  "toc": {
   "base_numbering": 1,
   "nav_menu": {},
   "number_sections": true,
   "sideBar": true,
   "skip_h1_title": true,
   "title_cell": "Содержание",
   "title_sidebar": "Contents",
   "toc_cell": true,
   "toc_position": {
    "height": "calc(100% - 180px)",
    "left": "10px",
    "top": "150px",
    "width": "413.542px"
   },
   "toc_section_display": true,
   "toc_window_display": false
  }
 },
 "nbformat": 4,
 "nbformat_minor": 2
}
