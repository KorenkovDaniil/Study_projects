{
 "cells": [
  {
   "cell_type": "markdown",
   "metadata": {},
   "source": [
    "# Определение стоимости автомобилей"
   ]
  },
  {
   "cell_type": "markdown",
   "metadata": {},
   "source": [
    "Сервис по продаже автомобилей с пробегом «Не бит, не крашен» разрабатывает приложение для привлечения новых клиентов. В нём можно быстро узнать рыночную стоимость своего автомобиля. В вашем распоряжении исторические данные: технические характеристики, комплектации и цены автомобилей. Вам нужно построить модель для определения стоимости. \n",
    "\n",
    "Заказчику важны:\n",
    "\n",
    "- качество предсказания;\n",
    "- скорость предсказания;\n",
    "- время обучения."
   ]
  },
  {
   "cell_type": "markdown",
   "metadata": {},
   "source": [
    "**Признаки**  \n",
    "`DateCrawled` — дата скачивания анкеты из базы  \n",
    "`VehicleType` — тип автомобильного кузова  \n",
    "`RegistrationYear` — год регистрации автомобиля  \n",
    "`Gearbox` — тип коробки передач  \n",
    "`Power` — мощность (л. с.)  \n",
    "`Model` — модель автомобиля  \n",
    "`Kilometer` — пробег (км)  \n",
    "`RegistrationMonth` — месяц регистрации автомобиля  \n",
    "`FuelType` — тип топлива  \n",
    "`Brand` — марка автомобиля  \n",
    "`Repaired` — была машина в ремонте или нет  \n",
    "`DateCreated` — дата создания анкеты  \n",
    "`NumberOfPictures` — количество фотографий автомобиля  \n",
    "`PostalCode` — почтовый индекс владельца анкеты (пользователя)  \n",
    "`LastSeen` — дата последней активности пользователя  \n",
    "\n",
    "**Целевой признак**  \n",
    "`Price` — цена (евро)"
   ]
  },
  {
   "cell_type": "markdown",
   "metadata": {},
   "source": [
    "## Подготовка данных"
   ]
  },
  {
   "cell_type": "code",
   "execution_count": 1,
   "metadata": {
    "scrolled": true
   },
   "outputs": [
    {
     "name": "stdout",
     "output_type": "stream",
     "text": [
      "Requirement already satisfied: scikit-learn==1.1.3 in /opt/conda/lib/python3.9/site-packages (1.1.3)\n",
      "Requirement already satisfied: joblib>=1.0.0 in /opt/conda/lib/python3.9/site-packages (from scikit-learn==1.1.3) (1.1.0)\n",
      "Requirement already satisfied: threadpoolctl>=2.0.0 in /opt/conda/lib/python3.9/site-packages (from scikit-learn==1.1.3) (3.1.0)\n",
      "Requirement already satisfied: numpy>=1.17.3 in /opt/conda/lib/python3.9/site-packages (from scikit-learn==1.1.3) (1.21.1)\n",
      "Requirement already satisfied: scipy>=1.3.2 in /opt/conda/lib/python3.9/site-packages (from scikit-learn==1.1.3) (1.9.1)\n",
      "Requirement already satisfied: lightgbm in /opt/conda/lib/python3.9/site-packages (3.3.1)\n",
      "Requirement already satisfied: wheel in /opt/conda/lib/python3.9/site-packages (from lightgbm) (0.36.2)\n",
      "Requirement already satisfied: numpy in /opt/conda/lib/python3.9/site-packages (from lightgbm) (1.21.1)\n",
      "Requirement already satisfied: scipy in /opt/conda/lib/python3.9/site-packages (from lightgbm) (1.9.1)\n",
      "Requirement already satisfied: scikit-learn!=0.22.0 in /opt/conda/lib/python3.9/site-packages (from lightgbm) (1.1.3)\n",
      "Requirement already satisfied: joblib>=1.0.0 in /opt/conda/lib/python3.9/site-packages (from scikit-learn!=0.22.0->lightgbm) (1.1.0)\n",
      "Requirement already satisfied: threadpoolctl>=2.0.0 in /opt/conda/lib/python3.9/site-packages (from scikit-learn!=0.22.0->lightgbm) (3.1.0)\n"
     ]
    }
   ],
   "source": [
    "!pip install scikit-learn==1.1.3\n",
    "!pip install lightgbm"
   ]
  },
  {
   "cell_type": "code",
   "execution_count": 2,
   "metadata": {},
   "outputs": [],
   "source": [
    "import pandas as pd\n",
    "import matplotlib.pyplot as plt\n",
    "import lightgbm as lgb\n",
    "from time import time\n",
    "from sklearn.linear_model import LinearRegression\n",
    "from sklearn.ensemble import RandomForestRegressor\n",
    "from sklearn.tree import DecisionTreeRegressor\n",
    "from sklearn.model_selection import train_test_split\n",
    "from sklearn.metrics import mean_squared_error\n",
    "from sklearn.preprocessing import StandardScaler, OneHotEncoder"
   ]
  },
  {
   "cell_type": "code",
   "execution_count": 3,
   "metadata": {
    "scrolled": true
   },
   "outputs": [
    {
     "name": "stdout",
     "output_type": "stream",
     "text": [
      "<class 'pandas.core.frame.DataFrame'>\n",
      "RangeIndex: 354369 entries, 0 to 354368\n",
      "Data columns (total 16 columns):\n",
      " #   Column             Non-Null Count   Dtype \n",
      "---  ------             --------------   ----- \n",
      " 0   DateCrawled        354369 non-null  object\n",
      " 1   Price              354369 non-null  int64 \n",
      " 2   VehicleType        316879 non-null  object\n",
      " 3   RegistrationYear   354369 non-null  int64 \n",
      " 4   Gearbox            334536 non-null  object\n",
      " 5   Power              354369 non-null  int64 \n",
      " 6   Model              334664 non-null  object\n",
      " 7   Kilometer          354369 non-null  int64 \n",
      " 8   RegistrationMonth  354369 non-null  int64 \n",
      " 9   FuelType           321474 non-null  object\n",
      " 10  Brand              354369 non-null  object\n",
      " 11  Repaired           283215 non-null  object\n",
      " 12  DateCreated        354369 non-null  object\n",
      " 13  NumberOfPictures   354369 non-null  int64 \n",
      " 14  PostalCode         354369 non-null  int64 \n",
      " 15  LastSeen           354369 non-null  object\n",
      "dtypes: int64(7), object(9)\n",
      "memory usage: 43.3+ MB\n"
     ]
    },
    {
     "data": {
      "text/plain": [
       "None"
      ]
     },
     "metadata": {},
     "output_type": "display_data"
    },
    {
     "data": {
      "text/html": [
       "<div>\n",
       "<style scoped>\n",
       "    .dataframe tbody tr th:only-of-type {\n",
       "        vertical-align: middle;\n",
       "    }\n",
       "\n",
       "    .dataframe tbody tr th {\n",
       "        vertical-align: top;\n",
       "    }\n",
       "\n",
       "    .dataframe thead th {\n",
       "        text-align: right;\n",
       "    }\n",
       "</style>\n",
       "<table border=\"1\" class=\"dataframe\">\n",
       "  <thead>\n",
       "    <tr style=\"text-align: right;\">\n",
       "      <th></th>\n",
       "      <th>DateCrawled</th>\n",
       "      <th>Price</th>\n",
       "      <th>VehicleType</th>\n",
       "      <th>RegistrationYear</th>\n",
       "      <th>Gearbox</th>\n",
       "      <th>Power</th>\n",
       "      <th>Model</th>\n",
       "      <th>Kilometer</th>\n",
       "      <th>RegistrationMonth</th>\n",
       "      <th>FuelType</th>\n",
       "      <th>Brand</th>\n",
       "      <th>Repaired</th>\n",
       "      <th>DateCreated</th>\n",
       "      <th>NumberOfPictures</th>\n",
       "      <th>PostalCode</th>\n",
       "      <th>LastSeen</th>\n",
       "    </tr>\n",
       "  </thead>\n",
       "  <tbody>\n",
       "    <tr>\n",
       "      <th>0</th>\n",
       "      <td>2016-03-24 11:52:17</td>\n",
       "      <td>480</td>\n",
       "      <td>NaN</td>\n",
       "      <td>1993</td>\n",
       "      <td>manual</td>\n",
       "      <td>0</td>\n",
       "      <td>golf</td>\n",
       "      <td>150000</td>\n",
       "      <td>0</td>\n",
       "      <td>petrol</td>\n",
       "      <td>volkswagen</td>\n",
       "      <td>NaN</td>\n",
       "      <td>2016-03-24 00:00:00</td>\n",
       "      <td>0</td>\n",
       "      <td>70435</td>\n",
       "      <td>2016-04-07 03:16:57</td>\n",
       "    </tr>\n",
       "    <tr>\n",
       "      <th>1</th>\n",
       "      <td>2016-03-24 10:58:45</td>\n",
       "      <td>18300</td>\n",
       "      <td>coupe</td>\n",
       "      <td>2011</td>\n",
       "      <td>manual</td>\n",
       "      <td>190</td>\n",
       "      <td>NaN</td>\n",
       "      <td>125000</td>\n",
       "      <td>5</td>\n",
       "      <td>gasoline</td>\n",
       "      <td>audi</td>\n",
       "      <td>yes</td>\n",
       "      <td>2016-03-24 00:00:00</td>\n",
       "      <td>0</td>\n",
       "      <td>66954</td>\n",
       "      <td>2016-04-07 01:46:50</td>\n",
       "    </tr>\n",
       "    <tr>\n",
       "      <th>2</th>\n",
       "      <td>2016-03-14 12:52:21</td>\n",
       "      <td>9800</td>\n",
       "      <td>suv</td>\n",
       "      <td>2004</td>\n",
       "      <td>auto</td>\n",
       "      <td>163</td>\n",
       "      <td>grand</td>\n",
       "      <td>125000</td>\n",
       "      <td>8</td>\n",
       "      <td>gasoline</td>\n",
       "      <td>jeep</td>\n",
       "      <td>NaN</td>\n",
       "      <td>2016-03-14 00:00:00</td>\n",
       "      <td>0</td>\n",
       "      <td>90480</td>\n",
       "      <td>2016-04-05 12:47:46</td>\n",
       "    </tr>\n",
       "    <tr>\n",
       "      <th>3</th>\n",
       "      <td>2016-03-17 16:54:04</td>\n",
       "      <td>1500</td>\n",
       "      <td>small</td>\n",
       "      <td>2001</td>\n",
       "      <td>manual</td>\n",
       "      <td>75</td>\n",
       "      <td>golf</td>\n",
       "      <td>150000</td>\n",
       "      <td>6</td>\n",
       "      <td>petrol</td>\n",
       "      <td>volkswagen</td>\n",
       "      <td>no</td>\n",
       "      <td>2016-03-17 00:00:00</td>\n",
       "      <td>0</td>\n",
       "      <td>91074</td>\n",
       "      <td>2016-03-17 17:40:17</td>\n",
       "    </tr>\n",
       "    <tr>\n",
       "      <th>4</th>\n",
       "      <td>2016-03-31 17:25:20</td>\n",
       "      <td>3600</td>\n",
       "      <td>small</td>\n",
       "      <td>2008</td>\n",
       "      <td>manual</td>\n",
       "      <td>69</td>\n",
       "      <td>fabia</td>\n",
       "      <td>90000</td>\n",
       "      <td>7</td>\n",
       "      <td>gasoline</td>\n",
       "      <td>skoda</td>\n",
       "      <td>no</td>\n",
       "      <td>2016-03-31 00:00:00</td>\n",
       "      <td>0</td>\n",
       "      <td>60437</td>\n",
       "      <td>2016-04-06 10:17:21</td>\n",
       "    </tr>\n",
       "  </tbody>\n",
       "</table>\n",
       "</div>"
      ],
      "text/plain": [
       "           DateCrawled  Price VehicleType  RegistrationYear Gearbox  Power  \\\n",
       "0  2016-03-24 11:52:17    480         NaN              1993  manual      0   \n",
       "1  2016-03-24 10:58:45  18300       coupe              2011  manual    190   \n",
       "2  2016-03-14 12:52:21   9800         suv              2004    auto    163   \n",
       "3  2016-03-17 16:54:04   1500       small              2001  manual     75   \n",
       "4  2016-03-31 17:25:20   3600       small              2008  manual     69   \n",
       "\n",
       "   Model  Kilometer  RegistrationMonth  FuelType       Brand Repaired  \\\n",
       "0   golf     150000                  0    petrol  volkswagen      NaN   \n",
       "1    NaN     125000                  5  gasoline        audi      yes   \n",
       "2  grand     125000                  8  gasoline        jeep      NaN   \n",
       "3   golf     150000                  6    petrol  volkswagen       no   \n",
       "4  fabia      90000                  7  gasoline       skoda       no   \n",
       "\n",
       "           DateCreated  NumberOfPictures  PostalCode             LastSeen  \n",
       "0  2016-03-24 00:00:00                 0       70435  2016-04-07 03:16:57  \n",
       "1  2016-03-24 00:00:00                 0       66954  2016-04-07 01:46:50  \n",
       "2  2016-03-14 00:00:00                 0       90480  2016-04-05 12:47:46  \n",
       "3  2016-03-17 00:00:00                 0       91074  2016-03-17 17:40:17  \n",
       "4  2016-03-31 00:00:00                 0       60437  2016-04-06 10:17:21  "
      ]
     },
     "execution_count": 3,
     "metadata": {},
     "output_type": "execute_result"
    }
   ],
   "source": [
    "data = pd.read_csv('/datasets/autos.csv')\n",
    "display(data.info())\n",
    "data.head(5)"
   ]
  },
  {
   "cell_type": "markdown",
   "metadata": {},
   "source": [
    "Удалим явные дубликаты"
   ]
  },
  {
   "cell_type": "code",
   "execution_count": 4,
   "metadata": {},
   "outputs": [],
   "source": [
    "data = data.drop_duplicates()"
   ]
  },
  {
   "cell_type": "code",
   "execution_count": 5,
   "metadata": {},
   "outputs": [
    {
     "data": {
      "text/html": [
       "<div>\n",
       "<style scoped>\n",
       "    .dataframe tbody tr th:only-of-type {\n",
       "        vertical-align: middle;\n",
       "    }\n",
       "\n",
       "    .dataframe tbody tr th {\n",
       "        vertical-align: top;\n",
       "    }\n",
       "\n",
       "    .dataframe thead th {\n",
       "        text-align: right;\n",
       "    }\n",
       "</style>\n",
       "<table border=\"1\" class=\"dataframe\">\n",
       "  <thead>\n",
       "    <tr style=\"text-align: right;\">\n",
       "      <th></th>\n",
       "      <th>Price</th>\n",
       "      <th>RegistrationYear</th>\n",
       "      <th>Power</th>\n",
       "      <th>Kilometer</th>\n",
       "      <th>RegistrationMonth</th>\n",
       "      <th>NumberOfPictures</th>\n",
       "      <th>PostalCode</th>\n",
       "    </tr>\n",
       "  </thead>\n",
       "  <tbody>\n",
       "    <tr>\n",
       "      <th>count</th>\n",
       "      <td>354365.000000</td>\n",
       "      <td>354365.000000</td>\n",
       "      <td>354365.000000</td>\n",
       "      <td>354365.000000</td>\n",
       "      <td>354365.000000</td>\n",
       "      <td>354365.0</td>\n",
       "      <td>354365.000000</td>\n",
       "    </tr>\n",
       "    <tr>\n",
       "      <th>mean</th>\n",
       "      <td>4416.679830</td>\n",
       "      <td>2004.234481</td>\n",
       "      <td>110.093816</td>\n",
       "      <td>128211.363989</td>\n",
       "      <td>5.714650</td>\n",
       "      <td>0.0</td>\n",
       "      <td>50508.503800</td>\n",
       "    </tr>\n",
       "    <tr>\n",
       "      <th>std</th>\n",
       "      <td>4514.176349</td>\n",
       "      <td>90.228466</td>\n",
       "      <td>189.851330</td>\n",
       "      <td>37905.083858</td>\n",
       "      <td>3.726432</td>\n",
       "      <td>0.0</td>\n",
       "      <td>25783.100078</td>\n",
       "    </tr>\n",
       "    <tr>\n",
       "      <th>min</th>\n",
       "      <td>0.000000</td>\n",
       "      <td>1000.000000</td>\n",
       "      <td>0.000000</td>\n",
       "      <td>5000.000000</td>\n",
       "      <td>0.000000</td>\n",
       "      <td>0.0</td>\n",
       "      <td>1067.000000</td>\n",
       "    </tr>\n",
       "    <tr>\n",
       "      <th>25%</th>\n",
       "      <td>1050.000000</td>\n",
       "      <td>1999.000000</td>\n",
       "      <td>69.000000</td>\n",
       "      <td>125000.000000</td>\n",
       "      <td>3.000000</td>\n",
       "      <td>0.0</td>\n",
       "      <td>30165.000000</td>\n",
       "    </tr>\n",
       "    <tr>\n",
       "      <th>50%</th>\n",
       "      <td>2700.000000</td>\n",
       "      <td>2003.000000</td>\n",
       "      <td>105.000000</td>\n",
       "      <td>150000.000000</td>\n",
       "      <td>6.000000</td>\n",
       "      <td>0.0</td>\n",
       "      <td>49413.000000</td>\n",
       "    </tr>\n",
       "    <tr>\n",
       "      <th>75%</th>\n",
       "      <td>6400.000000</td>\n",
       "      <td>2008.000000</td>\n",
       "      <td>143.000000</td>\n",
       "      <td>150000.000000</td>\n",
       "      <td>9.000000</td>\n",
       "      <td>0.0</td>\n",
       "      <td>71083.000000</td>\n",
       "    </tr>\n",
       "    <tr>\n",
       "      <th>max</th>\n",
       "      <td>20000.000000</td>\n",
       "      <td>9999.000000</td>\n",
       "      <td>20000.000000</td>\n",
       "      <td>150000.000000</td>\n",
       "      <td>12.000000</td>\n",
       "      <td>0.0</td>\n",
       "      <td>99998.000000</td>\n",
       "    </tr>\n",
       "  </tbody>\n",
       "</table>\n",
       "</div>"
      ],
      "text/plain": [
       "               Price  RegistrationYear          Power      Kilometer  \\\n",
       "count  354365.000000     354365.000000  354365.000000  354365.000000   \n",
       "mean     4416.679830       2004.234481     110.093816  128211.363989   \n",
       "std      4514.176349         90.228466     189.851330   37905.083858   \n",
       "min         0.000000       1000.000000       0.000000    5000.000000   \n",
       "25%      1050.000000       1999.000000      69.000000  125000.000000   \n",
       "50%      2700.000000       2003.000000     105.000000  150000.000000   \n",
       "75%      6400.000000       2008.000000     143.000000  150000.000000   \n",
       "max     20000.000000       9999.000000   20000.000000  150000.000000   \n",
       "\n",
       "       RegistrationMonth  NumberOfPictures     PostalCode  \n",
       "count      354365.000000          354365.0  354365.000000  \n",
       "mean            5.714650               0.0   50508.503800  \n",
       "std             3.726432               0.0   25783.100078  \n",
       "min             0.000000               0.0    1067.000000  \n",
       "25%             3.000000               0.0   30165.000000  \n",
       "50%             6.000000               0.0   49413.000000  \n",
       "75%             9.000000               0.0   71083.000000  \n",
       "max            12.000000               0.0   99998.000000  "
      ]
     },
     "execution_count": 5,
     "metadata": {},
     "output_type": "execute_result"
    }
   ],
   "source": [
    "data.describe()"
   ]
  },
  {
   "cell_type": "markdown",
   "metadata": {},
   "source": [
    "1) В некоторых признаках присутствуют пропуска;  \n",
    "2) Столбцы с датами имеют неправильный тип;  Однако сами признаки-даты скорее всего не влияют на стоимость автомобилей, поэтому от них можно избавиться.  \n",
    "3) В столбце `NumberOfPictures` одни нули, это не несет никакой информации, от столбца нужно избавиться;  \n",
    "4) Столбец с почтовым кодом `PostalCode` в нашем случае бесполезен, но потенциально с его помощью можно получить информацию о регионе продавца. Удалим столбец;  \n",
    "5) Некоторые столбцы с числовым типом данных имеют явные выбросы и аномалии (нулевая стоимость, 9999й год регистрации,  \n",
    "   мощность  20000 л.с. и тому подобные)\n"
   ]
  },
  {
   "cell_type": "markdown",
   "metadata": {},
   "source": [
    "Избавимся от аномальных значений в столбцах `Price`, `RegistrationYear` и `Power`:  \n",
    "1) В `Price` найдем цены меньше 10 у.е. (отсечем равные нулю, т.е. явно аномальные цены). Удалим эти записи, т.к. данный признак является целевым.     \n",
    "2) В `Power` заменим аномальные значения медианным значением.  \n",
    "3) В `RegistrationYear` заменим неадекватные года медианным годом."
   ]
  },
  {
   "cell_type": "markdown",
   "metadata": {},
   "source": [
    "Преобразуем столбец с датой скачивания анкеты `DateCrawled` в соответствующий дате тип `datetime`.  Затем извлечем из даты год; это понадобится, чтобы избавиться от аномальных значений в столбце с датой регистрации `RegistrationYear` (год регистрации автомобился не может быть больше года загрузки объявления)."
   ]
  },
  {
   "cell_type": "code",
   "execution_count": 6,
   "metadata": {},
   "outputs": [],
   "source": [
    "data['DateCrawled'] = pd.to_datetime(data['DateCrawled'], format='%Y-%m-%d %H:%M:%S')\n",
    "data['DateCrawled'] = pd.DatetimeIndex(data['DateCrawled']).year"
   ]
  },
  {
   "cell_type": "code",
   "execution_count": 7,
   "metadata": {},
   "outputs": [],
   "source": [
    "data = data[data['Price'] >= 10]\n",
    "\n",
    "data['Power'].mask((data['Power'] < 10) | (data['Power'] >= 1500), data['Power'].median(), inplace=True)\n",
    "\n",
    "data.loc[(data['RegistrationYear'] > data['DateCrawled']) | (data['RegistrationYear'] < 1900), \n",
    "         'RegistrationYear'] = data['RegistrationYear'].median()"
   ]
  },
  {
   "cell_type": "markdown",
   "metadata": {},
   "source": [
    "Удалим столбцы с датами - `DateCrawled`, `DateCreated`, `LastSeen`, `RegistrationMonth`.  "
   ]
  },
  {
   "cell_type": "code",
   "execution_count": 8,
   "metadata": {},
   "outputs": [],
   "source": [
    "cols_to_drop = ['DateCrawled', 'DateCreated', 'LastSeen', 'RegistrationMonth']\n",
    "data = data.drop(cols_to_drop, axis=1)"
   ]
  },
  {
   "cell_type": "markdown",
   "metadata": {},
   "source": [
    "Избавимся от неинформативных столбцов `PostalCode` и `NumberOfPictures`. "
   ]
  },
  {
   "cell_type": "code",
   "execution_count": 9,
   "metadata": {},
   "outputs": [],
   "source": [
    "data = data.drop(['PostalCode', 'NumberOfPictures'], axis=1)"
   ]
  },
  {
   "cell_type": "code",
   "execution_count": 10,
   "metadata": {},
   "outputs": [
    {
     "data": {
      "text/html": [
       "<div>\n",
       "<style scoped>\n",
       "    .dataframe tbody tr th:only-of-type {\n",
       "        vertical-align: middle;\n",
       "    }\n",
       "\n",
       "    .dataframe tbody tr th {\n",
       "        vertical-align: top;\n",
       "    }\n",
       "\n",
       "    .dataframe thead th {\n",
       "        text-align: right;\n",
       "    }\n",
       "</style>\n",
       "<table border=\"1\" class=\"dataframe\">\n",
       "  <thead>\n",
       "    <tr style=\"text-align: right;\">\n",
       "      <th></th>\n",
       "      <th>Price</th>\n",
       "      <th>RegistrationYear</th>\n",
       "      <th>Power</th>\n",
       "      <th>Kilometer</th>\n",
       "    </tr>\n",
       "  </thead>\n",
       "  <tbody>\n",
       "    <tr>\n",
       "      <th>count</th>\n",
       "      <td>342337.000000</td>\n",
       "      <td>342337.000000</td>\n",
       "      <td>342337.000000</td>\n",
       "      <td>342337.000000</td>\n",
       "    </tr>\n",
       "    <tr>\n",
       "      <th>mean</th>\n",
       "      <td>4571.855254</td>\n",
       "      <td>2002.624817</td>\n",
       "      <td>119.085173</td>\n",
       "      <td>128387.276280</td>\n",
       "    </tr>\n",
       "    <tr>\n",
       "      <th>std</th>\n",
       "      <td>4514.902138</td>\n",
       "      <td>6.753084</td>\n",
       "      <td>54.962918</td>\n",
       "      <td>37422.793501</td>\n",
       "    </tr>\n",
       "    <tr>\n",
       "      <th>min</th>\n",
       "      <td>10.000000</td>\n",
       "      <td>1910.000000</td>\n",
       "      <td>10.000000</td>\n",
       "      <td>5000.000000</td>\n",
       "    </tr>\n",
       "    <tr>\n",
       "      <th>25%</th>\n",
       "      <td>1200.000000</td>\n",
       "      <td>1999.000000</td>\n",
       "      <td>83.000000</td>\n",
       "      <td>125000.000000</td>\n",
       "    </tr>\n",
       "    <tr>\n",
       "      <th>50%</th>\n",
       "      <td>2900.000000</td>\n",
       "      <td>2003.000000</td>\n",
       "      <td>105.000000</td>\n",
       "      <td>150000.000000</td>\n",
       "    </tr>\n",
       "    <tr>\n",
       "      <th>75%</th>\n",
       "      <td>6500.000000</td>\n",
       "      <td>2007.000000</td>\n",
       "      <td>143.000000</td>\n",
       "      <td>150000.000000</td>\n",
       "    </tr>\n",
       "    <tr>\n",
       "      <th>max</th>\n",
       "      <td>20000.000000</td>\n",
       "      <td>2016.000000</td>\n",
       "      <td>1436.000000</td>\n",
       "      <td>150000.000000</td>\n",
       "    </tr>\n",
       "  </tbody>\n",
       "</table>\n",
       "</div>"
      ],
      "text/plain": [
       "               Price  RegistrationYear          Power      Kilometer\n",
       "count  342337.000000     342337.000000  342337.000000  342337.000000\n",
       "mean     4571.855254       2002.624817     119.085173  128387.276280\n",
       "std      4514.902138          6.753084      54.962918   37422.793501\n",
       "min        10.000000       1910.000000      10.000000    5000.000000\n",
       "25%      1200.000000       1999.000000      83.000000  125000.000000\n",
       "50%      2900.000000       2003.000000     105.000000  150000.000000\n",
       "75%      6500.000000       2007.000000     143.000000  150000.000000\n",
       "max     20000.000000       2016.000000    1436.000000  150000.000000"
      ]
     },
     "execution_count": 10,
     "metadata": {},
     "output_type": "execute_result"
    }
   ],
   "source": [
    "data.describe()"
   ]
  },
  {
   "cell_type": "markdown",
   "metadata": {},
   "source": [
    "От неинформативных признаков избавились, аномальные значения убрали."
   ]
  },
  {
   "cell_type": "markdown",
   "metadata": {},
   "source": [
    "Рассмотрим категориальные признаки.  \n",
    "Вызывают сомнения признаки с большим числом категорий:"
   ]
  },
  {
   "cell_type": "code",
   "execution_count": 11,
   "metadata": {},
   "outputs": [
    {
     "data": {
      "text/plain": [
       "40"
      ]
     },
     "execution_count": 11,
     "metadata": {},
     "output_type": "execute_result"
    }
   ],
   "source": [
    "data['Brand'].nunique()"
   ]
  },
  {
   "cell_type": "code",
   "execution_count": 12,
   "metadata": {},
   "outputs": [
    {
     "data": {
      "text/plain": [
       "250"
      ]
     },
     "execution_count": 12,
     "metadata": {},
     "output_type": "execute_result"
    }
   ],
   "source": [
    "data['Model'].nunique()"
   ]
  },
  {
   "cell_type": "markdown",
   "metadata": {},
   "source": [
    "Признак `Model` предлагю исключить ввиду слишком большого количества категорий "
   ]
  },
  {
   "cell_type": "code",
   "execution_count": 13,
   "metadata": {},
   "outputs": [],
   "source": [
    "data = data.drop(['Model'], axis=1)"
   ]
  },
  {
   "cell_type": "markdown",
   "metadata": {},
   "source": [
    "Взглянем на итоговый датасет:"
   ]
  },
  {
   "cell_type": "code",
   "execution_count": 14,
   "metadata": {
    "scrolled": true
   },
   "outputs": [
    {
     "data": {
      "text/html": [
       "<div>\n",
       "<style scoped>\n",
       "    .dataframe tbody tr th:only-of-type {\n",
       "        vertical-align: middle;\n",
       "    }\n",
       "\n",
       "    .dataframe tbody tr th {\n",
       "        vertical-align: top;\n",
       "    }\n",
       "\n",
       "    .dataframe thead th {\n",
       "        text-align: right;\n",
       "    }\n",
       "</style>\n",
       "<table border=\"1\" class=\"dataframe\">\n",
       "  <thead>\n",
       "    <tr style=\"text-align: right;\">\n",
       "      <th></th>\n",
       "      <th>Price</th>\n",
       "      <th>VehicleType</th>\n",
       "      <th>RegistrationYear</th>\n",
       "      <th>Gearbox</th>\n",
       "      <th>Power</th>\n",
       "      <th>Kilometer</th>\n",
       "      <th>FuelType</th>\n",
       "      <th>Brand</th>\n",
       "      <th>Repaired</th>\n",
       "    </tr>\n",
       "  </thead>\n",
       "  <tbody>\n",
       "    <tr>\n",
       "      <th>0</th>\n",
       "      <td>480</td>\n",
       "      <td>NaN</td>\n",
       "      <td>1993.0</td>\n",
       "      <td>manual</td>\n",
       "      <td>105</td>\n",
       "      <td>150000</td>\n",
       "      <td>petrol</td>\n",
       "      <td>volkswagen</td>\n",
       "      <td>NaN</td>\n",
       "    </tr>\n",
       "    <tr>\n",
       "      <th>1</th>\n",
       "      <td>18300</td>\n",
       "      <td>coupe</td>\n",
       "      <td>2011.0</td>\n",
       "      <td>manual</td>\n",
       "      <td>190</td>\n",
       "      <td>125000</td>\n",
       "      <td>gasoline</td>\n",
       "      <td>audi</td>\n",
       "      <td>yes</td>\n",
       "    </tr>\n",
       "    <tr>\n",
       "      <th>2</th>\n",
       "      <td>9800</td>\n",
       "      <td>suv</td>\n",
       "      <td>2004.0</td>\n",
       "      <td>auto</td>\n",
       "      <td>163</td>\n",
       "      <td>125000</td>\n",
       "      <td>gasoline</td>\n",
       "      <td>jeep</td>\n",
       "      <td>NaN</td>\n",
       "    </tr>\n",
       "    <tr>\n",
       "      <th>3</th>\n",
       "      <td>1500</td>\n",
       "      <td>small</td>\n",
       "      <td>2001.0</td>\n",
       "      <td>manual</td>\n",
       "      <td>75</td>\n",
       "      <td>150000</td>\n",
       "      <td>petrol</td>\n",
       "      <td>volkswagen</td>\n",
       "      <td>no</td>\n",
       "    </tr>\n",
       "    <tr>\n",
       "      <th>4</th>\n",
       "      <td>3600</td>\n",
       "      <td>small</td>\n",
       "      <td>2008.0</td>\n",
       "      <td>manual</td>\n",
       "      <td>69</td>\n",
       "      <td>90000</td>\n",
       "      <td>gasoline</td>\n",
       "      <td>skoda</td>\n",
       "      <td>no</td>\n",
       "    </tr>\n",
       "  </tbody>\n",
       "</table>\n",
       "</div>"
      ],
      "text/plain": [
       "   Price VehicleType  RegistrationYear Gearbox  Power  Kilometer  FuelType  \\\n",
       "0    480         NaN            1993.0  manual    105     150000    petrol   \n",
       "1  18300       coupe            2011.0  manual    190     125000  gasoline   \n",
       "2   9800         suv            2004.0    auto    163     125000  gasoline   \n",
       "3   1500       small            2001.0  manual     75     150000    petrol   \n",
       "4   3600       small            2008.0  manual     69      90000  gasoline   \n",
       "\n",
       "        Brand Repaired  \n",
       "0  volkswagen      NaN  \n",
       "1        audi      yes  \n",
       "2        jeep      NaN  \n",
       "3  volkswagen       no  \n",
       "4       skoda       no  "
      ]
     },
     "execution_count": 14,
     "metadata": {},
     "output_type": "execute_result"
    }
   ],
   "source": [
    "data.head()"
   ]
  },
  {
   "cell_type": "markdown",
   "metadata": {},
   "source": [
    "Данные готовы для разделения на выборки и дальнейшего обучения моделей."
   ]
  },
  {
   "cell_type": "markdown",
   "metadata": {},
   "source": [
    "## Обучение моделей"
   ]
  },
  {
   "cell_type": "markdown",
   "metadata": {},
   "source": [
    "Подготовим данные для обучения и тестирования моделей"
   ]
  },
  {
   "cell_type": "code",
   "execution_count": 15,
   "metadata": {
    "scrolled": true
   },
   "outputs": [
    {
     "name": "stdout",
     "output_type": "stream",
     "text": [
      "['VehicleType', 'Gearbox', 'FuelType', 'Brand', 'Repaired']\n"
     ]
    }
   ],
   "source": [
    "# Отберем категориальные признаки, подлежащие кодированию\n",
    "ohe_features = data.select_dtypes(include='object').columns.to_list()\n",
    "print(ohe_features)"
   ]
  },
  {
   "cell_type": "code",
   "execution_count": 16,
   "metadata": {},
   "outputs": [],
   "source": [
    "# Разобьем датасеты на тренировочную, валидационную и тестовую выборки в соотношении 60:20:20\n",
    "data_train, data_buff = train_test_split(data, test_size=0.4, random_state=12345)\n",
    "data_test, data_valid = train_test_split(data_buff, test_size=0.5, random_state=12345)\n",
    "\n",
    "features_train = data_train.drop(['Price'], axis=1)\n",
    "target_train = data_train['Price']\n",
    "\n",
    "features_valid = data_valid.drop(['Price'], axis=1)\n",
    "target_valid = data_valid['Price']\n",
    "\n",
    "features_test = data_test.drop(['Price'], axis=1)\n",
    "target_test = data_test['Price']\n",
    "\n",
    "# Закодируем категориальные признаки методом One Hot Encoding\n",
    "encoder = OneHotEncoder(drop='first', handle_unknown='ignore', sparse=False)\n",
    "encoder.fit(features_train[ohe_features])\n",
    "\n",
    "features_train[encoder.get_feature_names_out()] = encoder.transform(features_train[ohe_features])\n",
    "features_train = features_train.drop(ohe_features, axis=1)\n",
    "\n",
    "features_valid[encoder.get_feature_names_out()] = encoder.transform(features_valid[ohe_features])\n",
    "features_valid = features_valid.drop(ohe_features, axis=1)\n",
    "\n",
    "features_test[encoder.get_feature_names_out()] = encoder.transform(features_test[ohe_features])\n",
    "features_test = features_test.drop(ohe_features, axis=1)"
   ]
  },
  {
   "cell_type": "markdown",
   "metadata": {},
   "source": [
    "Теперь рассмотрим несколько моделей и подберем для них оптимальные параметры"
   ]
  },
  {
   "cell_type": "markdown",
   "metadata": {},
   "source": [
    "### Модель дерева решений"
   ]
  },
  {
   "cell_type": "code",
   "execution_count": 17,
   "metadata": {},
   "outputs": [
    {
     "name": "stdout",
     "output_type": "stream",
     "text": [
      "Лучшая RMSE равна 2336.053, достигается при глубине дерева 6\n",
      "Время обучения составляет 0.75 сек.\n"
     ]
    }
   ],
   "source": [
    "best_score = 100000\n",
    "best_depth_tree = 0\n",
    "best_time = 0\n",
    "\n",
    "for depth in range(1,7):\n",
    "    time_start = time()\n",
    "\n",
    "    model = DecisionTreeRegressor(random_state=12345, max_depth=depth)\n",
    "    model.fit(features_train, target_train)\n",
    "    predicted_valid = model.predict(features_valid)\n",
    "    score = (mean_squared_error(target_valid, predicted_valid))**0.5\n",
    "    \n",
    "    time_finish = time()\n",
    "    time_final = time_finish - time_start\n",
    "    \n",
    "    if score < best_score:\n",
    "        best_time = time_final        \n",
    "        best_score = score\n",
    "        best_depth_tree = depth\n",
    "\n",
    "        \n",
    "print(f'Лучшая RMSE равна {best_score:.3f}, достигается при глубине дерева {best_depth_tree}')\n",
    "print(f'Время обучения составляет {best_time:.2f} сек.')"
   ]
  },
  {
   "cell_type": "markdown",
   "metadata": {},
   "source": [
    "### Модель случайного леса"
   ]
  },
  {
   "cell_type": "markdown",
   "metadata": {},
   "source": [
    "*Примечание*: диапазон перебираемых параметров сделан небольшим ради экономии времени."
   ]
  },
  {
   "cell_type": "code",
   "execution_count": 18,
   "metadata": {},
   "outputs": [
    {
     "name": "stdout",
     "output_type": "stream",
     "text": [
      "Лучшая RMSE равна 2300.116, достигается при глубине дерева 6 и количестве деревьев 25\n",
      "Время обучения составляет 11.37 сек.\n"
     ]
    }
   ],
   "source": [
    "best_est_forest = 0\n",
    "best_score = 100000\n",
    "best_depth_forest = 0\n",
    "best_time = 0\n",
    "\n",
    "for depth in range(3,7): \n",
    "    for est in range(15, 30, 5):\n",
    "        \n",
    "        time_start = time()\n",
    "        \n",
    "        model = RandomForestRegressor(random_state=12345, n_estimators = est, max_depth=depth)\n",
    "        model.fit(features_train, target_train)\n",
    "        predicted_valid = model.predict(features_valid)\n",
    "        score = (mean_squared_error(target_valid, predicted_valid))**0.5\n",
    "        \n",
    "        time_finish = time()\n",
    "        time_final = time_finish - time_start\n",
    "        \n",
    "        if score < best_score:\n",
    "            best_time = time_final\n",
    "            best_score = score\n",
    "            best_est_forest = est\n",
    "            best_depth_forest = depth\n",
    "            \n",
    "print(f'Лучшая RMSE равна {best_score:.3f}, достигается при глубине дерева {best_depth_forest} и количестве деревьев {best_est_forest}')\n",
    "print(f'Время обучения составляет {best_time:.2f} сек.')"
   ]
  },
  {
   "cell_type": "markdown",
   "metadata": {},
   "source": [
    "### Модель линейной регрессии"
   ]
  },
  {
   "cell_type": "code",
   "execution_count": 19,
   "metadata": {},
   "outputs": [
    {
     "name": "stdout",
     "output_type": "stream",
     "text": [
      "RMSE равна 2876.802\n",
      "Время обучения составляет 3.47 сек.\n"
     ]
    }
   ],
   "source": [
    "time_start = time()\n",
    "\n",
    "model = LinearRegression()\n",
    "model.fit(features_train, target_train)\n",
    "predicted_valid = model.predict(features_valid)\n",
    "score = (mean_squared_error(target_valid, predicted_valid))**0.5\n",
    "            \n",
    "time_finish = time()\n",
    "time_final = time_finish - time_start\n",
    "    \n",
    "print(f'RMSE равна {score:.3f}')\n",
    "print(f'Время обучения составляет {time_final:.2f} сек.')"
   ]
  },
  {
   "cell_type": "markdown",
   "metadata": {},
   "source": [
    "Модель линейной регрессии не подходит для работы с данным набором данных. Скорее всего, причиной является слишком большое количество категориальных признаков"
   ]
  },
  {
   "cell_type": "markdown",
   "metadata": {},
   "source": [
    "### Градиентный бустинг"
   ]
  },
  {
   "cell_type": "markdown",
   "metadata": {},
   "source": [
    "Рассмотрим следующие гиперпараметры и их влияние на качество модели:  \n",
    "* `num_itearations` - количество итерраций (количество деревьев в ансамбле)\n",
    "* `learning_rate` - скорость обучения"
   ]
  },
  {
   "cell_type": "code",
   "execution_count": 20,
   "metadata": {},
   "outputs": [],
   "source": [
    "train_dataset = lgb.Dataset(features_train, target_train, feature_name=list(features_train))\n",
    "valid_dataset = lgb.Dataset(features_valid, target_valid, feature_name=list(features_valid))"
   ]
  },
  {
   "cell_type": "code",
   "execution_count": 21,
   "metadata": {
    "scrolled": false
   },
   "outputs": [
    {
     "name": "stdout",
     "output_type": "stream",
     "text": [
      "\n",
      "Learning_rate 0.1, Num_iterations 50, Время обучения 3.40 сек.\n",
      "RMSE 1863.052503682442\n",
      "\n",
      "Learning_rate 0.1, Num_iterations 100, Время обучения 5.01 сек.\n",
      "RMSE 1781.7714470883902\n",
      "\n",
      "Learning_rate 0.1, Num_iterations 200, Время обучения 13.29 сек.\n",
      "RMSE 1733.112614992745\n",
      "\n",
      "Learning_rate 0.5, Num_iterations 50, Время обучения 2.20 сек.\n",
      "RMSE 1758.7875498245032\n",
      "\n",
      "Learning_rate 0.5, Num_iterations 100, Время обучения 3.40 сек.\n",
      "RMSE 1715.085080710197\n",
      "\n",
      "Learning_rate 0.5, Num_iterations 200, Время обучения 6.20 сек.\n",
      "RMSE 1686.3829654302472\n",
      "\n",
      "Learning_rate 0.9, Num_iterations 50, Время обучения 1.91 сек.\n",
      "RMSE 1773.4162194116257\n",
      "\n",
      "Learning_rate 0.9, Num_iterations 100, Время обучения 2.60 сек.\n",
      "RMSE 1762.2786661522348\n",
      "\n",
      "Learning_rate 0.9, Num_iterations 200, Время обучения 2.40 сек.\n",
      "RMSE 1762.2786661522348\n"
     ]
    }
   ],
   "source": [
    "for lrate in [0.1, 0.5, 0.9]:\n",
    "    for num_iters in [50, 100, 200]:\n",
    "        time_start = time()\n",
    "        \n",
    "        params = {\"objective\": \"regression\", \n",
    "                  \"metric\":\"rmse\", \n",
    "                  \"learning_rate\":lrate, \n",
    "                  \"verbose\":-100}\n",
    "        \n",
    "        bst = lgb.train(params, train_set=train_dataset,  valid_sets=(valid_dataset,), \n",
    "                        num_boost_round=num_iters, callbacks=[lgb.early_stopping(stopping_rounds=5, verbose=False)])\n",
    "        \n",
    "        time_finish = time()\n",
    "        time_final = time_finish - time_start\n",
    "        print(f\"\\nLearning_rate {lrate}, Num_iterations {num_iters}, Время обучения {time_final:.2f} сек.\")\n",
    "        print('RMSE', bst.best_score[\"valid_0\"]['rmse'])       \n"
   ]
  },
  {
   "cell_type": "markdown",
   "metadata": {},
   "source": [
    "В качестве оптимальных по соотношения скорость/качество примем следующие значения гиперпараметров:  \n",
    "`learning_rate = 0.5`, `num_iterations = 100`"
   ]
  },
  {
   "cell_type": "markdown",
   "metadata": {},
   "source": [
    "## Анализ моделей"
   ]
  },
  {
   "cell_type": "markdown",
   "metadata": {},
   "source": [
    "Было рассмотрено несколько моделей - решающего дерева, случайного леса, линейной регрессии и градиентного бустинга.  \n",
    "Модель случайного леса обучалась на порядок дольше, чем все остальные, однако результат оказался лишь немного лучше, чем у решающего дерева. Модель гредиентного бустинга показала лучший результат при небольшом времени обучения.  \n",
    "\n",
    "В результате была выбрана модель градиентного бустинга из библиотеки LightGBM (`learning_rate = 0.5`, `num_iterations = 100`).  \n",
    "Проверим эту модель на тестовой выборке."
   ]
  },
  {
   "cell_type": "markdown",
   "metadata": {},
   "source": [
    "|  Модель               |   RMSE        | Скорость обучения                      |\n",
    "| :-------------------- | :---------------------: |:---------------------------:|\n",
    "| Решающее дерево | 2336 | 0,73 с. |\n",
    "| Случайный лес | 2300 | 11,9 с. |\n",
    "| Градиентный бустинг (LightGBM) | 1715 | 5,2 с. |\n",
    "| Линейная регрессия | 2876 | 3,5 с.|"
   ]
  },
  {
   "cell_type": "markdown",
   "metadata": {},
   "source": [
    "## Тестирование лучшей модели"
   ]
  },
  {
   "cell_type": "code",
   "execution_count": 22,
   "metadata": {},
   "outputs": [],
   "source": [
    "test_dataset = lgb.Dataset(features_test, target_test, feature_name=list(features_valid))"
   ]
  },
  {
   "cell_type": "code",
   "execution_count": 23,
   "metadata": {},
   "outputs": [
    {
     "name": "stderr",
     "output_type": "stream",
     "text": [
      "/opt/conda/lib/python3.9/site-packages/lightgbm/engine.py:177: UserWarning: Found `num_iterations` in params. Will use it instead of argument\n",
      "  _log_warning(f\"Found `{alias}` in params. Will use it instead of argument\")\n"
     ]
    },
    {
     "name": "stdout",
     "output_type": "stream",
     "text": [
      "[LightGBM] [Warning] Auto-choosing row-wise multi-threading, the overhead of testing was 0.005093 seconds.\n",
      "You can set `force_row_wise=true` to remove the overhead.\n",
      "And if memory is not enough, you can set `force_col_wise=true`.\n",
      "[LightGBM] [Info] Total Bins 462\n",
      "[LightGBM] [Info] Number of data points in the train set: 205402, number of used features: 61\n",
      "[LightGBM] [Info] Start training from score 4569.364451\n",
      "\n",
      "RMSE 1744.91\n",
      "Время предсказания составляет 0.50 сек.\n"
     ]
    }
   ],
   "source": [
    "params = {\"objective\": \"regression\", \n",
    "            \"metric\":\"rmse\", \n",
    "            \"learning_rate\":0.5, \n",
    "            \"num_iterations\":100}\n",
    "        \n",
    "bst = lgb.train(params, train_set=train_dataset,  valid_sets=(valid_dataset,), \n",
    "                callbacks=[lgb.early_stopping(stopping_rounds=5, verbose=False)])\n",
    "\n",
    "time_start = time()\n",
    "\n",
    "predicted = bst.predict(features_test)\n",
    "\n",
    "time_finish = time()\n",
    "time_final = time_finish - time_start\n",
    "print(f'\\nRMSE {(mean_squared_error(target_test, predicted))**0.5:.2f}')\n",
    "print(f'Время предсказания составляет {time_final:.2f} сек.')"
   ]
  },
  {
   "cell_type": "markdown",
   "metadata": {},
   "source": [
    "Модель показывает результат, отвечающий требованиям поставленной задачи (RMSE должно быть меньше 2500).  \n",
    "Скорость предсказания менее 1 секунды."
   ]
  },
  {
   "cell_type": "markdown",
   "metadata": {},
   "source": [
    "## Вывод"
   ]
  },
  {
   "cell_type": "markdown",
   "metadata": {},
   "source": [
    "Была проведена работа по исследованию базы данных с объявлениями о продаже машин из сервиса \"Не бит, не крашен\".  \n",
    "Основной целью исследования была разработка модели для оценки стоимости автомобиля на основе его характеристик.  \n",
    "Перед созданием модели данные были подготовлены следующим образом:  \n",
    "* Удалены неинформативные признаки;  \n",
    "* Удалены аномальные значения и выбросы.  \n",
    "\n",
    "С финальным списком признаков, на основе которых производилась оценка стоимости, можно ознакомиться в конце Главы 1.  \n",
    "\n",
    "Т.к. для заказчика важны скорость обучения и качество прогнозирования, было рассмотрено несколько моделей машинного обучения - линейная регрессия, решающее дерево, случайный лес и градиентный бустинг. В роли метрики качества была использована метрика RMSE.  \n",
    "С результатом анализа моделей можно познакомиться в Главе 3.  \n",
    "\n",
    "В итоге, наиболее подходящей моделью была выбрана модель на основе градиентного бустинга. Она показала хороший результат - оптимальное соотношение метрики качества и скорости предсказания и обучения."
   ]
  }
 ],
 "metadata": {
  "ExecuteTimeLog": [
   {
    "duration": 422,
    "start_time": "2023-08-28T19:24:52.042Z"
   },
   {
    "duration": 2985,
    "start_time": "2023-08-28T19:25:16.160Z"
   },
   {
    "duration": 966,
    "start_time": "2023-08-28T19:25:25.945Z"
   },
   {
    "duration": 897,
    "start_time": "2023-08-28T19:25:50.013Z"
   },
   {
    "duration": 872,
    "start_time": "2023-08-28T19:25:59.449Z"
   },
   {
    "duration": 911,
    "start_time": "2023-08-28T19:26:07.680Z"
   },
   {
    "duration": 837,
    "start_time": "2023-08-28T19:26:43.285Z"
   },
   {
    "duration": 80,
    "start_time": "2023-08-28T19:42:33.340Z"
   },
   {
    "duration": 105,
    "start_time": "2023-08-28T19:42:50.773Z"
   },
   {
    "duration": 75,
    "start_time": "2023-08-28T19:43:49.420Z"
   },
   {
    "duration": 192,
    "start_time": "2023-08-28T19:44:25.040Z"
   },
   {
    "duration": 75,
    "start_time": "2023-08-28T19:44:27.018Z"
   },
   {
    "duration": 4,
    "start_time": "2023-08-28T19:45:43.952Z"
   },
   {
    "duration": 17,
    "start_time": "2023-08-28T19:46:00.268Z"
   },
   {
    "duration": 8,
    "start_time": "2023-08-28T19:46:04.891Z"
   },
   {
    "duration": 10,
    "start_time": "2023-08-28T19:46:35.074Z"
   },
   {
    "duration": 98,
    "start_time": "2023-08-28T19:50:18.024Z"
   },
   {
    "duration": 30,
    "start_time": "2023-08-28T20:08:53.340Z"
   },
   {
    "duration": 14,
    "start_time": "2023-08-28T20:08:59.489Z"
   },
   {
    "duration": 13,
    "start_time": "2023-08-28T20:09:16.210Z"
   },
   {
    "duration": 370,
    "start_time": "2023-08-28T20:09:27.286Z"
   },
   {
    "duration": 949,
    "start_time": "2023-08-28T20:09:27.658Z"
   },
   {
    "duration": 149,
    "start_time": "2023-08-28T20:09:28.609Z"
   },
   {
    "duration": 336,
    "start_time": "2023-08-28T20:09:28.760Z"
   },
   {
    "duration": 14,
    "start_time": "2023-08-28T20:09:29.097Z"
   },
   {
    "duration": 47,
    "start_time": "2023-08-28T20:09:29.113Z"
   },
   {
    "duration": 14,
    "start_time": "2023-08-28T20:09:29.162Z"
   },
   {
    "duration": 50,
    "start_time": "2023-08-29T18:48:11.779Z"
   },
   {
    "duration": 408,
    "start_time": "2023-08-29T18:48:16.623Z"
   },
   {
    "duration": 1335,
    "start_time": "2023-08-29T18:48:17.032Z"
   },
   {
    "duration": 106,
    "start_time": "2023-08-29T18:48:18.368Z"
   },
   {
    "duration": 289,
    "start_time": "2023-08-29T18:48:18.476Z"
   },
   {
    "duration": 11,
    "start_time": "2023-08-29T18:48:18.767Z"
   },
   {
    "duration": 49,
    "start_time": "2023-08-29T18:48:18.779Z"
   },
   {
    "duration": 13,
    "start_time": "2023-08-29T18:48:18.830Z"
   },
   {
    "duration": 10,
    "start_time": "2023-08-29T18:58:04.925Z"
   },
   {
    "duration": 9,
    "start_time": "2023-08-29T18:58:23.920Z"
   },
   {
    "duration": 9,
    "start_time": "2023-08-29T18:58:27.778Z"
   },
   {
    "duration": 9,
    "start_time": "2023-08-29T18:58:30.635Z"
   },
   {
    "duration": 9,
    "start_time": "2023-08-29T18:58:33.297Z"
   },
   {
    "duration": 9,
    "start_time": "2023-08-29T18:58:35.572Z"
   },
   {
    "duration": 42,
    "start_time": "2023-08-29T19:06:03.180Z"
   },
   {
    "duration": 69,
    "start_time": "2023-08-29T19:06:13.179Z"
   },
   {
    "duration": 37,
    "start_time": "2023-08-29T19:07:41.868Z"
   },
   {
    "duration": 66,
    "start_time": "2023-08-29T19:07:43.393Z"
   },
   {
    "duration": 29,
    "start_time": "2023-08-29T19:08:27.075Z"
   },
   {
    "duration": 62,
    "start_time": "2023-08-29T19:08:27.438Z"
   },
   {
    "duration": 488,
    "start_time": "2023-08-29T19:08:32.394Z"
   },
   {
    "duration": 1154,
    "start_time": "2023-08-29T19:08:32.884Z"
   },
   {
    "duration": 127,
    "start_time": "2023-08-29T19:08:34.040Z"
   },
   {
    "duration": 360,
    "start_time": "2023-08-29T19:08:34.169Z"
   },
   {
    "duration": 11,
    "start_time": "2023-08-29T19:08:34.543Z"
   },
   {
    "duration": 43,
    "start_time": "2023-08-29T19:08:34.556Z"
   },
   {
    "duration": 37,
    "start_time": "2023-08-29T19:08:34.600Z"
   },
   {
    "duration": 87,
    "start_time": "2023-08-29T19:08:34.639Z"
   },
   {
    "duration": 43,
    "start_time": "2023-08-29T19:12:54.269Z"
   },
   {
    "duration": 48,
    "start_time": "2023-08-29T19:13:31.878Z"
   },
   {
    "duration": 91,
    "start_time": "2023-08-29T19:13:33.683Z"
   },
   {
    "duration": 36,
    "start_time": "2023-08-29T19:18:04.248Z"
   },
   {
    "duration": 377,
    "start_time": "2023-08-29T19:18:08.870Z"
   },
   {
    "duration": 1042,
    "start_time": "2023-08-29T19:18:09.249Z"
   },
   {
    "duration": 116,
    "start_time": "2023-08-29T19:18:10.293Z"
   },
   {
    "duration": 316,
    "start_time": "2023-08-29T19:18:10.412Z"
   },
   {
    "duration": 12,
    "start_time": "2023-08-29T19:18:10.730Z"
   },
   {
    "duration": 41,
    "start_time": "2023-08-29T19:18:10.743Z"
   },
   {
    "duration": 72,
    "start_time": "2023-08-29T19:18:10.785Z"
   },
   {
    "duration": 81,
    "start_time": "2023-08-29T19:18:10.858Z"
   },
   {
    "duration": 465,
    "start_time": "2023-08-29T19:22:53.968Z"
   },
   {
    "duration": 1120,
    "start_time": "2023-08-29T19:22:54.435Z"
   },
   {
    "duration": 169,
    "start_time": "2023-08-29T19:22:55.557Z"
   },
   {
    "duration": 289,
    "start_time": "2023-08-29T19:22:55.730Z"
   },
   {
    "duration": 18,
    "start_time": "2023-08-29T19:22:56.021Z"
   },
   {
    "duration": 46,
    "start_time": "2023-08-29T19:22:56.041Z"
   },
   {
    "duration": 49,
    "start_time": "2023-08-29T19:22:56.089Z"
   },
   {
    "duration": 90,
    "start_time": "2023-08-29T19:22:56.139Z"
   },
   {
    "duration": 68,
    "start_time": "2023-08-29T19:23:14.181Z"
   },
   {
    "duration": 84,
    "start_time": "2023-08-29T19:23:14.800Z"
   },
   {
    "duration": 411,
    "start_time": "2023-08-29T19:24:24.070Z"
   },
   {
    "duration": 1315,
    "start_time": "2023-08-29T19:24:24.484Z"
   },
   {
    "duration": 117,
    "start_time": "2023-08-29T19:24:25.801Z"
   },
   {
    "duration": 308,
    "start_time": "2023-08-29T19:24:25.923Z"
   },
   {
    "duration": 14,
    "start_time": "2023-08-29T19:24:26.235Z"
   },
   {
    "duration": 79,
    "start_time": "2023-08-29T19:24:26.251Z"
   },
   {
    "duration": 55,
    "start_time": "2023-08-29T19:24:26.333Z"
   },
   {
    "duration": 75,
    "start_time": "2023-08-29T19:24:26.390Z"
   },
   {
    "duration": 72,
    "start_time": "2023-08-29T19:26:47.689Z"
   },
   {
    "duration": 157,
    "start_time": "2023-08-29T19:27:16.183Z"
   },
   {
    "duration": 69,
    "start_time": "2023-08-29T19:27:20.164Z"
   },
   {
    "duration": 75,
    "start_time": "2023-08-29T19:27:23.129Z"
   },
   {
    "duration": 8,
    "start_time": "2023-08-29T19:28:01.865Z"
   },
   {
    "duration": 76,
    "start_time": "2023-08-29T19:28:04.731Z"
   },
   {
    "duration": 451,
    "start_time": "2023-08-29T19:29:41.095Z"
   },
   {
    "duration": 1178,
    "start_time": "2023-08-29T19:29:41.548Z"
   },
   {
    "duration": 119,
    "start_time": "2023-08-29T19:29:42.734Z"
   },
   {
    "duration": 326,
    "start_time": "2023-08-29T19:29:42.856Z"
   },
   {
    "duration": 12,
    "start_time": "2023-08-29T19:29:43.184Z"
   },
   {
    "duration": 48,
    "start_time": "2023-08-29T19:29:43.209Z"
   },
   {
    "duration": 78,
    "start_time": "2023-08-29T19:29:43.259Z"
   },
   {
    "duration": 84,
    "start_time": "2023-08-29T19:29:43.339Z"
   },
   {
    "duration": 24,
    "start_time": "2023-08-29T19:49:56.884Z"
   },
   {
    "duration": 35,
    "start_time": "2023-08-29T19:51:06.099Z"
   },
   {
    "duration": 36,
    "start_time": "2023-08-29T19:52:15.563Z"
   },
   {
    "duration": 1323,
    "start_time": "2023-08-29T20:01:10.719Z"
   },
   {
    "duration": 1105,
    "start_time": "2023-08-29T20:01:12.044Z"
   },
   {
    "duration": 110,
    "start_time": "2023-08-29T20:01:13.151Z"
   },
   {
    "duration": 301,
    "start_time": "2023-08-29T20:01:13.263Z"
   },
   {
    "duration": 12,
    "start_time": "2023-08-29T20:01:13.565Z"
   },
   {
    "duration": 54,
    "start_time": "2023-08-29T20:01:13.579Z"
   },
   {
    "duration": 60,
    "start_time": "2023-08-29T20:01:13.635Z"
   },
   {
    "duration": 80,
    "start_time": "2023-08-29T20:01:13.712Z"
   },
   {
    "duration": 30,
    "start_time": "2023-08-29T20:01:13.794Z"
   },
   {
    "duration": 38,
    "start_time": "2023-08-29T20:01:13.828Z"
   },
   {
    "duration": 129,
    "start_time": "2023-08-29T20:01:13.867Z"
   },
   {
    "duration": 107,
    "start_time": "2023-08-29T20:01:13.998Z"
   },
   {
    "duration": 2584,
    "start_time": "2023-08-29T20:01:29.064Z"
   },
   {
    "duration": 1152,
    "start_time": "2023-08-29T20:11:20.987Z"
   },
   {
    "duration": 1131,
    "start_time": "2023-08-29T20:11:22.141Z"
   },
   {
    "duration": 116,
    "start_time": "2023-08-29T20:11:23.274Z"
   },
   {
    "duration": 313,
    "start_time": "2023-08-29T20:11:23.393Z"
   },
   {
    "duration": 16,
    "start_time": "2023-08-29T20:11:23.709Z"
   },
   {
    "duration": 48,
    "start_time": "2023-08-29T20:11:23.729Z"
   },
   {
    "duration": 86,
    "start_time": "2023-08-29T20:11:23.779Z"
   },
   {
    "duration": 86,
    "start_time": "2023-08-29T20:11:23.867Z"
   },
   {
    "duration": 23,
    "start_time": "2023-08-29T20:11:23.954Z"
   },
   {
    "duration": 55,
    "start_time": "2023-08-29T20:11:23.980Z"
   },
   {
    "duration": 713,
    "start_time": "2023-08-29T20:11:24.036Z"
   },
   {
    "duration": 0,
    "start_time": "2023-08-29T20:11:24.750Z"
   },
   {
    "duration": 133,
    "start_time": "2023-08-29T20:11:55.136Z"
   },
   {
    "duration": 108,
    "start_time": "2023-08-29T20:11:56.631Z"
   },
   {
    "duration": 9,
    "start_time": "2023-08-29T20:20:21.162Z"
   },
   {
    "duration": 18,
    "start_time": "2023-08-29T20:20:26.923Z"
   },
   {
    "duration": 35,
    "start_time": "2023-08-29T20:21:29.295Z"
   },
   {
    "duration": 4,
    "start_time": "2023-08-29T20:22:24.919Z"
   },
   {
    "duration": 1300,
    "start_time": "2023-08-29T20:25:22.639Z"
   },
   {
    "duration": 1157,
    "start_time": "2023-08-29T20:25:23.942Z"
   },
   {
    "duration": 108,
    "start_time": "2023-08-29T20:25:25.114Z"
   },
   {
    "duration": 304,
    "start_time": "2023-08-29T20:25:25.230Z"
   },
   {
    "duration": 12,
    "start_time": "2023-08-29T20:25:25.536Z"
   },
   {
    "duration": 73,
    "start_time": "2023-08-29T20:25:25.550Z"
   },
   {
    "duration": 70,
    "start_time": "2023-08-29T20:25:25.625Z"
   },
   {
    "duration": 83,
    "start_time": "2023-08-29T20:25:25.696Z"
   },
   {
    "duration": 42,
    "start_time": "2023-08-29T20:25:25.782Z"
   },
   {
    "duration": 44,
    "start_time": "2023-08-29T20:25:25.827Z"
   },
   {
    "duration": 233,
    "start_time": "2023-08-29T20:25:25.872Z"
   },
   {
    "duration": 0,
    "start_time": "2023-08-29T20:25:26.111Z"
   },
   {
    "duration": 0,
    "start_time": "2023-08-29T20:25:26.113Z"
   },
   {
    "duration": 19,
    "start_time": "2023-08-29T20:25:59.131Z"
   },
   {
    "duration": 1251,
    "start_time": "2023-08-29T20:26:28.789Z"
   },
   {
    "duration": 1186,
    "start_time": "2023-08-29T20:26:30.043Z"
   },
   {
    "duration": 114,
    "start_time": "2023-08-29T20:26:31.232Z"
   },
   {
    "duration": 289,
    "start_time": "2023-08-29T20:26:31.348Z"
   },
   {
    "duration": 13,
    "start_time": "2023-08-29T20:26:31.638Z"
   },
   {
    "duration": 75,
    "start_time": "2023-08-29T20:26:31.652Z"
   },
   {
    "duration": 71,
    "start_time": "2023-08-29T20:26:31.729Z"
   },
   {
    "duration": 84,
    "start_time": "2023-08-29T20:26:31.802Z"
   },
   {
    "duration": 42,
    "start_time": "2023-08-29T20:26:31.888Z"
   },
   {
    "duration": 40,
    "start_time": "2023-08-29T20:26:31.933Z"
   },
   {
    "duration": 65,
    "start_time": "2023-08-29T20:26:31.975Z"
   },
   {
    "duration": 239,
    "start_time": "2023-08-29T20:26:32.042Z"
   },
   {
    "duration": 0,
    "start_time": "2023-08-29T20:26:32.283Z"
   },
   {
    "duration": 216,
    "start_time": "2023-08-29T20:30:00.153Z"
   },
   {
    "duration": 729,
    "start_time": "2023-08-29T20:30:36.190Z"
   },
   {
    "duration": 9189,
    "start_time": "2023-08-29T20:32:58.953Z"
   },
   {
    "duration": 955,
    "start_time": "2023-08-29T20:33:08.145Z"
   },
   {
    "duration": 1134,
    "start_time": "2023-08-29T20:33:09.105Z"
   },
   {
    "duration": 113,
    "start_time": "2023-08-29T20:33:10.241Z"
   },
   {
    "duration": 324,
    "start_time": "2023-08-29T20:33:10.356Z"
   },
   {
    "duration": 13,
    "start_time": "2023-08-29T20:33:10.682Z"
   },
   {
    "duration": 58,
    "start_time": "2023-08-29T20:33:10.696Z"
   },
   {
    "duration": 88,
    "start_time": "2023-08-29T20:33:10.756Z"
   },
   {
    "duration": 89,
    "start_time": "2023-08-29T20:33:10.846Z"
   },
   {
    "duration": 36,
    "start_time": "2023-08-29T20:33:10.937Z"
   },
   {
    "duration": 66,
    "start_time": "2023-08-29T20:33:10.975Z"
   },
   {
    "duration": 40,
    "start_time": "2023-08-29T20:33:11.043Z"
   },
   {
    "duration": 12247,
    "start_time": "2023-08-29T20:33:11.086Z"
   },
   {
    "duration": 6036,
    "start_time": "2023-08-29T20:33:23.335Z"
   },
   {
    "duration": 6191,
    "start_time": "2023-08-29T20:33:51.273Z"
   },
   {
    "duration": 6066,
    "start_time": "2023-08-29T20:35:10.384Z"
   },
   {
    "duration": 7225,
    "start_time": "2023-08-30T18:04:01.292Z"
   },
   {
    "duration": 898,
    "start_time": "2023-08-30T18:04:08.519Z"
   },
   {
    "duration": 3016,
    "start_time": "2023-08-30T18:04:09.418Z"
   },
   {
    "duration": 109,
    "start_time": "2023-08-30T18:04:12.437Z"
   },
   {
    "duration": 287,
    "start_time": "2023-08-30T18:04:12.548Z"
   },
   {
    "duration": 14,
    "start_time": "2023-08-30T18:04:12.837Z"
   },
   {
    "duration": 53,
    "start_time": "2023-08-30T18:04:12.853Z"
   },
   {
    "duration": 101,
    "start_time": "2023-08-30T18:04:12.908Z"
   },
   {
    "duration": 78,
    "start_time": "2023-08-30T18:04:13.011Z"
   },
   {
    "duration": 22,
    "start_time": "2023-08-30T18:04:13.092Z"
   },
   {
    "duration": 33,
    "start_time": "2023-08-30T18:04:13.116Z"
   },
   {
    "duration": 42,
    "start_time": "2023-08-30T18:04:13.167Z"
   },
   {
    "duration": 12633,
    "start_time": "2023-08-30T18:04:13.211Z"
   },
   {
    "duration": 5540,
    "start_time": "2023-08-30T18:04:25.845Z"
   },
   {
    "duration": 4,
    "start_time": "2023-08-30T18:13:59.014Z"
   },
   {
    "duration": 879,
    "start_time": "2023-08-30T18:13:59.021Z"
   },
   {
    "duration": 1042,
    "start_time": "2023-08-30T18:13:59.902Z"
   },
   {
    "duration": 127,
    "start_time": "2023-08-30T18:14:00.948Z"
   },
   {
    "duration": 301,
    "start_time": "2023-08-30T18:14:01.080Z"
   },
   {
    "duration": 14,
    "start_time": "2023-08-30T18:14:01.383Z"
   },
   {
    "duration": 54,
    "start_time": "2023-08-30T18:14:01.399Z"
   },
   {
    "duration": 92,
    "start_time": "2023-08-30T18:14:01.455Z"
   },
   {
    "duration": 83,
    "start_time": "2023-08-30T18:14:01.549Z"
   },
   {
    "duration": 23,
    "start_time": "2023-08-30T18:14:01.635Z"
   },
   {
    "duration": 58,
    "start_time": "2023-08-30T18:14:01.669Z"
   },
   {
    "duration": 102,
    "start_time": "2023-08-30T18:14:01.729Z"
   },
   {
    "duration": 12552,
    "start_time": "2023-08-30T18:14:01.832Z"
   },
   {
    "duration": 5502,
    "start_time": "2023-08-30T18:14:14.386Z"
   },
   {
    "duration": 3,
    "start_time": "2023-08-30T18:18:48.759Z"
   },
   {
    "duration": 5,
    "start_time": "2023-08-30T18:19:23.335Z"
   },
   {
    "duration": 1003,
    "start_time": "2023-08-30T18:19:23.343Z"
   },
   {
    "duration": 986,
    "start_time": "2023-08-30T18:19:24.348Z"
   },
   {
    "duration": 152,
    "start_time": "2023-08-30T18:19:25.336Z"
   },
   {
    "duration": 25,
    "start_time": "2023-08-30T18:19:25.490Z"
   },
   {
    "duration": 54,
    "start_time": "2023-08-30T18:19:25.517Z"
   },
   {
    "duration": 71,
    "start_time": "2023-08-30T18:19:25.573Z"
   },
   {
    "duration": 87,
    "start_time": "2023-08-30T18:19:25.646Z"
   },
   {
    "duration": 33,
    "start_time": "2023-08-30T18:19:25.735Z"
   },
   {
    "duration": 49,
    "start_time": "2023-08-30T18:19:25.775Z"
   },
   {
    "duration": 46,
    "start_time": "2023-08-30T18:19:25.826Z"
   },
   {
    "duration": 13691,
    "start_time": "2023-08-30T18:19:25.874Z"
   },
   {
    "duration": 6048,
    "start_time": "2023-08-30T18:19:39.571Z"
   },
   {
    "duration": 12,
    "start_time": "2023-08-30T18:22:07.216Z"
   },
   {
    "duration": 33,
    "start_time": "2023-08-30T18:25:24.732Z"
   },
   {
    "duration": 181,
    "start_time": "2023-08-30T18:28:29.503Z"
   },
   {
    "duration": 74,
    "start_time": "2023-08-30T18:28:31.775Z"
   },
   {
    "duration": 10,
    "start_time": "2023-08-30T18:30:01.044Z"
   },
   {
    "duration": 984,
    "start_time": "2023-08-30T18:30:01.056Z"
   },
   {
    "duration": 1058,
    "start_time": "2023-08-30T18:30:02.042Z"
   },
   {
    "duration": 536,
    "start_time": "2023-08-30T18:30:03.102Z"
   },
   {
    "duration": 106,
    "start_time": "2023-08-30T18:30:03.640Z"
   },
   {
    "duration": 54,
    "start_time": "2023-08-30T18:30:03.749Z"
   },
   {
    "duration": 28,
    "start_time": "2023-08-30T18:30:03.805Z"
   },
   {
    "duration": 73,
    "start_time": "2023-08-30T18:30:03.836Z"
   },
   {
    "duration": 76,
    "start_time": "2023-08-30T18:30:03.912Z"
   },
   {
    "duration": 28,
    "start_time": "2023-08-30T18:30:03.992Z"
   },
   {
    "duration": 53,
    "start_time": "2023-08-30T18:30:04.022Z"
   },
   {
    "duration": 30,
    "start_time": "2023-08-30T18:30:04.077Z"
   },
   {
    "duration": 12,
    "start_time": "2023-08-30T18:30:04.109Z"
   },
   {
    "duration": 65,
    "start_time": "2023-08-30T18:30:04.124Z"
   },
   {
    "duration": 12865,
    "start_time": "2023-08-30T18:30:04.191Z"
   },
   {
    "duration": 5733,
    "start_time": "2023-08-30T18:30:17.058Z"
   },
   {
    "duration": 20,
    "start_time": "2023-08-30T18:31:47.601Z"
   },
   {
    "duration": 36,
    "start_time": "2023-08-30T18:44:26.795Z"
   },
   {
    "duration": 122,
    "start_time": "2023-08-30T18:46:34.913Z"
   },
   {
    "duration": 5,
    "start_time": "2023-08-30T18:47:19.204Z"
   },
   {
    "duration": 977,
    "start_time": "2023-08-30T18:47:19.211Z"
   },
   {
    "duration": 1175,
    "start_time": "2023-08-30T18:47:20.194Z"
   },
   {
    "duration": 584,
    "start_time": "2023-08-30T18:47:21.371Z"
   },
   {
    "duration": 118,
    "start_time": "2023-08-30T18:47:21.957Z"
   },
   {
    "duration": 50,
    "start_time": "2023-08-30T18:47:22.080Z"
   },
   {
    "duration": 55,
    "start_time": "2023-08-30T18:47:22.132Z"
   },
   {
    "duration": 73,
    "start_time": "2023-08-30T18:47:22.193Z"
   },
   {
    "duration": 70,
    "start_time": "2023-08-30T18:47:22.277Z"
   },
   {
    "duration": 61,
    "start_time": "2023-08-30T18:47:22.349Z"
   },
   {
    "duration": 37,
    "start_time": "2023-08-30T18:47:22.414Z"
   },
   {
    "duration": 21,
    "start_time": "2023-08-30T18:47:22.453Z"
   },
   {
    "duration": 15,
    "start_time": "2023-08-30T18:47:22.477Z"
   },
   {
    "duration": 30,
    "start_time": "2023-08-30T18:47:22.495Z"
   },
   {
    "duration": 13483,
    "start_time": "2023-08-30T18:47:22.527Z"
   },
   {
    "duration": 6272,
    "start_time": "2023-08-30T18:47:36.020Z"
   },
   {
    "duration": 4,
    "start_time": "2023-08-30T18:48:23.038Z"
   },
   {
    "duration": 5,
    "start_time": "2023-08-30T18:48:42.717Z"
   },
   {
    "duration": 4,
    "start_time": "2023-08-30T18:49:04.552Z"
   },
   {
    "duration": 1072,
    "start_time": "2023-08-30T18:49:04.558Z"
   },
   {
    "duration": 1087,
    "start_time": "2023-08-30T18:49:05.631Z"
   },
   {
    "duration": 654,
    "start_time": "2023-08-30T18:49:06.720Z"
   },
   {
    "duration": 108,
    "start_time": "2023-08-30T18:49:07.404Z"
   },
   {
    "duration": 39,
    "start_time": "2023-08-30T18:49:07.514Z"
   },
   {
    "duration": 49,
    "start_time": "2023-08-30T18:49:07.554Z"
   },
   {
    "duration": 65,
    "start_time": "2023-08-30T18:49:07.608Z"
   },
   {
    "duration": 75,
    "start_time": "2023-08-30T18:49:07.686Z"
   },
   {
    "duration": 57,
    "start_time": "2023-08-30T18:49:07.763Z"
   },
   {
    "duration": 39,
    "start_time": "2023-08-30T18:49:07.821Z"
   },
   {
    "duration": 24,
    "start_time": "2023-08-30T18:49:07.862Z"
   },
   {
    "duration": 18,
    "start_time": "2023-08-30T18:49:07.892Z"
   },
   {
    "duration": 32,
    "start_time": "2023-08-30T18:49:07.911Z"
   },
   {
    "duration": 12834,
    "start_time": "2023-08-30T18:49:07.945Z"
   },
   {
    "duration": 5954,
    "start_time": "2023-08-30T18:49:20.793Z"
   },
   {
    "duration": 4,
    "start_time": "2023-08-30T18:52:02.319Z"
   },
   {
    "duration": 1056,
    "start_time": "2023-08-30T18:52:02.326Z"
   },
   {
    "duration": 1067,
    "start_time": "2023-08-30T18:52:03.384Z"
   },
   {
    "duration": 594,
    "start_time": "2023-08-30T18:52:04.452Z"
   },
   {
    "duration": 106,
    "start_time": "2023-08-30T18:52:05.048Z"
   },
   {
    "duration": 55,
    "start_time": "2023-08-30T18:52:05.156Z"
   },
   {
    "duration": 32,
    "start_time": "2023-08-30T18:52:05.212Z"
   },
   {
    "duration": 75,
    "start_time": "2023-08-30T18:52:05.246Z"
   },
   {
    "duration": 78,
    "start_time": "2023-08-30T18:52:05.323Z"
   },
   {
    "duration": 32,
    "start_time": "2023-08-30T18:52:05.403Z"
   },
   {
    "duration": 51,
    "start_time": "2023-08-30T18:52:05.437Z"
   },
   {
    "duration": 18,
    "start_time": "2023-08-30T18:52:05.493Z"
   },
   {
    "duration": 36,
    "start_time": "2023-08-30T18:52:05.513Z"
   },
   {
    "duration": 54,
    "start_time": "2023-08-30T18:52:05.551Z"
   },
   {
    "duration": 13971,
    "start_time": "2023-08-30T18:52:05.607Z"
   },
   {
    "duration": 0,
    "start_time": "2023-08-30T18:52:19.581Z"
   },
   {
    "duration": 14828,
    "start_time": "2023-08-30T18:52:45.428Z"
   },
   {
    "duration": 5,
    "start_time": "2023-08-30T18:55:10.764Z"
   },
   {
    "duration": 1000,
    "start_time": "2023-08-30T18:55:10.770Z"
   },
   {
    "duration": 1209,
    "start_time": "2023-08-30T18:55:11.774Z"
   },
   {
    "duration": 644,
    "start_time": "2023-08-30T18:55:12.985Z"
   },
   {
    "duration": 116,
    "start_time": "2023-08-30T18:55:13.631Z"
   },
   {
    "duration": 53,
    "start_time": "2023-08-30T18:55:13.749Z"
   },
   {
    "duration": 29,
    "start_time": "2023-08-30T18:55:13.804Z"
   },
   {
    "duration": 86,
    "start_time": "2023-08-30T18:55:13.834Z"
   },
   {
    "duration": 89,
    "start_time": "2023-08-30T18:55:13.923Z"
   },
   {
    "duration": 64,
    "start_time": "2023-08-30T18:55:14.014Z"
   },
   {
    "duration": 46,
    "start_time": "2023-08-30T18:55:14.082Z"
   },
   {
    "duration": 21,
    "start_time": "2023-08-30T18:55:14.130Z"
   },
   {
    "duration": 42,
    "start_time": "2023-08-30T18:55:14.154Z"
   },
   {
    "duration": 44,
    "start_time": "2023-08-30T18:55:14.198Z"
   },
   {
    "duration": 15478,
    "start_time": "2023-08-30T18:55:14.245Z"
   },
   {
    "duration": 6511,
    "start_time": "2023-08-30T18:55:29.725Z"
   },
   {
    "duration": 4,
    "start_time": "2023-08-31T18:28:22.109Z"
   },
   {
    "duration": 1115,
    "start_time": "2023-08-31T18:28:22.114Z"
   },
   {
    "duration": 1259,
    "start_time": "2023-08-31T18:28:23.232Z"
   },
   {
    "duration": 512,
    "start_time": "2023-08-31T18:28:24.493Z"
   },
   {
    "duration": 96,
    "start_time": "2023-08-31T18:28:25.008Z"
   },
   {
    "duration": 52,
    "start_time": "2023-08-31T18:28:25.106Z"
   },
   {
    "duration": 27,
    "start_time": "2023-08-31T18:28:25.159Z"
   },
   {
    "duration": 82,
    "start_time": "2023-08-31T18:28:25.188Z"
   },
   {
    "duration": 66,
    "start_time": "2023-08-31T18:28:25.272Z"
   },
   {
    "duration": 37,
    "start_time": "2023-08-31T18:28:25.340Z"
   },
   {
    "duration": 54,
    "start_time": "2023-08-31T18:28:25.379Z"
   },
   {
    "duration": 16,
    "start_time": "2023-08-31T18:28:25.436Z"
   },
   {
    "duration": 12,
    "start_time": "2023-08-31T18:28:25.454Z"
   },
   {
    "duration": 18,
    "start_time": "2023-08-31T18:28:25.468Z"
   },
   {
    "duration": 226,
    "start_time": "2023-08-31T18:28:25.488Z"
   },
   {
    "duration": 0,
    "start_time": "2023-08-31T18:28:25.716Z"
   },
   {
    "duration": 0,
    "start_time": "2023-08-31T18:28:25.724Z"
   },
   {
    "duration": 124,
    "start_time": "2023-08-31T18:29:27.430Z"
   },
   {
    "duration": 553,
    "start_time": "2023-08-31T18:29:57.154Z"
   },
   {
    "duration": 6788,
    "start_time": "2023-08-31T18:30:20.553Z"
   },
   {
    "duration": 926,
    "start_time": "2023-08-31T18:30:27.343Z"
   },
   {
    "duration": 978,
    "start_time": "2023-08-31T18:30:28.271Z"
   },
   {
    "duration": 522,
    "start_time": "2023-08-31T18:30:29.251Z"
   },
   {
    "duration": 978,
    "start_time": "2023-08-31T18:30:29.774Z"
   },
   {
    "duration": 85,
    "start_time": "2023-08-31T18:30:30.753Z"
   },
   {
    "duration": 72,
    "start_time": "2023-08-31T18:30:30.841Z"
   },
   {
    "duration": 71,
    "start_time": "2023-08-31T18:30:30.915Z"
   },
   {
    "duration": 61,
    "start_time": "2023-08-31T18:30:30.988Z"
   },
   {
    "duration": 36,
    "start_time": "2023-08-31T18:30:31.052Z"
   },
   {
    "duration": 72,
    "start_time": "2023-08-31T18:30:31.090Z"
   },
   {
    "duration": 85,
    "start_time": "2023-08-31T18:30:31.163Z"
   },
   {
    "duration": 270,
    "start_time": "2023-08-31T18:30:31.250Z"
   },
   {
    "duration": 71,
    "start_time": "2023-08-31T18:30:31.522Z"
   },
   {
    "duration": 10468,
    "start_time": "2023-08-31T18:30:31.595Z"
   },
   {
    "duration": 127,
    "start_time": "2023-08-31T18:30:42.064Z"
   },
   {
    "duration": 3632,
    "start_time": "2023-08-31T18:30:42.193Z"
   },
   {
    "duration": 2078,
    "start_time": "2023-08-31T18:31:06.043Z"
   },
   {
    "duration": 942,
    "start_time": "2023-08-31T18:31:08.123Z"
   },
   {
    "duration": 957,
    "start_time": "2023-08-31T18:31:09.067Z"
   },
   {
    "duration": 552,
    "start_time": "2023-08-31T18:31:10.026Z"
   },
   {
    "duration": 99,
    "start_time": "2023-08-31T18:31:10.580Z"
   },
   {
    "duration": 45,
    "start_time": "2023-08-31T18:31:10.681Z"
   },
   {
    "duration": 28,
    "start_time": "2023-08-31T18:31:10.727Z"
   },
   {
    "duration": 47,
    "start_time": "2023-08-31T18:31:10.757Z"
   },
   {
    "duration": 73,
    "start_time": "2023-08-31T18:31:10.806Z"
   },
   {
    "duration": 57,
    "start_time": "2023-08-31T18:31:10.883Z"
   },
   {
    "duration": 36,
    "start_time": "2023-08-31T18:31:10.942Z"
   },
   {
    "duration": 19,
    "start_time": "2023-08-31T18:31:10.980Z"
   },
   {
    "duration": 31,
    "start_time": "2023-08-31T18:31:11.001Z"
   },
   {
    "duration": 22,
    "start_time": "2023-08-31T18:31:11.034Z"
   },
   {
    "duration": 11399,
    "start_time": "2023-08-31T18:31:11.058Z"
   },
   {
    "duration": 3,
    "start_time": "2023-08-31T18:31:22.458Z"
   },
   {
    "duration": 3781,
    "start_time": "2023-08-31T18:31:22.463Z"
   },
   {
    "duration": 3,
    "start_time": "2023-08-31T18:46:30.615Z"
   },
   {
    "duration": 3633,
    "start_time": "2023-08-31T18:46:55.191Z"
   },
   {
    "duration": 3785,
    "start_time": "2023-08-31T18:47:18.019Z"
   },
   {
    "duration": 2191,
    "start_time": "2023-08-31T18:55:16.440Z"
   },
   {
    "duration": 1002,
    "start_time": "2023-08-31T18:55:18.634Z"
   },
   {
    "duration": 1031,
    "start_time": "2023-08-31T18:55:19.637Z"
   },
   {
    "duration": 552,
    "start_time": "2023-08-31T18:55:20.670Z"
   },
   {
    "duration": 102,
    "start_time": "2023-08-31T18:55:21.224Z"
   },
   {
    "duration": 36,
    "start_time": "2023-08-31T18:55:21.328Z"
   },
   {
    "duration": 27,
    "start_time": "2023-08-31T18:55:21.366Z"
   },
   {
    "duration": 71,
    "start_time": "2023-08-31T18:55:21.395Z"
   },
   {
    "duration": 64,
    "start_time": "2023-08-31T18:55:21.468Z"
   },
   {
    "duration": 38,
    "start_time": "2023-08-31T18:55:21.535Z"
   },
   {
    "duration": 55,
    "start_time": "2023-08-31T18:55:21.575Z"
   },
   {
    "duration": 16,
    "start_time": "2023-08-31T18:55:21.632Z"
   },
   {
    "duration": 11,
    "start_time": "2023-08-31T18:55:21.649Z"
   },
   {
    "duration": 19,
    "start_time": "2023-08-31T18:55:21.662Z"
   },
   {
    "duration": 10013,
    "start_time": "2023-08-31T18:55:21.684Z"
   },
   {
    "duration": 3,
    "start_time": "2023-08-31T18:55:31.699Z"
   },
   {
    "duration": 2040,
    "start_time": "2023-08-31T18:58:08.619Z"
   },
   {
    "duration": 881,
    "start_time": "2023-08-31T18:58:10.662Z"
   },
   {
    "duration": 944,
    "start_time": "2023-08-31T18:58:11.545Z"
   },
   {
    "duration": 524,
    "start_time": "2023-08-31T18:58:12.491Z"
   },
   {
    "duration": 99,
    "start_time": "2023-08-31T18:58:13.017Z"
   },
   {
    "duration": 41,
    "start_time": "2023-08-31T18:58:13.124Z"
   },
   {
    "duration": 57,
    "start_time": "2023-08-31T18:58:13.167Z"
   },
   {
    "duration": 81,
    "start_time": "2023-08-31T18:58:13.225Z"
   },
   {
    "duration": 62,
    "start_time": "2023-08-31T18:58:13.308Z"
   },
   {
    "duration": 33,
    "start_time": "2023-08-31T18:58:13.372Z"
   },
   {
    "duration": 50,
    "start_time": "2023-08-31T18:58:13.407Z"
   },
   {
    "duration": 17,
    "start_time": "2023-08-31T18:58:13.458Z"
   },
   {
    "duration": 27,
    "start_time": "2023-08-31T18:58:13.476Z"
   },
   {
    "duration": 33,
    "start_time": "2023-08-31T18:58:13.504Z"
   },
   {
    "duration": 1999,
    "start_time": "2023-08-31T18:58:23.152Z"
   },
   {
    "duration": 940,
    "start_time": "2023-08-31T18:58:25.153Z"
   },
   {
    "duration": 919,
    "start_time": "2023-08-31T18:58:26.095Z"
   },
   {
    "duration": 492,
    "start_time": "2023-08-31T18:58:27.023Z"
   },
   {
    "duration": 91,
    "start_time": "2023-08-31T18:58:27.516Z"
   },
   {
    "duration": 42,
    "start_time": "2023-08-31T18:58:27.609Z"
   },
   {
    "duration": 27,
    "start_time": "2023-08-31T18:58:27.652Z"
   },
   {
    "duration": 63,
    "start_time": "2023-08-31T18:58:27.680Z"
   },
   {
    "duration": 52,
    "start_time": "2023-08-31T18:58:27.745Z"
   },
   {
    "duration": 46,
    "start_time": "2023-08-31T18:58:27.800Z"
   },
   {
    "duration": 35,
    "start_time": "2023-08-31T18:58:27.848Z"
   },
   {
    "duration": 39,
    "start_time": "2023-08-31T18:58:27.885Z"
   },
   {
    "duration": 10,
    "start_time": "2023-08-31T18:58:27.926Z"
   },
   {
    "duration": 15,
    "start_time": "2023-08-31T18:58:27.937Z"
   },
   {
    "duration": 8989,
    "start_time": "2023-08-31T18:58:27.954Z"
   },
   {
    "duration": 2,
    "start_time": "2023-08-31T18:58:36.945Z"
   },
   {
    "duration": 0,
    "start_time": "2023-08-31T19:01:51.357Z"
   },
   {
    "duration": 0,
    "start_time": "2023-08-31T19:01:51.359Z"
   },
   {
    "duration": 9226,
    "start_time": "2023-08-31T19:02:04.224Z"
   },
   {
    "duration": 49089,
    "start_time": "2023-08-31T19:02:29.688Z"
   },
   {
    "duration": 2068,
    "start_time": "2023-08-31T19:04:37.337Z"
   },
   {
    "duration": 960,
    "start_time": "2023-08-31T19:04:39.407Z"
   },
   {
    "duration": 976,
    "start_time": "2023-08-31T19:04:40.369Z"
   },
   {
    "duration": 533,
    "start_time": "2023-08-31T19:04:41.347Z"
   },
   {
    "duration": 101,
    "start_time": "2023-08-31T19:04:41.882Z"
   },
   {
    "duration": 43,
    "start_time": "2023-08-31T19:04:41.984Z"
   },
   {
    "duration": 28,
    "start_time": "2023-08-31T19:04:42.029Z"
   },
   {
    "duration": 68,
    "start_time": "2023-08-31T19:04:42.058Z"
   },
   {
    "duration": 56,
    "start_time": "2023-08-31T19:04:42.127Z"
   },
   {
    "duration": 46,
    "start_time": "2023-08-31T19:04:42.186Z"
   },
   {
    "duration": 37,
    "start_time": "2023-08-31T19:04:42.234Z"
   },
   {
    "duration": 16,
    "start_time": "2023-08-31T19:04:42.275Z"
   },
   {
    "duration": 32,
    "start_time": "2023-08-31T19:04:42.293Z"
   },
   {
    "duration": 27,
    "start_time": "2023-08-31T19:04:42.326Z"
   },
   {
    "duration": 12464,
    "start_time": "2023-08-31T19:04:42.355Z"
   },
   {
    "duration": 3,
    "start_time": "2023-08-31T19:04:54.821Z"
   },
   {
    "duration": 3,
    "start_time": "2023-08-31T19:08:12.691Z"
   },
   {
    "duration": 2072,
    "start_time": "2023-08-31T19:08:39.105Z"
   },
   {
    "duration": 874,
    "start_time": "2023-08-31T19:08:41.180Z"
   },
   {
    "duration": 1009,
    "start_time": "2023-08-31T19:08:42.056Z"
   },
   {
    "duration": 539,
    "start_time": "2023-08-31T19:08:43.067Z"
   },
   {
    "duration": 100,
    "start_time": "2023-08-31T19:08:43.608Z"
   },
   {
    "duration": 45,
    "start_time": "2023-08-31T19:08:43.709Z"
   },
   {
    "duration": 56,
    "start_time": "2023-08-31T19:08:43.756Z"
   },
   {
    "duration": 49,
    "start_time": "2023-08-31T19:08:43.814Z"
   },
   {
    "duration": 63,
    "start_time": "2023-08-31T19:08:43.866Z"
   },
   {
    "duration": 37,
    "start_time": "2023-08-31T19:08:43.931Z"
   },
   {
    "duration": 56,
    "start_time": "2023-08-31T19:08:43.969Z"
   },
   {
    "duration": 16,
    "start_time": "2023-08-31T19:08:44.026Z"
   },
   {
    "duration": 12,
    "start_time": "2023-08-31T19:08:44.044Z"
   },
   {
    "duration": 56,
    "start_time": "2023-08-31T19:08:44.058Z"
   },
   {
    "duration": 12241,
    "start_time": "2023-08-31T19:08:44.116Z"
   },
   {
    "duration": 3,
    "start_time": "2023-08-31T19:08:56.359Z"
   },
   {
    "duration": 94357,
    "start_time": "2023-08-31T19:08:56.363Z"
   },
   {
    "duration": 3,
    "start_time": "2023-08-31T19:10:30.723Z"
   },
   {
    "duration": 3539,
    "start_time": "2023-08-31T19:21:45.589Z"
   },
   {
    "duration": 128,
    "start_time": "2023-08-31T19:22:40.797Z"
   },
   {
    "duration": 3629,
    "start_time": "2023-08-31T19:22:42.199Z"
   },
   {
    "duration": 12264,
    "start_time": "2023-08-31T19:23:14.235Z"
   },
   {
    "duration": 3666,
    "start_time": "2023-08-31T19:23:33.467Z"
   },
   {
    "duration": 125,
    "start_time": "2023-08-31T19:23:39.339Z"
   },
   {
    "duration": 4541,
    "start_time": "2023-08-31T19:23:41.187Z"
   },
   {
    "duration": 104,
    "start_time": "2023-08-31T20:01:28.412Z"
   },
   {
    "duration": 3,
    "start_time": "2023-08-31T20:03:00.557Z"
   },
   {
    "duration": 2407,
    "start_time": "2023-08-31T20:03:04.103Z"
   },
   {
    "duration": 6080,
    "start_time": "2023-09-01T14:32:18.485Z"
   },
   {
    "duration": 892,
    "start_time": "2023-09-01T14:32:24.567Z"
   },
   {
    "duration": 1193,
    "start_time": "2023-09-01T14:32:25.461Z"
   },
   {
    "duration": 449,
    "start_time": "2023-09-01T14:32:26.656Z"
   },
   {
    "duration": 87,
    "start_time": "2023-09-01T14:32:27.108Z"
   },
   {
    "duration": 33,
    "start_time": "2023-09-01T14:32:27.196Z"
   },
   {
    "duration": 35,
    "start_time": "2023-09-01T14:32:27.231Z"
   },
   {
    "duration": 44,
    "start_time": "2023-09-01T14:32:27.268Z"
   },
   {
    "duration": 65,
    "start_time": "2023-09-01T14:32:27.313Z"
   },
   {
    "duration": 32,
    "start_time": "2023-09-01T14:32:27.379Z"
   },
   {
    "duration": 43,
    "start_time": "2023-09-01T14:32:27.413Z"
   },
   {
    "duration": 15,
    "start_time": "2023-09-01T14:32:27.458Z"
   },
   {
    "duration": 10,
    "start_time": "2023-09-01T14:32:27.475Z"
   },
   {
    "duration": 14,
    "start_time": "2023-09-01T14:32:27.487Z"
   },
   {
    "duration": 8511,
    "start_time": "2023-09-01T14:32:27.502Z"
   },
   {
    "duration": 72611,
    "start_time": "2023-09-01T14:32:36.015Z"
   },
   {
    "duration": 2534,
    "start_time": "2023-09-01T14:33:48.628Z"
   },
   {
    "duration": 2557,
    "start_time": "2023-09-01T14:33:51.164Z"
   },
   {
    "duration": 3,
    "start_time": "2023-09-01T14:33:53.722Z"
   },
   {
    "duration": 97,
    "start_time": "2023-09-01T15:17:16.187Z"
   },
   {
    "duration": 9762,
    "start_time": "2023-09-01T18:08:42.205Z"
   },
   {
    "duration": 1230,
    "start_time": "2023-09-01T18:08:51.971Z"
   },
   {
    "duration": 1605,
    "start_time": "2023-09-01T18:08:53.203Z"
   },
   {
    "duration": 644,
    "start_time": "2023-09-01T18:08:54.812Z"
   },
   {
    "duration": 115,
    "start_time": "2023-09-01T18:08:55.459Z"
   },
   {
    "duration": 49,
    "start_time": "2023-09-01T18:08:55.575Z"
   },
   {
    "duration": 30,
    "start_time": "2023-09-01T18:08:55.626Z"
   },
   {
    "duration": 79,
    "start_time": "2023-09-01T18:08:55.657Z"
   },
   {
    "duration": 89,
    "start_time": "2023-09-01T18:08:55.738Z"
   },
   {
    "duration": 42,
    "start_time": "2023-09-01T18:08:55.829Z"
   },
   {
    "duration": 65,
    "start_time": "2023-09-01T18:08:55.882Z"
   },
   {
    "duration": 40,
    "start_time": "2023-09-01T18:08:55.950Z"
   },
   {
    "duration": 18,
    "start_time": "2023-09-01T18:08:55.992Z"
   },
   {
    "duration": 24,
    "start_time": "2023-09-01T18:08:56.013Z"
   },
   {
    "duration": 12782,
    "start_time": "2023-09-01T18:08:56.039Z"
   },
   {
    "duration": 103576,
    "start_time": "2023-09-01T18:09:08.824Z"
   },
   {
    "duration": 4686,
    "start_time": "2023-09-01T18:10:52.402Z"
   },
   {
    "duration": 3087,
    "start_time": "2023-09-01T18:10:57.091Z"
   },
   {
    "duration": 7,
    "start_time": "2023-09-01T18:11:00.183Z"
   },
   {
    "duration": 3,
    "start_time": "2023-09-01T18:14:03.858Z"
   },
   {
    "duration": 24709,
    "start_time": "2023-09-01T18:15:07.107Z"
   },
   {
    "duration": 118,
    "start_time": "2023-09-01T18:20:00.577Z"
   },
   {
    "duration": 4877,
    "start_time": "2023-09-01T18:32:48.406Z"
   },
   {
    "duration": 81,
    "start_time": "2023-09-01T18:32:57.613Z"
   },
   {
    "duration": 14220,
    "start_time": "2023-09-01T18:33:01.072Z"
   },
   {
    "duration": 166,
    "start_time": "2023-09-01T18:33:18.717Z"
   },
   {
    "duration": 7646,
    "start_time": "2023-09-02T08:24:21.420Z"
   },
   {
    "duration": 998,
    "start_time": "2023-09-02T08:24:29.069Z"
   },
   {
    "duration": 3049,
    "start_time": "2023-09-02T08:24:30.068Z"
   },
   {
    "duration": 481,
    "start_time": "2023-09-02T08:24:33.118Z"
   },
   {
    "duration": 100,
    "start_time": "2023-09-02T08:24:33.601Z"
   },
   {
    "duration": 41,
    "start_time": "2023-09-02T08:24:33.703Z"
   },
   {
    "duration": 27,
    "start_time": "2023-09-02T08:24:33.746Z"
   },
   {
    "duration": 51,
    "start_time": "2023-09-02T08:24:33.775Z"
   },
   {
    "duration": 71,
    "start_time": "2023-09-02T08:24:33.827Z"
   },
   {
    "duration": 50,
    "start_time": "2023-09-02T08:24:33.900Z"
   },
   {
    "duration": 34,
    "start_time": "2023-09-02T08:24:33.951Z"
   },
   {
    "duration": 15,
    "start_time": "2023-09-02T08:24:33.987Z"
   },
   {
    "duration": 12,
    "start_time": "2023-09-02T08:24:34.004Z"
   },
   {
    "duration": 38,
    "start_time": "2023-09-02T08:24:34.019Z"
   },
   {
    "duration": 10427,
    "start_time": "2023-09-02T08:24:34.060Z"
   },
   {
    "duration": 84170,
    "start_time": "2023-09-02T08:24:44.488Z"
   },
   {
    "duration": 4692,
    "start_time": "2023-09-02T08:26:08.660Z"
   },
   {
    "duration": 2825,
    "start_time": "2023-09-02T08:26:13.355Z"
   },
   {
    "duration": 13171,
    "start_time": "2023-09-02T08:26:16.181Z"
   },
   {
    "duration": 292,
    "start_time": "2023-09-02T08:26:29.354Z"
   },
   {
    "duration": 3,
    "start_time": "2023-09-02T08:26:29.647Z"
   },
   {
    "duration": 97,
    "start_time": "2023-09-02T08:39:07.055Z"
   },
   {
    "duration": 8859,
    "start_time": "2023-09-02T08:39:49.795Z"
   },
   {
    "duration": 90,
    "start_time": "2023-09-02T08:40:11.685Z"
   },
   {
    "duration": 89,
    "start_time": "2023-09-02T08:41:14.741Z"
   },
   {
    "duration": 6435,
    "start_time": "2023-09-02T08:41:34.416Z"
   },
   {
    "duration": 6384,
    "start_time": "2023-09-02T08:41:43.061Z"
   },
   {
    "duration": 83,
    "start_time": "2023-09-02T08:42:33.712Z"
   },
   {
    "duration": 23964,
    "start_time": "2023-09-02T08:42:40.185Z"
   },
   {
    "duration": 2004,
    "start_time": "2023-09-02T08:43:08.275Z"
   },
   {
    "duration": 27442,
    "start_time": "2023-09-02T08:43:55.307Z"
   },
   {
    "duration": 23120,
    "start_time": "2023-09-02T08:52:41.339Z"
   },
   {
    "duration": 2432,
    "start_time": "2023-09-02T08:53:08.413Z"
   },
   {
    "duration": 20566,
    "start_time": "2023-09-02T08:53:31.093Z"
   },
   {
    "duration": 2218,
    "start_time": "2023-09-02T08:54:37.051Z"
   },
   {
    "duration": 109181,
    "start_time": "2023-09-02T09:00:36.285Z"
   },
   {
    "duration": 114,
    "start_time": "2023-09-02T09:03:12.997Z"
   },
   {
    "duration": 84585,
    "start_time": "2023-09-02T09:03:23.371Z"
   },
   {
    "duration": 104,
    "start_time": "2023-09-02T09:11:49.774Z"
   },
   {
    "duration": 2313,
    "start_time": "2023-09-02T09:11:59.541Z"
   },
   {
    "duration": 4803,
    "start_time": "2023-09-02T09:12:50.043Z"
   },
   {
    "duration": 4,
    "start_time": "2023-09-02T09:14:34.644Z"
   },
   {
    "duration": 1303,
    "start_time": "2023-09-02T09:14:45.279Z"
   },
   {
    "duration": 1351,
    "start_time": "2023-09-02T09:14:55.074Z"
   },
   {
    "duration": 1254,
    "start_time": "2023-09-02T09:15:01.104Z"
   },
   {
    "duration": 1170,
    "start_time": "2023-09-02T09:15:46.539Z"
   },
   {
    "duration": 1315,
    "start_time": "2023-09-02T09:15:53.330Z"
   },
   {
    "duration": 1235,
    "start_time": "2023-09-02T09:15:59.414Z"
   },
   {
    "duration": 1180,
    "start_time": "2023-09-02T09:16:09.372Z"
   },
   {
    "duration": 8,
    "start_time": "2023-09-02T09:17:33.384Z"
   },
   {
    "duration": 1291,
    "start_time": "2023-09-02T09:17:38.443Z"
   },
   {
    "duration": 4,
    "start_time": "2023-09-02T09:39:26.605Z"
   },
   {
    "duration": 11,
    "start_time": "2023-09-02T09:39:34.125Z"
   },
   {
    "duration": 3,
    "start_time": "2023-09-02T09:39:36.846Z"
   },
   {
    "duration": 8,
    "start_time": "2023-09-02T09:40:55.745Z"
   },
   {
    "duration": 3,
    "start_time": "2023-09-02T09:41:00.241Z"
   },
   {
    "duration": 8,
    "start_time": "2023-09-02T09:42:25.996Z"
   },
   {
    "duration": 3,
    "start_time": "2023-09-02T09:42:30.421Z"
   },
   {
    "duration": 4,
    "start_time": "2023-09-02T09:44:31.974Z"
   },
   {
    "duration": 4,
    "start_time": "2023-09-02T09:44:34.743Z"
   },
   {
    "duration": 9,
    "start_time": "2023-09-02T09:44:41.993Z"
   },
   {
    "duration": 9,
    "start_time": "2023-09-02T09:44:50.144Z"
   },
   {
    "duration": 3,
    "start_time": "2023-09-02T09:44:57.716Z"
   },
   {
    "duration": 4,
    "start_time": "2023-09-02T09:45:00.209Z"
   },
   {
    "duration": 8,
    "start_time": "2023-09-02T09:45:11.666Z"
   },
   {
    "duration": 5,
    "start_time": "2023-09-02T09:45:20.072Z"
   },
   {
    "duration": 109,
    "start_time": "2023-09-02T09:45:26.012Z"
   },
   {
    "duration": 9,
    "start_time": "2023-09-02T09:45:30.604Z"
   },
   {
    "duration": 5,
    "start_time": "2023-09-02T09:45:34.101Z"
   },
   {
    "duration": 4,
    "start_time": "2023-09-02T09:47:07.512Z"
   },
   {
    "duration": 177,
    "start_time": "2023-09-02T09:48:19.477Z"
   },
   {
    "duration": 91,
    "start_time": "2023-09-02T09:48:41.343Z"
   },
   {
    "duration": 4663,
    "start_time": "2023-09-02T09:49:40.085Z"
   },
   {
    "duration": 3,
    "start_time": "2023-09-02T09:49:55.481Z"
   },
   {
    "duration": 13666,
    "start_time": "2023-09-02T09:55:20.781Z"
   },
   {
    "duration": 12738,
    "start_time": "2023-09-02T09:57:22.513Z"
   },
   {
    "duration": 77,
    "start_time": "2023-09-02T09:59:52.503Z"
   },
   {
    "duration": 238694,
    "start_time": "2023-09-02T10:07:08.162Z"
   },
   {
    "duration": 4,
    "start_time": "2023-09-02T12:20:55.398Z"
   },
   {
    "duration": 2157,
    "start_time": "2023-09-02T12:24:57.081Z"
   },
   {
    "duration": 1272,
    "start_time": "2023-09-02T12:24:59.241Z"
   },
   {
    "duration": 1078,
    "start_time": "2023-09-02T12:25:00.515Z"
   },
   {
    "duration": 560,
    "start_time": "2023-09-02T12:25:01.595Z"
   },
   {
    "duration": 102,
    "start_time": "2023-09-02T12:25:02.161Z"
   },
   {
    "duration": 37,
    "start_time": "2023-09-02T12:25:02.265Z"
   },
   {
    "duration": 72,
    "start_time": "2023-09-02T12:25:02.305Z"
   },
   {
    "duration": 52,
    "start_time": "2023-09-02T12:25:02.380Z"
   },
   {
    "duration": 64,
    "start_time": "2023-09-02T12:25:02.434Z"
   },
   {
    "duration": 46,
    "start_time": "2023-09-02T12:25:02.501Z"
   },
   {
    "duration": 41,
    "start_time": "2023-09-02T12:25:02.549Z"
   },
   {
    "duration": 16,
    "start_time": "2023-09-02T12:25:02.591Z"
   },
   {
    "duration": 11,
    "start_time": "2023-09-02T12:25:02.608Z"
   },
   {
    "duration": 21,
    "start_time": "2023-09-02T12:25:02.646Z"
   },
   {
    "duration": 10093,
    "start_time": "2023-09-02T12:25:02.669Z"
   },
   {
    "duration": 86588,
    "start_time": "2023-09-02T12:25:12.764Z"
   },
   {
    "duration": 5188,
    "start_time": "2023-09-02T12:26:39.363Z"
   },
   {
    "duration": 2898,
    "start_time": "2023-09-02T12:26:44.558Z"
   },
   {
    "duration": 244613,
    "start_time": "2023-09-02T12:26:47.457Z"
   },
   {
    "duration": 274678,
    "start_time": "2023-09-02T12:30:52.072Z"
   },
   {
    "duration": 4,
    "start_time": "2023-09-02T12:35:26.752Z"
   },
   {
    "duration": 7,
    "start_time": "2023-09-02T12:35:26.757Z"
   },
   {
    "duration": 160,
    "start_time": "2023-09-02T13:29:31.421Z"
   },
   {
    "duration": 5,
    "start_time": "2023-09-02T13:30:02.821Z"
   },
   {
    "duration": 2635,
    "start_time": "2023-09-02T13:35:28.482Z"
   },
   {
    "duration": 1794,
    "start_time": "2023-09-02T13:35:31.119Z"
   },
   {
    "duration": 1183,
    "start_time": "2023-09-02T13:35:32.914Z"
   },
   {
    "duration": 704,
    "start_time": "2023-09-02T13:35:34.100Z"
   },
   {
    "duration": 103,
    "start_time": "2023-09-02T13:35:34.806Z"
   },
   {
    "duration": 52,
    "start_time": "2023-09-02T13:35:34.910Z"
   },
   {
    "duration": 38,
    "start_time": "2023-09-02T13:35:34.964Z"
   },
   {
    "duration": 61,
    "start_time": "2023-09-02T13:35:35.004Z"
   },
   {
    "duration": 63,
    "start_time": "2023-09-02T13:35:35.067Z"
   },
   {
    "duration": 64,
    "start_time": "2023-09-02T13:35:35.133Z"
   },
   {
    "duration": 37,
    "start_time": "2023-09-02T13:35:35.199Z"
   },
   {
    "duration": 33,
    "start_time": "2023-09-02T13:35:35.237Z"
   },
   {
    "duration": 12,
    "start_time": "2023-09-02T13:35:35.275Z"
   },
   {
    "duration": 35,
    "start_time": "2023-09-02T13:35:35.290Z"
   },
   {
    "duration": 13761,
    "start_time": "2023-09-02T13:35:35.327Z"
   },
   {
    "duration": 101332,
    "start_time": "2023-09-02T13:35:49.090Z"
   },
   {
    "duration": 3228,
    "start_time": "2023-09-02T13:37:30.425Z"
   },
   {
    "duration": 3345,
    "start_time": "2023-09-02T13:37:33.655Z"
   },
   {
    "duration": 111282,
    "start_time": "2023-09-02T13:37:37.001Z"
   },
   {
    "duration": 0,
    "start_time": "2023-09-02T13:39:28.290Z"
   },
   {
    "duration": 0,
    "start_time": "2023-09-02T13:39:28.291Z"
   },
   {
    "duration": 0,
    "start_time": "2023-09-02T13:39:28.293Z"
   },
   {
    "duration": 0,
    "start_time": "2023-09-02T13:39:28.295Z"
   },
   {
    "duration": 2721,
    "start_time": "2023-09-02T13:43:36.801Z"
   },
   {
    "duration": 1480,
    "start_time": "2023-09-02T13:43:39.527Z"
   },
   {
    "duration": 1485,
    "start_time": "2023-09-02T13:43:41.009Z"
   },
   {
    "duration": 657,
    "start_time": "2023-09-02T13:43:42.500Z"
   },
   {
    "duration": 140,
    "start_time": "2023-09-02T13:43:43.159Z"
   },
   {
    "duration": 39,
    "start_time": "2023-09-02T13:43:43.303Z"
   },
   {
    "duration": 48,
    "start_time": "2023-09-02T13:43:43.344Z"
   },
   {
    "duration": 57,
    "start_time": "2023-09-02T13:43:43.394Z"
   },
   {
    "duration": 75,
    "start_time": "2023-09-02T13:43:43.456Z"
   },
   {
    "duration": 68,
    "start_time": "2023-09-02T13:43:43.534Z"
   },
   {
    "duration": 34,
    "start_time": "2023-09-02T13:43:43.607Z"
   },
   {
    "duration": 42,
    "start_time": "2023-09-02T13:43:43.643Z"
   },
   {
    "duration": 22,
    "start_time": "2023-09-02T13:43:43.687Z"
   },
   {
    "duration": 24,
    "start_time": "2023-09-02T13:43:43.711Z"
   },
   {
    "duration": 13483,
    "start_time": "2023-09-02T13:43:43.737Z"
   },
   {
    "duration": 99887,
    "start_time": "2023-09-02T13:43:57.222Z"
   },
   {
    "duration": 2938,
    "start_time": "2023-09-02T13:45:37.110Z"
   },
   {
    "duration": 3248,
    "start_time": "2023-09-02T13:45:40.050Z"
   },
   {
    "duration": 3340,
    "start_time": "2023-09-02T13:53:13.977Z"
   },
   {
    "duration": 1792,
    "start_time": "2023-09-02T13:53:17.321Z"
   },
   {
    "duration": 1488,
    "start_time": "2023-09-02T13:53:19.121Z"
   },
   {
    "duration": 877,
    "start_time": "2023-09-02T13:53:20.612Z"
   },
   {
    "duration": 148,
    "start_time": "2023-09-02T13:53:21.505Z"
   },
   {
    "duration": 61,
    "start_time": "2023-09-02T13:53:21.655Z"
   },
   {
    "duration": 104,
    "start_time": "2023-09-02T13:53:21.718Z"
   },
   {
    "duration": 87,
    "start_time": "2023-09-02T13:53:21.828Z"
   },
   {
    "duration": 117,
    "start_time": "2023-09-02T13:53:21.922Z"
   },
   {
    "duration": 110,
    "start_time": "2023-09-02T13:53:22.041Z"
   },
   {
    "duration": 115,
    "start_time": "2023-09-02T13:53:22.162Z"
   },
   {
    "duration": 24,
    "start_time": "2023-09-02T13:53:22.282Z"
   },
   {
    "duration": 20,
    "start_time": "2023-09-02T13:53:22.313Z"
   },
   {
    "duration": 23,
    "start_time": "2023-09-02T13:53:22.342Z"
   },
   {
    "duration": 14810,
    "start_time": "2023-09-02T13:53:22.371Z"
   },
   {
    "duration": 126137,
    "start_time": "2023-09-02T13:53:37.188Z"
   },
   {
    "duration": 3237,
    "start_time": "2023-09-02T13:55:43.327Z"
   },
   {
    "duration": 3631,
    "start_time": "2023-09-02T13:55:46.596Z"
   },
   {
    "duration": 3173,
    "start_time": "2023-09-02T13:57:42.470Z"
   },
   {
    "duration": 1480,
    "start_time": "2023-09-02T13:57:45.653Z"
   },
   {
    "duration": 1381,
    "start_time": "2023-09-02T13:57:47.134Z"
   },
   {
    "duration": 687,
    "start_time": "2023-09-02T13:57:48.517Z"
   },
   {
    "duration": 109,
    "start_time": "2023-09-02T13:57:49.206Z"
   },
   {
    "duration": 55,
    "start_time": "2023-09-02T13:57:49.317Z"
   },
   {
    "duration": 37,
    "start_time": "2023-09-02T13:57:49.373Z"
   },
   {
    "duration": 75,
    "start_time": "2023-09-02T13:57:49.411Z"
   },
   {
    "duration": 79,
    "start_time": "2023-09-02T13:57:49.489Z"
   },
   {
    "duration": 67,
    "start_time": "2023-09-02T13:57:49.570Z"
   },
   {
    "duration": 72,
    "start_time": "2023-09-02T13:57:49.639Z"
   },
   {
    "duration": 17,
    "start_time": "2023-09-02T13:57:49.713Z"
   },
   {
    "duration": 12,
    "start_time": "2023-09-02T13:57:49.732Z"
   },
   {
    "duration": 28,
    "start_time": "2023-09-02T13:57:49.747Z"
   },
   {
    "duration": 15099,
    "start_time": "2023-09-02T13:57:49.777Z"
   },
   {
    "duration": 123846,
    "start_time": "2023-09-02T13:58:04.879Z"
   },
   {
    "duration": 3617,
    "start_time": "2023-09-02T14:00:08.727Z"
   },
   {
    "duration": 3877,
    "start_time": "2023-09-02T14:00:12.352Z"
   },
   {
    "duration": 11,
    "start_time": "2023-09-02T14:00:16.231Z"
   },
   {
    "duration": 191,
    "start_time": "2023-09-02T14:00:16.244Z"
   },
   {
    "duration": 0,
    "start_time": "2023-09-02T14:00:16.437Z"
   },
   {
    "duration": 0,
    "start_time": "2023-09-02T14:00:16.438Z"
   },
   {
    "duration": 0,
    "start_time": "2023-09-02T14:00:16.439Z"
   },
   {
    "duration": 53,
    "start_time": "2023-09-04T18:26:06.911Z"
   },
   {
    "duration": 1657,
    "start_time": "2023-09-04T18:26:12.986Z"
   },
   {
    "duration": 140,
    "start_time": "2023-09-04T18:26:14.646Z"
   },
   {
    "duration": 3134,
    "start_time": "2023-09-04T18:26:33.344Z"
   },
   {
    "duration": 530,
    "start_time": "2023-09-04T18:26:41.945Z"
   },
   {
    "duration": 140,
    "start_time": "2023-09-04T18:26:42.834Z"
   },
   {
    "duration": 50,
    "start_time": "2023-09-04T18:26:46.687Z"
   },
   {
    "duration": 33,
    "start_time": "2023-09-04T18:26:47.786Z"
   },
   {
    "duration": 61,
    "start_time": "2023-09-04T18:26:50.110Z"
   },
   {
    "duration": 1712,
    "start_time": "2023-09-04T18:38:03.586Z"
   },
   {
    "duration": 5,
    "start_time": "2023-09-04T18:38:18.604Z"
   },
   {
    "duration": 882,
    "start_time": "2023-09-04T18:38:19.082Z"
   },
   {
    "duration": 418,
    "start_time": "2023-09-04T18:38:21.889Z"
   },
   {
    "duration": 718,
    "start_time": "2023-09-04T18:38:23.748Z"
   },
   {
    "duration": 690,
    "start_time": "2023-09-04T18:38:36.622Z"
   },
   {
    "duration": 75,
    "start_time": "2023-09-04T18:38:44.695Z"
   },
   {
    "duration": 17,
    "start_time": "2023-09-04T18:38:53.552Z"
   },
   {
    "duration": 1432,
    "start_time": "2023-09-04T18:39:26.514Z"
   },
   {
    "duration": 906,
    "start_time": "2023-09-04T18:39:33.793Z"
   },
   {
    "duration": 420,
    "start_time": "2023-09-04T18:39:36.028Z"
   },
   {
    "duration": 71,
    "start_time": "2023-09-04T18:39:37.246Z"
   },
   {
    "duration": 71,
    "start_time": "2023-09-04T18:40:14.524Z"
   },
   {
    "duration": 74,
    "start_time": "2023-09-04T18:40:21.985Z"
   },
   {
    "duration": 37,
    "start_time": "2023-09-04T18:40:28.931Z"
   },
   {
    "duration": 4,
    "start_time": "2023-09-04T18:40:42.589Z"
   },
   {
    "duration": 64,
    "start_time": "2023-09-04T18:41:09.850Z"
   },
   {
    "duration": 860,
    "start_time": "2023-09-04T18:42:40.702Z"
   },
   {
    "duration": 429,
    "start_time": "2023-09-04T18:42:41.677Z"
   },
   {
    "duration": 90,
    "start_time": "2023-09-04T18:42:43.147Z"
   },
   {
    "duration": 76,
    "start_time": "2023-09-04T18:42:48.226Z"
   },
   {
    "duration": 80,
    "start_time": "2023-09-04T18:42:56.520Z"
   },
   {
    "duration": 29,
    "start_time": "2023-09-04T18:43:36.765Z"
   },
   {
    "duration": 24,
    "start_time": "2023-09-04T18:43:37.642Z"
   },
   {
    "duration": 68,
    "start_time": "2023-09-04T18:43:38.593Z"
   },
   {
    "duration": 54,
    "start_time": "2023-09-04T18:43:41.111Z"
   },
   {
    "duration": 837,
    "start_time": "2023-09-04T18:45:25.673Z"
   },
   {
    "duration": 434,
    "start_time": "2023-09-04T18:45:27.081Z"
   },
   {
    "duration": 88,
    "start_time": "2023-09-04T18:45:28.321Z"
   },
   {
    "duration": 30,
    "start_time": "2023-09-04T18:45:33.497Z"
   },
   {
    "duration": 20,
    "start_time": "2023-09-04T18:45:34.613Z"
   },
   {
    "duration": 55,
    "start_time": "2023-09-04T18:45:35.218Z"
   },
   {
    "duration": 58,
    "start_time": "2023-09-04T18:45:37.602Z"
   },
   {
    "duration": 890,
    "start_time": "2023-09-04T18:48:09.834Z"
   },
   {
    "duration": 432,
    "start_time": "2023-09-04T18:48:12.144Z"
   },
   {
    "duration": 111,
    "start_time": "2023-09-04T18:48:13.773Z"
   },
   {
    "duration": 86,
    "start_time": "2023-09-04T18:48:29.773Z"
   },
   {
    "duration": 74,
    "start_time": "2023-09-04T18:48:52.293Z"
   },
   {
    "duration": 110,
    "start_time": "2023-09-04T18:48:56.867Z"
   },
   {
    "duration": 42,
    "start_time": "2023-09-04T18:53:15.519Z"
   },
   {
    "duration": 102,
    "start_time": "2023-09-04T18:54:06.618Z"
   },
   {
    "duration": 861,
    "start_time": "2023-09-04T18:57:51.489Z"
   },
   {
    "duration": 436,
    "start_time": "2023-09-04T18:57:52.355Z"
   },
   {
    "duration": 99,
    "start_time": "2023-09-04T18:57:52.793Z"
   },
   {
    "duration": 105,
    "start_time": "2023-09-04T18:57:54.029Z"
   },
   {
    "duration": 115,
    "start_time": "2023-09-04T18:57:54.205Z"
   },
   {
    "duration": 67,
    "start_time": "2023-09-04T18:57:54.568Z"
   },
   {
    "duration": 26,
    "start_time": "2023-09-04T18:57:56.352Z"
   },
   {
    "duration": 20,
    "start_time": "2023-09-04T18:57:56.709Z"
   },
   {
    "duration": 60,
    "start_time": "2023-09-04T18:57:57.269Z"
   },
   {
    "duration": 33,
    "start_time": "2023-09-04T18:57:58.192Z"
   },
   {
    "duration": 33,
    "start_time": "2023-09-04T18:57:58.677Z"
   },
   {
    "duration": 19,
    "start_time": "2023-09-04T18:57:59.013Z"
   },
   {
    "duration": 12,
    "start_time": "2023-09-04T18:57:59.405Z"
   },
   {
    "duration": 13,
    "start_time": "2023-09-04T19:05:55.284Z"
   },
   {
    "duration": 8371,
    "start_time": "2023-09-04T19:06:03.675Z"
   },
   {
    "duration": 1191,
    "start_time": "2023-09-04T19:06:12.049Z"
   },
   {
    "duration": 922,
    "start_time": "2023-09-04T19:06:13.242Z"
   },
   {
    "duration": 526,
    "start_time": "2023-09-04T19:06:14.165Z"
   },
   {
    "duration": 99,
    "start_time": "2023-09-04T19:06:14.693Z"
   },
   {
    "duration": 146,
    "start_time": "2023-09-04T19:06:14.793Z"
   },
   {
    "duration": 116,
    "start_time": "2023-09-04T19:06:14.941Z"
   },
   {
    "duration": 24,
    "start_time": "2023-09-04T19:06:15.058Z"
   },
   {
    "duration": 31,
    "start_time": "2023-09-04T19:06:15.083Z"
   },
   {
    "duration": 74,
    "start_time": "2023-09-04T19:06:15.115Z"
   },
   {
    "duration": 32,
    "start_time": "2023-09-04T19:06:15.190Z"
   },
   {
    "duration": 43,
    "start_time": "2023-09-04T19:06:15.223Z"
   },
   {
    "duration": 19,
    "start_time": "2023-09-04T19:06:15.267Z"
   },
   {
    "duration": 12,
    "start_time": "2023-09-04T19:06:15.289Z"
   },
   {
    "duration": 23,
    "start_time": "2023-09-04T19:06:15.302Z"
   },
   {
    "duration": 12091,
    "start_time": "2023-09-04T19:06:15.327Z"
   },
   {
    "duration": 2711,
    "start_time": "2023-09-04T19:06:27.419Z"
   },
   {
    "duration": 83633,
    "start_time": "2023-09-04T19:06:30.132Z"
   },
   {
    "duration": 3496,
    "start_time": "2023-09-04T19:07:53.766Z"
   },
   {
    "duration": 3,
    "start_time": "2023-09-04T19:07:57.264Z"
   },
   {
    "duration": 40591,
    "start_time": "2023-09-04T19:07:57.269Z"
   },
   {
    "duration": 3,
    "start_time": "2023-09-04T19:08:37.861Z"
   },
   {
    "duration": 4203,
    "start_time": "2023-09-04T19:08:37.866Z"
   },
   {
    "duration": 3770,
    "start_time": "2023-09-04T19:35:10.247Z"
   },
   {
    "duration": 1166,
    "start_time": "2023-09-04T19:35:14.019Z"
   },
   {
    "duration": 933,
    "start_time": "2023-09-04T19:35:15.187Z"
   },
   {
    "duration": 516,
    "start_time": "2023-09-04T19:35:16.121Z"
   },
   {
    "duration": 96,
    "start_time": "2023-09-04T19:35:16.639Z"
   },
   {
    "duration": 148,
    "start_time": "2023-09-04T19:35:16.736Z"
   },
   {
    "duration": 109,
    "start_time": "2023-09-04T19:35:16.886Z"
   },
   {
    "duration": 32,
    "start_time": "2023-09-04T19:35:16.996Z"
   },
   {
    "duration": 37,
    "start_time": "2023-09-04T19:35:17.029Z"
   },
   {
    "duration": 56,
    "start_time": "2023-09-04T19:35:17.068Z"
   },
   {
    "duration": 52,
    "start_time": "2023-09-04T19:35:17.125Z"
   },
   {
    "duration": 43,
    "start_time": "2023-09-04T19:35:17.178Z"
   },
   {
    "duration": 37,
    "start_time": "2023-09-04T19:35:17.223Z"
   },
   {
    "duration": 10,
    "start_time": "2023-09-04T19:35:17.263Z"
   },
   {
    "duration": 47,
    "start_time": "2023-09-04T19:35:17.274Z"
   },
   {
    "duration": 10810,
    "start_time": "2023-09-04T19:35:17.322Z"
   },
   {
    "duration": 2671,
    "start_time": "2023-09-04T19:35:28.133Z"
   },
   {
    "duration": 80480,
    "start_time": "2023-09-04T19:35:30.805Z"
   },
   {
    "duration": 3475,
    "start_time": "2023-09-04T19:36:51.287Z"
   },
   {
    "duration": 3,
    "start_time": "2023-09-04T19:36:54.764Z"
   },
   {
    "duration": 40410,
    "start_time": "2023-09-04T19:36:54.857Z"
   },
   {
    "duration": 87,
    "start_time": "2023-09-04T19:37:35.269Z"
   },
   {
    "duration": 3912,
    "start_time": "2023-09-04T19:37:35.358Z"
   }
  ],
  "kernelspec": {
   "display_name": "Python 3 (ipykernel)",
   "language": "python",
   "name": "python3"
  },
  "language_info": {
   "codemirror_mode": {
    "name": "ipython",
    "version": 3
   },
   "file_extension": ".py",
   "mimetype": "text/x-python",
   "name": "python",
   "nbconvert_exporter": "python",
   "pygments_lexer": "ipython3",
   "version": "3.9.13"
  },
  "toc": {
   "base_numbering": 1,
   "nav_menu": {},
   "number_sections": true,
   "sideBar": true,
   "skip_h1_title": true,
   "title_cell": "Table of Contents",
   "title_sidebar": "Contents",
   "toc_cell": false,
   "toc_position": {},
   "toc_section_display": true,
   "toc_window_display": true
  }
 },
 "nbformat": 4,
 "nbformat_minor": 2
}
